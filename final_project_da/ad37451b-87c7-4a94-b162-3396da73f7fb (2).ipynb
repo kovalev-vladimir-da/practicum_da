{
 "cells": [
  {
   "cell_type": "markdown",
   "metadata": {},
   "source": [
    "<div class=\"alert alert-success\">\n",
    "    \n",
    "**Комментарий ревьюера**\n",
    "\n",
    "**#ок**\n",
    "\n",
    "Привет, этот проект тоже буду проверять я - Сысоева Вера. Поехали.\n",
    "\n",
    "</div>"
   ]
  },
  {
   "cell_type": "markdown",
   "metadata": {},
   "source": [
    "<div class=\"alert alert-info\"> <b>Комментарий студента v1:</b> Привет, Вера. Приступим. </div>"
   ]
  },
  {
   "cell_type": "markdown",
   "metadata": {
    "cell_id": "f54126ac4dfd473f806d65f327798a72",
    "deepnote_cell_type": "markdown",
    "tags": []
   },
   "source": [
    "## Материалы\n",
    "\n",
    "* [Презентация](https://drive.google.com/file/d/1xiEJ1xSkHosQxwxOS_uDbid1MAcFAKTD/view?usp=sharing)\n",
    "* [Дашборд](тут будет ссылка)"
   ]
  },
  {
   "cell_type": "markdown",
   "metadata": {
    "cell_id": "bd9ae1882e3744be91e922c0d57da0a5",
    "deepnote_cell_type": "markdown"
   },
   "source": [
    "# Телеком — Поиск клиента с неоптимальными тарифами\n",
    "\n",
    "## Вступление\n",
    "\n",
    "### Описание проекта\n",
    "\n",
    "Мы предстаем джуниор-аналитиком в команде сервиса \"Нупозвони\". Наши клиенты − колл-центры, мы хотим помочь им найти неэффективных операторов, а также предлагать самые выгодные тарифы, чтобы клиент долго жил с нами и не переплачивал\n",
    "\n",
    "### Цель проекта\n",
    "\n",
    "Узнать на полученных данных, кто из клиентов переплачивает и кого можно перевести на более выгодные тарифы. \n",
    "\n",
    "### Задача проекта\n",
    "\n",
    "Найти клиентов, которые: \n",
    "\n",
    "а) переплачивают на текущих тарифах; \n",
    "\n",
    "б) сэкономят, если перейдут на более дорогой тариф.\n",
    "\n",
    "\n",
    "### План проекта\n",
    "\n",
    "- Изучим и проверим данные:\n",
    "    - Загрузим данные и подготовим их к исследованию\n",
    "    - Посмотрим на датасет: есть ли в нём отсутствующие значения (пропуски), изучим средние значения и стандартные отклонения;\n",
    "    - Переименуем столбцы и изменим типы данных если того требует задача\n",
    "    - Проверим датасет на ошибки и аномалии;\n",
    "- Проведем исследовательский анализ данных:\n",
    "    - Проанализируем общее количество клиентов;\n",
    "    - Посчитаем для каждого пользователя количество сделанных звонков и количество потраченных минут в разрезе месяца и за весь изучаемый период;\n",
    "    - Проверим наличие \"выбивающихся\" из общего потока пользователей и выдвинем предположение о причине появления таких пользователей.\n",
    "    - Рассчитаем общую выручку в разрезе месяца и за весь изучаемый период\n",
    "    - Рассчитаем LTV (life time value) каждого пользователя для нашего клиента - а именно, сколько денег принес каждый клиент в разрезе месяца/всего изучаемого периода\n",
    "    - Рассмотрим параметры выбора активных клиентов;\n",
    "    - Проведем поиск клиентов с неоптимальными тарифами (тех, кто мог бы платить меньше)\n",
    "    - Изучим возможные потери в выручке при переводе клиентов находящися на неоптимальных тарифах при переводе их на оптимальные.\n",
    "    - Выдвинем предположение: \"как уменьшить риск падения выручки, если все клиенты перейдут на более выгодные тарифы?\" и оценим возможные сроки возврата на предыдущие значения по выручкам.\n",
    "- Сформулируем и проверим статистические гипотезы по которым можно сделать полезные выводы для бизнеса:\n",
    "1. Средняя выручка клиента до перевода на оптимальные тарифы отличается от выручки после перевода на оптимальные тарифы.\n",
    "~~2. Средняя выручка клиента не изменится при переводе клиентов на посекундную тарификацию~~\n",
    "_Данная теория оказалась неприменима к нашему датасету так как в следствии анализа мы убедились в том, что данные представлены в минутах и уже округлены, в связи с чем проверка такой гипотезы не имеет логического смысла_\n",
    "\n",
    "2.  Средняя выручка заказчика изменится при изменении абонентской платы у тарифных планов\n",
    "\n",
    "- Сформулируем выводы и сделаем базовые рекомендации уменьшению потерь в выручках и скорейшему выходу на прежние значения и рост.\n",
    "    \n",
    "### Описание данных\n",
    "\n",
    "#### Правила формирования тарифов:\n",
    "\n",
    "Ежемесячная плата за тариф:\n",
    "\n",
    "- Тариф А — 5000 ₽,\n",
    "- B — 2000 ₽,\n",
    "- С — 1000 ₽.\n",
    "\n",
    "**Входящие звонки** — бесплатны на всех тарифах,\n",
    "\n",
    "**Исходящие звонки внутри сети** — бесплатны до 2000 минут в месяц на всех тарифах. Цена сверх лимита:\n",
    "\n",
    "- A — 0.1 ₽/мин.,\n",
    "- B — 0.15 ₽/мин.,\n",
    "- C — 0.3 ₽/мин.\n",
    "\n",
    "**Исходящие звонки, кроме внутренних:**\n",
    "\n",
    "- A — 0.4 ₽/мин.,\n",
    "- B — 0.5 ₽/мин.,\n",
    "- C — 0.7 ₽/мин.\n",
    "\n",
    "За каждого оператора клиент платит 100 ₽ в месяц на любом тарифе — дополнительно к стоимости тарифа и цене звонков.\n",
    "\n",
    "#### Описание данных в датасетах\n",
    "\n",
    "**Датасет `telecom_dataset`** \n",
    "\n",
    "Путь к файлу: `/datasets/telecom_dataset.csv`\n",
    "\n",
    "Колонки:\n",
    "\n",
    "- `user_id` — идентификатор клиента;\n",
    "- `date` — дата статистики;\n",
    "- `direction` — направление вызовов: `out` — исходящий вызов, `in` — входящий;\n",
    "- `internal` — маркер внутренних и внешних вызовов;\n",
    "- `operator_id` — идентификатор оператора;\n",
    "- `is_missed_call` — маркер пропущенных вызовов;\n",
    "- `calls_count` — количество звонков;\n",
    "- `call_duration` — длительность звонка без учёта времени ожидания;\n",
    "- `total_call_duration` — длительность звонка с учётом времени ожидания.\n",
    "\n",
    "**Датасет `telecom_clients`**\n",
    "\n",
    "Путь к файлу: `/datasets/telecom_clients.csv`\n",
    "\n",
    "Колонки:\n",
    "\n",
    "- `user_id` — идентификатор клиента;\n",
    "- `tariff_plan` — тарифный план клиента;\n",
    "- `date_start` — дата регистрации клиента в сервисе.\n",
    "\n",
    "## Тело проекта\n",
    "\n",
    "### Настроим необходимое в работе окружение"
   ]
  },
  {
   "cell_type": "code",
   "execution_count": 1,
   "metadata": {
    "cell_id": "307a45efa4ab4842b63ff7e78b2f377e",
    "deepnote_cell_type": "code",
    "deepnote_to_be_reexecuted": false,
    "execution_millis": 2542,
    "execution_start": 1666120096300,
    "source_hash": "32d3395e",
    "tags": []
   },
   "outputs": [],
   "source": [
    "import pandas as pd # Импортируем библиотеку pandas для работы с таблицами\n",
    "import numpy as np # для работы с массивами данных\n",
    "from scipy import stats as st # для работы со статистикой\n",
    "import matplotlib.pyplot as plt # Для работы с визуализацией данных \n",
    "import seaborn as sns\n",
    "import warnings # Отключим предупреждения платформы\n",
    "warnings.simplefilter('ignore')\n",
    "from pylab import rcParams\n",
    "rcParams['figure.figsize'] = 8, 5 # Сразу установим увеличенный дефолтный размер графиков\n",
    "from functools import reduce #для корректного объединения таблиц"
   ]
  },
  {
   "cell_type": "markdown",
   "metadata": {
    "cell_id": "ee129a2d2c194262821083a47557173a",
    "deepnote_cell_type": "markdown",
    "tags": []
   },
   "source": [
    "### Загрузка и изучение данных\n",
    "\n"
   ]
  },
  {
   "cell_type": "code",
   "execution_count": 2,
   "metadata": {
    "cell_id": "d53422e8a5a84240b7d89ea8eccd4980",
    "deepnote_cell_type": "code",
    "deepnote_to_be_reexecuted": false,
    "execution_millis": 184,
    "execution_start": 1666120098847,
    "source_hash": "db1c0b64",
    "tags": []
   },
   "outputs": [
    {
     "name": "stdout",
     "output_type": "stream",
     "text": [
      "таблица telecom_clients\n",
      "<class 'pandas.core.frame.DataFrame'>\n",
      "RangeIndex: 732 entries, 0 to 731\n",
      "Data columns (total 3 columns):\n",
      " #   Column       Non-Null Count  Dtype \n",
      "---  ------       --------------  ----- \n",
      " 0   user_id      732 non-null    int64 \n",
      " 1   tariff_plan  732 non-null    object\n",
      " 2   date_start   732 non-null    object\n",
      "dtypes: int64(1), object(2)\n",
      "memory usage: 17.3+ KB\n"
     ]
    },
    {
     "data": {
      "text/html": [
       "<div>\n",
       "<style scoped>\n",
       "    .dataframe tbody tr th:only-of-type {\n",
       "        vertical-align: middle;\n",
       "    }\n",
       "\n",
       "    .dataframe tbody tr th {\n",
       "        vertical-align: top;\n",
       "    }\n",
       "\n",
       "    .dataframe thead th {\n",
       "        text-align: right;\n",
       "    }\n",
       "</style>\n",
       "<table border=\"1\" class=\"dataframe\">\n",
       "  <thead>\n",
       "    <tr style=\"text-align: right;\">\n",
       "      <th></th>\n",
       "      <th>user_id</th>\n",
       "      <th>tariff_plan</th>\n",
       "      <th>date_start</th>\n",
       "    </tr>\n",
       "  </thead>\n",
       "  <tbody>\n",
       "    <tr>\n",
       "      <th>0</th>\n",
       "      <td>166713</td>\n",
       "      <td>A</td>\n",
       "      <td>2019-08-15</td>\n",
       "    </tr>\n",
       "    <tr>\n",
       "      <th>1</th>\n",
       "      <td>166901</td>\n",
       "      <td>A</td>\n",
       "      <td>2019-08-23</td>\n",
       "    </tr>\n",
       "    <tr>\n",
       "      <th>2</th>\n",
       "      <td>168527</td>\n",
       "      <td>A</td>\n",
       "      <td>2019-10-29</td>\n",
       "    </tr>\n",
       "    <tr>\n",
       "      <th>3</th>\n",
       "      <td>167097</td>\n",
       "      <td>A</td>\n",
       "      <td>2019-09-01</td>\n",
       "    </tr>\n",
       "    <tr>\n",
       "      <th>4</th>\n",
       "      <td>168193</td>\n",
       "      <td>A</td>\n",
       "      <td>2019-10-16</td>\n",
       "    </tr>\n",
       "  </tbody>\n",
       "</table>\n",
       "</div>"
      ],
      "text/plain": [
       "   user_id tariff_plan  date_start\n",
       "0   166713           A  2019-08-15\n",
       "1   166901           A  2019-08-23\n",
       "2   168527           A  2019-10-29\n",
       "3   167097           A  2019-09-01\n",
       "4   168193           A  2019-10-16"
      ]
     },
     "metadata": {},
     "output_type": "display_data"
    },
    {
     "name": "stdout",
     "output_type": "stream",
     "text": [
      "------------------------------\n",
      "таблица telecom_dataset\n",
      "<class 'pandas.core.frame.DataFrame'>\n",
      "RangeIndex: 53902 entries, 0 to 53901\n",
      "Data columns (total 9 columns):\n",
      " #   Column               Non-Null Count  Dtype  \n",
      "---  ------               --------------  -----  \n",
      " 0   user_id              53902 non-null  int64  \n",
      " 1   date                 53902 non-null  object \n",
      " 2   direction            53902 non-null  object \n",
      " 3   internal             53785 non-null  object \n",
      " 4   operator_id          45730 non-null  float64\n",
      " 5   is_missed_call       53902 non-null  bool   \n",
      " 6   calls_count          53902 non-null  int64  \n",
      " 7   call_duration        53902 non-null  int64  \n",
      " 8   total_call_duration  53902 non-null  int64  \n",
      "dtypes: bool(1), float64(1), int64(4), object(3)\n",
      "memory usage: 3.3+ MB\n"
     ]
    },
    {
     "data": {
      "text/html": [
       "<div>\n",
       "<style scoped>\n",
       "    .dataframe tbody tr th:only-of-type {\n",
       "        vertical-align: middle;\n",
       "    }\n",
       "\n",
       "    .dataframe tbody tr th {\n",
       "        vertical-align: top;\n",
       "    }\n",
       "\n",
       "    .dataframe thead th {\n",
       "        text-align: right;\n",
       "    }\n",
       "</style>\n",
       "<table border=\"1\" class=\"dataframe\">\n",
       "  <thead>\n",
       "    <tr style=\"text-align: right;\">\n",
       "      <th></th>\n",
       "      <th>user_id</th>\n",
       "      <th>date</th>\n",
       "      <th>direction</th>\n",
       "      <th>internal</th>\n",
       "      <th>operator_id</th>\n",
       "      <th>is_missed_call</th>\n",
       "      <th>calls_count</th>\n",
       "      <th>call_duration</th>\n",
       "      <th>total_call_duration</th>\n",
       "    </tr>\n",
       "  </thead>\n",
       "  <tbody>\n",
       "    <tr>\n",
       "      <th>0</th>\n",
       "      <td>166377</td>\n",
       "      <td>2019-08-04 00:00:00+03:00</td>\n",
       "      <td>in</td>\n",
       "      <td>False</td>\n",
       "      <td>NaN</td>\n",
       "      <td>True</td>\n",
       "      <td>2</td>\n",
       "      <td>0</td>\n",
       "      <td>4</td>\n",
       "    </tr>\n",
       "    <tr>\n",
       "      <th>1</th>\n",
       "      <td>166377</td>\n",
       "      <td>2019-08-05 00:00:00+03:00</td>\n",
       "      <td>out</td>\n",
       "      <td>True</td>\n",
       "      <td>880022.0</td>\n",
       "      <td>True</td>\n",
       "      <td>3</td>\n",
       "      <td>0</td>\n",
       "      <td>5</td>\n",
       "    </tr>\n",
       "    <tr>\n",
       "      <th>2</th>\n",
       "      <td>166377</td>\n",
       "      <td>2019-08-05 00:00:00+03:00</td>\n",
       "      <td>out</td>\n",
       "      <td>True</td>\n",
       "      <td>880020.0</td>\n",
       "      <td>True</td>\n",
       "      <td>1</td>\n",
       "      <td>0</td>\n",
       "      <td>1</td>\n",
       "    </tr>\n",
       "    <tr>\n",
       "      <th>3</th>\n",
       "      <td>166377</td>\n",
       "      <td>2019-08-05 00:00:00+03:00</td>\n",
       "      <td>out</td>\n",
       "      <td>True</td>\n",
       "      <td>880020.0</td>\n",
       "      <td>False</td>\n",
       "      <td>1</td>\n",
       "      <td>10</td>\n",
       "      <td>18</td>\n",
       "    </tr>\n",
       "    <tr>\n",
       "      <th>4</th>\n",
       "      <td>166377</td>\n",
       "      <td>2019-08-05 00:00:00+03:00</td>\n",
       "      <td>out</td>\n",
       "      <td>False</td>\n",
       "      <td>880022.0</td>\n",
       "      <td>True</td>\n",
       "      <td>3</td>\n",
       "      <td>0</td>\n",
       "      <td>25</td>\n",
       "    </tr>\n",
       "  </tbody>\n",
       "</table>\n",
       "</div>"
      ],
      "text/plain": [
       "   user_id                       date direction internal  operator_id  \\\n",
       "0   166377  2019-08-04 00:00:00+03:00        in    False          NaN   \n",
       "1   166377  2019-08-05 00:00:00+03:00       out     True     880022.0   \n",
       "2   166377  2019-08-05 00:00:00+03:00       out     True     880020.0   \n",
       "3   166377  2019-08-05 00:00:00+03:00       out     True     880020.0   \n",
       "4   166377  2019-08-05 00:00:00+03:00       out    False     880022.0   \n",
       "\n",
       "   is_missed_call  calls_count  call_duration  total_call_duration  \n",
       "0            True            2              0                    4  \n",
       "1            True            3              0                    5  \n",
       "2            True            1              0                    1  \n",
       "3           False            1             10                   18  \n",
       "4            True            3              0                   25  "
      ]
     },
     "execution_count": 2,
     "metadata": {},
     "output_type": "execute_result"
    }
   ],
   "source": [
    "try:\n",
    "    telecom_clients = pd.read_csv('/datasets/telecom_clients.csv') # для открытия в ЯП\n",
    "    telecom_dataset = pd.read_csv('/datasets/telecom_dataset.csv')\n",
    "except:\n",
    "    telecom_clients = pd.read_csv('/work/telecom_clients.csv')  # я работаю в DeepNote ^_^\n",
    "    telecom_dataset = pd.read_csv('/work/telecom_dataset.csv')\n",
    "    # выведем датасеты для первичного ознакомления а также познакомимся с его характеристиками\n",
    "\n",
    "print('таблица telecom_clients')\n",
    "telecom_clients.info()\n",
    "display(telecom_clients.head())\n",
    "print('---'*10)\n",
    "print('таблица telecom_dataset')\n",
    "telecom_dataset.info()\n",
    "telecom_dataset.head()"
   ]
  },
  {
   "cell_type": "markdown",
   "metadata": {},
   "source": [
    "<div class=\"alert alert-success\">\n",
    "    \n",
    "**Комментарий ревьюера**\n",
    "\n",
    "**#ок**\n",
    "\n",
    "данные верно подгружены. Для просмотра сырых данных советую выработать функцию, которую ты будешь использовать из проекта в проект, это облегчит рутинную операцию\n",
    "</div>"
   ]
  },
  {
   "cell_type": "markdown",
   "metadata": {},
   "source": [
    "<div class=\"alert alert-info\"> <b>Комментарий студента v1:</b> Спасибо! Добавлю. </div>"
   ]
  },
  {
   "cell_type": "markdown",
   "metadata": {
    "cell_id": "06f86b5719a24c8ebfb0e3cba6d3ec3f",
    "deepnote_cell_type": "markdown",
    "tags": []
   },
   "source": [
    "Начнем с таблицы **`telecom_clients`**:\n",
    "- Изменим тип данных в столбце date_start на datetime\n",
    "- Убедимся в отсутствии пропущенных значений\n",
    "- Проверим наличие дубликатов\n",
    "- Проверим период данных на выбивающиеся значения"
   ]
  },
  {
   "cell_type": "code",
   "execution_count": 3,
   "metadata": {
    "cell_id": "ca29bd98ed454b70b2bb03b8e5e738c4",
    "deepnote_cell_type": "code",
    "deepnote_to_be_reexecuted": false,
    "execution_millis": 1,
    "execution_start": 1666120099070,
    "source_hash": "3d0ff4c7",
    "tags": []
   },
   "outputs": [],
   "source": [
    "telecom_clients['date_start'] = pd.to_datetime(telecom_clients['date_start'], format='%Y-%m-%d')"
   ]
  },
  {
   "cell_type": "code",
   "execution_count": 4,
   "metadata": {
    "cell_id": "d51c9ccd83974c02b8f3575072467383",
    "deepnote_cell_type": "code",
    "deepnote_to_be_reexecuted": false,
    "execution_millis": 49,
    "execution_start": 1666120099071,
    "source_hash": "b653e7d7",
    "tags": []
   },
   "outputs": [
    {
     "name": "stdout",
     "output_type": "stream",
     "text": [
      "Тип данных столбца date_start после изменения datetime64[ns]\n",
      "Выведем количество пропусков по каждому столбцу ниже\n",
      "user_id        0\n",
      "tariff_plan    0\n",
      "date_start     0\n",
      "dtype: int64\n",
      "\n",
      "Количество полных дубликатов в таблице\n",
      "0\n",
      "\n",
      "Дата начала периода 2019-08-01 00:00:00\n",
      "Дата конца периода 2019-10-31 00:00:00\n"
     ]
    }
   ],
   "source": [
    "print(f'Тип данных столбца date_start после изменения {telecom_clients[\"date_start\"].dtype}')\n",
    "print(f'Выведем количество пропусков по каждому столбцу ниже')\n",
    "print(telecom_clients.isna().sum())\n",
    "print('')\n",
    "print('Количество полных дубликатов в таблице')\n",
    "print(telecom_clients.duplicated().sum())\n",
    "print('')\n",
    "print(f'Дата начала периода {telecom_clients[\"date_start\"].min()}')\n",
    "print(f'Дата конца периода {telecom_clients[\"date_start\"].max()}')"
   ]
  },
  {
   "cell_type": "markdown",
   "metadata": {
    "cell_id": "2f4d8847241e43d6bf05fd28d064c679",
    "deepnote_cell_type": "markdown",
    "tags": []
   },
   "source": [
    "__Пропуски и дубликаты отсутствуют__, период данных регистрации клиента составляет с 1-го августа 2019 года по 31-е октября 2019."
   ]
  },
  {
   "cell_type": "markdown",
   "metadata": {},
   "source": [
    "<div class=\"alert alert-success\">\n",
    "    \n",
    "**Комментарий ревьюера**\n",
    "\n",
    "**#ок**\n",
    "\n",
    "Хорошо, хотя немного не поянтно про какое ТЗ ты говоришь и какие даты там были заданы....\n",
    "\n",
    "</div>"
   ]
  },
  {
   "cell_type": "markdown",
   "metadata": {},
   "source": [
    "<div class=\"alert alert-info\"> <b>Комментарий студента v1:</b> Переформулировал, спасибо. </div>"
   ]
  },
  {
   "cell_type": "markdown",
   "metadata": {
    "cell_id": "854de9c94ba44515bc6afcc96f1beb27",
    "deepnote_cell_type": "markdown",
    "tags": []
   },
   "source": [
    "Перейдем к таблице **`telecom_dataset`**:\n",
    "- Изучим наличие и количество пропусков\n",
    "- Проверим наличие полных дублей в сете\n",
    "- Изменим типа данных столбца date на datetime\n",
    "- Изменим тип данных столбца operator_id на int поскольку id опертора не может быть дробным значением\n",
    "- Проверим насколько данные столбца с датами соответствуют ТЗ \n",
    "- Построим гистограммы распределения значений в численных столбцах для предварительного выявления аномалий требующих нашего внимания"
   ]
  },
  {
   "cell_type": "code",
   "execution_count": 5,
   "metadata": {
    "cell_id": "44fc1cb76f6845f8a7f59f98cf9367d1",
    "deepnote_cell_type": "code",
    "deepnote_to_be_reexecuted": false,
    "execution_millis": 44,
    "execution_start": 1666120099119,
    "source_hash": "9b47f181",
    "tags": []
   },
   "outputs": [
    {
     "name": "stdout",
     "output_type": "stream",
     "text": [
      "Выведем количество пропусков по каждому столбцу ниже\n",
      "user_id                   0\n",
      "date                      0\n",
      "direction                 0\n",
      "internal                117\n",
      "operator_id            8172\n",
      "is_missed_call            0\n",
      "calls_count               0\n",
      "call_duration             0\n",
      "total_call_duration       0\n",
      "dtype: int64\n",
      "\n",
      "Количество полных дубликатов в таблице\n",
      "4900\n",
      "\n"
     ]
    }
   ],
   "source": [
    "print(f'Выведем количество пропусков по каждому столбцу ниже')\n",
    "print(telecom_dataset.isna().sum())\n",
    "print('')\n",
    "print('Количество полных дубликатов в таблице')\n",
    "print(telecom_dataset.duplicated().sum())\n",
    "print('')"
   ]
  },
  {
   "cell_type": "markdown",
   "metadata": {},
   "source": [
    "<div class=\"alert alert-success\">\n",
    "    \n",
    "**Комментарий ревьюера**\n",
    "\n",
    "**#ок**\n",
    "\n",
    "Так лучше сразу и смотреть долю пропусков и долю дубликатов\n",
    "</div>"
   ]
  },
  {
   "cell_type": "markdown",
   "metadata": {},
   "source": [
    "<div class=\"alert alert-info\"> <b>Комментарий студента v1:</b> Вывел значения долей далее, для того чтобы нить \"повествования\" не рвалась и не делать все в одном месте. </div>"
   ]
  },
  {
   "cell_type": "markdown",
   "metadata": {},
   "source": [
    "<div class=\"alert alert-success\">\n",
    "    \n",
    "**Комментарий ревьюера**\n",
    "\n",
    "**#ок**\n",
    "\n",
    "Да просто здесь сразу удобнее писать\n",
    "\n",
    "вместо\n",
    "\n",
    "    print(f'Выведем количество пропусков по каждому столбцу ниже')\n",
    "    print(telecom_dataset.isna().sum())\n",
    "    print('')\n",
    "    print('Количество полных дубликатов в таблице')\n",
    "    print(telecom_dataset.duplicated().sum())\n",
    "    print('')\n",
    "\n",
    "делаем\n",
    "\n",
    "    print(f'Выведем долю пропусков по каждому столбцу ниже')\n",
    "    print(telecom_dataset.isna().mean())\n",
    "    print('')\n",
    "    print('Доля полных дубликатов в таблице')\n",
    "    print(telecom_dataset.duplicated().mean())\n",
    "    print('')\n",
    "\n",
    "Можно выразить в процентах и округлить, тоже не сложно\n",
    "\n",
    "    (telecom_dataset.isna().mean()*100).round(1)\n",
    "</div>"
   ]
  },
  {
   "cell_type": "markdown",
   "metadata": {
    "cell_id": "40de67585dba4ac88dbc25632287d5e2",
    "deepnote_cell_type": "markdown",
    "tags": []
   },
   "source": [
    "Мы обнаружили __пропуски в столбцах internal и operator_id__, а также __4900 полных дубликатов в столбцах__, необходимо определить долю таких дубликатов и их природу. Выполним данный пункт вне очереди. \n",
    "\n",
    "\n",
    "__После обнаружения пропусков в столбце operator_id принимаем тот факт, что изменить тип данных на данном этапе без вмешательства в данные невозможно. В связи с этим пропустим этот этап и вернемся к нему позже.__"
   ]
  },
  {
   "cell_type": "code",
   "execution_count": 6,
   "metadata": {
    "cell_id": "2397b7caff4e4765a96299e0acb3d51c",
    "deepnote_cell_type": "code",
    "deepnote_table_loading": false,
    "deepnote_table_state": {
     "filters": [],
     "pageIndex": 0,
     "pageSize": 10,
     "sortBy": []
    },
    "deepnote_to_be_reexecuted": false,
    "execution_millis": 44,
    "execution_start": 1666120099162,
    "source_hash": "5a93ca3b",
    "tags": []
   },
   "outputs": [
    {
     "name": "stdout",
     "output_type": "stream",
     "text": [
      "Доля пропущенных значений в столбце internal: 0.22 %\n"
     ]
    },
    {
     "data": {
      "text/html": [
       "<div>\n",
       "<style scoped>\n",
       "    .dataframe tbody tr th:only-of-type {\n",
       "        vertical-align: middle;\n",
       "    }\n",
       "\n",
       "    .dataframe tbody tr th {\n",
       "        vertical-align: top;\n",
       "    }\n",
       "\n",
       "    .dataframe thead th {\n",
       "        text-align: right;\n",
       "    }\n",
       "</style>\n",
       "<table border=\"1\" class=\"dataframe\">\n",
       "  <thead>\n",
       "    <tr style=\"text-align: right;\">\n",
       "      <th></th>\n",
       "      <th>user_id</th>\n",
       "      <th>date</th>\n",
       "      <th>direction</th>\n",
       "      <th>internal</th>\n",
       "      <th>operator_id</th>\n",
       "      <th>is_missed_call</th>\n",
       "      <th>calls_count</th>\n",
       "      <th>call_duration</th>\n",
       "      <th>total_call_duration</th>\n",
       "    </tr>\n",
       "  </thead>\n",
       "  <tbody>\n",
       "    <tr>\n",
       "      <th>1007</th>\n",
       "      <td>166405</td>\n",
       "      <td>2019-09-18 00:00:00+03:00</td>\n",
       "      <td>in</td>\n",
       "      <td>NaN</td>\n",
       "      <td>NaN</td>\n",
       "      <td>True</td>\n",
       "      <td>1</td>\n",
       "      <td>0</td>\n",
       "      <td>59</td>\n",
       "    </tr>\n",
       "    <tr>\n",
       "      <th>1090</th>\n",
       "      <td>166405</td>\n",
       "      <td>2019-10-01 00:00:00+03:00</td>\n",
       "      <td>in</td>\n",
       "      <td>NaN</td>\n",
       "      <td>NaN</td>\n",
       "      <td>True</td>\n",
       "      <td>1</td>\n",
       "      <td>0</td>\n",
       "      <td>1</td>\n",
       "    </tr>\n",
       "    <tr>\n",
       "      <th>1864</th>\n",
       "      <td>166406</td>\n",
       "      <td>2019-08-20 00:00:00+03:00</td>\n",
       "      <td>in</td>\n",
       "      <td>NaN</td>\n",
       "      <td>NaN</td>\n",
       "      <td>True</td>\n",
       "      <td>1</td>\n",
       "      <td>0</td>\n",
       "      <td>36</td>\n",
       "    </tr>\n",
       "    <tr>\n",
       "      <th>1924</th>\n",
       "      <td>166406</td>\n",
       "      <td>2019-09-02 00:00:00+03:00</td>\n",
       "      <td>in</td>\n",
       "      <td>NaN</td>\n",
       "      <td>879898.0</td>\n",
       "      <td>False</td>\n",
       "      <td>1</td>\n",
       "      <td>2</td>\n",
       "      <td>9</td>\n",
       "    </tr>\n",
       "    <tr>\n",
       "      <th>6210</th>\n",
       "      <td>166541</td>\n",
       "      <td>2019-09-26 00:00:00+03:00</td>\n",
       "      <td>in</td>\n",
       "      <td>NaN</td>\n",
       "      <td>908960.0</td>\n",
       "      <td>False</td>\n",
       "      <td>1</td>\n",
       "      <td>393</td>\n",
       "      <td>423</td>\n",
       "    </tr>\n",
       "  </tbody>\n",
       "</table>\n",
       "</div>"
      ],
      "text/plain": [
       "      user_id                       date direction internal  operator_id  \\\n",
       "1007   166405  2019-09-18 00:00:00+03:00        in      NaN          NaN   \n",
       "1090   166405  2019-10-01 00:00:00+03:00        in      NaN          NaN   \n",
       "1864   166406  2019-08-20 00:00:00+03:00        in      NaN          NaN   \n",
       "1924   166406  2019-09-02 00:00:00+03:00        in      NaN     879898.0   \n",
       "6210   166541  2019-09-26 00:00:00+03:00        in      NaN     908960.0   \n",
       "\n",
       "      is_missed_call  calls_count  call_duration  total_call_duration  \n",
       "1007            True            1              0                   59  \n",
       "1090            True            1              0                    1  \n",
       "1864            True            1              0                   36  \n",
       "1924           False            1              2                    9  \n",
       "6210           False            1            393                  423  "
      ]
     },
     "execution_count": 6,
     "metadata": {},
     "output_type": "execute_result"
    }
   ],
   "source": [
    "print(f'Доля пропущенных значений в столбце internal: {round((telecom_dataset[\"internal\"].isna().sum() / len(telecom_dataset[\"internal\"])*100),2)} %')\n",
    "telecom_dataset.query('internal.isnull()').head()"
   ]
  },
  {
   "cell_type": "markdown",
   "metadata": {
    "cell_id": "c7c0cb2e878a48799910855e4c94fc54",
    "deepnote_cell_type": "markdown",
    "tags": []
   },
   "source": [
    "По результатам более тщательного рассмотрения данного столбца становится понятно, что:\n",
    "- Абсолютное большинство (98.3%) данных пропущенных значений приходится на входящие звонки, что означает что такие значения точно не повлияют на ход наших исследований.\n",
    "- 57 строк из 117 являются также пропусками по столбцам с операторами, к чему мы вернемся позже.\n",
    "- Доля подобного рода пропусков составляет 0.22% от общего количества данных, в связи с чем мы принимаем решение удалить такие строки, не считая это глобальным вмешательством в данные."
   ]
  },
  {
   "cell_type": "code",
   "execution_count": 7,
   "metadata": {
    "cell_id": "4468b28274324220aca7970e1ff1d895",
    "deepnote_cell_type": "code",
    "deepnote_to_be_reexecuted": false,
    "execution_millis": 33,
    "execution_start": 1666120099241,
    "source_hash": "526bfced",
    "tags": []
   },
   "outputs": [
    {
     "name": "stdout",
     "output_type": "stream",
     "text": [
      "<class 'pandas.core.frame.DataFrame'>\n",
      "Int64Index: 53785 entries, 0 to 53901\n",
      "Data columns (total 9 columns):\n",
      " #   Column               Non-Null Count  Dtype  \n",
      "---  ------               --------------  -----  \n",
      " 0   user_id              53785 non-null  int64  \n",
      " 1   date                 53785 non-null  object \n",
      " 2   direction            53785 non-null  object \n",
      " 3   internal             53785 non-null  object \n",
      " 4   operator_id          45670 non-null  float64\n",
      " 5   is_missed_call       53785 non-null  bool   \n",
      " 6   calls_count          53785 non-null  int64  \n",
      " 7   call_duration        53785 non-null  int64  \n",
      " 8   total_call_duration  53785 non-null  int64  \n",
      "dtypes: bool(1), float64(1), int64(4), object(3)\n",
      "memory usage: 3.7+ MB\n"
     ]
    }
   ],
   "source": [
    "telecom_dataset = telecom_dataset.query('internal.notna()') # оставляет только те строки где есть значения\n",
    "telecom_dataset.info() # проверяем"
   ]
  },
  {
   "cell_type": "code",
   "execution_count": 8,
   "metadata": {
    "cell_id": "ad2f836825f84a37933710a02b88495a",
    "deepnote_cell_type": "code",
    "deepnote_to_be_reexecuted": false,
    "execution_millis": 57,
    "execution_start": 1666120099321,
    "source_hash": "e1e90039",
    "tags": []
   },
   "outputs": [
    {
     "name": "stdout",
     "output_type": "stream",
     "text": [
      "Доля пропущенных значений в столбце operator_id: 15.09 %\n"
     ]
    },
    {
     "data": {
      "text/html": [
       "<div>\n",
       "<style scoped>\n",
       "    .dataframe tbody tr th:only-of-type {\n",
       "        vertical-align: middle;\n",
       "    }\n",
       "\n",
       "    .dataframe tbody tr th {\n",
       "        vertical-align: top;\n",
       "    }\n",
       "\n",
       "    .dataframe thead th {\n",
       "        text-align: right;\n",
       "    }\n",
       "</style>\n",
       "<table border=\"1\" class=\"dataframe\">\n",
       "  <thead>\n",
       "    <tr style=\"text-align: right;\">\n",
       "      <th></th>\n",
       "      <th>user_id</th>\n",
       "      <th>date</th>\n",
       "      <th>direction</th>\n",
       "      <th>internal</th>\n",
       "      <th>operator_id</th>\n",
       "      <th>is_missed_call</th>\n",
       "      <th>calls_count</th>\n",
       "      <th>call_duration</th>\n",
       "      <th>total_call_duration</th>\n",
       "    </tr>\n",
       "  </thead>\n",
       "  <tbody>\n",
       "    <tr>\n",
       "      <th>0</th>\n",
       "      <td>166377</td>\n",
       "      <td>2019-08-04 00:00:00+03:00</td>\n",
       "      <td>in</td>\n",
       "      <td>False</td>\n",
       "      <td>NaN</td>\n",
       "      <td>True</td>\n",
       "      <td>2</td>\n",
       "      <td>0</td>\n",
       "      <td>4</td>\n",
       "    </tr>\n",
       "    <tr>\n",
       "      <th>7</th>\n",
       "      <td>166377</td>\n",
       "      <td>2019-08-05 00:00:00+03:00</td>\n",
       "      <td>in</td>\n",
       "      <td>False</td>\n",
       "      <td>NaN</td>\n",
       "      <td>True</td>\n",
       "      <td>6</td>\n",
       "      <td>0</td>\n",
       "      <td>35</td>\n",
       "    </tr>\n",
       "    <tr>\n",
       "      <th>9</th>\n",
       "      <td>166377</td>\n",
       "      <td>2019-08-06 00:00:00+03:00</td>\n",
       "      <td>in</td>\n",
       "      <td>False</td>\n",
       "      <td>NaN</td>\n",
       "      <td>True</td>\n",
       "      <td>4</td>\n",
       "      <td>0</td>\n",
       "      <td>62</td>\n",
       "    </tr>\n",
       "    <tr>\n",
       "      <th>17</th>\n",
       "      <td>166377</td>\n",
       "      <td>2019-08-07 00:00:00+03:00</td>\n",
       "      <td>in</td>\n",
       "      <td>False</td>\n",
       "      <td>NaN</td>\n",
       "      <td>True</td>\n",
       "      <td>2</td>\n",
       "      <td>0</td>\n",
       "      <td>24</td>\n",
       "    </tr>\n",
       "    <tr>\n",
       "      <th>27</th>\n",
       "      <td>166377</td>\n",
       "      <td>2019-08-12 00:00:00+03:00</td>\n",
       "      <td>in</td>\n",
       "      <td>False</td>\n",
       "      <td>NaN</td>\n",
       "      <td>True</td>\n",
       "      <td>2</td>\n",
       "      <td>0</td>\n",
       "      <td>34</td>\n",
       "    </tr>\n",
       "    <tr>\n",
       "      <th>...</th>\n",
       "      <td>...</td>\n",
       "      <td>...</td>\n",
       "      <td>...</td>\n",
       "      <td>...</td>\n",
       "      <td>...</td>\n",
       "      <td>...</td>\n",
       "      <td>...</td>\n",
       "      <td>...</td>\n",
       "      <td>...</td>\n",
       "    </tr>\n",
       "    <tr>\n",
       "      <th>53876</th>\n",
       "      <td>168601</td>\n",
       "      <td>2019-11-27 00:00:00+03:00</td>\n",
       "      <td>in</td>\n",
       "      <td>False</td>\n",
       "      <td>NaN</td>\n",
       "      <td>True</td>\n",
       "      <td>2</td>\n",
       "      <td>0</td>\n",
       "      <td>39</td>\n",
       "    </tr>\n",
       "    <tr>\n",
       "      <th>53880</th>\n",
       "      <td>168601</td>\n",
       "      <td>2019-11-28 00:00:00+03:00</td>\n",
       "      <td>in</td>\n",
       "      <td>False</td>\n",
       "      <td>NaN</td>\n",
       "      <td>True</td>\n",
       "      <td>1</td>\n",
       "      <td>0</td>\n",
       "      <td>19</td>\n",
       "    </tr>\n",
       "    <tr>\n",
       "      <th>53889</th>\n",
       "      <td>168603</td>\n",
       "      <td>2019-11-28 00:00:00+03:00</td>\n",
       "      <td>in</td>\n",
       "      <td>False</td>\n",
       "      <td>NaN</td>\n",
       "      <td>True</td>\n",
       "      <td>1</td>\n",
       "      <td>0</td>\n",
       "      <td>30</td>\n",
       "    </tr>\n",
       "    <tr>\n",
       "      <th>53893</th>\n",
       "      <td>168606</td>\n",
       "      <td>2019-11-08 00:00:00+03:00</td>\n",
       "      <td>in</td>\n",
       "      <td>False</td>\n",
       "      <td>NaN</td>\n",
       "      <td>True</td>\n",
       "      <td>6</td>\n",
       "      <td>0</td>\n",
       "      <td>121</td>\n",
       "    </tr>\n",
       "    <tr>\n",
       "      <th>53901</th>\n",
       "      <td>168606</td>\n",
       "      <td>2019-11-19 00:00:00+03:00</td>\n",
       "      <td>in</td>\n",
       "      <td>False</td>\n",
       "      <td>NaN</td>\n",
       "      <td>True</td>\n",
       "      <td>2</td>\n",
       "      <td>0</td>\n",
       "      <td>64</td>\n",
       "    </tr>\n",
       "  </tbody>\n",
       "</table>\n",
       "<p>8115 rows × 9 columns</p>\n",
       "</div>"
      ],
      "text/plain": [
       "       user_id                       date direction internal  operator_id  \\\n",
       "0       166377  2019-08-04 00:00:00+03:00        in    False          NaN   \n",
       "7       166377  2019-08-05 00:00:00+03:00        in    False          NaN   \n",
       "9       166377  2019-08-06 00:00:00+03:00        in    False          NaN   \n",
       "17      166377  2019-08-07 00:00:00+03:00        in    False          NaN   \n",
       "27      166377  2019-08-12 00:00:00+03:00        in    False          NaN   \n",
       "...        ...                        ...       ...      ...          ...   \n",
       "53876   168601  2019-11-27 00:00:00+03:00        in    False          NaN   \n",
       "53880   168601  2019-11-28 00:00:00+03:00        in    False          NaN   \n",
       "53889   168603  2019-11-28 00:00:00+03:00        in    False          NaN   \n",
       "53893   168606  2019-11-08 00:00:00+03:00        in    False          NaN   \n",
       "53901   168606  2019-11-19 00:00:00+03:00        in    False          NaN   \n",
       "\n",
       "       is_missed_call  calls_count  call_duration  total_call_duration  \n",
       "0                True            2              0                    4  \n",
       "7                True            6              0                   35  \n",
       "9                True            4              0                   62  \n",
       "17               True            2              0                   24  \n",
       "27               True            2              0                   34  \n",
       "...               ...          ...            ...                  ...  \n",
       "53876            True            2              0                   39  \n",
       "53880            True            1              0                   19  \n",
       "53889            True            1              0                   30  \n",
       "53893            True            6              0                  121  \n",
       "53901            True            2              0                   64  \n",
       "\n",
       "[8115 rows x 9 columns]"
      ]
     },
     "execution_count": 8,
     "metadata": {},
     "output_type": "execute_result"
    }
   ],
   "source": [
    "print(f'Доля пропущенных значений в столбце operator_id: {round((telecom_dataset[\"operator_id\"].isna().sum() / len(telecom_dataset[\"operator_id\"])*100),2)} %')\n",
    "telecom_dataset.query('operator_id.isnull()')"
   ]
  },
  {
   "cell_type": "markdown",
   "metadata": {
    "cell_id": "aaaabbe72f724b9bbfe0e8648b04e45b",
    "deepnote_cell_type": "markdown",
    "tags": []
   },
   "source": [
    "По пропускам в данном столбце можно сказать следующее:\n",
    "- Они занимают 15.2% от общего количества данных, что является очень существенным, естественно просто удалить их мы не можем.\n",
    "- 97.6% таких пропусков это входящие вызовы\n",
    "- 95.6% таких пропусков это внешние вызовы\n",
    "- И наконец, 98.5% таких пропусков это пропущенные вызовы! \n",
    "\n",
    "Все вышеперечисленные выводы наводят нас на мысль о достаточно четкой закономерности:\n",
    "1. Происходит внешний входящий звонок пользователю\n",
    "2. Ответа не Происходит по причине:\n",
    "    - сброса звонка\n",
    "    - недозвона\n",
    "    - технической ошибки\n",
    "3. Система \"не успевает\" присвоить оператора и на выходе получается пропущенное значение.\n",
    "\n",
    "Из чего мы делаем вывод, что для дальнейшего более удобного исследования создать значение заглушку \"0\",так, мы сможем оставить данные строки и видеть их в анализе далее. "
   ]
  },
  {
   "cell_type": "code",
   "execution_count": 9,
   "metadata": {
    "cell_id": "81171459e1a246ef8dfa8b67defd620e",
    "deepnote_cell_type": "code",
    "deepnote_to_be_reexecuted": false,
    "execution_millis": 15,
    "execution_start": 1666120099386,
    "source_hash": "d3721308",
    "tags": []
   },
   "outputs": [
    {
     "name": "stdout",
     "output_type": "stream",
     "text": [
      "<class 'pandas.core.frame.DataFrame'>\n",
      "Int64Index: 53785 entries, 0 to 53901\n",
      "Data columns (total 9 columns):\n",
      " #   Column               Non-Null Count  Dtype  \n",
      "---  ------               --------------  -----  \n",
      " 0   user_id              53785 non-null  int64  \n",
      " 1   date                 53785 non-null  object \n",
      " 2   direction            53785 non-null  object \n",
      " 3   internal             53785 non-null  object \n",
      " 4   operator_id          53785 non-null  float64\n",
      " 5   is_missed_call       53785 non-null  bool   \n",
      " 6   calls_count          53785 non-null  int64  \n",
      " 7   call_duration        53785 non-null  int64  \n",
      " 8   total_call_duration  53785 non-null  int64  \n",
      "dtypes: bool(1), float64(1), int64(4), object(3)\n",
      "memory usage: 3.7+ MB\n"
     ]
    }
   ],
   "source": [
    "telecom_dataset['operator_id'] = telecom_dataset['operator_id'].fillna(value=0) # заменяем\n",
    "telecom_dataset.info() # проверяем"
   ]
  },
  {
   "cell_type": "markdown",
   "metadata": {},
   "source": [
    "<div class=\"alert alert-success\">\n",
    "    \n",
    "**Комментарий ревьюера**\n",
    "\n",
    "**#ок**\n",
    "\n",
    "Да, молодец, с пропусками очень четко разобрался, все по полочкам разложил\n",
    "\n",
    "</div>"
   ]
  },
  {
   "cell_type": "markdown",
   "metadata": {},
   "source": [
    "<div class=\"alert alert-info\"> <b>Комментарий студента v1:</b> Спасибо ^-^ </div>"
   ]
  },
  {
   "cell_type": "code",
   "execution_count": 10,
   "metadata": {
    "cell_id": "d8d39588e7b44da7a3dfd8d94c0a2048",
    "deepnote_cell_type": "code",
    "deepnote_to_be_reexecuted": false,
    "execution_millis": 16,
    "execution_start": 1666120099405,
    "source_hash": "fc6e41b",
    "tags": []
   },
   "outputs": [
    {
     "name": "stdout",
     "output_type": "stream",
     "text": [
      "Тип данных столбца date после изменения datetime64[ns, pytz.FixedOffset(180)]\n"
     ]
    }
   ],
   "source": [
    "telecom_dataset['date'] = pd.to_datetime(telecom_dataset['date'], format='%Y-%m-%d')\n",
    "print(f'Тип данных столбца date после изменения {telecom_dataset[\"date\"].dtype}')"
   ]
  },
  {
   "cell_type": "code",
   "execution_count": 11,
   "metadata": {
    "cell_id": "2fbae84770754cdfbe0292b52a4f87f9",
    "deepnote_cell_type": "code",
    "deepnote_to_be_reexecuted": false,
    "execution_millis": 4,
    "execution_start": 1666120099469,
    "source_hash": "3363c0bf",
    "tags": []
   },
   "outputs": [
    {
     "name": "stdout",
     "output_type": "stream",
     "text": [
      "Дата начала периода сбора статистики 2019-08-02 00:00:00+03:00\n",
      "Дата конца периода сбора статистики 2019-11-28 00:00:00+03:00\n"
     ]
    }
   ],
   "source": [
    "print(f'Дата начала периода сбора статистики {telecom_dataset[\"date\"].min()}')\n",
    "print(f'Дата конца периода сбора статистики {telecom_dataset[\"date\"].max()}')"
   ]
  },
  {
   "cell_type": "markdown",
   "metadata": {
    "cell_id": "42e9123bff254a848f081a04da7e9b74",
    "deepnote_cell_type": "markdown",
    "tags": []
   },
   "source": [
    "Наши данные о статистике находятся в периоде со 2-го августа по 28 ноября 2019 года,  то есть за 3 полных месяца и один неоконченный месяц (мы учтем это при подсчете выручки)\n",
    "\n",
    "Ниже посмотрим и проведем анализ интересующих нас столбцов, а именно: \n",
    "- calls_count \n",
    "- call_duration\n",
    "- total_call_duration\n",
    "\n",
    "посредством гистограмм и определим, как распределились значения в наших столбцах и есть ли выбивающиеся значения."
   ]
  },
  {
   "cell_type": "code",
   "execution_count": 12,
   "metadata": {
    "cell_id": "e977f91573864d6596678ac5414d2af1",
    "deepnote_cell_type": "code",
    "deepnote_to_be_reexecuted": false,
    "execution_millis": 406,
    "execution_start": 1666120099471,
    "source_hash": "60df118b",
    "tags": []
   },
   "outputs": [
    {
     "data": {
      "image/png": "[encoded data removed]",
      "text/plain": [
       "<Figure size 576x360 with 1 Axes>"
      ]
     },
     "metadata": {
      "needs_background": "light"
     },
     "output_type": "display_data"
    }
   ],
   "source": [
    "sns.histplot(telecom_dataset, x='calls_count', bins=100).set(xlabel='количество звонков', ylabel='', ylim=(0,700))\n",
    "plt.title('Гистограмма распределения количество звонков по датасету')\n",
    "plt.show()"
   ]
  },
  {
   "cell_type": "code",
   "execution_count": 13,
   "metadata": {
    "cell_id": "2db591587b584d41800be83ad552c0ca",
    "deepnote_cell_type": "code",
    "deepnote_to_be_reexecuted": false,
    "execution_millis": 466,
    "execution_start": 1666120099878,
    "source_hash": "224e7a29",
    "tags": []
   },
   "outputs": [
    {
     "data": {
      "image/png": "[encoded data removed]",
      "text/plain": [
       "<Figure size 576x360 with 1 Axes>"
      ]
     },
     "metadata": {
      "needs_background": "light"
     },
     "output_type": "display_data"
    }
   ],
   "source": [
    "sns.histplot(telecom_dataset, x='call_duration', bins=100).set(xlabel='продолжительность звонков без учета ожидания', ylabel='', ylim=(0,1600))\n",
    "plt.title('Гистограмма распределения длительности звонков по датасету без учета времени ожидания')\n",
    "plt.show()"
   ]
  },
  {
   "cell_type": "code",
   "execution_count": 14,
   "metadata": {
    "cell_id": "e502667e5fea4c80a4f8149ba32f7f5e",
    "deepnote_cell_type": "code",
    "deepnote_to_be_reexecuted": false,
    "execution_millis": 349,
    "execution_start": 1666120100393,
    "source_hash": "1d196870",
    "tags": []
   },
   "outputs": [
    {
     "data": {
      "image/png": "[encoded data removed]",
      "text/plain": [
       "<Figure size 576x360 with 1 Axes>"
      ]
     },
     "metadata": {
      "needs_background": "light"
     },
     "output_type": "display_data"
    }
   ],
   "source": [
    "sns.histplot(telecom_dataset, x='total_call_duration', bins=100).set(xlabel='продолжительность звонков с учетом ожидания', ylabel='', ylim=(0,1200))\n",
    "plt.title('Гистограмма распределения длительности звонков по датасету с учетом времени ожидания')\n",
    "plt.show()"
   ]
  },
  {
   "cell_type": "code",
   "execution_count": 72,
   "metadata": {},
   "outputs": [
    {
     "data": {
      "image/png": "[encoded data removed]",
      "text/plain": [
       "<Figure size 576x360 with 1 Axes>"
      ]
     },
     "metadata": {
      "needs_background": "light"
     },
     "output_type": "display_data"
    }
   ],
   "source": [
    "sns.histplot(telecom_dataset, x='total_call_duration', bins=100).set(xlabel='продолжительность звонков с учетом ожидания', ylabel='')\n",
    "plt.title('Гистограмма распределения длительности звонков по датасету с учетом времени ожидания')\n",
    "plt.show()"
   ]
  },
  {
   "cell_type": "markdown",
   "metadata": {},
   "source": [
    "<div class=\"alert alert-danger\">\n",
    "    \n",
    "**Комментарий ревьюера**\n",
    "\n",
    "**#ошибка**\n",
    "    \n",
    "\n",
    "Такие графики не подойдут. Нужно настроить параметры (в частности количество корзин), чтобы график реально показывал распределение. \n",
    "\n",
    "</div>"
   ]
  },
  {
   "cell_type": "markdown",
   "metadata": {},
   "source": [
    "<div class=\"alert alert-info\"> <b>Комментарий студента v1:</b> Вера, боюсь неправильно Тебя здесь понять, сильно большие веса по графикам видно даже просто по числам снизу. Приблизил график через ylim и скорректировал корзины для наглядности.  </div>"
   ]
  },
  {
   "cell_type": "markdown",
   "metadata": {},
   "source": [
    "<div class=\"alert alert-success\">\n",
    "    \n",
    "**Комментарий ревьюера - 2**\n",
    "\n",
    "**#ок**\n",
    "\n",
    "Да, можно и так. Главное, чтобы ве видно было\n",
    "\n",
    "</div>"
   ]
  },
  {
   "cell_type": "markdown",
   "metadata": {
    "cell_id": "cd05d75768054b10b54c2dff1b6de927",
    "deepnote_cell_type": "markdown",
    "deepnote_to_be_reexecuted": false,
    "execution_millis": 0,
    "execution_start": 1665862602262,
    "source_hash": "b623e53d",
    "tags": []
   },
   "source": [
    "Итак, гистограммы отчетливо показывают что мы имеем сильное жирнохвостовое распределение во всех трех столбцах, воспользуемся ниже метом quatile для определения коллосально выбивающихся значений, после этого определим их характер и примем решение об удалении, или сохранении."
   ]
  },
  {
   "cell_type": "code",
   "execution_count": 15,
   "metadata": {
    "cell_id": "500279e1d4be46ac80c65fe02d6671e8",
    "deepnote_cell_type": "code",
    "deepnote_to_be_reexecuted": false,
    "execution_millis": 16,
    "execution_start": 1666120100752,
    "source_hash": "738b22fd",
    "tags": []
   },
   "outputs": [
    {
     "name": "stdout",
     "output_type": "stream",
     "text": [
      "В таблице датасета telecom_dataset в столбце count методом quantile определим границы по перцентилям\n",
      "99% значений меньше, чем: 166.15999999999622\n",
      "при этом максимальное значение в данном столбце: 4817\n",
      "------------------------------\n",
      "произведем тоже самое для столбцов call_duration и total_call_duration\n",
      "в столбце call_duration 99% значений, меньше чем: 10346.319999999992\n",
      "при этом максимальное значение в данном столбце: 144395\n",
      "------------------------------\n",
      "в столбце total_call_duration 99% значений, меньше чем: 12958.07999999995\n",
      "при этом максимальное значение в данном столбце: 166155\n"
     ]
    }
   ],
   "source": [
    "print(f'В таблице датасета telecom_dataset в столбце count методом quantile определим границы по перцентилям')\n",
    "print(f'99% значений меньше, чем: {telecom_dataset[\"calls_count\"].quantile(0.99)}')\n",
    "print(f'при этом максимальное значение в данном столбце: {telecom_dataset[\"calls_count\"].max()}')\n",
    "print('---' * 10)\n",
    "print(f'произведем тоже самое для столбцов call_duration и total_call_duration')\n",
    "print(f'в столбце call_duration 99% значений, меньше чем: {telecom_dataset[\"call_duration\"].quantile(0.99)}')\n",
    "print(f'при этом максимальное значение в данном столбце: {telecom_dataset[\"call_duration\"].max()}')\n",
    "print('---' * 10)\n",
    "print(f'в столбце total_call_duration 99% значений, меньше чем: {telecom_dataset[\"total_call_duration\"].quantile(0.99)}')\n",
    "print(f'при этом максимальное значение в данном столбце: {telecom_dataset[\"total_call_duration\"].max()}')"
   ]
  },
  {
   "cell_type": "markdown",
   "metadata": {
    "cell_id": "5df6e1c01ca44330bb10e1462b641d8c",
    "deepnote_cell_type": "markdown",
    "tags": []
   },
   "source": [
    "Таким образом, мы можем отсечь по 1% измерений в каждом столбце, и получить гораздо более чистые данные, без аномалий. Которые без сомнения, могут не иметь характер ошибки, но могут перетянуть на себя данные нашего исследования. \n",
    "В связи с этим, проверим итоговое количество данных, которое мы потеряем при таком отсечении и примем финальное решение:"
   ]
  },
  {
   "cell_type": "code",
   "execution_count": 16,
   "metadata": {
    "cell_id": "54d8ef1000f949a785e5cbf3cd65e915",
    "deepnote_cell_type": "code",
    "deepnote_to_be_reexecuted": false,
    "execution_millis": 856,
    "execution_start": 1666120100772,
    "source_hash": "69d61a7c",
    "tags": []
   },
   "outputs": [
    {
     "name": "stdout",
     "output_type": "stream",
     "text": [
      "Количество строк до внесения изменений: 53785\n",
      "Количество строк после внесения изменений: 52928\n",
      "Доля данных которая была утеряна после отсечения равна: 1.59 %\n"
     ]
    }
   ],
   "source": [
    "tel_dat_new = telecom_dataset.copy()\n",
    "calls_count_q99 = tel_dat_new[\"calls_count\"].quantile(0.99)\n",
    "call_duration_q99 = tel_dat_new[\"call_duration\"].quantile(0.99)\n",
    "total_call_duration_q99 = tel_dat_new[\"total_call_duration\"].quantile(0.99)\n",
    "\n",
    "tel_dat_new = tel_dat_new.query('calls_count <= @calls_count_q99 and call_duration <= @call_duration_q99 and total_call_duration <= @total_call_duration_q99')\n",
    "print(f'Количество строк до внесения изменений: {len(telecom_dataset)}')\n",
    "print(f'Количество строк после внесения изменений: {len(tel_dat_new)}')\n",
    "print(f'Доля данных которая была утеряна после отсечения равна: {round(100 - len(tel_dat_new)/len(telecom_dataset) * 100, 2)} %')"
   ]
  },
  {
   "cell_type": "markdown",
   "metadata": {},
   "source": [
    "<div class=\"alert alert-success\">\n",
    "    \n",
    "**Комментарий ревьюера**\n",
    "\n",
    "**#ок**\n",
    "\n",
    "Правильно, что ты показал долю потеряных значений\n",
    "</div>"
   ]
  },
  {
   "cell_type": "markdown",
   "metadata": {
    "cell_id": "fe17ddbef9704e8b921dba227eeb7453",
    "deepnote_cell_type": "markdown",
    "tags": []
   },
   "source": [
    "После проведенных выше манипуляций вернемся к дубликатам в нашем датасете telecom_dataset и изучим их подробнее"
   ]
  },
  {
   "cell_type": "code",
   "execution_count": 17,
   "metadata": {
    "cell_id": "8e1959621d3b4b2b8e2b984eff9c2d1b",
    "deepnote_cell_type": "code",
    "deepnote_table_loading": false,
    "deepnote_table_state": {
     "filters": [],
     "pageIndex": 7,
     "pageSize": 10,
     "sortBy": []
    },
    "deepnote_to_be_reexecuted": false,
    "execution_millis": 864,
    "execution_start": 1666120100820,
    "source_hash": "b2513337",
    "tags": []
   },
   "outputs": [
    {
     "name": "stdout",
     "output_type": "stream",
     "text": [
      "Количество полных дубликатов в таблице\n",
      "4811\n"
     ]
    },
    {
     "data": {
      "text/html": [
       "<div>\n",
       "<style scoped>\n",
       "    .dataframe tbody tr th:only-of-type {\n",
       "        vertical-align: middle;\n",
       "    }\n",
       "\n",
       "    .dataframe tbody tr th {\n",
       "        vertical-align: top;\n",
       "    }\n",
       "\n",
       "    .dataframe thead th {\n",
       "        text-align: right;\n",
       "    }\n",
       "</style>\n",
       "<table border=\"1\" class=\"dataframe\">\n",
       "  <thead>\n",
       "    <tr style=\"text-align: right;\">\n",
       "      <th></th>\n",
       "      <th>user_id</th>\n",
       "      <th>date</th>\n",
       "      <th>direction</th>\n",
       "      <th>internal</th>\n",
       "      <th>operator_id</th>\n",
       "      <th>is_missed_call</th>\n",
       "      <th>calls_count</th>\n",
       "      <th>call_duration</th>\n",
       "      <th>total_call_duration</th>\n",
       "    </tr>\n",
       "  </thead>\n",
       "  <tbody>\n",
       "    <tr>\n",
       "      <th>6</th>\n",
       "      <td>166377</td>\n",
       "      <td>2019-08-05 00:00:00+03:00</td>\n",
       "      <td>out</td>\n",
       "      <td>False</td>\n",
       "      <td>880020.0</td>\n",
       "      <td>True</td>\n",
       "      <td>8</td>\n",
       "      <td>0</td>\n",
       "      <td>50</td>\n",
       "    </tr>\n",
       "    <tr>\n",
       "      <th>8</th>\n",
       "      <td>166377</td>\n",
       "      <td>2019-08-05 00:00:00+03:00</td>\n",
       "      <td>out</td>\n",
       "      <td>False</td>\n",
       "      <td>880020.0</td>\n",
       "      <td>True</td>\n",
       "      <td>8</td>\n",
       "      <td>0</td>\n",
       "      <td>50</td>\n",
       "    </tr>\n",
       "    <tr>\n",
       "      <th>27</th>\n",
       "      <td>166377</td>\n",
       "      <td>2019-08-12 00:00:00+03:00</td>\n",
       "      <td>in</td>\n",
       "      <td>False</td>\n",
       "      <td>0.0</td>\n",
       "      <td>True</td>\n",
       "      <td>2</td>\n",
       "      <td>0</td>\n",
       "      <td>34</td>\n",
       "    </tr>\n",
       "    <tr>\n",
       "      <th>28</th>\n",
       "      <td>166377</td>\n",
       "      <td>2019-08-12 00:00:00+03:00</td>\n",
       "      <td>in</td>\n",
       "      <td>False</td>\n",
       "      <td>0.0</td>\n",
       "      <td>True</td>\n",
       "      <td>2</td>\n",
       "      <td>0</td>\n",
       "      <td>34</td>\n",
       "    </tr>\n",
       "    <tr>\n",
       "      <th>38</th>\n",
       "      <td>166377</td>\n",
       "      <td>2019-08-14 00:00:00+03:00</td>\n",
       "      <td>in</td>\n",
       "      <td>False</td>\n",
       "      <td>0.0</td>\n",
       "      <td>True</td>\n",
       "      <td>1</td>\n",
       "      <td>0</td>\n",
       "      <td>3</td>\n",
       "    </tr>\n",
       "    <tr>\n",
       "      <th>...</th>\n",
       "      <td>...</td>\n",
       "      <td>...</td>\n",
       "      <td>...</td>\n",
       "      <td>...</td>\n",
       "      <td>...</td>\n",
       "      <td>...</td>\n",
       "      <td>...</td>\n",
       "      <td>...</td>\n",
       "      <td>...</td>\n",
       "    </tr>\n",
       "    <tr>\n",
       "      <th>53875</th>\n",
       "      <td>168601</td>\n",
       "      <td>2019-11-26 00:00:00+03:00</td>\n",
       "      <td>in</td>\n",
       "      <td>False</td>\n",
       "      <td>0.0</td>\n",
       "      <td>True</td>\n",
       "      <td>3</td>\n",
       "      <td>0</td>\n",
       "      <td>35</td>\n",
       "    </tr>\n",
       "    <tr>\n",
       "      <th>53883</th>\n",
       "      <td>168603</td>\n",
       "      <td>2019-11-20 00:00:00+03:00</td>\n",
       "      <td>out</td>\n",
       "      <td>False</td>\n",
       "      <td>959118.0</td>\n",
       "      <td>True</td>\n",
       "      <td>3</td>\n",
       "      <td>0</td>\n",
       "      <td>89</td>\n",
       "    </tr>\n",
       "    <tr>\n",
       "      <th>53885</th>\n",
       "      <td>168603</td>\n",
       "      <td>2019-11-20 00:00:00+03:00</td>\n",
       "      <td>out</td>\n",
       "      <td>False</td>\n",
       "      <td>959118.0</td>\n",
       "      <td>True</td>\n",
       "      <td>3</td>\n",
       "      <td>0</td>\n",
       "      <td>89</td>\n",
       "    </tr>\n",
       "    <tr>\n",
       "      <th>53899</th>\n",
       "      <td>168606</td>\n",
       "      <td>2019-11-15 00:00:00+03:00</td>\n",
       "      <td>out</td>\n",
       "      <td>True</td>\n",
       "      <td>957922.0</td>\n",
       "      <td>False</td>\n",
       "      <td>4</td>\n",
       "      <td>3130</td>\n",
       "      <td>3190</td>\n",
       "    </tr>\n",
       "    <tr>\n",
       "      <th>53900</th>\n",
       "      <td>168606</td>\n",
       "      <td>2019-11-15 00:00:00+03:00</td>\n",
       "      <td>out</td>\n",
       "      <td>True</td>\n",
       "      <td>957922.0</td>\n",
       "      <td>False</td>\n",
       "      <td>4</td>\n",
       "      <td>3130</td>\n",
       "      <td>3190</td>\n",
       "    </tr>\n",
       "  </tbody>\n",
       "</table>\n",
       "<p>9622 rows × 9 columns</p>\n",
       "</div>"
      ],
      "text/plain": [
       "       user_id                      date direction internal  operator_id  \\\n",
       "6       166377 2019-08-05 00:00:00+03:00       out    False     880020.0   \n",
       "8       166377 2019-08-05 00:00:00+03:00       out    False     880020.0   \n",
       "27      166377 2019-08-12 00:00:00+03:00        in    False          0.0   \n",
       "28      166377 2019-08-12 00:00:00+03:00        in    False          0.0   \n",
       "38      166377 2019-08-14 00:00:00+03:00        in    False          0.0   \n",
       "...        ...                       ...       ...      ...          ...   \n",
       "53875   168601 2019-11-26 00:00:00+03:00        in    False          0.0   \n",
       "53883   168603 2019-11-20 00:00:00+03:00       out    False     959118.0   \n",
       "53885   168603 2019-11-20 00:00:00+03:00       out    False     959118.0   \n",
       "53899   168606 2019-11-15 00:00:00+03:00       out     True     957922.0   \n",
       "53900   168606 2019-11-15 00:00:00+03:00       out     True     957922.0   \n",
       "\n",
       "       is_missed_call  calls_count  call_duration  total_call_duration  \n",
       "6                True            8              0                   50  \n",
       "8                True            8              0                   50  \n",
       "27               True            2              0                   34  \n",
       "28               True            2              0                   34  \n",
       "38               True            1              0                    3  \n",
       "...               ...          ...            ...                  ...  \n",
       "53875            True            3              0                   35  \n",
       "53883            True            3              0                   89  \n",
       "53885            True            3              0                   89  \n",
       "53899           False            4           3130                 3190  \n",
       "53900           False            4           3130                 3190  \n",
       "\n",
       "[9622 rows x 9 columns]"
      ]
     },
     "execution_count": 17,
     "metadata": {},
     "output_type": "execute_result"
    }
   ],
   "source": [
    "print('Количество полных дубликатов в таблице')\n",
    "print(tel_dat_new.duplicated().sum())\n",
    "tel_dat_new[tel_dat_new.duplicated(keep=False)]"
   ]
  },
  {
   "cell_type": "markdown",
   "metadata": {
    "cell_id": "9b91b7c7e94a4a5da9fc065076d32e9d",
    "deepnote_cell_type": "markdown",
    "tags": []
   },
   "source": [
    "4811 дубликатов в нашем датасете, которые после изучения не показывают никакой закономерности для признания их \"неошибочными\" вынуждают нас выполнить удаление всех полных дубликатов."
   ]
  },
  {
   "cell_type": "code",
   "execution_count": 18,
   "metadata": {
    "cell_id": "a19616dcf66243bfb91fedb1dbff46ff",
    "deepnote_cell_type": "code",
    "deepnote_to_be_reexecuted": false,
    "execution_millis": 675,
    "execution_start": 1666120101036,
    "source_hash": "e174e2cb",
    "tags": []
   },
   "outputs": [
    {
     "name": "stdout",
     "output_type": "stream",
     "text": [
      "52928\n"
     ]
    }
   ],
   "source": [
    "print(len(tel_dat_new))"
   ]
  },
  {
   "cell_type": "code",
   "execution_count": 19,
   "metadata": {
    "cell_id": "12a3f5f25d754b4dab997ff42bc7a474",
    "deepnote_cell_type": "code",
    "deepnote_to_be_reexecuted": false,
    "execution_millis": 674,
    "execution_start": 1666120101037,
    "source_hash": "c2c99758",
    "tags": []
   },
   "outputs": [
    {
     "name": "stdout",
     "output_type": "stream",
     "text": [
      "Количество полных дубликатов в таблице 4811\n",
      "Количетсво данных до удаления 52928\n",
      "Количество данных после удаления: 48117\n",
      "Доля утерянных данных: 9.09 %\n"
     ]
    }
   ],
   "source": [
    "print(f'Количество полных дубликатов в таблице {tel_dat_new.duplicated().sum()}')\n",
    "print(f'Количетсво данных до удаления {len(tel_dat_new)}')\n",
    "telecom_dataset_new = tel_dat_new.drop_duplicates()\n",
    "print(f'Количество данных после удаления: {len(telecom_dataset_new)}')\n",
    "print(f'Доля утерянных данных: {round(100 - (len(telecom_dataset_new) / len(tel_dat_new)) * 100, 2)} %')"
   ]
  },
  {
   "cell_type": "markdown",
   "metadata": {},
   "source": [
    "<div class=\"alert alert-success\">\n",
    "    \n",
    "**Комментарий ревьюера**\n",
    "\n",
    "**#ок**\n",
    "\n",
    "Да, похоже, что дубли - это реально дубли, стоит их удалить, хотя их и достаточно много\n",
    "\n",
    "</div>"
   ]
  },
  {
   "cell_type": "markdown",
   "metadata": {
    "cell_id": "06115a8191354bb58e36736f46a07727",
    "deepnote_cell_type": "markdown",
    "tags": []
   },
   "source": [
    "#### Промежуточный вывод:\n",
    "Таким образом, в процессе предобработки:\n",
    "\n",
    "- Загрузили и изучили данные, а именно:\n",
    "\t- Изменили типы данных в стоблце date_start в сете telecom_clietns\n",
    "\t- убедились в отсутствии пропусков и дубликатов в этой таблице\n",
    "\t- проерили начало и конец периода регистрации для изучения (2019-08-01 и 2019-10-31 соответственно)\n",
    "\t- обнаружили и удалили пропуски в стобце internal в датасете telecom_dataset так они не повлияют на ход исследования. \n",
    "\t- обнаружили пропуски в столбце operator_id и выдвинули предположение о недошедших внешних входящих звонках, таким пропускам мы присвоили значение заглушку «0» для дальнейшего отслеживаниея, потому как удалять такое количество данных (15.2%) нельзя\n",
    "\t- изменили тип данных в столбце date\n",
    "\t- определели период сбора статистики (2019-08-02 и 2019-11-28)\n",
    "\t- провели анализ столбцов calls_count/call_duration/total_call_duration и удалили аномально большие значения потерям 1.59% данных\n",
    "    - проверили и избавились от полных дубликатов в датасете не увидев в них нормальной закономерности потеряв 9% данных"
   ]
  },
  {
   "cell_type": "markdown",
   "metadata": {
    "cell_id": "57970ab79a8749818872db46ffb95faf",
    "deepnote_cell_type": "markdown",
    "tags": []
   },
   "source": [
    "### Исследовательский анализ данных EDA:\n",
    "- Проанализируем общее количество клиентов;\n",
    "- Посчитаем для каждого пользователя количество сделанных звонков и количество потраченных минут в разрезе месяца и за весь изучаемый период;\n",
    "- Проверим наличие \"выбивающихся\" из общего потока пользователей и выдвинем предположение о причине появления таких пользователей.\n",
    "- Рассчитаем общую выручку в разрезе месяца и за весь изучаемый период\n",
    "- Рассчитаем LTV (life time value) каждого пользователя для нашего клиента - а именно, сколько денег принес каждый клиент в разрезе месяца/всего изучаемого периода\n",
    "- Рассмотрим параметры выбора активных клиентов;\n",
    "- Рассмотрим наличие клиентов ушедших в отток, ответим на вопрос: \"Можно ли выделить характерные черты таких клиентов?\"\n",
    "- Проведем поиск клиентов с неоптимальными тарифами (тех, кто мог бы платить меньше)\n",
    "- Изучим возможные потери в выручке при переводе клиентов находящися на неоптимальных тарифах при переводе их на оптимальные.\n",
    "- Выдвинем предположение: \"как уменьшить риск падения выручки, если все клиенты перейдут на более выгодные тарифы?\" и оценим возможные сроки возврата на предыдущие значения по выручкам.\n",
    "\n",
    "#### Общее количество клиентов\n",
    "Выведем общее количество клиентов нашего заказчика:"
   ]
  },
  {
   "cell_type": "code",
   "execution_count": 20,
   "metadata": {
    "cell_id": "250197de105a462f8908ca5d01f27f62",
    "deepnote_cell_type": "code",
    "deepnote_to_be_reexecuted": false,
    "execution_millis": 632,
    "execution_start": 1666120101079,
    "source_hash": "f03c6095",
    "tags": []
   },
   "outputs": [
    {
     "name": "stdout",
     "output_type": "stream",
     "text": [
      "Общее количество клиентов нашего заказчика: 307\n"
     ]
    }
   ],
   "source": [
    "print(f'Общее количество клиентов нашего заказчика: {telecom_dataset_new[\"user_id\"].nunique()}')"
   ]
  },
  {
   "cell_type": "markdown",
   "metadata": {
    "cell_id": "d4ec72e4d545462995f2f73efc7d7fdd",
    "deepnote_cell_type": "markdown",
    "tags": []
   },
   "source": [
    "#### Расчеты для каждого пользователя в разрезе месяца и за весь период\n",
    "Соберем сводную таблицу из нашего датасета где расчитаем количество звонком и общее время звонков с учетом и без учета времени ожидания в разрезе месяца"
   ]
  },
  {
   "cell_type": "code",
   "execution_count": 21,
   "metadata": {
    "cell_id": "9dcdfd9b6fe248c2a93199d8c84c89c0",
    "deepnote_cell_type": "code",
    "deepnote_table_loading": false,
    "deepnote_table_state": {
     "filters": [],
     "pageIndex": 0,
     "pageSize": 10,
     "sortBy": []
    },
    "deepnote_to_be_reexecuted": false,
    "execution_millis": 589,
    "execution_start": 1666120101122,
    "source_hash": "7d597f2f",
    "tags": []
   },
   "outputs": [
    {
     "data": {
      "text/html": [
       "<div>\n",
       "<style scoped>\n",
       "    .dataframe tbody tr th:only-of-type {\n",
       "        vertical-align: middle;\n",
       "    }\n",
       "\n",
       "    .dataframe tbody tr th {\n",
       "        vertical-align: top;\n",
       "    }\n",
       "\n",
       "    .dataframe thead th {\n",
       "        text-align: right;\n",
       "    }\n",
       "</style>\n",
       "<table border=\"1\" class=\"dataframe\">\n",
       "  <thead>\n",
       "    <tr style=\"text-align: right;\">\n",
       "      <th></th>\n",
       "      <th>user_id</th>\n",
       "      <th>month</th>\n",
       "      <th>call_duration</th>\n",
       "      <th>calls_count</th>\n",
       "      <th>total_call_duration</th>\n",
       "    </tr>\n",
       "  </thead>\n",
       "  <tbody>\n",
       "    <tr>\n",
       "      <th>0</th>\n",
       "      <td>166377</td>\n",
       "      <td>8</td>\n",
       "      <td>66274</td>\n",
       "      <td>977</td>\n",
       "      <td>79999</td>\n",
       "    </tr>\n",
       "    <tr>\n",
       "      <th>1</th>\n",
       "      <td>166377</td>\n",
       "      <td>9</td>\n",
       "      <td>87074</td>\n",
       "      <td>1452</td>\n",
       "      <td>107813</td>\n",
       "    </tr>\n",
       "    <tr>\n",
       "      <th>2</th>\n",
       "      <td>166377</td>\n",
       "      <td>10</td>\n",
       "      <td>83758</td>\n",
       "      <td>1406</td>\n",
       "      <td>101952</td>\n",
       "    </tr>\n",
       "    <tr>\n",
       "      <th>3</th>\n",
       "      <td>166377</td>\n",
       "      <td>11</td>\n",
       "      <td>80881</td>\n",
       "      <td>1314</td>\n",
       "      <td>98457</td>\n",
       "    </tr>\n",
       "    <tr>\n",
       "      <th>4</th>\n",
       "      <td>166391</td>\n",
       "      <td>8</td>\n",
       "      <td>243</td>\n",
       "      <td>18</td>\n",
       "      <td>806</td>\n",
       "    </tr>\n",
       "  </tbody>\n",
       "</table>\n",
       "</div>"
      ],
      "text/plain": [
       "   user_id  month  call_duration  calls_count  total_call_duration\n",
       "0   166377      8          66274          977                79999\n",
       "1   166377      9          87074         1452               107813\n",
       "2   166377     10          83758         1406               101952\n",
       "3   166377     11          80881         1314                98457\n",
       "4   166391      8            243           18                  806"
      ]
     },
     "metadata": {},
     "output_type": "display_data"
    },
    {
     "data": {
      "text/html": [
       "<div>\n",
       "<style scoped>\n",
       "    .dataframe tbody tr th:only-of-type {\n",
       "        vertical-align: middle;\n",
       "    }\n",
       "\n",
       "    .dataframe tbody tr th {\n",
       "        vertical-align: top;\n",
       "    }\n",
       "\n",
       "    .dataframe thead th {\n",
       "        text-align: right;\n",
       "    }\n",
       "</style>\n",
       "<table border=\"1\" class=\"dataframe\">\n",
       "  <thead>\n",
       "    <tr style=\"text-align: right;\">\n",
       "      <th></th>\n",
       "      <th>user_id</th>\n",
       "      <th>call_duration</th>\n",
       "      <th>calls_count</th>\n",
       "      <th>total_call_duration</th>\n",
       "    </tr>\n",
       "  </thead>\n",
       "  <tbody>\n",
       "    <tr>\n",
       "      <th>0</th>\n",
       "      <td>166377</td>\n",
       "      <td>317987</td>\n",
       "      <td>5149</td>\n",
       "      <td>388221</td>\n",
       "    </tr>\n",
       "    <tr>\n",
       "      <th>1</th>\n",
       "      <td>166391</td>\n",
       "      <td>260</td>\n",
       "      <td>27</td>\n",
       "      <td>929</td>\n",
       "    </tr>\n",
       "    <tr>\n",
       "      <th>2</th>\n",
       "      <td>166392</td>\n",
       "      <td>16652</td>\n",
       "      <td>209</td>\n",
       "      <td>20382</td>\n",
       "    </tr>\n",
       "    <tr>\n",
       "      <th>3</th>\n",
       "      <td>166399</td>\n",
       "      <td>244</td>\n",
       "      <td>24</td>\n",
       "      <td>789</td>\n",
       "    </tr>\n",
       "    <tr>\n",
       "      <th>4</th>\n",
       "      <td>166405</td>\n",
       "      <td>1128715</td>\n",
       "      <td>14938</td>\n",
       "      <td>1407933</td>\n",
       "    </tr>\n",
       "  </tbody>\n",
       "</table>\n",
       "</div>"
      ],
      "text/plain": [
       "   user_id  call_duration  calls_count  total_call_duration\n",
       "0   166377         317987         5149               388221\n",
       "1   166391            260           27                  929\n",
       "2   166392          16652          209                20382\n",
       "3   166399            244           24                  789\n",
       "4   166405        1128715        14938              1407933"
      ]
     },
     "execution_count": 21,
     "metadata": {},
     "output_type": "execute_result"
    }
   ],
   "source": [
    "telecom_dataset_new['month'] = telecom_dataset_new['date'].dt.month # получим столбец с месяцем для агрегирования\n",
    "client_pivot_month = telecom_dataset_new.pivot_table(index=['user_id', 'month'], values=['calls_count', 'call_duration', 'total_call_duration'], aggfunc='sum').reset_index()\n",
    "display(client_pivot_month.head())\n",
    "client_pivot_total = telecom_dataset_new.pivot_table(index='user_id', values=['calls_count', 'call_duration', 'total_call_duration'], aggfunc='sum').reset_index()\n",
    "client_pivot_total.head()"
   ]
  },
  {
   "cell_type": "markdown",
   "metadata": {
    "cell_id": "5ec5c1c8c68647f3b4ef81b68a727695",
    "deepnote_cell_type": "markdown",
    "tags": []
   },
   "source": [
    "Просто по выводу данных таблиц сложно что-либо сказать, поэтому для начала посчитаем сколько операторов было у каждого пользователя (__для проверки аномальности данных__) в разрезе месяца и общее для всего периода, после этого будем присоединять таблицу с операторами к нашим сводным для расчета выручек. \n",
    "\n",
    "#### Расчет общей выручки (месяц/весь период)\n",
    "\n",
    "В этом разделе удалим все данные которые будут мешать при расчете выручки и присоединим все необходимые таблицы и соберем общие таблицы с которыми и будем работать в дальнейшем\n",
    "\n",
    "Мы знаем, что:\n",
    "- Заказчик округляет минуты до полных\n",
    "- Данные считаются в секундах (приводим доказательство ниже)\n",
    "- Тарифицирюутся только исходящие звонки\n",
    "- Звонки Тарифицирюутся с учетом времени ожидания\n",
    "- Помимо ежемесячной абонетской платы клиенты заказчика платят за каждого опрератора по 100 рублей\n",
    "- Ежемесячная плата за тариф:\n",
    "\n",
    "- Тариф А — 5000 ₽,\n",
    "- B — 2000 ₽,\n",
    "- С — 1000 ₽.\n",
    "\n",
    "**Входящие звонки** — бесплатны на всех тарифах,\n",
    "\n",
    "**Исходящие звонки внутри сети** — бесплатны до 2000 минут в месяц на всех тарифах. Цена сверх лимита:\n",
    "\n",
    "- A — 0.1 ₽/мин.,\n",
    "- B — 0.15 ₽/мин.,\n",
    "- C — 0.3 ₽/мин.\n",
    "\n",
    "**Исходящие звонки, кроме внутренних:**\n",
    "\n",
    "- A — 0.4 ₽/мин.,\n",
    "- B — 0.5 ₽/мин.,\n",
    "- C — 0.7 ₽/мин.\n",
    "\n",
    "\n",
    "Итак, соберем необходимую таблицу для подсчета выручки, однако нам необходимо перед рассчетами определиться в каких единицах измерения предстают перед нами столбцы call_duration и total_call_duration. Для более объективной оценки выполним аггрегирование общей таблицы по ДНЯМ и посмотрим сколько часов/минут/секунд выговаривает в день один operator_id. Напомним что, один id оператора присваевается конкретной станции, данных о сменах операторов и длительности их рабочего дня у нас нет. Поэтому для нас достаточно будет проверить банальную логику.\n",
    "При этом мы понимаем, что на одну станцию не могут совершаться одновременно звонки и исходящие и входящие, поэтому для нас будет достаточно посчитать общее количество условной единицы времени звонков за день и сравнить с длительностью дня. Однако, мы понимаем что время ожидания может считаться при занятой линии. поэтому для простоты будем работать только со столбцов call_duration\n",
    "\n",
    "##### Проверка аномалий и определение правил тариффикации данных:"
   ]
  },
  {
   "cell_type": "code",
   "execution_count": 22,
   "metadata": {
    "cell_id": "d5c81ab3f72444298239bd8352a68554",
    "deepnote_cell_type": "code",
    "deepnote_to_be_reexecuted": false,
    "execution_millis": 530,
    "execution_start": 1666120101185,
    "source_hash": "b1524358",
    "tags": []
   },
   "outputs": [
    {
     "data": {
      "text/html": [
       "<div>\n",
       "<style scoped>\n",
       "    .dataframe tbody tr th:only-of-type {\n",
       "        vertical-align: middle;\n",
       "    }\n",
       "\n",
       "    .dataframe tbody tr th {\n",
       "        vertical-align: top;\n",
       "    }\n",
       "\n",
       "    .dataframe thead th {\n",
       "        text-align: right;\n",
       "    }\n",
       "</style>\n",
       "<table border=\"1\" class=\"dataframe\">\n",
       "  <thead>\n",
       "    <tr style=\"text-align: right;\">\n",
       "      <th></th>\n",
       "      <th>operator_id</th>\n",
       "      <th>day</th>\n",
       "      <th>call_duration</th>\n",
       "      <th>total_call_duration</th>\n",
       "    </tr>\n",
       "  </thead>\n",
       "  <tbody>\n",
       "    <tr>\n",
       "      <th>31</th>\n",
       "      <td>879896.0</td>\n",
       "      <td>1</td>\n",
       "      <td>699</td>\n",
       "      <td>732</td>\n",
       "    </tr>\n",
       "    <tr>\n",
       "      <th>32</th>\n",
       "      <td>879896.0</td>\n",
       "      <td>2</td>\n",
       "      <td>575</td>\n",
       "      <td>868</td>\n",
       "    </tr>\n",
       "    <tr>\n",
       "      <th>33</th>\n",
       "      <td>879896.0</td>\n",
       "      <td>3</td>\n",
       "      <td>384</td>\n",
       "      <td>707</td>\n",
       "    </tr>\n",
       "    <tr>\n",
       "      <th>34</th>\n",
       "      <td>879896.0</td>\n",
       "      <td>4</td>\n",
       "      <td>916</td>\n",
       "      <td>1142</td>\n",
       "    </tr>\n",
       "    <tr>\n",
       "      <th>35</th>\n",
       "      <td>879896.0</td>\n",
       "      <td>5</td>\n",
       "      <td>1919</td>\n",
       "      <td>2203</td>\n",
       "    </tr>\n",
       "  </tbody>\n",
       "</table>\n",
       "</div>"
      ],
      "text/plain": [
       "    operator_id  day  call_duration  total_call_duration\n",
       "31     879896.0    1            699                  732\n",
       "32     879896.0    2            575                  868\n",
       "33     879896.0    3            384                  707\n",
       "34     879896.0    4            916                 1142\n",
       "35     879896.0    5           1919                 2203"
      ]
     },
     "execution_count": 22,
     "metadata": {},
     "output_type": "execute_result"
    }
   ],
   "source": [
    "telecom_dataset_new['day'] = telecom_dataset_new['date'].dt.day\n",
    "day_operator = telecom_dataset_new.pivot_table(index=['operator_id', 'day'], values=['call_duration', 'total_call_duration'], aggfunc='sum').reset_index()\n",
    "day_operator = day_operator.query('operator_id != 0')\n",
    "day_operator.head()"
   ]
  },
  {
   "cell_type": "code",
   "execution_count": 23,
   "metadata": {
    "cell_id": "1ead5f8a08d143ebae9cfda9dc0ceca8",
    "deepnote_cell_type": "code",
    "deepnote_to_be_reexecuted": false,
    "execution_millis": 469,
    "execution_start": 1666120101246,
    "source_hash": "f0ec59ba",
    "tags": []
   },
   "outputs": [
    {
     "name": "stdout",
     "output_type": "stream",
     "text": [
      "Продолжительность дня в часах 24\n",
      "Продолжительность дня в минутах 1440\n",
      "Продолжительность дня в секундах 86400\n"
     ]
    }
   ],
   "source": [
    "# теперь добавим переменные с которыми будем сравнивать\n",
    "day_duration_hr = 24\n",
    "day_duration_min = day_duration_hr*60\n",
    "day_duration_sec = day_duration_min*60\n",
    "print(f'Продолжительность дня в часах {day_duration_hr}')\n",
    "print(f'Продолжительность дня в минутах {day_duration_min}')\n",
    "print(f'Продолжительность дня в секундах {day_duration_sec}')"
   ]
  },
  {
   "cell_type": "code",
   "execution_count": 24,
   "metadata": {
    "cell_id": "1f12599312e14f979c2ffafdda4530ae",
    "deepnote_cell_type": "code",
    "deepnote_to_be_reexecuted": false,
    "execution_millis": 455,
    "execution_start": 1666120101261,
    "source_hash": "d2ac93b0",
    "tags": []
   },
   "outputs": [
    {
     "name": "stdout",
     "output_type": "stream",
     "text": [
      "Общее количество операторов учавствующих в исследовании: 1092\n",
      "Количество данных по принципу: оператор/день: 14430\n",
      "Количество раз, когда оператор провел на линии, больше чем часов в дне: 12990\n",
      "Количество раз, когда оператор провел на линии, больше чем минут в дне: 5646\n",
      "Количество раз, когда оператор провел на линии, больше чем секунд в дне: 0\n",
      "Потеряем данных если будем считать данные в часах: 90.02 %\n",
      "Потеряем данных если будем считать данные в минутах: 39.13 %\n",
      "Потеряем данных если будем считать данные в секундах: 0.0 %\n"
     ]
    }
   ],
   "source": [
    "print(f'Общее количество операторов учавствующих в исследовании: {day_operator[\"operator_id\"].nunique()}')\n",
    "print(f'Количество данных по принципу: оператор/день: {len(day_operator)}')\n",
    "print(f'Количество раз, когда оператор провел на линии, больше чем часов в дне: {len(day_operator.query(\"call_duration >= @day_duration_hr\"))}')\n",
    "print(f'Количество раз, когда оператор провел на линии, больше чем минут в дне: {len(day_operator.query(\"call_duration >= @day_duration_min\"))}')\n",
    "print(f'Количество раз, когда оператор провел на линии, больше чем секунд в дне: {len(day_operator.query(\"call_duration >= @day_duration_sec\"))}')\n",
    "print(f'Потеряем данных если будем считать данные в часах: {round((len(day_operator.query(\"call_duration >= @day_duration_hr\")) / len(day_operator) * 100), 2)} %')\n",
    "print(f'Потеряем данных если будем считать данные в минутах: {round((len(day_operator.query(\"call_duration >= @day_duration_min\")) / len(day_operator) * 100), 2)} %')\n",
    "print(f'Потеряем данных если будем считать данные в секундах: {round((len(day_operator.query(\"call_duration >= @day_duration_sec\")) / len(day_operator) * 100), 2)} %')"
   ]
  },
  {
   "cell_type": "markdown",
   "metadata": {
    "cell_id": "ecaf6e8b352046deadd86689adb7eb1a",
    "deepnote_cell_type": "markdown",
    "tags": []
   },
   "source": [
    "Соответственно, на основе анализа выше, мы понимаем что данные в столбце call_duration у нас рассчитанны посекундно __на первый взгляд__, чего и логично придерживаться дальше по ходу исследования. Соответственно, принимаем измерения в секундах и для столбца total_call_duration. Однако, в таком случае мы получаем очень странные значения о времени работы оператора в день, посмотрим на это ниже:"
   ]
  },
  {
   "cell_type": "code",
   "execution_count": 25,
   "metadata": {
    "cell_id": "30e6a0becf7e4ad3b2523598f20e3b9a",
    "deepnote_cell_type": "code",
    "deepnote_to_be_reexecuted": false,
    "execution_millis": 5150635,
    "execution_start": 1666120101317,
    "source_hash": "5c94b4bd",
    "tags": []
   },
   "outputs": [
    {
     "name": "stdout",
     "output_type": "stream",
     "text": [
      "До преобразования значений оператор в среднем в день разговаривает: 2023 минуты\n",
      "До преобразования значений оператор в среднем в день работает: 2625 минуты\n",
      "После преобразования значений оператор в среднем в день работает: 44 минуты\n"
     ]
    }
   ],
   "source": [
    "day_operator['minutes_total_call_duration'] = day_operator['total_call_duration'] / 60\n",
    "print(f'До преобразования значений оператор в среднем в день разговаривает: {round(day_operator[\"call_duration\"].mean())} минуты')\n",
    "print(f'До преобразования значений оператор в среднем в день работает: {round(day_operator[\"total_call_duration\"].mean())} минуты')\n",
    "print(f'После преобразования значений оператор в среднем в день работает: {round(day_operator[\"minutes_total_call_duration\"].mean())} минуты')"
   ]
  },
  {
   "cell_type": "markdown",
   "metadata": {
    "cell_id": "51964ba4d0744aa084f92a893841c373",
    "deepnote_cell_type": "markdown",
    "tags": []
   },
   "source": [
    "Исходя из вышепоказанного, мы понимаем что наши данные выглядят странно при обоих вариантах. Поэтому, мы отдельно проговорим рекомендацию для заказчика:\n",
    "\n",
    "__передать данные в тех. отдел для отладки того, что данные в минутах превышают длительность дня.__\n",
    "\n",
    "<div class=\"alert alert-success\">\n",
    "    \n",
    "**Комментарий ревьюера**\n",
    "\n",
    "**#ок**\n",
    "\n",
    "В целом на практике это не очень странно. Операторы работают очень интенсивно и скорее всего обрабатывают несколько звонков сразу. Пока один пользователь висит на линии, они разговаривают с другим. Такое бывает не каждый день. Но если случается, например, какой-то технический сбой, то пользователи резко и массово начинают звонить в тех. поддержку. Аналогично, если прошла какая-то реклама, то заинтересованные пользователи начинают массово звонить за разъяснениями.\n",
    "    \n",
    "В итоге получается, что в какие-то дн операторы действительно могут говорить в сумме более 24 часов\n",
    "    \n",
    "    \n",
    "А вот то, что они работают 44 минуты в день в среднем - это действительно не правдоподобно, выбор минут вполне логичен\n",
    "\n",
    "</div>\n",
    "\n",
    " Однако, на данном этапе выдвинем предположение о том, что под одним operator_id может находится несколько станций, или же возможно переключаясь от одного разговора к другому, у нас учитывается удержание во время разговора, как разговор. И будем дальше считать наш датасет так, что __столбцы call_duration и total_call_duration были в минутах__, иначе дальнейшее исследование перестает иметь смысл.  \n",
    "Перейдем к сбору нашей таблицы для расчета выручек ниже:"
   ]
  },
  {
   "cell_type": "code",
   "execution_count": 26,
   "metadata": {
    "cell_id": "5e3ef88da0b94f278ee03b27f6fb6946",
    "deepnote_cell_type": "code",
    "deepnote_table_loading": false,
    "deepnote_table_state": {
     "filters": [],
     "pageIndex": 0,
     "pageSize": 10,
     "sortBy": []
    },
    "deepnote_to_be_reexecuted": false,
    "execution_millis": 351,
    "execution_start": 1666120101365,
    "source_hash": "2d5e35ae",
    "tags": []
   },
   "outputs": [
    {
     "data": {
      "text/html": [
       "<div>\n",
       "<style scoped>\n",
       "    .dataframe tbody tr th:only-of-type {\n",
       "        vertical-align: middle;\n",
       "    }\n",
       "\n",
       "    .dataframe tbody tr th {\n",
       "        vertical-align: top;\n",
       "    }\n",
       "\n",
       "    .dataframe thead th {\n",
       "        text-align: right;\n",
       "    }\n",
       "</style>\n",
       "<table border=\"1\" class=\"dataframe\">\n",
       "  <thead>\n",
       "    <tr style=\"text-align: right;\">\n",
       "      <th></th>\n",
       "      <th>user_id</th>\n",
       "      <th>month</th>\n",
       "      <th>internal</th>\n",
       "      <th>calls_count</th>\n",
       "      <th>total_call_duration</th>\n",
       "    </tr>\n",
       "  </thead>\n",
       "  <tbody>\n",
       "    <tr>\n",
       "      <th>0</th>\n",
       "      <td>166377</td>\n",
       "      <td>8</td>\n",
       "      <td>False</td>\n",
       "      <td>912</td>\n",
       "      <td>78029</td>\n",
       "    </tr>\n",
       "    <tr>\n",
       "      <th>1</th>\n",
       "      <td>166377</td>\n",
       "      <td>8</td>\n",
       "      <td>True</td>\n",
       "      <td>19</td>\n",
       "      <td>96</td>\n",
       "    </tr>\n",
       "    <tr>\n",
       "      <th>2</th>\n",
       "      <td>166377</td>\n",
       "      <td>9</td>\n",
       "      <td>False</td>\n",
       "      <td>1393</td>\n",
       "      <td>105835</td>\n",
       "    </tr>\n",
       "    <tr>\n",
       "      <th>3</th>\n",
       "      <td>166377</td>\n",
       "      <td>9</td>\n",
       "      <td>True</td>\n",
       "      <td>13</td>\n",
       "      <td>9</td>\n",
       "    </tr>\n",
       "    <tr>\n",
       "      <th>4</th>\n",
       "      <td>166377</td>\n",
       "      <td>10</td>\n",
       "      <td>False</td>\n",
       "      <td>1347</td>\n",
       "      <td>99207</td>\n",
       "    </tr>\n",
       "  </tbody>\n",
       "</table>\n",
       "</div>"
      ],
      "text/plain": [
       "   user_id  month  internal  calls_count  total_call_duration\n",
       "0   166377      8     False          912                78029\n",
       "1   166377      8      True           19                   96\n",
       "2   166377      9     False         1393               105835\n",
       "3   166377      9      True           13                    9\n",
       "4   166377     10     False         1347                99207"
      ]
     },
     "execution_count": 26,
     "metadata": {},
     "output_type": "execute_result"
    }
   ],
   "source": [
    "tel_data_finance = telecom_dataset_new.copy()\n",
    "tel_data_finance = tel_data_finance.query('direction == \"out\"')\n",
    "tel_data_finance = tel_data_finance.drop(['direction', 'date', 'call_duration', 'is_missed_call'], axis =1)\n",
    "tel_data_finance_month = tel_data_finance.pivot_table(index=['user_id', 'month', 'internal'], values=['total_call_duration', 'calls_count'], aggfunc='sum').reset_index()\n",
    "tel_data_finance_month.head()"
   ]
  },
  {
   "cell_type": "markdown",
   "metadata": {
    "cell_id": "daa21b953dbe4dacaeffdc63b071500d",
    "deepnote_cell_type": "markdown",
    "tags": []
   },
   "source": [
    "Таким образом, мы собрали таблицу в которой мы видим количество МИНУТ потраченных каждым пользователем в месяц, по внутренним и внешним звонкам, однако необходимо проверить, возможно никто не выходит за установленный лимит, свыше 2000 минут в месяц, и мы сможем избавиться от этих строк и избавить себя от лишней обработки данных."
   ]
  },
  {
   "cell_type": "code",
   "execution_count": 27,
   "metadata": {
    "cell_id": "cc8aee615ef643deb4700cc7939f5571",
    "deepnote_cell_type": "code",
    "deepnote_to_be_reexecuted": false,
    "execution_millis": 313,
    "execution_start": 1666120101404,
    "source_hash": "a86938e5",
    "tags": []
   },
   "outputs": [
    {
     "name": "stdout",
     "output_type": "stream",
     "text": [
      "Есть те, кто превышает лимит 2000 минут по исходящим звонкам внутри сети, удалять нельзя, проверь данные\n"
     ]
    }
   ],
   "source": [
    "# проверим есть ли исходящие внутри сети в месяц которые превышают 2000 минут\n",
    "if len(tel_data_finance_month.query('internal == True & total_call_duration >= 2000')) == 0:\n",
    "    print('Никто не превышает 2000-минутный лимит по исходящим звонкам внутри сети, можно удалять')\n",
    "else:\n",
    "    print('Есть те, кто превышает лимит 2000 минут по исходящим звонкам внутри сети, удалять нельзя, проверь данные')"
   ]
  },
  {
   "cell_type": "markdown",
   "metadata": {
    "cell_id": "fdd60e70501a45b2aad15cf311d6558c",
    "deepnote_cell_type": "markdown",
    "tags": []
   },
   "source": [
    "Так как есть те, кто превышает данный лимит, мы не можем удалить такие данные. В следствии чего оставляем такие данные и будем использовать их далее. \n",
    "А после выполним присоединения данных о тарифах и количестве операторов"
   ]
  },
  {
   "cell_type": "code",
   "execution_count": 28,
   "metadata": {
    "cell_id": "2abf7acfe66e4872b2ff54908b127119",
    "deepnote_cell_type": "code",
    "deepnote_to_be_reexecuted": false,
    "execution_millis": 311,
    "execution_start": 1666120101406,
    "source_hash": "cfc4ef19",
    "tags": []
   },
   "outputs": [
    {
     "data": {
      "text/html": [
       "<div>\n",
       "<style scoped>\n",
       "    .dataframe tbody tr th:only-of-type {\n",
       "        vertical-align: middle;\n",
       "    }\n",
       "\n",
       "    .dataframe tbody tr th {\n",
       "        vertical-align: top;\n",
       "    }\n",
       "\n",
       "    .dataframe thead th {\n",
       "        text-align: right;\n",
       "    }\n",
       "</style>\n",
       "<table border=\"1\" class=\"dataframe\">\n",
       "  <thead>\n",
       "    <tr style=\"text-align: right;\">\n",
       "      <th></th>\n",
       "      <th>user_id</th>\n",
       "      <th>month</th>\n",
       "      <th>internal</th>\n",
       "      <th>calls_count</th>\n",
       "      <th>total_call_duration</th>\n",
       "    </tr>\n",
       "  </thead>\n",
       "  <tbody>\n",
       "    <tr>\n",
       "      <th>0</th>\n",
       "      <td>166377</td>\n",
       "      <td>8</td>\n",
       "      <td>False</td>\n",
       "      <td>912</td>\n",
       "      <td>78029</td>\n",
       "    </tr>\n",
       "    <tr>\n",
       "      <th>1</th>\n",
       "      <td>166377</td>\n",
       "      <td>8</td>\n",
       "      <td>True</td>\n",
       "      <td>19</td>\n",
       "      <td>96</td>\n",
       "    </tr>\n",
       "    <tr>\n",
       "      <th>2</th>\n",
       "      <td>166377</td>\n",
       "      <td>9</td>\n",
       "      <td>False</td>\n",
       "      <td>1393</td>\n",
       "      <td>105835</td>\n",
       "    </tr>\n",
       "    <tr>\n",
       "      <th>3</th>\n",
       "      <td>166377</td>\n",
       "      <td>9</td>\n",
       "      <td>True</td>\n",
       "      <td>13</td>\n",
       "      <td>9</td>\n",
       "    </tr>\n",
       "    <tr>\n",
       "      <th>4</th>\n",
       "      <td>166377</td>\n",
       "      <td>10</td>\n",
       "      <td>False</td>\n",
       "      <td>1347</td>\n",
       "      <td>99207</td>\n",
       "    </tr>\n",
       "  </tbody>\n",
       "</table>\n",
       "</div>"
      ],
      "text/plain": [
       "   user_id  month  internal  calls_count  total_call_duration\n",
       "0   166377      8     False          912                78029\n",
       "1   166377      8      True           19                   96\n",
       "2   166377      9     False         1393               105835\n",
       "3   166377      9      True           13                    9\n",
       "4   166377     10     False         1347                99207"
      ]
     },
     "execution_count": 28,
     "metadata": {},
     "output_type": "execute_result"
    }
   ],
   "source": [
    "tel_data_finance_month.merge(telecom_clients, how='left', on='user_id')\n",
    "tel_data_finance_month.head()"
   ]
  },
  {
   "cell_type": "code",
   "execution_count": 29,
   "metadata": {
    "cell_id": "0ede55a81c9948f4979b4ef98aca886a",
    "deepnote_cell_type": "code",
    "deepnote_to_be_reexecuted": false,
    "execution_millis": 264,
    "execution_start": 1666120101454,
    "source_hash": "60df56e9",
    "tags": []
   },
   "outputs": [
    {
     "data": {
      "text/html": [
       "<div>\n",
       "<style scoped>\n",
       "    .dataframe tbody tr th:only-of-type {\n",
       "        vertical-align: middle;\n",
       "    }\n",
       "\n",
       "    .dataframe tbody tr th {\n",
       "        vertical-align: top;\n",
       "    }\n",
       "\n",
       "    .dataframe thead th {\n",
       "        text-align: right;\n",
       "    }\n",
       "</style>\n",
       "<table border=\"1\" class=\"dataframe\">\n",
       "  <thead>\n",
       "    <tr style=\"text-align: right;\">\n",
       "      <th></th>\n",
       "      <th>user_id</th>\n",
       "      <th>month</th>\n",
       "      <th>operator_id</th>\n",
       "    </tr>\n",
       "  </thead>\n",
       "  <tbody>\n",
       "    <tr>\n",
       "      <th>0</th>\n",
       "      <td>166377</td>\n",
       "      <td>8</td>\n",
       "      <td>5</td>\n",
       "    </tr>\n",
       "    <tr>\n",
       "      <th>1</th>\n",
       "      <td>166377</td>\n",
       "      <td>9</td>\n",
       "      <td>4</td>\n",
       "    </tr>\n",
       "    <tr>\n",
       "      <th>2</th>\n",
       "      <td>166377</td>\n",
       "      <td>10</td>\n",
       "      <td>5</td>\n",
       "    </tr>\n",
       "    <tr>\n",
       "      <th>3</th>\n",
       "      <td>166377</td>\n",
       "      <td>11</td>\n",
       "      <td>5</td>\n",
       "    </tr>\n",
       "    <tr>\n",
       "      <th>4</th>\n",
       "      <td>166391</td>\n",
       "      <td>8</td>\n",
       "      <td>1</td>\n",
       "    </tr>\n",
       "  </tbody>\n",
       "</table>\n",
       "</div>"
      ],
      "text/plain": [
       "   user_id  month  operator_id\n",
       "0   166377      8            5\n",
       "1   166377      9            4\n",
       "2   166377     10            5\n",
       "3   166377     11            5\n",
       "4   166391      8            1"
      ]
     },
     "execution_count": 29,
     "metadata": {},
     "output_type": "execute_result"
    }
   ],
   "source": [
    "operator_month = tel_data_finance.pivot_table(index=['user_id', 'month'], values='operator_id', aggfunc='nunique').reset_index()\n",
    "operator_month.head()"
   ]
  },
  {
   "cell_type": "code",
   "execution_count": 30,
   "metadata": {
    "cell_id": "a0cf3ceecd7b41e4917ce00c818c7c21",
    "deepnote_cell_type": "code",
    "deepnote_to_be_reexecuted": false,
    "execution_millis": 165,
    "execution_start": 1666120101555,
    "source_hash": "f43dd815",
    "tags": []
   },
   "outputs": [
    {
     "data": {
      "text/html": [
       "<div>\n",
       "<style scoped>\n",
       "    .dataframe tbody tr th:only-of-type {\n",
       "        vertical-align: middle;\n",
       "    }\n",
       "\n",
       "    .dataframe tbody tr th {\n",
       "        vertical-align: top;\n",
       "    }\n",
       "\n",
       "    .dataframe thead th {\n",
       "        text-align: right;\n",
       "    }\n",
       "</style>\n",
       "<table border=\"1\" class=\"dataframe\">\n",
       "  <thead>\n",
       "    <tr style=\"text-align: right;\">\n",
       "      <th></th>\n",
       "      <th>user_id</th>\n",
       "      <th>month</th>\n",
       "      <th>internal</th>\n",
       "      <th>calls_count</th>\n",
       "      <th>total_call_duration</th>\n",
       "      <th>operator_id</th>\n",
       "    </tr>\n",
       "  </thead>\n",
       "  <tbody>\n",
       "    <tr>\n",
       "      <th>0</th>\n",
       "      <td>166377</td>\n",
       "      <td>8</td>\n",
       "      <td>False</td>\n",
       "      <td>912</td>\n",
       "      <td>78029</td>\n",
       "      <td>5</td>\n",
       "    </tr>\n",
       "    <tr>\n",
       "      <th>1</th>\n",
       "      <td>166377</td>\n",
       "      <td>8</td>\n",
       "      <td>True</td>\n",
       "      <td>19</td>\n",
       "      <td>96</td>\n",
       "      <td>5</td>\n",
       "    </tr>\n",
       "    <tr>\n",
       "      <th>2</th>\n",
       "      <td>166377</td>\n",
       "      <td>9</td>\n",
       "      <td>False</td>\n",
       "      <td>1393</td>\n",
       "      <td>105835</td>\n",
       "      <td>4</td>\n",
       "    </tr>\n",
       "    <tr>\n",
       "      <th>3</th>\n",
       "      <td>166377</td>\n",
       "      <td>9</td>\n",
       "      <td>True</td>\n",
       "      <td>13</td>\n",
       "      <td>9</td>\n",
       "      <td>4</td>\n",
       "    </tr>\n",
       "    <tr>\n",
       "      <th>4</th>\n",
       "      <td>166377</td>\n",
       "      <td>10</td>\n",
       "      <td>False</td>\n",
       "      <td>1347</td>\n",
       "      <td>99207</td>\n",
       "      <td>5</td>\n",
       "    </tr>\n",
       "  </tbody>\n",
       "</table>\n",
       "</div>"
      ],
      "text/plain": [
       "   user_id  month  internal  calls_count  total_call_duration  operator_id\n",
       "0   166377      8     False          912                78029            5\n",
       "1   166377      8      True           19                   96            5\n",
       "2   166377      9     False         1393               105835            4\n",
       "3   166377      9      True           13                    9            4\n",
       "4   166377     10     False         1347                99207            5"
      ]
     },
     "execution_count": 30,
     "metadata": {},
     "output_type": "execute_result"
    }
   ],
   "source": [
    "tel_data_finance_month = tel_data_finance_month.merge(operator_month, how='left', on=['user_id', 'month'])\n",
    "tel_data_finance_month.head()"
   ]
  },
  {
   "cell_type": "code",
   "execution_count": 31,
   "metadata": {
    "cell_id": "253040addd714531af3925c33c5a2761",
    "deepnote_cell_type": "code",
    "deepnote_to_be_reexecuted": false,
    "execution_millis": 146,
    "execution_start": 1666120101574,
    "source_hash": "263cce02",
    "tags": []
   },
   "outputs": [
    {
     "data": {
      "text/html": [
       "<div>\n",
       "<style scoped>\n",
       "    .dataframe tbody tr th:only-of-type {\n",
       "        vertical-align: middle;\n",
       "    }\n",
       "\n",
       "    .dataframe tbody tr th {\n",
       "        vertical-align: top;\n",
       "    }\n",
       "\n",
       "    .dataframe thead th {\n",
       "        text-align: right;\n",
       "    }\n",
       "</style>\n",
       "<table border=\"1\" class=\"dataframe\">\n",
       "  <thead>\n",
       "    <tr style=\"text-align: right;\">\n",
       "      <th></th>\n",
       "      <th>user_id</th>\n",
       "      <th>month</th>\n",
       "      <th>internal</th>\n",
       "      <th>calls_count</th>\n",
       "      <th>total_call_duration</th>\n",
       "      <th>operator_id</th>\n",
       "      <th>tariff_plan</th>\n",
       "    </tr>\n",
       "  </thead>\n",
       "  <tbody>\n",
       "    <tr>\n",
       "      <th>0</th>\n",
       "      <td>166377</td>\n",
       "      <td>8</td>\n",
       "      <td>False</td>\n",
       "      <td>912</td>\n",
       "      <td>78029</td>\n",
       "      <td>5</td>\n",
       "      <td>B</td>\n",
       "    </tr>\n",
       "    <tr>\n",
       "      <th>1</th>\n",
       "      <td>166377</td>\n",
       "      <td>8</td>\n",
       "      <td>True</td>\n",
       "      <td>19</td>\n",
       "      <td>96</td>\n",
       "      <td>5</td>\n",
       "      <td>B</td>\n",
       "    </tr>\n",
       "    <tr>\n",
       "      <th>2</th>\n",
       "      <td>166377</td>\n",
       "      <td>9</td>\n",
       "      <td>False</td>\n",
       "      <td>1393</td>\n",
       "      <td>105835</td>\n",
       "      <td>4</td>\n",
       "      <td>B</td>\n",
       "    </tr>\n",
       "    <tr>\n",
       "      <th>3</th>\n",
       "      <td>166377</td>\n",
       "      <td>9</td>\n",
       "      <td>True</td>\n",
       "      <td>13</td>\n",
       "      <td>9</td>\n",
       "      <td>4</td>\n",
       "      <td>B</td>\n",
       "    </tr>\n",
       "    <tr>\n",
       "      <th>4</th>\n",
       "      <td>166377</td>\n",
       "      <td>10</td>\n",
       "      <td>False</td>\n",
       "      <td>1347</td>\n",
       "      <td>99207</td>\n",
       "      <td>5</td>\n",
       "      <td>B</td>\n",
       "    </tr>\n",
       "  </tbody>\n",
       "</table>\n",
       "</div>"
      ],
      "text/plain": [
       "   user_id  month  internal  calls_count  total_call_duration  operator_id  \\\n",
       "0   166377      8     False          912                78029            5   \n",
       "1   166377      8      True           19                   96            5   \n",
       "2   166377      9     False         1393               105835            4   \n",
       "3   166377      9      True           13                    9            4   \n",
       "4   166377     10     False         1347                99207            5   \n",
       "\n",
       "  tariff_plan  \n",
       "0           B  \n",
       "1           B  \n",
       "2           B  \n",
       "3           B  \n",
       "4           B  "
      ]
     },
     "execution_count": 31,
     "metadata": {},
     "output_type": "execute_result"
    }
   ],
   "source": [
    "tel_data_finance_month_merged = tel_data_finance_month.merge(telecom_clients, how='left', on='user_id')\n",
    "tel_data_finance_month_merged = tel_data_finance_month_merged.drop('date_start', axis=1)\n",
    "tel_data_finance_month_merged.head()"
   ]
  },
  {
   "cell_type": "code",
   "execution_count": 32,
   "metadata": {
    "cell_id": "ebead1367f17426cbd759ed4a608682f",
    "deepnote_cell_type": "code",
    "deepnote_table_loading": false,
    "deepnote_table_state": {
     "filters": [],
     "pageIndex": 0,
     "pageSize": 10,
     "sortBy": []
    },
    "deepnote_to_be_reexecuted": false,
    "execution_millis": 100,
    "execution_start": 1666120101624,
    "source_hash": "ddc559cf",
    "tags": []
   },
   "outputs": [
    {
     "data": {
      "text/html": [
       "<div>\n",
       "<style scoped>\n",
       "    .dataframe tbody tr th:only-of-type {\n",
       "        vertical-align: middle;\n",
       "    }\n",
       "\n",
       "    .dataframe tbody tr th {\n",
       "        vertical-align: top;\n",
       "    }\n",
       "\n",
       "    .dataframe thead th {\n",
       "        text-align: right;\n",
       "    }\n",
       "</style>\n",
       "<table border=\"1\" class=\"dataframe\">\n",
       "  <thead>\n",
       "    <tr style=\"text-align: right;\">\n",
       "      <th></th>\n",
       "      <th>tariff_plan</th>\n",
       "      <th>basic_cost</th>\n",
       "      <th>internal_over_limit</th>\n",
       "      <th>non_internal</th>\n",
       "      <th>operator_cost</th>\n",
       "    </tr>\n",
       "  </thead>\n",
       "  <tbody>\n",
       "    <tr>\n",
       "      <th>0</th>\n",
       "      <td>A</td>\n",
       "      <td>5000</td>\n",
       "      <td>0.10</td>\n",
       "      <td>0.4</td>\n",
       "      <td>100</td>\n",
       "    </tr>\n",
       "    <tr>\n",
       "      <th>1</th>\n",
       "      <td>B</td>\n",
       "      <td>2000</td>\n",
       "      <td>0.15</td>\n",
       "      <td>0.5</td>\n",
       "      <td>100</td>\n",
       "    </tr>\n",
       "    <tr>\n",
       "      <th>2</th>\n",
       "      <td>C</td>\n",
       "      <td>1000</td>\n",
       "      <td>0.30</td>\n",
       "      <td>0.7</td>\n",
       "      <td>100</td>\n",
       "    </tr>\n",
       "  </tbody>\n",
       "</table>\n",
       "</div>"
      ],
      "text/plain": [
       "  tariff_plan  basic_cost  internal_over_limit  non_internal  operator_cost\n",
       "0           A        5000                 0.10           0.4            100\n",
       "1           B        2000                 0.15           0.5            100\n",
       "2           C        1000                 0.30           0.7            100"
      ]
     },
     "execution_count": 32,
     "metadata": {},
     "output_type": "execute_result"
    }
   ],
   "source": [
    "costs = pd.DataFrame({'tariff_plan': ['A', 'B', 'C'], \n",
    "                     'basic_cost': [5000, 2000, 1000], \n",
    "                     'internal_over_limit': [0.1, 0.15, 0.3], \n",
    "                     'non_internal': [0.4, 0.5, 0.7], \n",
    "                     'operator_cost': [100, 100, 100]})\n",
    "costs"
   ]
  },
  {
   "cell_type": "markdown",
   "metadata": {},
   "source": [
    "<div class=\"alert alert-success\">\n",
    "    \n",
    "**Комментарий ревьюера**\n",
    "\n",
    "**#ок**\n",
    "Правильно, что ты ввел данные по тарифам в таблицу. Вообще на практике лучше с этими данными сделать отдельный csv и подгружать их. Чтобы при изменении данных о тарифах менять именно в csv, а не искать эту таблицу в коде\n",
    "\n",
    "</div>"
   ]
  },
  {
   "cell_type": "code",
   "execution_count": 33,
   "metadata": {
    "cell_id": "e6066ac05b204d23b8defc7eb076c6b0",
    "deepnote_cell_type": "code",
    "deepnote_to_be_reexecuted": false,
    "execution_millis": 78,
    "execution_start": 1666120101661,
    "source_hash": "eee6f5e",
    "tags": []
   },
   "outputs": [
    {
     "data": {
      "text/html": [
       "<div>\n",
       "<style scoped>\n",
       "    .dataframe tbody tr th:only-of-type {\n",
       "        vertical-align: middle;\n",
       "    }\n",
       "\n",
       "    .dataframe tbody tr th {\n",
       "        vertical-align: top;\n",
       "    }\n",
       "\n",
       "    .dataframe thead th {\n",
       "        text-align: right;\n",
       "    }\n",
       "</style>\n",
       "<table border=\"1\" class=\"dataframe\">\n",
       "  <thead>\n",
       "    <tr style=\"text-align: right;\">\n",
       "      <th></th>\n",
       "      <th>user_id</th>\n",
       "      <th>month</th>\n",
       "      <th>internal</th>\n",
       "      <th>calls_count</th>\n",
       "      <th>total_call_duration</th>\n",
       "      <th>operator_id</th>\n",
       "      <th>tariff_plan</th>\n",
       "      <th>basic_cost</th>\n",
       "      <th>internal_over_limit</th>\n",
       "      <th>non_internal</th>\n",
       "      <th>operator_cost</th>\n",
       "    </tr>\n",
       "  </thead>\n",
       "  <tbody>\n",
       "    <tr>\n",
       "      <th>0</th>\n",
       "      <td>166377</td>\n",
       "      <td>8</td>\n",
       "      <td>False</td>\n",
       "      <td>912</td>\n",
       "      <td>78029</td>\n",
       "      <td>5</td>\n",
       "      <td>B</td>\n",
       "      <td>2000</td>\n",
       "      <td>0.15</td>\n",
       "      <td>0.5</td>\n",
       "      <td>100</td>\n",
       "    </tr>\n",
       "    <tr>\n",
       "      <th>1</th>\n",
       "      <td>166377</td>\n",
       "      <td>8</td>\n",
       "      <td>True</td>\n",
       "      <td>19</td>\n",
       "      <td>96</td>\n",
       "      <td>5</td>\n",
       "      <td>B</td>\n",
       "      <td>2000</td>\n",
       "      <td>0.15</td>\n",
       "      <td>0.5</td>\n",
       "      <td>100</td>\n",
       "    </tr>\n",
       "    <tr>\n",
       "      <th>2</th>\n",
       "      <td>166377</td>\n",
       "      <td>9</td>\n",
       "      <td>False</td>\n",
       "      <td>1393</td>\n",
       "      <td>105835</td>\n",
       "      <td>4</td>\n",
       "      <td>B</td>\n",
       "      <td>2000</td>\n",
       "      <td>0.15</td>\n",
       "      <td>0.5</td>\n",
       "      <td>100</td>\n",
       "    </tr>\n",
       "    <tr>\n",
       "      <th>3</th>\n",
       "      <td>166377</td>\n",
       "      <td>9</td>\n",
       "      <td>True</td>\n",
       "      <td>13</td>\n",
       "      <td>9</td>\n",
       "      <td>4</td>\n",
       "      <td>B</td>\n",
       "      <td>2000</td>\n",
       "      <td>0.15</td>\n",
       "      <td>0.5</td>\n",
       "      <td>100</td>\n",
       "    </tr>\n",
       "    <tr>\n",
       "      <th>4</th>\n",
       "      <td>166377</td>\n",
       "      <td>10</td>\n",
       "      <td>False</td>\n",
       "      <td>1347</td>\n",
       "      <td>99207</td>\n",
       "      <td>5</td>\n",
       "      <td>B</td>\n",
       "      <td>2000</td>\n",
       "      <td>0.15</td>\n",
       "      <td>0.5</td>\n",
       "      <td>100</td>\n",
       "    </tr>\n",
       "  </tbody>\n",
       "</table>\n",
       "</div>"
      ],
      "text/plain": [
       "   user_id  month  internal  calls_count  total_call_duration  operator_id  \\\n",
       "0   166377      8     False          912                78029            5   \n",
       "1   166377      8      True           19                   96            5   \n",
       "2   166377      9     False         1393               105835            4   \n",
       "3   166377      9      True           13                    9            4   \n",
       "4   166377     10     False         1347                99207            5   \n",
       "\n",
       "  tariff_plan  basic_cost  internal_over_limit  non_internal  operator_cost  \n",
       "0           B        2000                 0.15           0.5            100  \n",
       "1           B        2000                 0.15           0.5            100  \n",
       "2           B        2000                 0.15           0.5            100  \n",
       "3           B        2000                 0.15           0.5            100  \n",
       "4           B        2000                 0.15           0.5            100  "
      ]
     },
     "execution_count": 33,
     "metadata": {},
     "output_type": "execute_result"
    }
   ],
   "source": [
    "month_data_merged = tel_data_finance_month_merged.merge(costs, how='left', on='tariff_plan')\n",
    "month_data_merged.head()"
   ]
  },
  {
   "cell_type": "code",
   "execution_count": 34,
   "metadata": {
    "cell_id": "8d1e3b7af9cf4c278d869dfcbd4b2bf8",
    "deepnote_cell_type": "code",
    "deepnote_table_loading": false,
    "deepnote_table_state": {
     "filters": [],
     "pageIndex": 0,
     "pageSize": 10,
     "sortBy": [
      {
       "id": "user_id",
       "type": "asc"
      }
     ]
    },
    "deepnote_to_be_reexecuted": false,
    "execution_millis": 58,
    "execution_start": 1666120101730,
    "source_hash": "c095c0b1",
    "tags": []
   },
   "outputs": [
    {
     "data": {
      "text/html": [
       "<div>\n",
       "<style scoped>\n",
       "    .dataframe tbody tr th:only-of-type {\n",
       "        vertical-align: middle;\n",
       "    }\n",
       "\n",
       "    .dataframe tbody tr th {\n",
       "        vertical-align: top;\n",
       "    }\n",
       "\n",
       "    .dataframe thead th {\n",
       "        text-align: right;\n",
       "    }\n",
       "</style>\n",
       "<table border=\"1\" class=\"dataframe\">\n",
       "  <thead>\n",
       "    <tr style=\"text-align: right;\">\n",
       "      <th></th>\n",
       "      <th>user_id</th>\n",
       "      <th>month</th>\n",
       "      <th>month_revenue</th>\n",
       "    </tr>\n",
       "  </thead>\n",
       "  <tbody>\n",
       "    <tr>\n",
       "      <th>0</th>\n",
       "      <td>166377</td>\n",
       "      <td>8</td>\n",
       "      <td>39514.5</td>\n",
       "    </tr>\n",
       "    <tr>\n",
       "      <th>1</th>\n",
       "      <td>166377</td>\n",
       "      <td>9</td>\n",
       "      <td>53317.5</td>\n",
       "    </tr>\n",
       "    <tr>\n",
       "      <th>2</th>\n",
       "      <td>166377</td>\n",
       "      <td>10</td>\n",
       "      <td>50103.5</td>\n",
       "    </tr>\n",
       "    <tr>\n",
       "      <th>3</th>\n",
       "      <td>166377</td>\n",
       "      <td>11</td>\n",
       "      <td>48192.0</td>\n",
       "    </tr>\n",
       "    <tr>\n",
       "      <th>4</th>\n",
       "      <td>166391</td>\n",
       "      <td>8</td>\n",
       "      <td>0.0</td>\n",
       "    </tr>\n",
       "  </tbody>\n",
       "</table>\n",
       "</div>"
      ],
      "text/plain": [
       "   user_id  month  month_revenue\n",
       "0   166377      8        39514.5\n",
       "1   166377      9        53317.5\n",
       "2   166377     10        50103.5\n",
       "3   166377     11        48192.0\n",
       "4   166391      8            0.0"
      ]
     },
     "execution_count": 34,
     "metadata": {},
     "output_type": "execute_result"
    }
   ],
   "source": [
    "# произведем расчет выручки\n",
    "\n",
    "# посчитаем плату за звонки\n",
    "    # исходящие внешние\n",
    "non_internal = month_data_merged['internal']==False\n",
    "month_data_merged.loc[non_internal, 'minutes_paid'] = (\n",
    "    month_data_merged['total_call_duration'] * month_data_merged['non_internal']\n",
    ")\n",
    "\n",
    "    # удалим пропуски\n",
    "month_data_merged['minutes_paid'] = month_data_merged['minutes_paid'].fillna(0)\n",
    "\n",
    "    # внутренние\n",
    "internal_over_limit = ((month_data_merged['internal']==True) & \n",
    "                              (month_data_merged['total_call_duration']>2000)\n",
    ")\n",
    "month_data_merged.loc[internal_over_limit, 'internal_paid'] = (\n",
    "    (month_data_merged['total_call_duration'] - 2000) * month_data_merged['internal_over_limit']\n",
    ")\n",
    "\n",
    "    # удалим пропуски\n",
    "month_data_merged['internal_paid'] = month_data_merged['internal_paid'].fillna(0)\n",
    "\n",
    "# общая сумма за потраченные минуты\n",
    "month_data_merged['paid_for_minutes_total'] = month_data_merged['minutes_paid'] + \\\n",
    "                                                      month_data_merged['internal_paid']\n",
    "# операторы\n",
    "# так как одни и те же операторы совершают и внешние и внутренние вызовы, расчитаем оплату по операторам \n",
    "# работающих с внешними вызовами\n",
    "month_data_merged['operator_paid'] = month_data_merged['operator_cost'] * \\\n",
    "                                             month_data_merged['operator_id']\n",
    "month_data_merged.loc[(month_data_merged.internal == True), 'operator_paid'] = 0\n",
    "\n",
    "\n",
    "# общие затраты (выручка от) пользователя за месяц\n",
    "month_data_merged['month_revenue'] = month_data_merged['paid_for_minutes_total'] + month_data_merged['operator_paid']\n",
    "month_data_user = month_data_merged.pivot_table(index=['user_id', 'month'], values='month_revenue', aggfunc='sum').reset_index()\n",
    "month_data_user.head()"
   ]
  },
  {
   "cell_type": "markdown",
   "metadata": {},
   "source": [
    "<div class=\"alert alert-warning\">\n",
    "    \n",
    "**Комментарий ревьюера**\n",
    "\n",
    "**#можно лучше**\n",
    "\n",
    "Расчет верный, но стоило сделать функцию для расчета и применять ее ко всей таблице.\n",
    "\n",
    "</div>"
   ]
  },
  {
   "cell_type": "code",
   "execution_count": 35,
   "metadata": {
    "cell_id": "710e7910182c4febb1cafe286671443e",
    "deepnote_cell_type": "code",
    "deepnote_to_be_reexecuted": false,
    "execution_millis": 257,
    "execution_start": 1666120101796,
    "source_hash": "cc6fcdb4",
    "tags": []
   },
   "outputs": [
    {
     "name": "stdout",
     "output_type": "stream",
     "text": [
      "таблица с помесячной выручкой для нашего клиента за исследуемый период\n"
     ]
    },
    {
     "data": {
      "text/html": [
       "<div>\n",
       "<style scoped>\n",
       "    .dataframe tbody tr th:only-of-type {\n",
       "        vertical-align: middle;\n",
       "    }\n",
       "\n",
       "    .dataframe tbody tr th {\n",
       "        vertical-align: top;\n",
       "    }\n",
       "\n",
       "    .dataframe thead th {\n",
       "        text-align: right;\n",
       "    }\n",
       "</style>\n",
       "<table border=\"1\" class=\"dataframe\">\n",
       "  <thead>\n",
       "    <tr style=\"text-align: right;\">\n",
       "      <th></th>\n",
       "      <th>month</th>\n",
       "      <th>month_revenue</th>\n",
       "    </tr>\n",
       "  </thead>\n",
       "  <tbody>\n",
       "    <tr>\n",
       "      <th>0</th>\n",
       "      <td>8</td>\n",
       "      <td>556343.00</td>\n",
       "    </tr>\n",
       "    <tr>\n",
       "      <th>1</th>\n",
       "      <td>9</td>\n",
       "      <td>2860128.40</td>\n",
       "    </tr>\n",
       "    <tr>\n",
       "      <th>2</th>\n",
       "      <td>10</td>\n",
       "      <td>5164250.25</td>\n",
       "    </tr>\n",
       "    <tr>\n",
       "      <th>3</th>\n",
       "      <td>11</td>\n",
       "      <td>5886853.65</td>\n",
       "    </tr>\n",
       "  </tbody>\n",
       "</table>\n",
       "</div>"
      ],
      "text/plain": [
       "   month  month_revenue\n",
       "0      8      556343.00\n",
       "1      9     2860128.40\n",
       "2     10     5164250.25\n",
       "3     11     5886853.65"
      ]
     },
     "metadata": {},
     "output_type": "display_data"
    },
    {
     "data": {
      "image/png": "[encoded data removed]",
      "text/plain": [
       "<Figure size 576x360 with 1 Axes>"
      ]
     },
     "metadata": {
      "needs_background": "light"
     },
     "output_type": "display_data"
    },
    {
     "name": "stdout",
     "output_type": "stream",
     "text": [
      "общая выручка нашего клиента за исследуемый период составила: 14467490\n"
     ]
    },
    {
     "data": {
      "text/html": [
       "<div>\n",
       "<style scoped>\n",
       "    .dataframe tbody tr th:only-of-type {\n",
       "        vertical-align: middle;\n",
       "    }\n",
       "\n",
       "    .dataframe tbody tr th {\n",
       "        vertical-align: top;\n",
       "    }\n",
       "\n",
       "    .dataframe thead th {\n",
       "        text-align: right;\n",
       "    }\n",
       "</style>\n",
       "<table border=\"1\" class=\"dataframe\">\n",
       "  <thead>\n",
       "    <tr style=\"text-align: right;\">\n",
       "      <th></th>\n",
       "      <th>user_id</th>\n",
       "      <th>total_revenue</th>\n",
       "    </tr>\n",
       "  </thead>\n",
       "  <tbody>\n",
       "    <tr>\n",
       "      <th>0</th>\n",
       "      <td>166377</td>\n",
       "      <td>191127</td>\n",
       "    </tr>\n",
       "    <tr>\n",
       "      <th>1</th>\n",
       "      <td>166391</td>\n",
       "      <td>0</td>\n",
       "    </tr>\n",
       "    <tr>\n",
       "      <th>2</th>\n",
       "      <td>166405</td>\n",
       "      <td>467101</td>\n",
       "    </tr>\n",
       "    <tr>\n",
       "      <th>3</th>\n",
       "      <td>166406</td>\n",
       "      <td>208010</td>\n",
       "    </tr>\n",
       "    <tr>\n",
       "      <th>4</th>\n",
       "      <td>166407</td>\n",
       "      <td>13247</td>\n",
       "    </tr>\n",
       "  </tbody>\n",
       "</table>\n",
       "</div>"
      ],
      "text/plain": [
       "   user_id  total_revenue\n",
       "0   166377         191127\n",
       "1   166391              0\n",
       "2   166405         467101\n",
       "3   166406         208010\n",
       "4   166407          13247"
      ]
     },
     "metadata": {},
     "output_type": "display_data"
    },
    {
     "data": {
      "image/png": "[encoded data removed]",
      "text/plain": [
       "<Figure size 576x360 with 1 Axes>"
      ]
     },
     "metadata": {
      "needs_background": "light"
     },
     "output_type": "display_data"
    }
   ],
   "source": [
    "# сразу выполним подсчет общей выручки от пользователя за весь период\n",
    "total_data_merged = month_data_merged.pivot_table(index='user_id', values='month_revenue', aggfunc='sum').reset_index()\n",
    "total_data_merged['month_revenue'] = total_data_merged['month_revenue'].astype(int)\n",
    "total_data_merged.rename(columns={'month_revenue': 'total_revenue'}, inplace=True)\n",
    "print(f'таблица с помесячной выручкой для нашего клиента за исследуемый период')\n",
    "mdm = month_data_merged.pivot_table(index='month', values='month_revenue', aggfunc='sum').reset_index()\n",
    "display(mdm)\n",
    "sns.lineplot(data=mdm, x='month',y='month_revenue').set(title='Распределение выручки заказчика по месяцам',xlabel='Месяц', ylabel='Выручка')\n",
    "plt.grid()\n",
    "plt.ticklabel_format(style='plain')\n",
    "plt.show()\n",
    "print(f'общая выручка нашего клиента за исследуемый период составила: {total_data_merged[\"total_revenue\"].sum()}')\n",
    "display(total_data_merged.head())\n",
    "sns.histplot(data=total_data_merged,x='total_revenue', bins=30).set(title='Распределение выручки по клиентам', xlabel='Общая выручка', ylabel='')\n",
    "plt.ticklabel_format(style='plain')\n",
    "plt.xticks(rotation = 45)\n",
    "plt.show()"
   ]
  },
  {
   "cell_type": "markdown",
   "metadata": {
    "cell_id": "a4a453e2cb7c44cab1e49c8bac98dc7e",
    "deepnote_cell_type": "markdown",
    "tags": []
   },
   "source": [
    "Таким образом, мы выполнили расчет общей выручки нашего клиента за изучаемый период. \n",
    "__Выручка за весь период составила 14467490 условных денежных единиц__\n",
    "Не смотря на то, что данные за август неполные, мы не знаем когда наша компания начала работу и мы предполагаем что в августе компания только раскачивалсь, поэтому данные оставим, также как и данные за ноябрь не являются полными, однако датой анализа берем дату сразу после последней известной даты получения статистики и считаем её как __сегодняшний день__ и подсчеты соответсвенно выполняем на сегодняшний день. \n",
    "\n",
    "Также, по графикам мы видим что выручка растет от месяца к месяцу, а также по графику распределения выручки по клиентам мы можем сделать вполне очевидный вывод, что клиенты приносят нам разное количество денежных средств и есть клиенты которые принесли нам выбивающеся много денежных средств за весь период."
   ]
  },
  {
   "cell_type": "markdown",
   "metadata": {},
   "source": [
    "<div class=\"alert alert-warning\">\n",
    "    \n",
    "**Комментарий ревьюера**\n",
    "\n",
    "**#можно лучше**\n",
    "\n",
    "Здесь немного графики хочется, которую и в презентацию удобнее вставить.\n",
    "\n",
    "</div>"
   ]
  },
  {
   "cell_type": "markdown",
   "metadata": {},
   "source": [
    "<div class=\"alert alert-info\"> <b>Комментарий студента v1:</b> Спасибо, добавил! </div>"
   ]
  },
  {
   "cell_type": "markdown",
   "metadata": {},
   "source": [
    "<div class=\"alert alert-success\">\n",
    "    \n",
    "**Комментарий ревьюера - 2**\n",
    "\n",
    "**#ок**\n",
    "\n",
    "👍\n",
    "\n",
    "</div>"
   ]
  },
  {
   "cell_type": "markdown",
   "metadata": {
    "cell_id": "063c72626b3540a49f02d982db8b0d88",
    "deepnote_cell_type": "markdown",
    "tags": []
   },
   "source": [
    "#### Выполним поиск активных клиентов\n",
    "\n",
    "Несмотря на то что в наших данных пристуствуют данные за следующие месяцы: Август, сентрябрь, октябрь, ноябрь (неполный), мы будем брать данные за все месяцы, но пометим что данные за ноябрь неполные и будут требовать пересчета после добавления данных. \n",
    "\n",
    "Активными клиентами будем считать тех, кто пользовался нашим сервисом в ноябре. "
   ]
  },
  {
   "cell_type": "code",
   "execution_count": 36,
   "metadata": {
    "cell_id": "657ffcc259434c22b6229d75c59f9d1e",
    "deepnote_cell_type": "code",
    "deepnote_to_be_reexecuted": false,
    "execution_millis": 251,
    "execution_start": 1666120101912,
    "source_hash": "fb6fbe8e",
    "tags": []
   },
   "outputs": [
    {
     "name": "stdout",
     "output_type": "stream",
     "text": [
      "общее количество активных пользователей: 179\n"
     ]
    }
   ],
   "source": [
    "active_clients = month_data_merged[month_data_merged['month'] == 11]['user_id'].unique()\n",
    "print(f'общее количество активных пользователей: {len(active_clients)}')"
   ]
  },
  {
   "cell_type": "code",
   "execution_count": 37,
   "metadata": {
    "cell_id": "bc3436311661404dadfadf0b86ca0adf",
    "deepnote_cell_type": "code",
    "deepnote_table_loading": false,
    "deepnote_table_state": {
     "filters": [],
     "pageIndex": 0,
     "pageSize": 10,
     "sortBy": []
    },
    "deepnote_to_be_reexecuted": false,
    "execution_millis": 251,
    "execution_start": 1666120101914,
    "source_hash": "888540d6",
    "tags": []
   },
   "outputs": [
    {
     "data": {
      "text/html": [
       "<div>\n",
       "<style scoped>\n",
       "    .dataframe tbody tr th:only-of-type {\n",
       "        vertical-align: middle;\n",
       "    }\n",
       "\n",
       "    .dataframe tbody tr th {\n",
       "        vertical-align: top;\n",
       "    }\n",
       "\n",
       "    .dataframe thead th {\n",
       "        text-align: right;\n",
       "    }\n",
       "</style>\n",
       "<table border=\"1\" class=\"dataframe\">\n",
       "  <thead>\n",
       "    <tr style=\"text-align: right;\">\n",
       "      <th></th>\n",
       "      <th>user_id</th>\n",
       "      <th>month</th>\n",
       "      <th>month_revenue</th>\n",
       "    </tr>\n",
       "  </thead>\n",
       "  <tbody>\n",
       "    <tr>\n",
       "      <th>0</th>\n",
       "      <td>166377</td>\n",
       "      <td>8</td>\n",
       "      <td>39514.5</td>\n",
       "    </tr>\n",
       "    <tr>\n",
       "      <th>1</th>\n",
       "      <td>166377</td>\n",
       "      <td>9</td>\n",
       "      <td>53317.5</td>\n",
       "    </tr>\n",
       "    <tr>\n",
       "      <th>2</th>\n",
       "      <td>166377</td>\n",
       "      <td>10</td>\n",
       "      <td>50103.5</td>\n",
       "    </tr>\n",
       "    <tr>\n",
       "      <th>3</th>\n",
       "      <td>166377</td>\n",
       "      <td>11</td>\n",
       "      <td>48192.0</td>\n",
       "    </tr>\n",
       "    <tr>\n",
       "      <th>4</th>\n",
       "      <td>166405</td>\n",
       "      <td>8</td>\n",
       "      <td>25483.5</td>\n",
       "    </tr>\n",
       "  </tbody>\n",
       "</table>\n",
       "</div>"
      ],
      "text/plain": [
       "   user_id  month  month_revenue\n",
       "0   166377      8        39514.5\n",
       "1   166377      9        53317.5\n",
       "2   166377     10        50103.5\n",
       "3   166377     11        48192.0\n",
       "4   166405      8        25483.5"
      ]
     },
     "execution_count": 37,
     "metadata": {},
     "output_type": "execute_result"
    }
   ],
   "source": [
    "# теперь соберем датасет с активными клиентами по которым и будем расчитывать интересующие нас значения\n",
    "active_month_data = month_data_merged.query('user_id in @active_clients')\n",
    "# общие затраты (выручка от) активного пользователя за месяц\n",
    "month_data_active = active_month_data.pivot_table(index=['user_id', 'month'], values='month_revenue', aggfunc='sum').reset_index()\n",
    "month_data_active.head()"
   ]
  },
  {
   "cell_type": "code",
   "execution_count": 38,
   "metadata": {
    "cell_id": "be598b28bf104f3799b689aeac97dbd0",
    "deepnote_cell_type": "code",
    "deepnote_table_loading": false,
    "deepnote_table_state": {
     "filters": [],
     "pageIndex": 0,
     "pageSize": 10,
     "sortBy": []
    },
    "deepnote_to_be_reexecuted": false,
    "execution_millis": 243,
    "execution_start": 1666120101923,
    "source_hash": "43b89815",
    "tags": []
   },
   "outputs": [
    {
     "data": {
      "text/html": [
       "<div>\n",
       "<style scoped>\n",
       "    .dataframe tbody tr th:only-of-type {\n",
       "        vertical-align: middle;\n",
       "    }\n",
       "\n",
       "    .dataframe tbody tr th {\n",
       "        vertical-align: top;\n",
       "    }\n",
       "\n",
       "    .dataframe thead th {\n",
       "        text-align: right;\n",
       "    }\n",
       "</style>\n",
       "<table border=\"1\" class=\"dataframe\">\n",
       "  <thead>\n",
       "    <tr style=\"text-align: right;\">\n",
       "      <th></th>\n",
       "      <th>user_id</th>\n",
       "      <th>month</th>\n",
       "      <th>month_revenue</th>\n",
       "      <th>tariff_plan</th>\n",
       "      <th>basic_cost</th>\n",
       "      <th>overpay</th>\n",
       "    </tr>\n",
       "  </thead>\n",
       "  <tbody>\n",
       "    <tr>\n",
       "      <th>0</th>\n",
       "      <td>166377</td>\n",
       "      <td>8</td>\n",
       "      <td>39514.5</td>\n",
       "      <td>B</td>\n",
       "      <td>2000</td>\n",
       "      <td>37514.5</td>\n",
       "    </tr>\n",
       "    <tr>\n",
       "      <th>1</th>\n",
       "      <td>166377</td>\n",
       "      <td>9</td>\n",
       "      <td>53317.5</td>\n",
       "      <td>B</td>\n",
       "      <td>2000</td>\n",
       "      <td>51317.5</td>\n",
       "    </tr>\n",
       "    <tr>\n",
       "      <th>2</th>\n",
       "      <td>166377</td>\n",
       "      <td>10</td>\n",
       "      <td>50103.5</td>\n",
       "      <td>B</td>\n",
       "      <td>2000</td>\n",
       "      <td>48103.5</td>\n",
       "    </tr>\n",
       "    <tr>\n",
       "      <th>3</th>\n",
       "      <td>166377</td>\n",
       "      <td>11</td>\n",
       "      <td>48192.0</td>\n",
       "      <td>B</td>\n",
       "      <td>2000</td>\n",
       "      <td>46192.0</td>\n",
       "    </tr>\n",
       "    <tr>\n",
       "      <th>4</th>\n",
       "      <td>166405</td>\n",
       "      <td>8</td>\n",
       "      <td>25483.5</td>\n",
       "      <td>B</td>\n",
       "      <td>2000</td>\n",
       "      <td>23483.5</td>\n",
       "    </tr>\n",
       "  </tbody>\n",
       "</table>\n",
       "</div>"
      ],
      "text/plain": [
       "   user_id  month  month_revenue tariff_plan  basic_cost  overpay\n",
       "0   166377      8        39514.5           B        2000  37514.5\n",
       "1   166377      9        53317.5           B        2000  51317.5\n",
       "2   166377     10        50103.5           B        2000  48103.5\n",
       "3   166377     11        48192.0           B        2000  46192.0\n",
       "4   166405      8        25483.5           B        2000  23483.5"
      ]
     },
     "metadata": {},
     "output_type": "display_data"
    },
    {
     "name": "stdout",
     "output_type": "stream",
     "text": [
      "количество пользователей которые переплачивают по своим тарифам: 130\n"
     ]
    }
   ],
   "source": [
    "# присоединим к нашему датасету данные о тарифах и их стоимости\n",
    "\n",
    "month_data_active_tariff = month_data_active.merge(telecom_clients, on='user_id')\n",
    "month_data_active_tariff_costs = month_data_active_tariff.merge(costs, on='tariff_plan')\n",
    "month_data_active_tariff_costs = month_data_active_tariff_costs.drop(['date_start', 'internal_over_limit', 'non_internal', 'operator_cost'], axis=1)\n",
    "month_data_active_tariff_costs['overpay'] = month_data_active_tariff_costs['month_revenue'] - month_data_active_tariff_costs['basic_cost']\n",
    "month_data_active_tariff_costs.loc[(month_data_active_tariff_costs.overpay < 0), 'overpay'] = 0\n",
    "display(month_data_active_tariff_costs.head())\n",
    "overpay_by_user = month_data_active_tariff_costs.query(\"overpay != 0\").pivot_table(index='user_id',values='overpay',aggfunc='sum')\n",
    "print(f'количество пользователей которые переплачивают по своим тарифам: {len(overpay_by_user)}')"
   ]
  },
  {
   "cell_type": "markdown",
   "metadata": {
    "cell_id": "af1a0e6115a3496faf7eae0ad0bf4186",
    "deepnote_cell_type": "markdown",
    "tags": []
   },
   "source": [
    "Достаточно много активных пользователей переплачивают на текущих тарифах, ниже рассчитаем предложение по переходу на более выгодные тарифы для них"
   ]
  },
  {
   "cell_type": "code",
   "execution_count": 39,
   "metadata": {
    "cell_id": "4a1366bff0234858bfd17f18d43a0810",
    "deepnote_cell_type": "code",
    "deepnote_to_be_reexecuted": false,
    "execution_millis": 33,
    "execution_start": 1666120101990,
    "source_hash": "33a9ef7f",
    "tags": []
   },
   "outputs": [],
   "source": [
    "# суммируем датасет по пользователям и месяцам\n",
    "mean_minutes_by_user = active_month_data.groupby(['user_id', 'month', 'internal'])\\\n",
    "    .agg({'total_call_duration':'sum'}).groupby(['user_id','internal'])\\\n",
    "    .agg({'total_call_duration':'mean'}).reset_index()\n",
    "\n",
    "mean_minutes_by_user = mean_minutes_by_user.query('internal == False | (internal == True & total_call_duration>2000)')\\\n",
    "    .reset_index(drop=True)\n",
    "\n",
    "# присоединим информацию о стоимости\n",
    "mean_minutes_by_user = mean_minutes_by_user.merge(telecom_clients[['user_id', 'tariff_plan']], \n",
    "                                                          how='left', \n",
    "                                                          on='user_id')\\\n",
    "                                           .merge(costs[['tariff_plan', 'basic_cost', \n",
    "                                                         'internal_over_limit','non_internal']],\n",
    "                                                  how='left',\n",
    "                                                  on='tariff_plan')\n",
    "\n",
    "mean_minutes_by_user['total_paid'] = (\n",
    "    mean_minutes_by_user[mean_minutes_by_user['internal']==False]['total_call_duration'] *\n",
    "    mean_minutes_by_user['non_internal'] +\n",
    "    mean_minutes_by_user['basic_cost']\n",
    ").fillna((mean_minutes_by_user[mean_minutes_by_user['internal']==True]['total_call_duration'] - 2000) *\n",
    "                        mean_minutes_by_user['internal_over_limit']\n",
    "        )"
   ]
  },
  {
   "cell_type": "code",
   "execution_count": 40,
   "metadata": {
    "cell_id": "627eef96716940689daa7ee91022a36e",
    "deepnote_cell_type": "code",
    "deepnote_to_be_reexecuted": false,
    "execution_millis": 4,
    "execution_start": 1666120102033,
    "source_hash": "714ea298",
    "tags": []
   },
   "outputs": [],
   "source": [
    "# проверка затрат и предложение нового тарифа\n",
    "def check_tariff(data):\n",
    "    j=0\n",
    "    for tariff in costs['tariff_plan']:\n",
    "        \n",
    "        for i in range(len(data)):\n",
    "            if tariff != data.loc[i,'tariff_plan'] and data.loc[i,'internal']==False:\n",
    "                data.loc[i, 'prop_'+tariff] = (\n",
    "                    costs.loc[j,'basic_cost'] + \n",
    "                    costs.loc[j,'non_internal'] * \n",
    "                    data.loc[i, 'total_call_duration']\n",
    "                )\n",
    "                \n",
    "            elif tariff != data.loc[i,'tariff_plan'] and data.loc[i,'internal']==True:\n",
    "                data.loc[i, 'prop_'+tariff] = (\n",
    "                    (data.loc[i, 'total_call_duration'] - 2000) *\n",
    "                        costs.loc[j, 'internal_over_limit']\n",
    "                )\n",
    "                \n",
    "            else:\n",
    "                data.loc[i, 'prop_'+tariff] = np.nan\n",
    "                   \n",
    "            if pd.isna(mean_minutes_by_user.loc[i, 'prop_'+tariff]) != True:      \n",
    "                if data.loc[i, 'prop_'+tariff] < data.loc[i, 'total_paid']:\n",
    "                    data.loc[i, 'final_proposal_tariff'] = tariff\n",
    "                else:\n",
    "                    data.loc[i, 'final_proposal_tariff'] = data.loc[i, 'tariff_plan']\n",
    "\n",
    "        j+=1\n",
    "    \n",
    "    return data.groupby('user_id').agg({'tariff_plan':'first',\n",
    "                                        'total_paid':'sum',\n",
    "                                        'prop_A':'sum',\n",
    "                                        'prop_B':'sum',\n",
    "                                        'prop_C':'sum',\n",
    "                                        'final_proposal_tariff':'first'})"
   ]
  },
  {
   "cell_type": "code",
   "execution_count": 41,
   "metadata": {
    "cell_id": "31f54a1e96e6438cb7db4b0665976bdb",
    "deepnote_cell_type": "code",
    "deepnote_table_loading": false,
    "deepnote_table_state": {
     "filters": [],
     "pageIndex": 2,
     "pageSize": 10,
     "sortBy": []
    },
    "deepnote_to_be_reexecuted": false,
    "execution_millis": 567,
    "execution_start": 1666120102040,
    "scrolled": false,
    "source_hash": "4b2ee257",
    "tags": []
   },
   "outputs": [
    {
     "name": "stdout",
     "output_type": "stream",
     "text": [
      "85 - количество пользователей которым необходимо сменить тариф\n"
     ]
    },
    {
     "data": {
      "text/html": [
       "<div>\n",
       "<style scoped>\n",
       "    .dataframe tbody tr th:only-of-type {\n",
       "        vertical-align: middle;\n",
       "    }\n",
       "\n",
       "    .dataframe tbody tr th {\n",
       "        vertical-align: top;\n",
       "    }\n",
       "\n",
       "    .dataframe thead th {\n",
       "        text-align: right;\n",
       "    }\n",
       "</style>\n",
       "<table border=\"1\" class=\"dataframe\">\n",
       "  <thead>\n",
       "    <tr style=\"text-align: right;\">\n",
       "      <th></th>\n",
       "      <th>index</th>\n",
       "      <th>user_id</th>\n",
       "      <th>tariff_plan</th>\n",
       "      <th>total_paid</th>\n",
       "      <th>prop_A</th>\n",
       "      <th>prop_B</th>\n",
       "      <th>prop_C</th>\n",
       "      <th>final_proposal_tariff</th>\n",
       "    </tr>\n",
       "  </thead>\n",
       "  <tbody>\n",
       "    <tr>\n",
       "      <th>0</th>\n",
       "      <td>3</td>\n",
       "      <td>166407</td>\n",
       "      <td>A</td>\n",
       "      <td>7637.250</td>\n",
       "      <td>0.0</td>\n",
       "      <td>5384.275</td>\n",
       "      <td>6053.75</td>\n",
       "      <td>C</td>\n",
       "    </tr>\n",
       "    <tr>\n",
       "      <th>1</th>\n",
       "      <td>5</td>\n",
       "      <td>166487</td>\n",
       "      <td>C</td>\n",
       "      <td>5775.400</td>\n",
       "      <td>7728.8</td>\n",
       "      <td>5411.000</td>\n",
       "      <td>0.00</td>\n",
       "      <td>B</td>\n",
       "    </tr>\n",
       "    <tr>\n",
       "      <th>2</th>\n",
       "      <td>8</td>\n",
       "      <td>166511</td>\n",
       "      <td>C</td>\n",
       "      <td>93972.425</td>\n",
       "      <td>58127.1</td>\n",
       "      <td>68408.875</td>\n",
       "      <td>0.00</td>\n",
       "      <td>B</td>\n",
       "    </tr>\n",
       "    <tr>\n",
       "      <th>3</th>\n",
       "      <td>9</td>\n",
       "      <td>166520</td>\n",
       "      <td>C</td>\n",
       "      <td>62941.425</td>\n",
       "      <td>40395.1</td>\n",
       "      <td>46243.875</td>\n",
       "      <td>0.00</td>\n",
       "      <td>B</td>\n",
       "    </tr>\n",
       "    <tr>\n",
       "      <th>4</th>\n",
       "      <td>11</td>\n",
       "      <td>166541</td>\n",
       "      <td>A</td>\n",
       "      <td>6969.200</td>\n",
       "      <td>0.0</td>\n",
       "      <td>4461.500</td>\n",
       "      <td>4446.10</td>\n",
       "      <td>C</td>\n",
       "    </tr>\n",
       "  </tbody>\n",
       "</table>\n",
       "</div>"
      ],
      "text/plain": [
       "   index  user_id tariff_plan  total_paid   prop_A     prop_B   prop_C  \\\n",
       "0      3   166407           A    7637.250      0.0   5384.275  6053.75   \n",
       "1      5   166487           C    5775.400   7728.8   5411.000     0.00   \n",
       "2      8   166511           C   93972.425  58127.1  68408.875     0.00   \n",
       "3      9   166520           C   62941.425  40395.1  46243.875     0.00   \n",
       "4     11   166541           A    6969.200      0.0   4461.500  4446.10   \n",
       "\n",
       "  final_proposal_tariff  \n",
       "0                     C  \n",
       "1                     B  \n",
       "2                     B  \n",
       "3                     B  \n",
       "4                     C  "
      ]
     },
     "execution_count": 41,
     "metadata": {},
     "output_type": "execute_result"
    }
   ],
   "source": [
    "# предлагаем тарифы\n",
    "propose_tariff = check_tariff(mean_minutes_by_user).reset_index()\n",
    "# оставляем только тех пользователей, кому необходимо сменить тариф, для того чтобы платить меньше\n",
    "propose_tariff_result = propose_tariff.query('tariff_plan != final_proposal_tariff').reset_index()\n",
    "print(f'{len(propose_tariff_result)} - количество пользователей которым необходимо сменить тариф')\n",
    "propose_tariff_result.head()"
   ]
  },
  {
   "cell_type": "markdown",
   "metadata": {},
   "source": [
    "По результатам анализа мы получили 85 пользователей которым необходимо сменить тариф. Теперь нам необходимо будет оценить потери в выручке и предположительный срок выхода на прежние показатели. \n",
    "\n",
    "Перед этим дадим визуализацию получившимся данным, ниже соберем таблицу количества пользователей на тариффах до и после оптимизации"
   ]
  },
  {
   "cell_type": "code",
   "execution_count": 42,
   "metadata": {
    "scrolled": true
   },
   "outputs": [],
   "source": [
    "compare_tariff = propose_tariff.pivot_table(index='tariff_plan', values='user_id', aggfunc='count').reset_index()\n",
    "compare_cnt_tariff = compare_tariff.merge(propose_tariff.pivot_table(index='final_proposal_tariff', values='user_id', aggfunc='count').reset_index().rename(columns={'final_proposal_tariff': 'tariff_plan'}), on='tariff_plan')\n",
    "compare_cnt_tariff = compare_cnt_tariff.rename(columns={'user_id_x': 'cnt_old_tariff', 'user_id_y': 'cnt_new_tariff'})"
   ]
  },
  {
   "cell_type": "code",
   "execution_count": 43,
   "metadata": {
    "scrolled": true
   },
   "outputs": [
    {
     "data": {
      "text/html": [
       "<div>\n",
       "<style scoped>\n",
       "    .dataframe tbody tr th:only-of-type {\n",
       "        vertical-align: middle;\n",
       "    }\n",
       "\n",
       "    .dataframe tbody tr th {\n",
       "        vertical-align: top;\n",
       "    }\n",
       "\n",
       "    .dataframe thead th {\n",
       "        text-align: right;\n",
       "    }\n",
       "</style>\n",
       "<table border=\"1\" class=\"dataframe\">\n",
       "  <thead>\n",
       "    <tr style=\"text-align: right;\">\n",
       "      <th></th>\n",
       "      <th>tariff_plan</th>\n",
       "      <th>cnt_old_tariff</th>\n",
       "      <th>cnt_new_tariff</th>\n",
       "      <th>percentage</th>\n",
       "    </tr>\n",
       "  </thead>\n",
       "  <tbody>\n",
       "    <tr>\n",
       "      <th>0</th>\n",
       "      <td>A</td>\n",
       "      <td>24</td>\n",
       "      <td>15</td>\n",
       "      <td>60.0</td>\n",
       "    </tr>\n",
       "    <tr>\n",
       "      <th>1</th>\n",
       "      <td>B</td>\n",
       "      <td>70</td>\n",
       "      <td>88</td>\n",
       "      <td>20.0</td>\n",
       "    </tr>\n",
       "    <tr>\n",
       "      <th>2</th>\n",
       "      <td>C</td>\n",
       "      <td>85</td>\n",
       "      <td>76</td>\n",
       "      <td>12.0</td>\n",
       "    </tr>\n",
       "  </tbody>\n",
       "</table>\n",
       "</div>"
      ],
      "text/plain": [
       "  tariff_plan  cnt_old_tariff  cnt_new_tariff  percentage\n",
       "0           A              24              15        60.0\n",
       "1           B              70              88        20.0\n",
       "2           C              85              76        12.0"
      ]
     },
     "execution_count": 43,
     "metadata": {},
     "output_type": "execute_result"
    }
   ],
   "source": [
    "compare_cnt_tariff['percentage'] = abs(round((compare_cnt_tariff['cnt_old_tariff']-compare_cnt_tariff['cnt_new_tariff']) / compare_cnt_tariff['cnt_new_tariff'] * 100))\n",
    "compare_cnt_tariff"
   ]
  },
  {
   "cell_type": "markdown",
   "metadata": {},
   "source": [
    "Дадим пояснение, в столбце `percentage` находится абсолютное изменения количества пользователей на каждом тарифе\n",
    "\n",
    "Ниже, соберем кросс-таблицу о том, как распределились рекомендации по смене тарифных планов."
   ]
  },
  {
   "cell_type": "code",
   "execution_count": 44,
   "metadata": {},
   "outputs": [
    {
     "data": {
      "image/png": "[encoded data removed]",
      "text/plain": [
       "<Figure size 1080x360 with 1 Axes>"
      ]
     },
     "metadata": {
      "needs_background": "light"
     },
     "output_type": "display_data"
    }
   ],
   "source": [
    "rows = propose_tariff_result['final_proposal_tariff']\n",
    "cols = propose_tariff_result['tariff_plan']\n",
    "\n",
    "# построим кросс-таблицу по тарифам\n",
    "\n",
    "plt.figure(figsize=(15, 5))\n",
    "sns.heatmap(pd.crosstab(cols, rows, dropna=False), \n",
    "                 annot=True, fmt='.2f', \n",
    "                 linewidths=.42, linecolor='black',\n",
    "                 cmap='Blues', cbar=False,\n",
    "                 vmin=-20, vmax=30, center= 0)\n",
    "plt.yticks(rotation=0)\n",
    "plt.title('Рекомендации по смене тарифного плана')\n",
    "plt.ylabel('Текущий тариф')\n",
    "plt.xlabel('Предложенный тариф')\n",
    "\n",
    "plt.show()"
   ]
  },
  {
   "cell_type": "markdown",
   "metadata": {},
   "source": [
    "Поясним кросс-таблицу из блока выше:\n",
    "\n",
    "- 9 Клиентам выгоден переход с тарифа А на С\n",
    "- 29 Клиентам выгоден переход с тарифа В на С\n",
    "- 47 Клиентам выгоден переход с тарифа С на В\n",
    "\n",
    "Таким образом большей части клиентов выгоден тариф с переходом на \"подорожание\" по абонентской плате, и по снижению цены оплаты за минуты.\n",
    "\n",
    "Ниже построим график того, как распределялись тарифы до и после внесения предложений"
   ]
  },
  {
   "cell_type": "code",
   "execution_count": 45,
   "metadata": {
    "scrolled": true
   },
   "outputs": [
    {
     "data": {
      "image/png": "[encoded data removed]",
      "text/plain": [
       "<Figure size 1080x576 with 2 Axes>"
      ]
     },
     "metadata": {
      "needs_background": "light"
     },
     "output_type": "display_data"
    }
   ],
   "source": [
    "fig, ax =plt.subplots(1,2)\n",
    "sns.countplot(propose_tariff['tariff_plan'], order='ABC', ax=ax[0]).set(title='Распределение пользователей до оптимизации тарифов')\n",
    "sns.countplot(propose_tariff['final_proposal_tariff'], order='ABC', ax=ax[1]).set(title='Распределение пользователей после оптимизации тарифов')\n",
    "fig.set_size_inches(15, 8)\n",
    "fig.show()"
   ]
  },
  {
   "cell_type": "markdown",
   "metadata": {
    "cell_id": "f74e154c2b954958a2530d20aa6867f2",
    "deepnote_cell_type": "markdown",
    "tags": []
   },
   "source": [
    "<div class=\"alert alert-danger\">\n",
    "    \n",
    "**Комментарий ревьюера**\n",
    "\n",
    "**#ошибка**\n",
    "    \n",
    "\n",
    "Здесь было бы интересно посмотреть с какого тарифа чаще всего переходят, на какой?\n",
    "    \n",
    "Можно было бы построить график распределения клиентов по тарифам до и после, наглядно и в презентацию опять же вставить хорошо\n",
    "\n",
    "</div>\n",
    "\n",
    "<div class=\"alert alert-info\"> <b>Комментарий студента v1:</b> Спасибо, добавил. </div>\n",
    "\n",
    "<div class=\"alert alert-success\">\n",
    "    \n",
    "**Комментарий ревьюера - 2**\n",
    "\n",
    "**#ок**\n",
    "\n",
    "Ок, фактически В и С местами поменялись\n",
    "\n",
    "</div>\n",
    "\n",
    "#### Потеря выручки"
   ]
  },
  {
   "cell_type": "code",
   "execution_count": 46,
   "metadata": {
    "cell_id": "cc9b973ebe044ce994e0c2cd3e83f5e0",
    "deepnote_cell_type": "code",
    "deepnote_to_be_reexecuted": false,
    "execution_millis": 2,
    "execution_start": 1666120102606,
    "source_hash": "45c92548",
    "tags": []
   },
   "outputs": [
    {
     "data": {
      "text/html": [
       "<div>\n",
       "<style scoped>\n",
       "    .dataframe tbody tr th:only-of-type {\n",
       "        vertical-align: middle;\n",
       "    }\n",
       "\n",
       "    .dataframe tbody tr th {\n",
       "        vertical-align: top;\n",
       "    }\n",
       "\n",
       "    .dataframe thead th {\n",
       "        text-align: right;\n",
       "    }\n",
       "</style>\n",
       "<table border=\"1\" class=\"dataframe\">\n",
       "  <thead>\n",
       "    <tr style=\"text-align: right;\">\n",
       "      <th></th>\n",
       "      <th>user_id</th>\n",
       "      <th>tariff_plan</th>\n",
       "    </tr>\n",
       "  </thead>\n",
       "  <tbody>\n",
       "    <tr>\n",
       "      <th>0</th>\n",
       "      <td>166377</td>\n",
       "      <td>B</td>\n",
       "    </tr>\n",
       "    <tr>\n",
       "      <th>1</th>\n",
       "      <td>166405</td>\n",
       "      <td>B</td>\n",
       "    </tr>\n",
       "    <tr>\n",
       "      <th>2</th>\n",
       "      <td>166406</td>\n",
       "      <td>B</td>\n",
       "    </tr>\n",
       "    <tr>\n",
       "      <th>3</th>\n",
       "      <td>166407</td>\n",
       "      <td>C</td>\n",
       "    </tr>\n",
       "    <tr>\n",
       "      <th>4</th>\n",
       "      <td>166485</td>\n",
       "      <td>B</td>\n",
       "    </tr>\n",
       "  </tbody>\n",
       "</table>\n",
       "</div>"
      ],
      "text/plain": [
       "   user_id tariff_plan\n",
       "0   166377           B\n",
       "1   166405           B\n",
       "2   166406           B\n",
       "3   166407           C\n",
       "4   166485           B"
      ]
     },
     "execution_count": 46,
     "metadata": {},
     "output_type": "execute_result"
    }
   ],
   "source": [
    "propose_tariff = propose_tariff.reset_index()\n",
    "new_tariffs = propose_tariff[['user_id', 'final_proposal_tariff']]\n",
    "new_tariffs = new_tariffs.rename(columns={'final_proposal_tariff': 'tariff_plan'})\n",
    "new_tariffs.head()"
   ]
  },
  {
   "cell_type": "code",
   "execution_count": 47,
   "metadata": {
    "cell_id": "c1152f315a0341fa9e3a6411ca0d5b3a",
    "deepnote_cell_type": "code",
    "deepnote_to_be_reexecuted": false,
    "execution_millis": 51,
    "execution_start": 1666120102654,
    "source_hash": "81fd19a8",
    "tags": []
   },
   "outputs": [
    {
     "data": {
      "text/html": [
       "<div>\n",
       "<style scoped>\n",
       "    .dataframe tbody tr th:only-of-type {\n",
       "        vertical-align: middle;\n",
       "    }\n",
       "\n",
       "    .dataframe tbody tr th {\n",
       "        vertical-align: top;\n",
       "    }\n",
       "\n",
       "    .dataframe thead th {\n",
       "        text-align: right;\n",
       "    }\n",
       "</style>\n",
       "<table border=\"1\" class=\"dataframe\">\n",
       "  <thead>\n",
       "    <tr style=\"text-align: right;\">\n",
       "      <th></th>\n",
       "      <th>user_id</th>\n",
       "      <th>internal</th>\n",
       "      <th>total_call_duration</th>\n",
       "      <th>new_tariff_plan</th>\n",
       "      <th>basic_cost</th>\n",
       "      <th>internal_over_limit</th>\n",
       "      <th>non_internal</th>\n",
       "      <th>operator_cost</th>\n",
       "      <th>new_total_paid</th>\n",
       "    </tr>\n",
       "  </thead>\n",
       "  <tbody>\n",
       "    <tr>\n",
       "      <th>0</th>\n",
       "      <td>166377</td>\n",
       "      <td>False</td>\n",
       "      <td>94613.750000</td>\n",
       "      <td>B</td>\n",
       "      <td>2000</td>\n",
       "      <td>0.15</td>\n",
       "      <td>0.5</td>\n",
       "      <td>100</td>\n",
       "      <td>49306.875</td>\n",
       "    </tr>\n",
       "    <tr>\n",
       "      <th>1</th>\n",
       "      <td>166405</td>\n",
       "      <td>False</td>\n",
       "      <td>232350.750000</td>\n",
       "      <td>B</td>\n",
       "      <td>2000</td>\n",
       "      <td>0.15</td>\n",
       "      <td>0.5</td>\n",
       "      <td>100</td>\n",
       "      <td>118175.375</td>\n",
       "    </tr>\n",
       "    <tr>\n",
       "      <th>2</th>\n",
       "      <td>166406</td>\n",
       "      <td>False</td>\n",
       "      <td>103555.250000</td>\n",
       "      <td>B</td>\n",
       "      <td>2000</td>\n",
       "      <td>0.15</td>\n",
       "      <td>0.5</td>\n",
       "      <td>100</td>\n",
       "      <td>53777.625</td>\n",
       "    </tr>\n",
       "    <tr>\n",
       "      <th>3</th>\n",
       "      <td>166485</td>\n",
       "      <td>False</td>\n",
       "      <td>110219.250000</td>\n",
       "      <td>B</td>\n",
       "      <td>2000</td>\n",
       "      <td>0.15</td>\n",
       "      <td>0.5</td>\n",
       "      <td>100</td>\n",
       "      <td>57109.625</td>\n",
       "    </tr>\n",
       "    <tr>\n",
       "      <th>4</th>\n",
       "      <td>166485</td>\n",
       "      <td>True</td>\n",
       "      <td>13544.333333</td>\n",
       "      <td>B</td>\n",
       "      <td>2000</td>\n",
       "      <td>0.15</td>\n",
       "      <td>0.5</td>\n",
       "      <td>100</td>\n",
       "      <td>1731.650</td>\n",
       "    </tr>\n",
       "  </tbody>\n",
       "</table>\n",
       "</div>"
      ],
      "text/plain": [
       "   user_id  internal  total_call_duration new_tariff_plan  basic_cost  \\\n",
       "0   166377     False         94613.750000               B        2000   \n",
       "1   166405     False        232350.750000               B        2000   \n",
       "2   166406     False        103555.250000               B        2000   \n",
       "3   166485     False        110219.250000               B        2000   \n",
       "4   166485      True         13544.333333               B        2000   \n",
       "\n",
       "   internal_over_limit  non_internal  operator_cost  new_total_paid  \n",
       "0                 0.15           0.5            100       49306.875  \n",
       "1                 0.15           0.5            100      118175.375  \n",
       "2                 0.15           0.5            100       53777.625  \n",
       "3                 0.15           0.5            100       57109.625  \n",
       "4                 0.15           0.5            100        1731.650  "
      ]
     },
     "execution_count": 47,
     "metadata": {},
     "output_type": "execute_result"
    }
   ],
   "source": [
    "# соберем данные где предложим пользователям, кому необходимо перейти на новый тариф, заменим их, \n",
    "# а другим пользователям такие тарифы оставим\n",
    "\n",
    "# суммируем датасет по пользователям и месяцам\n",
    "mby = active_month_data.groupby(['user_id', 'month', 'internal'])\\\n",
    "    .agg({'total_call_duration':'sum'}).groupby(['user_id','internal'])\\\n",
    "    .agg({'total_call_duration':'mean'}).reset_index()\n",
    "\n",
    "mby = mby.query('internal == False | (internal == True & total_call_duration>2000)')\\\n",
    "    .reset_index(drop=True)\n",
    "\n",
    "# присоединим информацию о стоимости\n",
    "mby = mby.merge(new_tariffs, on='user_id')\n",
    "mby = mby.merge(costs, on='tariff_plan')\n",
    "\n",
    "mby['new_total_paid'] = (\n",
    "    mby[mby['internal']==False]['total_call_duration'] *\n",
    "    mby['non_internal'] +\n",
    "    mby['basic_cost']\n",
    ").fillna((mby[mby['internal']==True]['total_call_duration'] - 2000) *\n",
    "                        mby['internal_over_limit']\n",
    "        )\n",
    "mby = mby.rename(columns={'tariff_plan': 'new_tariff_plan'})\n",
    "mby.head()"
   ]
  },
  {
   "cell_type": "code",
   "execution_count": 48,
   "metadata": {
    "cell_id": "4f3c907656044273a6a3f616f72af160",
    "deepnote_cell_type": "code",
    "deepnote_to_be_reexecuted": false,
    "execution_millis": 53,
    "execution_start": 1666120102705,
    "source_hash": "132959d6",
    "tags": []
   },
   "outputs": [
    {
     "data": {
      "text/html": [
       "<div>\n",
       "<style scoped>\n",
       "    .dataframe tbody tr th:only-of-type {\n",
       "        vertical-align: middle;\n",
       "    }\n",
       "\n",
       "    .dataframe tbody tr th {\n",
       "        vertical-align: top;\n",
       "    }\n",
       "\n",
       "    .dataframe thead th {\n",
       "        text-align: right;\n",
       "    }\n",
       "</style>\n",
       "<table border=\"1\" class=\"dataframe\">\n",
       "  <thead>\n",
       "    <tr style=\"text-align: right;\">\n",
       "      <th></th>\n",
       "      <th>user_id</th>\n",
       "      <th>tariff_plan</th>\n",
       "      <th>total_paid</th>\n",
       "      <th>new_tariff_plan</th>\n",
       "      <th>new_total_paid</th>\n",
       "    </tr>\n",
       "  </thead>\n",
       "  <tbody>\n",
       "    <tr>\n",
       "      <th>0</th>\n",
       "      <td>166377</td>\n",
       "      <td>B</td>\n",
       "      <td>49306.875</td>\n",
       "      <td>B</td>\n",
       "      <td>49306.875</td>\n",
       "    </tr>\n",
       "    <tr>\n",
       "      <th>1</th>\n",
       "      <td>166405</td>\n",
       "      <td>B</td>\n",
       "      <td>118175.375</td>\n",
       "      <td>B</td>\n",
       "      <td>118175.375</td>\n",
       "    </tr>\n",
       "    <tr>\n",
       "      <th>2</th>\n",
       "      <td>166406</td>\n",
       "      <td>B</td>\n",
       "      <td>53777.625</td>\n",
       "      <td>B</td>\n",
       "      <td>53777.625</td>\n",
       "    </tr>\n",
       "    <tr>\n",
       "      <th>3</th>\n",
       "      <td>166407</td>\n",
       "      <td>A</td>\n",
       "      <td>7637.250</td>\n",
       "      <td>C</td>\n",
       "      <td>5001.200</td>\n",
       "    </tr>\n",
       "    <tr>\n",
       "      <th>4</th>\n",
       "      <td>166407</td>\n",
       "      <td>A</td>\n",
       "      <td>7637.250</td>\n",
       "      <td>C</td>\n",
       "      <td>1052.550</td>\n",
       "    </tr>\n",
       "  </tbody>\n",
       "</table>\n",
       "</div>"
      ],
      "text/plain": [
       "   user_id tariff_plan  total_paid new_tariff_plan  new_total_paid\n",
       "0   166377           B   49306.875               B       49306.875\n",
       "1   166405           B  118175.375               B      118175.375\n",
       "2   166406           B   53777.625               B       53777.625\n",
       "3   166407           A    7637.250               C        5001.200\n",
       "4   166407           A    7637.250               C        1052.550"
      ]
     },
     "execution_count": 48,
     "metadata": {},
     "output_type": "execute_result"
    }
   ],
   "source": [
    "total_paid_old_values = propose_tariff[['user_id', 'tariff_plan', 'total_paid']]\n",
    "total_paid_new_values = mby[['user_id', 'new_tariff_plan', 'new_total_paid']]\n",
    "compare_revenue = total_paid_old_values.merge(total_paid_new_values, on='user_id')\n",
    "compare_revenue.head()"
   ]
  },
  {
   "cell_type": "code",
   "execution_count": 49,
   "metadata": {
    "cell_id": "90029e54993d456c86b597fbe3adee6a",
    "deepnote_cell_type": "code",
    "deepnote_to_be_reexecuted": false,
    "execution_millis": 4,
    "execution_start": 1666120102817,
    "source_hash": "441c0f35",
    "tags": []
   },
   "outputs": [
    {
     "name": "stdout",
     "output_type": "stream",
     "text": [
      "Общая выгода клиентов/потери заказчика: 1812148\n"
     ]
    }
   ],
   "source": [
    "compare_revenue['revenue_loss'] = compare_revenue['total_paid'] - compare_revenue['new_total_paid']\n",
    "compare_revenue.loc[(compare_revenue.revenue_loss < 0), 'revenue_loss'] = 0\n",
    "print(f'Общая выгода клиентов/потери заказчика: {round(sum(compare_revenue.revenue_loss))}')"
   ]
  },
  {
   "cell_type": "markdown",
   "metadata": {
    "cell_id": "b92ea6a19ac544df9a67fd93cfc50e76",
    "deepnote_cell_type": "markdown",
    "tags": []
   },
   "source": [
    "Как мы видим, при переводе пользователей на более оптимальные тарифы наш заказчик будет терять деньги, однако, целью нашего исследования было предложить такой перевод для сохранения наших текущих клиентов и последующей \"сарафанной\" рекламы новым пользователям. В качестве компенсирования таких потерь можно рекомендовать использовать данное исследование в маргетинговых целях, то есть привлекать новых клиентов, таким образом мы сможем максимально быстро восполнить потерянные объемы. Для примера произведем приблизительный расчет того, сколько в среднем один пользователь приносит денег в месяц и после этого посчитаем необходимое нам количество новых пользователей для перекрытия убытков. "
   ]
  },
  {
   "cell_type": "code",
   "execution_count": 50,
   "metadata": {
    "cell_id": "53138cc44870465d8a26e337289cd68c",
    "deepnote_cell_type": "code",
    "deepnote_to_be_reexecuted": false,
    "execution_millis": 30,
    "execution_start": 1666120102818,
    "source_hash": "4379620a",
    "tags": []
   },
   "outputs": [
    {
     "name": "stdout",
     "output_type": "stream",
     "text": [
      "в среднем один пользователь приносит в месяц: 25197 условной денежной единицы\n",
      "Таким образом нам потребуется в следующий месяц найти 72 пользователей для покрытия убытков\n"
     ]
    }
   ],
   "source": [
    "# расчет средней выручки от пользователя в месяц\n",
    "user_mean_revenue = month_data_active.pivot_table(index=['user_id'], values='month_revenue', aggfunc='mean')\n",
    "print(f'в среднем один пользователь приносит в месяц: {round(user_mean_revenue[\"month_revenue\"].mean())} условной денежной единицы')\n",
    "print(f'Таким образом нам потребуется в следующий месяц найти {round(sum(compare_revenue.revenue_loss) / user_mean_revenue[\"month_revenue\"].mean())} пользователей для покрытия убытков') "
   ]
  },
  {
   "cell_type": "markdown",
   "metadata": {},
   "source": [
    "<div class=\"alert alert-success\">\n",
    "    \n",
    "**Комментарий ревьюера**\n",
    "\n",
    "**#ок**\n",
    "\n",
    "Хорошо, но здесь скорее вопрос не в привлечении новых пользователей, а в удержании старых и интереснее именно сколько с нами должен проработать клиент, чтобы покрыть эти потери.\n",
    "\n",
    "</div>"
   ]
  },
  {
   "cell_type": "markdown",
   "metadata": {
    "cell_id": "5707dfbb497048908dd1accdea8dc9e3",
    "deepnote_cell_type": "markdown",
    "tags": []
   },
   "source": [
    "Таким образом, если мы найдем к следующему месяцу 72 новых пользователя при помощи маркетинга, то мы перекроем наши убытки в первый же месяц. Однако, необходимо понять: \"72\", это много? Или мало?  Для этого взглянем на то, как изменялось количество пользователей каждый месяц. "
   ]
  },
  {
   "cell_type": "code",
   "execution_count": 51,
   "metadata": {
    "cell_id": "5d05641e5b4845aa8e023ce523b77ca4",
    "deepnote_cell_type": "code",
    "deepnote_to_be_reexecuted": false,
    "execution_millis": 15,
    "execution_start": 1666120102847,
    "source_hash": "6ffabfbf",
    "tags": []
   },
   "outputs": [
    {
     "name": "stdout",
     "output_type": "stream",
     "text": [
      "Компания в сентябре привлекла на 27 клиентов меньше, чем в августе\n",
      "А в октябре привлекла на 12 клиентов больше , чем в сентябре\n"
     ]
    },
    {
     "data": {
      "text/html": [
       "<div>\n",
       "<style scoped>\n",
       "    .dataframe tbody tr th:only-of-type {\n",
       "        vertical-align: middle;\n",
       "    }\n",
       "\n",
       "    .dataframe tbody tr th {\n",
       "        vertical-align: top;\n",
       "    }\n",
       "\n",
       "    .dataframe thead th {\n",
       "        text-align: right;\n",
       "    }\n",
       "</style>\n",
       "<table border=\"1\" class=\"dataframe\">\n",
       "  <thead>\n",
       "    <tr style=\"text-align: right;\">\n",
       "      <th></th>\n",
       "      <th>month</th>\n",
       "      <th>user_id</th>\n",
       "    </tr>\n",
       "  </thead>\n",
       "  <tbody>\n",
       "    <tr>\n",
       "      <th>0</th>\n",
       "      <td>8</td>\n",
       "      <td>258</td>\n",
       "    </tr>\n",
       "    <tr>\n",
       "      <th>1</th>\n",
       "      <td>9</td>\n",
       "      <td>231</td>\n",
       "    </tr>\n",
       "    <tr>\n",
       "      <th>2</th>\n",
       "      <td>10</td>\n",
       "      <td>243</td>\n",
       "    </tr>\n",
       "  </tbody>\n",
       "</table>\n",
       "</div>"
      ],
      "text/plain": [
       "   month  user_id\n",
       "0      8      258\n",
       "1      9      231\n",
       "2     10      243"
      ]
     },
     "execution_count": 51,
     "metadata": {},
     "output_type": "execute_result"
    }
   ],
   "source": [
    "clients_month = telecom_clients.copy()\n",
    "clients_month['month'] = clients_month['date_start'].dt.month\n",
    "clients_month = clients_month.pivot_table(index='month', values='user_id', aggfunc='nunique').reset_index()\n",
    "print(f'Компания в сентябре привлекла на {abs(clients_month[\"user_id\"][1] - clients_month[\"user_id\"][0])} клиентов меньше, чем в августе')\n",
    "print(f'А в октябре привлекла на {clients_month[\"user_id\"][2] - clients_month[\"user_id\"][1]} клиентов больше , чем в сентябре')\n",
    "clients_month"
   ]
  },
  {
   "cell_type": "code",
   "execution_count": 68,
   "metadata": {},
   "outputs": [
    {
     "data": {
      "text/plain": [
       "[Text(0.5, 1.0, 'Динамика привлечения новых пользователей'),\n",
       " Text(0.5, 0, 'Месяц'),\n",
       " Text(0, 0.5, 'Количество привлеченных пользователей')]"
      ]
     },
     "execution_count": 68,
     "metadata": {},
     "output_type": "execute_result"
    },
    {
     "data": {
      "image/png": "[encoded data removed]",
      "text/plain": [
       "<Figure size 576x360 with 1 Axes>"
      ]
     },
     "metadata": {
      "needs_background": "light"
     },
     "output_type": "display_data"
    }
   ],
   "source": [
    "sns.lineplot(data=clients_month, x='month', y='user_id').set(title='Динамика привлечения новых пользователей', xlabel='Месяц', ylabel='Количество привлеченных пользователей')"
   ]
  },
  {
   "cell_type": "markdown",
   "metadata": {
    "cell_id": "b2c5fb713efc4e47bf50ddbdb0662526",
    "deepnote_cell_type": "markdown",
    "tags": []
   },
   "source": [
    "Таким образом, мы понимаем что компания работает в рост по поиску новых клиентов. Однако мы обладаем не таким большим количеством данных чтоб выдвинуть точные прогнозы. В связи с чем рекомендуем __использовать данное исследование в целях PR-кампании для привлечения новых пользователей__"
   ]
  },
  {
   "cell_type": "markdown",
   "metadata": {
    "cell_id": "d46d73f051654252b23308f27b83c245",
    "deepnote_cell_type": "markdown",
    "tags": []
   },
   "source": [
    "#### Расчет LTV пользователей по когоротам\n",
    "\n",
    "Применим __прогностический подход к расчёту LTV__ а именно:\n",
    "- Сначала выполним расчет LTV через ARPU\n",
    "- Затем выполним покогортный расчет LTV, так как датой анализа берем дату сразу после последнего дня статистики, выполним подсчет покогортно всех имеющихся у нас пользователей на текущий момент. Таким образом, каждому клиенту в зависимости от месяца регистрации присвоим номер когорты и рассчитаем LTV за весь период в этих когортах.\n",
    "\n",
    "##### __Рассчитаем LTV через ARPU__\n",
    "`LTV = ARPU x Lifetime`\n",
    "\n",
    "`ARPU = Общий доход/Количество клиентов за сопоставимый период времени.`\n",
    "\n",
    "`Lifetime` — это время, в течение которого пользователь взаимодействует с компанией.\n",
    "\n",
    "Например, 10 человек принесли компании 12000 рублей прибыли за квартал. Пользователи остаются активными в течении квартала. ARPU = 12000 / 10 = 1200 рублей. LTV = 1200*4 = 4800 рублей — стоимость одного клиента за квартал.\n",
    "\n",
    "__В нашем случае: Мы имеем общий доход который принесли нам активные пользователи за весь период, количество этих пользователей, и количество месяцев, которые эти пользователи были с нами. Таким образом выполним расчет LTV"
   ]
  },
  {
   "cell_type": "code",
   "execution_count": 52,
   "metadata": {},
   "outputs": [
    {
     "name": "stdout",
     "output_type": "stream",
     "text": [
      "LTV одного клиента за 4 месяца составит: 257537.19\n"
     ]
    }
   ],
   "source": [
    "arpu = sum(month_data_active['month_revenue'])/month_data_active['user_id'].nunique()\n",
    "ltv = arpu * month_data_active['month'].nunique()\n",
    "print(f'LTV одного клиента за {month_data_active[\"month\"].nunique()} месяца составит: {round(ltv,2)}')"
   ]
  },
  {
   "cell_type": "markdown",
   "metadata": {},
   "source": [
    "##### __Выполним покогортный расчет LTV__\n",
    "Так как датой анализа берем дату сразу после последнего дня статистики, выполним подсчет покогортно всех имеющихся у нас пользователей на текущий момент, то есть активных. Таким образом, каждому клиенту в зависимости от месяца регистрации присвоим номер когорты и рассчитаем LTV за весь период в этих когортах."
   ]
  },
  {
   "cell_type": "code",
   "execution_count": 53,
   "metadata": {},
   "outputs": [
    {
     "data": {
      "text/html": [
       "<div>\n",
       "<style scoped>\n",
       "    .dataframe tbody tr th:only-of-type {\n",
       "        vertical-align: middle;\n",
       "    }\n",
       "\n",
       "    .dataframe tbody tr th {\n",
       "        vertical-align: top;\n",
       "    }\n",
       "\n",
       "    .dataframe thead th {\n",
       "        text-align: right;\n",
       "    }\n",
       "</style>\n",
       "<table border=\"1\" class=\"dataframe\">\n",
       "  <thead>\n",
       "    <tr style=\"text-align: right;\">\n",
       "      <th></th>\n",
       "      <th>user_id</th>\n",
       "      <th>date_start</th>\n",
       "      <th>month_start</th>\n",
       "    </tr>\n",
       "  </thead>\n",
       "  <tbody>\n",
       "    <tr>\n",
       "      <th>0</th>\n",
       "      <td>166713</td>\n",
       "      <td>2019-08-15</td>\n",
       "      <td>8</td>\n",
       "    </tr>\n",
       "    <tr>\n",
       "      <th>1</th>\n",
       "      <td>166901</td>\n",
       "      <td>2019-08-23</td>\n",
       "      <td>8</td>\n",
       "    </tr>\n",
       "    <tr>\n",
       "      <th>2</th>\n",
       "      <td>168527</td>\n",
       "      <td>2019-10-29</td>\n",
       "      <td>10</td>\n",
       "    </tr>\n",
       "    <tr>\n",
       "      <th>3</th>\n",
       "      <td>167097</td>\n",
       "      <td>2019-09-01</td>\n",
       "      <td>9</td>\n",
       "    </tr>\n",
       "    <tr>\n",
       "      <th>4</th>\n",
       "      <td>168193</td>\n",
       "      <td>2019-10-16</td>\n",
       "      <td>10</td>\n",
       "    </tr>\n",
       "  </tbody>\n",
       "</table>\n",
       "</div>"
      ],
      "text/plain": [
       "   user_id date_start  month_start\n",
       "0   166713 2019-08-15            8\n",
       "1   166901 2019-08-23            8\n",
       "2   168527 2019-10-29           10\n",
       "3   167097 2019-09-01            9\n",
       "4   168193 2019-10-16           10"
      ]
     },
     "execution_count": 53,
     "metadata": {},
     "output_type": "execute_result"
    }
   ],
   "source": [
    "user_start = telecom_clients[['user_id', 'date_start']]\n",
    "user_start['month_start'] = user_start['date_start'].dt.month\n",
    "user_start.head()"
   ]
  },
  {
   "cell_type": "code",
   "execution_count": 54,
   "metadata": {
    "cell_id": "75a59f55d0444898ba3fe205c7f7dfbd",
    "deepnote_cell_type": "code",
    "deepnote_table_loading": false,
    "deepnote_table_state": {
     "filters": [],
     "pageIndex": 0,
     "pageSize": 10,
     "sortBy": [
      {
       "id": "user_id",
       "type": "asc"
      }
     ]
    },
    "deepnote_to_be_reexecuted": false,
    "execution_millis": 25,
    "execution_start": 1666120102966,
    "scrolled": true,
    "source_hash": "d716c4f9",
    "tags": []
   },
   "outputs": [
    {
     "name": "stdout",
     "output_type": "stream",
     "text": [
      "количество месяцев регистраций пользователей, а значит и количество когорт пользователей: 3\n"
     ]
    },
    {
     "data": {
      "text/html": [
       "<div>\n",
       "<style scoped>\n",
       "    .dataframe tbody tr th:only-of-type {\n",
       "        vertical-align: middle;\n",
       "    }\n",
       "\n",
       "    .dataframe tbody tr th {\n",
       "        vertical-align: top;\n",
       "    }\n",
       "\n",
       "    .dataframe thead th {\n",
       "        text-align: right;\n",
       "    }\n",
       "</style>\n",
       "<table border=\"1\" class=\"dataframe\">\n",
       "  <thead>\n",
       "    <tr style=\"text-align: right;\">\n",
       "      <th></th>\n",
       "      <th>cohort</th>\n",
       "      <th>month_start</th>\n",
       "    </tr>\n",
       "  </thead>\n",
       "  <tbody>\n",
       "    <tr>\n",
       "      <th>0</th>\n",
       "      <td>1</td>\n",
       "      <td>8</td>\n",
       "    </tr>\n",
       "    <tr>\n",
       "      <th>1</th>\n",
       "      <td>2</td>\n",
       "      <td>9</td>\n",
       "    </tr>\n",
       "    <tr>\n",
       "      <th>2</th>\n",
       "      <td>3</td>\n",
       "      <td>10</td>\n",
       "    </tr>\n",
       "  </tbody>\n",
       "</table>\n",
       "</div>"
      ],
      "text/plain": [
       "   cohort  month_start\n",
       "0       1            8\n",
       "1       2            9\n",
       "2       3           10"
      ]
     },
     "execution_count": 54,
     "metadata": {},
     "output_type": "execute_result"
    }
   ],
   "source": [
    "date_cohort = pd.DataFrame({'date_start' : telecom_clients['date_start']})\n",
    "date_cohort['month_start'] = date_cohort['date_start'].dt.month\n",
    "print(f'количество месяцев регистраций пользователей, а значит и количество когорт пользователей: {date_cohort[\"month_start\"].nunique()}')\n",
    "date_cohort = date_cohort.drop('date_start', axis=1)\n",
    "date_cohort = date_cohort.sort_values(by='month_start')\n",
    "date_cohort = date_cohort.drop_duplicates().reset_index(drop=True)\n",
    "date_cohort.index = np.arange(1, len(date_cohort) + 1)\n",
    "date_cohort = date_cohort.reset_index()\n",
    "date_cohort = date_cohort.rename(columns={'index': 'cohort'})\n",
    "date_cohort.head()"
   ]
  },
  {
   "cell_type": "code",
   "execution_count": 55,
   "metadata": {},
   "outputs": [
    {
     "data": {
      "text/html": [
       "<div>\n",
       "<style scoped>\n",
       "    .dataframe tbody tr th:only-of-type {\n",
       "        vertical-align: middle;\n",
       "    }\n",
       "\n",
       "    .dataframe tbody tr th {\n",
       "        vertical-align: top;\n",
       "    }\n",
       "\n",
       "    .dataframe thead th {\n",
       "        text-align: right;\n",
       "    }\n",
       "</style>\n",
       "<table border=\"1\" class=\"dataframe\">\n",
       "  <thead>\n",
       "    <tr style=\"text-align: right;\">\n",
       "      <th></th>\n",
       "      <th>user_id</th>\n",
       "      <th>date_start</th>\n",
       "      <th>month_start</th>\n",
       "      <th>cohort</th>\n",
       "    </tr>\n",
       "  </thead>\n",
       "  <tbody>\n",
       "    <tr>\n",
       "      <th>0</th>\n",
       "      <td>166713</td>\n",
       "      <td>2019-08-15</td>\n",
       "      <td>8</td>\n",
       "      <td>1</td>\n",
       "    </tr>\n",
       "    <tr>\n",
       "      <th>1</th>\n",
       "      <td>166901</td>\n",
       "      <td>2019-08-23</td>\n",
       "      <td>8</td>\n",
       "      <td>1</td>\n",
       "    </tr>\n",
       "    <tr>\n",
       "      <th>2</th>\n",
       "      <td>167050</td>\n",
       "      <td>2019-08-29</td>\n",
       "      <td>8</td>\n",
       "      <td>1</td>\n",
       "    </tr>\n",
       "    <tr>\n",
       "      <th>3</th>\n",
       "      <td>166610</td>\n",
       "      <td>2019-08-12</td>\n",
       "      <td>8</td>\n",
       "      <td>1</td>\n",
       "    </tr>\n",
       "    <tr>\n",
       "      <th>4</th>\n",
       "      <td>166897</td>\n",
       "      <td>2019-08-23</td>\n",
       "      <td>8</td>\n",
       "      <td>1</td>\n",
       "    </tr>\n",
       "  </tbody>\n",
       "</table>\n",
       "</div>"
      ],
      "text/plain": [
       "   user_id date_start  month_start  cohort\n",
       "0   166713 2019-08-15            8       1\n",
       "1   166901 2019-08-23            8       1\n",
       "2   167050 2019-08-29            8       1\n",
       "3   166610 2019-08-12            8       1\n",
       "4   166897 2019-08-23            8       1"
      ]
     },
     "execution_count": 55,
     "metadata": {},
     "output_type": "execute_result"
    }
   ],
   "source": [
    "user_cohort = user_start.merge(date_cohort, on='month_start')\n",
    "user_cohort.head()"
   ]
  },
  {
   "cell_type": "code",
   "execution_count": 56,
   "metadata": {
    "cell_id": "de39a54b13594277aea21a8886275400",
    "deepnote_cell_type": "code",
    "deepnote_to_be_reexecuted": false,
    "execution_millis": 21,
    "execution_start": 1666120102992,
    "source_hash": "68350b35",
    "tags": []
   },
   "outputs": [
    {
     "data": {
      "text/html": [
       "<div>\n",
       "<style scoped>\n",
       "    .dataframe tbody tr th:only-of-type {\n",
       "        vertical-align: middle;\n",
       "    }\n",
       "\n",
       "    .dataframe tbody tr th {\n",
       "        vertical-align: top;\n",
       "    }\n",
       "\n",
       "    .dataframe thead th {\n",
       "        text-align: right;\n",
       "    }\n",
       "</style>\n",
       "<table border=\"1\" class=\"dataframe\">\n",
       "  <thead>\n",
       "    <tr style=\"text-align: right;\">\n",
       "      <th></th>\n",
       "      <th>user_id</th>\n",
       "      <th>month</th>\n",
       "      <th>month_revenue</th>\n",
       "      <th>date_start</th>\n",
       "      <th>month_start</th>\n",
       "      <th>cohort</th>\n",
       "    </tr>\n",
       "  </thead>\n",
       "  <tbody>\n",
       "    <tr>\n",
       "      <th>0</th>\n",
       "      <td>166377</td>\n",
       "      <td>8</td>\n",
       "      <td>39514.5</td>\n",
       "      <td>2019-08-01</td>\n",
       "      <td>8</td>\n",
       "      <td>1</td>\n",
       "    </tr>\n",
       "    <tr>\n",
       "      <th>1</th>\n",
       "      <td>166377</td>\n",
       "      <td>9</td>\n",
       "      <td>53317.5</td>\n",
       "      <td>2019-08-01</td>\n",
       "      <td>8</td>\n",
       "      <td>1</td>\n",
       "    </tr>\n",
       "    <tr>\n",
       "      <th>2</th>\n",
       "      <td>166377</td>\n",
       "      <td>10</td>\n",
       "      <td>50103.5</td>\n",
       "      <td>2019-08-01</td>\n",
       "      <td>8</td>\n",
       "      <td>1</td>\n",
       "    </tr>\n",
       "    <tr>\n",
       "      <th>3</th>\n",
       "      <td>166377</td>\n",
       "      <td>11</td>\n",
       "      <td>48192.0</td>\n",
       "      <td>2019-08-01</td>\n",
       "      <td>8</td>\n",
       "      <td>1</td>\n",
       "    </tr>\n",
       "    <tr>\n",
       "      <th>4</th>\n",
       "      <td>166405</td>\n",
       "      <td>8</td>\n",
       "      <td>25483.5</td>\n",
       "      <td>2019-08-02</td>\n",
       "      <td>8</td>\n",
       "      <td>1</td>\n",
       "    </tr>\n",
       "  </tbody>\n",
       "</table>\n",
       "</div>"
      ],
      "text/plain": [
       "   user_id  month  month_revenue date_start  month_start  cohort\n",
       "0   166377      8        39514.5 2019-08-01            8       1\n",
       "1   166377      9        53317.5 2019-08-01            8       1\n",
       "2   166377     10        50103.5 2019-08-01            8       1\n",
       "3   166377     11        48192.0 2019-08-01            8       1\n",
       "4   166405      8        25483.5 2019-08-02            8       1"
      ]
     },
     "execution_count": 56,
     "metadata": {},
     "output_type": "execute_result"
    }
   ],
   "source": [
    "user_cohort_data = month_data_active.merge(user_cohort, on='user_id')\n",
    "user_cohort_data.head()"
   ]
  },
  {
   "cell_type": "code",
   "execution_count": 70,
   "metadata": {
    "cell_id": "b212b66d3d51477db6e280f493d3e915",
    "deepnote_cell_type": "code",
    "deepnote_to_be_reexecuted": false,
    "execution_millis": 1743,
    "execution_start": 1666120102999,
    "source_hash": "d006458a",
    "tags": []
   },
   "outputs": [
    {
     "data": {
      "image/png": "[encoded data removed]",
      "text/plain": [
       "<Figure size 576x360 with 1 Axes>"
      ]
     },
     "metadata": {
      "needs_background": "light"
     },
     "output_type": "display_data"
    }
   ],
   "source": [
    "# оценим количество пользователей в каждой когорте\n",
    "cohort_sizes = user_cohort_data.pivot_table(index='cohort', values='user_id', aggfunc='nunique').reset_index()\n",
    "cohort_sizes.head()\n",
    "sns.barplot(data=cohort_sizes, x='cohort', y='user_id').set(title='Распределение пользователей по когортам', xlabel='номер когорты', ylabel='количество пользователей')\n",
    "plt.show()"
   ]
  },
  {
   "cell_type": "code",
   "execution_count": 58,
   "metadata": {
    "cell_id": "3753bdfabb714e40b5e8b84394685008",
    "deepnote_cell_type": "code",
    "deepnote_to_be_reexecuted": false,
    "execution_millis": 1258,
    "execution_start": 1666120104182,
    "source_hash": "7db5a6d4",
    "tags": []
   },
   "outputs": [],
   "source": [
    "cohort_revenue = user_cohort_data.pivot_table(index='cohort', values=['month_revenue'], aggfunc='sum').reset_index()\n",
    "cohort_revenue_sizes = cohort_revenue.merge(cohort_sizes, on='cohort')"
   ]
  },
  {
   "cell_type": "code",
   "execution_count": 69,
   "metadata": {},
   "outputs": [
    {
     "data": {
      "text/html": [
       "<div>\n",
       "<style scoped>\n",
       "    .dataframe tbody tr th:only-of-type {\n",
       "        vertical-align: middle;\n",
       "    }\n",
       "\n",
       "    .dataframe tbody tr th {\n",
       "        vertical-align: top;\n",
       "    }\n",
       "\n",
       "    .dataframe thead th {\n",
       "        text-align: right;\n",
       "    }\n",
       "</style>\n",
       "<table border=\"1\" class=\"dataframe\">\n",
       "  <thead>\n",
       "    <tr style=\"text-align: right;\">\n",
       "      <th></th>\n",
       "      <th>cohort</th>\n",
       "      <th>cohort_revenue</th>\n",
       "      <th>cohort_size</th>\n",
       "      <th>ltv</th>\n",
       "    </tr>\n",
       "  </thead>\n",
       "  <tbody>\n",
       "    <tr>\n",
       "      <th>0</th>\n",
       "      <td>1</td>\n",
       "      <td>5135481.75</td>\n",
       "      <td>59</td>\n",
       "      <td>87042.06</td>\n",
       "    </tr>\n",
       "    <tr>\n",
       "      <th>1</th>\n",
       "      <td>2</td>\n",
       "      <td>2311098.50</td>\n",
       "      <td>56</td>\n",
       "      <td>41269.62</td>\n",
       "    </tr>\n",
       "    <tr>\n",
       "      <th>2</th>\n",
       "      <td>3</td>\n",
       "      <td>4078209.15</td>\n",
       "      <td>64</td>\n",
       "      <td>63722.02</td>\n",
       "    </tr>\n",
       "  </tbody>\n",
       "</table>\n",
       "</div>"
      ],
      "text/plain": [
       "   cohort  cohort_revenue  cohort_size       ltv\n",
       "0       1      5135481.75           59  87042.06\n",
       "1       2      2311098.50           56  41269.62\n",
       "2       3      4078209.15           64  63722.02"
      ]
     },
     "metadata": {},
     "output_type": "display_data"
    },
    {
     "data": {
      "image/png": "[encoded data removed]",
      "text/plain": [
       "<Figure size 576x360 with 1 Axes>"
      ]
     },
     "metadata": {
      "needs_background": "light"
     },
     "output_type": "display_data"
    }
   ],
   "source": [
    "cohort_revenue_sizes = cohort_revenue_sizes.rename(columns={'month_revenue': 'cohort_revenue', 'user_id': 'cohort_size'})\n",
    "cohort_revenue_sizes['ltv'] = round(cohort_revenue_sizes['cohort_revenue'] / cohort_revenue_sizes['cohort_size'],2)\n",
    "display(cohort_revenue_sizes.head())\n",
    "sns.barplot(data=cohort_revenue_sizes, x='cohort', y='ltv').set(title='Распределение LTV по когортам', xlabel='Номер когорты', ylabel='LTV')\n",
    "plt.show()"
   ]
  },
  {
   "cell_type": "markdown",
   "metadata": {},
   "source": [
    "<div class=\"alert alert-danger\">\n",
    "    \n",
    "**Комментарий ревьюера**\n",
    "\n",
    "**#ошибка**\n",
    "    \n",
    "Кроме ошибки в коде, еще нужно больше пояснений\n",
    "    \n",
    "Здесь когортный анализ не совсем понятен, поясни. Что за коготры ты берешь? Ты берешь день подключения? Но так обычно не делают. Хотя бы неделя нужна, чтобы достаточное количество пользователей набиралось, а лучше месяц. Как ты LTV считаешь? LTV - это накопительный показатель, как у тебя самое большое LTV получилось у самых новых клиентов? \n",
    "    \n",
    "</div>"
   ]
  },
  {
   "cell_type": "markdown",
   "metadata": {},
   "source": [
    "<div class=\"alert alert-info\"> <b>Комментарий студента v1:</b> Вера, с ошибками в коде разобрался, в deepnote почему-то запускалось. Анализ полностью переделал, спасибо!</div>"
   ]
  },
  {
   "cell_type": "markdown",
   "metadata": {},
   "source": [
    "<div class=\"alert alert-success\">\n",
    "    \n",
    "**Комментарий ревьюера - 2**\n",
    "\n",
    "**#ок**\n",
    "\n",
    "Да, так намного лучше. Все же брать когорты по месяцам - это стандарт, от него только в специальных случаях отходят\n",
    "\n",
    "</div>"
   ]
  },
  {
   "cell_type": "markdown",
   "metadata": {
    "cell_id": "43c4a2bfb89d4d24b6d5952fb00655da",
    "deepnote_cell_type": "markdown",
    "tags": []
   },
   "source": [
    "#### Промежуточный вывод:\n",
    "\n",
    "В процессе исследовательского анализа данных, выполнили:\n",
    "- Проанализировали общее количество клиентов, их получилось - 307\n",
    "- Посчитали для каждого пользователя количество сделанных звонков и количество потраченных минут в разрезе месяца и за весь изучаемый период;\n",
    "- Проверили наличие \"выбивающихся\" из общего потока пользователей и выдвинем предположение о причине появления таких пользователей:\n",
    "Были обнаружены аномальные значения в столбцах `call_duration`, `total_call_duration`, а именно: в таких столбцах пристуствует большое количество аномалий, если считать их в минутах, полное искажение данных и потеря смысла такого анализа если считать такие столбцы в секундах. В связи с чем, приняли что считать датасет будем в минутах, и оставили рекомендацию передать этот вопрос на рассмотрение в тех. отдел.\n",
    "- Рассчитали общую выручку в разрезе месяца и за весь изучаемый период, так:\n",
    "Выручка за каждый месяц изучаемого периода составила:\t\n",
    "8 - 556343\n",
    "9 - 2860128\n",
    "10 - 5164250\n",
    "11 - 5886853\n",
    "За весь период: 14467490 условных денежных единиц\n",
    "- Рассмотрели параметры выбора активных клиентов, таких оказалось - 179; Параметром выбора определили тех, кто пользовался нашими услугами в последнем месяце (ноябре) изучаемого периода\n",
    "- Провели поиск клиентов с неоптимальными тарифами (тех, кто мог бы платить меньше), таких оказалось - 85. \n",
    "- Изучили возможные потери в выручке при переводе клиентов находящися на неоптимальных тарифах при переводе их на оптимальные\n",
    "Потеря составляет - 1812148 условных денежных единиц\n",
    "- Выдвинули предположение: \"как уменьшить риск падения выручки, если все клиенты перейдут на более выгодные тарифы?\" и оценим возможные сроки возврата на предыдущие значения по выручкам:\n",
    "__Самое главное предложение - работать с данными такого исследования в рамках PR-компании после перевода клиентов, так как это может стать отличным маркетинговым ходом, и если по результату успешной маркетинговой компании в следующем месяце мы получим около 72 новых клиентов то мы нивелируем таким образом убытки уже в следующем месяце.__\n",
    "Также в статистическом исследовании проверили гипотезу о смене абонетской платы на тарифах, и ответили на вопрос, можно ли таким образом минимизировать потери в выручке.\n",
    "\n",
    "- Рассчитали LTV (life time value) каждого пользователя для нашего клиента - а именно, сколько денег принес каждый клиент в разрезе месяца/всего изучаемого периода и определили как распределяются данные покогортно\n",
    "\n"
   ]
  },
  {
   "cell_type": "markdown",
   "metadata": {
    "cell_id": "38b5812044e14699a9fb05316faa222c",
    "deepnote_cell_type": "markdown",
    "tags": []
   },
   "source": [
    "### Статистические гипотезы:\n",
    "\n",
    "Сформулируем и проверим статистические гипотезы по которым можно сделать полезные выводы для бизнеса:\n",
    "1. Средняя выручка клиента до перевода на оптимальные тарифы отличается от выручки после перевода на оптимальные тарифы.\n",
    "2. Средняя выручка заказчика изменится при изменении абонентской платы у тарифных планов\n",
    "\n",
    "#### Выручка до и после перевода на оптимальные тарифы \n",
    "\n",
    "- Н0 - нулевая гипотеза: Статистически значимых различий в средней выручке клиента после перевода на оптимальные тарифы нет\n",
    "- Н1 - альтернативная гипотеза: Статистически значимых различий в средней выручке клиента после перевода на оптимальные тарифы есть\n",
    "\n",
    "Так как, мы проводим немножественную проверку на одних и тех же данных, не будем применять поправку Бонферрони, и выберем для теста Непараметрический тест Уилкоксона-Манна-Уитни, так как данные мы получили с достаточно большими аномалиями и выбросами."
   ]
  },
  {
   "cell_type": "code",
   "execution_count": 60,
   "metadata": {
    "cell_id": "05a402b865fd44bd82dc0ffe15c6b87a",
    "deepnote_cell_type": "code",
    "deepnote_to_be_reexecuted": false,
    "execution_millis": 2,
    "execution_start": 1666120105497,
    "source_hash": "d78a66a5",
    "tags": []
   },
   "outputs": [
    {
     "name": "stdout",
     "output_type": "stream",
     "text": [
      "p-значение:  0.005041671278324794\n",
      "Отвергаем нулевую гипотезу: разница статистически значима\n",
      "Относительные изменения после смены тарифа - -28.8 %\n",
      "Абсолютное среднего чека после смены тарифа - -9293.06\n",
      "Изменение выручки после смены тарифа - -1812147.56\n"
     ]
    }
   ],
   "source": [
    "sample_a = compare_revenue['total_paid'] # старые значения \n",
    "sample_b = compare_revenue['new_total_paid'] # новые значения\n",
    "\n",
    "# зададим пороговое значение альфа и разделим его на количество сравнений \n",
    "# которые мы производим на одних и тех же данных\n",
    "alpha = 0.05\n",
    "\n",
    "results = st.mannwhitneyu(sample_a, sample_b, alternative='two-sided') # ваш код\n",
    "\n",
    "print('p-значение: ', results.pvalue)\n",
    "\n",
    "if results.pvalue < alpha:\n",
    "    print('Отвергаем нулевую гипотезу: разница статистически значима')\n",
    "else:\n",
    "    print(\n",
    "        'Не получилось отвергнуть нулевую гипотезу, вывод о различии сделать нельзя'\n",
    "    ) \n",
    "\n",
    "# рассчитаем метрики для интепретации результатов  \n",
    "mean_val = round(sample_b.mean()/ (sample_a.mean()) - 1, 3) * 100\n",
    "abs_val = sample_b.mean() - sample_a.mean()\n",
    "val = sample_b.sum() - sample_a.sum()\n",
    "print(f'Относительные изменения после смены тарифа - {mean_val:.4} %')\n",
    "print(f'Абсолютное среднего чека после смены тарифа - {abs_val:.2f}')\n",
    "print(f'Изменение выручки после смены тарифа - {val:.2f}')"
   ]
  },
  {
   "cell_type": "markdown",
   "metadata": {},
   "source": [
    "<div class=\"alert alert-danger\">\n",
    "    \n",
    "**Комментарий ревьюера**\n",
    "\n",
    "**#ошибка**\n",
    "    \n",
    "Поясни, ты взял в расчет всех пользователей или только тех, у кого мы сменили тариф?\n",
    "\n",
    "Кажется правильнее брать всех и смотерть изменится ли у нас статистически средний чек (т.е. средняя оплата за месяц). Если мы возьмем только тех, у кого поменялся тариф, то вполне очевидно, что разница будет значительной...\n",
    "</div>"
   ]
  },
  {
   "cell_type": "markdown",
   "metadata": {},
   "source": [
    "<div class=\"alert alert-info\"> <b>Комментарий студента v1:</b> Нет, датасет `compare_revenue` содержит данные о всех активных пользователях, где есть два столбца с тарифами, старыми и новыми. У тех кому предложений по замене нет, оставлены старые тарифы. Ниже вывел данный датасет, где по выводу первых пяти строк видно, что в расчете все активные пользователи. Возможно, я что-то упустил и совершил ошибку, буду рад понять.  </div>"
   ]
  },
  {
   "cell_type": "markdown",
   "metadata": {},
   "source": [
    "<div class=\"alert alert-success\">\n",
    "    \n",
    "**Комментарий ревьюера - 2**\n",
    "\n",
    "**#ок**\n",
    "\n",
    "Нет, все норм. Именно так и правильно.\n",
    "\n",
    "</div>"
   ]
  },
  {
   "cell_type": "code",
   "execution_count": 61,
   "metadata": {},
   "outputs": [
    {
     "data": {
      "text/html": [
       "<div>\n",
       "<style scoped>\n",
       "    .dataframe tbody tr th:only-of-type {\n",
       "        vertical-align: middle;\n",
       "    }\n",
       "\n",
       "    .dataframe tbody tr th {\n",
       "        vertical-align: top;\n",
       "    }\n",
       "\n",
       "    .dataframe thead th {\n",
       "        text-align: right;\n",
       "    }\n",
       "</style>\n",
       "<table border=\"1\" class=\"dataframe\">\n",
       "  <thead>\n",
       "    <tr style=\"text-align: right;\">\n",
       "      <th></th>\n",
       "      <th>user_id</th>\n",
       "      <th>tariff_plan</th>\n",
       "      <th>total_paid</th>\n",
       "      <th>new_tariff_plan</th>\n",
       "      <th>new_total_paid</th>\n",
       "      <th>revenue_loss</th>\n",
       "    </tr>\n",
       "  </thead>\n",
       "  <tbody>\n",
       "    <tr>\n",
       "      <th>0</th>\n",
       "      <td>166377</td>\n",
       "      <td>B</td>\n",
       "      <td>49306.875</td>\n",
       "      <td>B</td>\n",
       "      <td>49306.875</td>\n",
       "      <td>0.00</td>\n",
       "    </tr>\n",
       "    <tr>\n",
       "      <th>1</th>\n",
       "      <td>166405</td>\n",
       "      <td>B</td>\n",
       "      <td>118175.375</td>\n",
       "      <td>B</td>\n",
       "      <td>118175.375</td>\n",
       "      <td>0.00</td>\n",
       "    </tr>\n",
       "    <tr>\n",
       "      <th>2</th>\n",
       "      <td>166406</td>\n",
       "      <td>B</td>\n",
       "      <td>53777.625</td>\n",
       "      <td>B</td>\n",
       "      <td>53777.625</td>\n",
       "      <td>0.00</td>\n",
       "    </tr>\n",
       "    <tr>\n",
       "      <th>3</th>\n",
       "      <td>166407</td>\n",
       "      <td>A</td>\n",
       "      <td>7637.250</td>\n",
       "      <td>C</td>\n",
       "      <td>5001.200</td>\n",
       "      <td>2636.05</td>\n",
       "    </tr>\n",
       "    <tr>\n",
       "      <th>4</th>\n",
       "      <td>166407</td>\n",
       "      <td>A</td>\n",
       "      <td>7637.250</td>\n",
       "      <td>C</td>\n",
       "      <td>1052.550</td>\n",
       "      <td>6584.70</td>\n",
       "    </tr>\n",
       "  </tbody>\n",
       "</table>\n",
       "</div>"
      ],
      "text/plain": [
       "   user_id tariff_plan  total_paid new_tariff_plan  new_total_paid  \\\n",
       "0   166377           B   49306.875               B       49306.875   \n",
       "1   166405           B  118175.375               B      118175.375   \n",
       "2   166406           B   53777.625               B       53777.625   \n",
       "3   166407           A    7637.250               C        5001.200   \n",
       "4   166407           A    7637.250               C        1052.550   \n",
       "\n",
       "   revenue_loss  \n",
       "0          0.00  \n",
       "1          0.00  \n",
       "2          0.00  \n",
       "3       2636.05  \n",
       "4       6584.70  "
      ]
     },
     "execution_count": 61,
     "metadata": {},
     "output_type": "execute_result"
    }
   ],
   "source": [
    "compare_revenue.head()"
   ]
  },
  {
   "cell_type": "markdown",
   "metadata": {
    "cell_id": "6a7f9f2cec0940518187754e5fd0b34c",
    "deepnote_cell_type": "markdown",
    "deepnote_to_be_reexecuted": true,
    "source_hash": "b623e53d",
    "tags": []
   },
   "source": [
    "По результатам проверки гипотезы мы видим, что статистически значимые различия имеют место быть, и при смене тарифа на оптимальные мы наблюдаем изменение выручки после смены тарифа, при этом изменение идет в сторону убытков, как и ожидалось.\n",
    "\n",
    "#### Средняя выручка заказчика при изменении абонентской платы у тарифных планов\n",
    "\n",
    "- Н0 - нулевая гипотеза: Статистически значимых различий в средней выручке клиента после изменения абонетской платы у тарифных планов нет\n",
    "- Н1 - альтернативная гипотеза: Статистически значимых различий в средней выручке клиента после изменения абонетской платы у тарифных планов есть\n",
    "\n",
    "По нашим данным мы увидели то, что самое распространенное предложение по переходу, это с тарифа А на тарифы В и С. Соответственно, мы можем предложить нашему клиенту немного скорректировать тарифные планы, а именно, снизить абонентскую плату у тарифа **А** на 2010 условных денежных единиц, но при этом поднять плату за исходящие не внешние звонки на 0.05, а у тарифного плана **В** снизить такую плату на 10 условных денежных единиц и поднять оплату за исходящие не внешние звонки на 0.05, а у **С** снизить такую абонентскую плату на 10  условных денежных единиц и снизить оплату на 0.05. Таким образом получим следующую тарифную сетку:\n",
    "Ежемесячная плата за тариф:\n",
    "\n",
    "- **Тариф А** — 2990 ₽,\n",
    "- **B** — 1990 ₽,\n",
    "- **С** — 990 ₽.\n",
    "\n",
    "**Входящие звонки** — бесплатны на всех тарифах,\n",
    "\n",
    "**Исходящие звонки внутри сети** — бесплатны до 2000 минут в месяц на всех тарифах. Цена сверх лимита:\n",
    "\n",
    "- A — 0.1 ₽/мин.,\n",
    "- B — 0.15 ₽/мин.,\n",
    "- C — 0.3 ₽/мин.\n",
    "\n",
    "**Исходящие звонки, кроме внутренних:**\n",
    "\n",
    "- A — 0.45 ₽/мин.,\n",
    "- B — 0.55 ₽/мин.,\n",
    "- C — 0.65 ₽/мин.\n",
    "\n",
    "За каждого оператора клиент платит 100 ₽ в месяц на любом тарифе — дополнительно к стоимости тарифа и цене звонков.\n",
    "Выполним расчеты по данным клиентов которых еще не перевели на оптимальные тарифы, таким образом сохраним логику что такие действия \n",
    "\n",
    "Теперь поясним, почему мы выбираем такие цифры для изменения:\n",
    "\n",
    "- Тариф А, самый непопулярный тариф у нашего заказчика, и оно понятно почему, визуально, ежемесячная плата почти в два раза больше, а плата за услуги меньше ненамного. Однако для нашего клиента, эта абонентская плата не играет настолько значимой роли в формате конечной выручки. Также, мы сделали закономерный шаг для тарифов - 1000 условных денежных единиц. Все это поможет нам при дальнейшей работе с новыми клиентами. \n",
    "- Снизив на \"некруглую\" сумму, и получив тарифы кончающиеся на \"..990\" мы визуально изменили тарифную сетку так, что:\n",
    "    - Отделу маркетинга вкупе с нашей акцией по переводу пользователей на оптимальные тарифы будет дана возможность гораздно эффективнее провести PR-кампанию по привлечению новых клиентов. \n",
    "    - В целом, мы продали визуальную выгоду не потеряв для себя в выручке\n",
    "- Измениние стоимости исходящих звонков, тарифу А и В мы подняли стоимость на 0.05, а тарифу С снизили эту стоимость на 0.05, этим мы добились того, что:\n",
    "    - Опять же у тарифов не появилось унификации, но при этом пропал странный разброс, откуда собственно и появлялись неоптимальные клиенты.\n",
    "    - Поднятие для тарифа А и В выглядит абсолютно незначительным и выглядящим как стандартный плановый подъем цены (Например, мне таким образом поднимает оплату мой оператор практически каждые полгода), а тариф С получил снижение цены.\n",
    "    \n",
    "В итоге, мы посмотрим как изменится количество пользователей которым необходима смена тарифа и сможем ли мы снизить наши убытки таким образом. "
   ]
  },
  {
   "cell_type": "markdown",
   "metadata": {},
   "source": [
    "<div class=\"alert alert-danger\">\n",
    "    \n",
    "**Комментарий ревьюера**\n",
    "\n",
    "**#ошибка**\n",
    "    \n",
    "поясни, из каких соображений ты именно такие числа предлагаешь, кажется, я что-то упустила в твоем анализе. Здесь это нужно подробно описать и повторить, если это уже было ранее.\n",
    "\n",
    "А почему мы не на 2000 снижаем абонентку, и не на 1000 ее поднимаем. Почему на тарифе А мы ее снижаем, а на других тарифах поднимаем? Не приведет ли это к унификации тарифов? Мы хотим, чтобы получилась значимая разница или нет? Основная наша задача - удержать клиентов, как они отреагируют на повышение абонентской платы? \n",
    "\n",
    "Пока эта часть вообще не понятна и в логику проекта не укладывается. Хотя сам вариант предложить новый тариф очень интересный, но все должно быть обосновано, а не просто с потолка взято\n",
    "</div>"
   ]
  },
  {
   "cell_type": "markdown",
   "metadata": {},
   "source": [
    "<div class=\"alert alert-info\"> <b>Комментарий студента v1:</b> Нашел ряд ошибок в проверке этой гипотезы, и дополнительно полностью переработал и пояснил выбор мною такой стоимости. </div>"
   ]
  },
  {
   "cell_type": "code",
   "execution_count": 62,
   "metadata": {
    "cell_id": "aa622675937a4b56a80b686d2dfcb239",
    "deepnote_cell_type": "code",
    "deepnote_to_be_reexecuted": false,
    "execution_millis": 2,
    "execution_start": 1666120105517,
    "source_hash": "499b0ad",
    "tags": []
   },
   "outputs": [
    {
     "data": {
      "text/html": [
       "<div>\n",
       "<style scoped>\n",
       "    .dataframe tbody tr th:only-of-type {\n",
       "        vertical-align: middle;\n",
       "    }\n",
       "\n",
       "    .dataframe tbody tr th {\n",
       "        vertical-align: top;\n",
       "    }\n",
       "\n",
       "    .dataframe thead th {\n",
       "        text-align: right;\n",
       "    }\n",
       "</style>\n",
       "<table border=\"1\" class=\"dataframe\">\n",
       "  <thead>\n",
       "    <tr style=\"text-align: right;\">\n",
       "      <th></th>\n",
       "      <th>tariff_plan</th>\n",
       "      <th>basic_cost</th>\n",
       "      <th>internal_over_limit</th>\n",
       "      <th>non_internal</th>\n",
       "      <th>operator_cost</th>\n",
       "    </tr>\n",
       "  </thead>\n",
       "  <tbody>\n",
       "    <tr>\n",
       "      <th>0</th>\n",
       "      <td>A</td>\n",
       "      <td>2990</td>\n",
       "      <td>0.10</td>\n",
       "      <td>0.45</td>\n",
       "      <td>100</td>\n",
       "    </tr>\n",
       "    <tr>\n",
       "      <th>1</th>\n",
       "      <td>B</td>\n",
       "      <td>1990</td>\n",
       "      <td>0.15</td>\n",
       "      <td>0.55</td>\n",
       "      <td>100</td>\n",
       "    </tr>\n",
       "    <tr>\n",
       "      <th>2</th>\n",
       "      <td>C</td>\n",
       "      <td>990</td>\n",
       "      <td>0.30</td>\n",
       "      <td>0.65</td>\n",
       "      <td>100</td>\n",
       "    </tr>\n",
       "  </tbody>\n",
       "</table>\n",
       "</div>"
      ],
      "text/plain": [
       "  tariff_plan  basic_cost  internal_over_limit  non_internal  operator_cost\n",
       "0           A        2990                 0.10          0.45            100\n",
       "1           B        1990                 0.15          0.55            100\n",
       "2           C         990                 0.30          0.65            100"
      ]
     },
     "execution_count": 62,
     "metadata": {},
     "output_type": "execute_result"
    }
   ],
   "source": [
    "costs_alt = costs.copy() #создаем новую таблицу с тарифами\n",
    "costs_alt['basic_cost'][0] -= 2010\n",
    "costs_alt['basic_cost'][1:3] -= 10\n",
    "costs_alt['non_internal'][0:2] +=0.05\n",
    "costs_alt['non_internal'][2] -=0.05\n",
    "costs_alt"
   ]
  },
  {
   "cell_type": "code",
   "execution_count": 63,
   "metadata": {
    "cell_id": "af6307882308487a9c21e140f8a79e71",
    "deepnote_cell_type": "code",
    "deepnote_to_be_reexecuted": false,
    "execution_millis": 180,
    "execution_start": 1666120105523,
    "source_hash": "37230abd",
    "tags": []
   },
   "outputs": [
    {
     "data": {
      "text/html": [
       "<div>\n",
       "<style scoped>\n",
       "    .dataframe tbody tr th:only-of-type {\n",
       "        vertical-align: middle;\n",
       "    }\n",
       "\n",
       "    .dataframe tbody tr th {\n",
       "        vertical-align: top;\n",
       "    }\n",
       "\n",
       "    .dataframe thead th {\n",
       "        text-align: right;\n",
       "    }\n",
       "</style>\n",
       "<table border=\"1\" class=\"dataframe\">\n",
       "  <thead>\n",
       "    <tr style=\"text-align: right;\">\n",
       "      <th></th>\n",
       "      <th>user_id</th>\n",
       "      <th>internal</th>\n",
       "      <th>total_call_duration</th>\n",
       "      <th>tariff_plan</th>\n",
       "      <th>basic_cost</th>\n",
       "      <th>internal_over_limit</th>\n",
       "      <th>non_internal</th>\n",
       "      <th>operator_cost</th>\n",
       "      <th>total_paid</th>\n",
       "    </tr>\n",
       "  </thead>\n",
       "  <tbody>\n",
       "    <tr>\n",
       "      <th>0</th>\n",
       "      <td>166377</td>\n",
       "      <td>False</td>\n",
       "      <td>94613.750000</td>\n",
       "      <td>B</td>\n",
       "      <td>1990</td>\n",
       "      <td>0.15</td>\n",
       "      <td>0.55</td>\n",
       "      <td>100</td>\n",
       "      <td>54027.5625</td>\n",
       "    </tr>\n",
       "    <tr>\n",
       "      <th>1</th>\n",
       "      <td>166405</td>\n",
       "      <td>False</td>\n",
       "      <td>232350.750000</td>\n",
       "      <td>B</td>\n",
       "      <td>1990</td>\n",
       "      <td>0.15</td>\n",
       "      <td>0.55</td>\n",
       "      <td>100</td>\n",
       "      <td>129782.9125</td>\n",
       "    </tr>\n",
       "    <tr>\n",
       "      <th>2</th>\n",
       "      <td>166406</td>\n",
       "      <td>False</td>\n",
       "      <td>103555.250000</td>\n",
       "      <td>B</td>\n",
       "      <td>1990</td>\n",
       "      <td>0.15</td>\n",
       "      <td>0.55</td>\n",
       "      <td>100</td>\n",
       "      <td>58945.3875</td>\n",
       "    </tr>\n",
       "    <tr>\n",
       "      <th>3</th>\n",
       "      <td>166485</td>\n",
       "      <td>False</td>\n",
       "      <td>110219.250000</td>\n",
       "      <td>B</td>\n",
       "      <td>1990</td>\n",
       "      <td>0.15</td>\n",
       "      <td>0.55</td>\n",
       "      <td>100</td>\n",
       "      <td>62610.5875</td>\n",
       "    </tr>\n",
       "    <tr>\n",
       "      <th>4</th>\n",
       "      <td>166485</td>\n",
       "      <td>True</td>\n",
       "      <td>13544.333333</td>\n",
       "      <td>B</td>\n",
       "      <td>1990</td>\n",
       "      <td>0.15</td>\n",
       "      <td>0.55</td>\n",
       "      <td>100</td>\n",
       "      <td>1731.6500</td>\n",
       "    </tr>\n",
       "  </tbody>\n",
       "</table>\n",
       "</div>"
      ],
      "text/plain": [
       "   user_id  internal  total_call_duration tariff_plan  basic_cost  \\\n",
       "0   166377     False         94613.750000           B        1990   \n",
       "1   166405     False        232350.750000           B        1990   \n",
       "2   166406     False        103555.250000           B        1990   \n",
       "3   166485     False        110219.250000           B        1990   \n",
       "4   166485      True         13544.333333           B        1990   \n",
       "\n",
       "   internal_over_limit  non_internal  operator_cost   total_paid  \n",
       "0                 0.15          0.55            100   54027.5625  \n",
       "1                 0.15          0.55            100  129782.9125  \n",
       "2                 0.15          0.55            100   58945.3875  \n",
       "3                 0.15          0.55            100   62610.5875  \n",
       "4                 0.15          0.55            100    1731.6500  "
      ]
     },
     "execution_count": 63,
     "metadata": {},
     "output_type": "execute_result"
    }
   ],
   "source": [
    "# суммируем датасет по пользователям и месяцам\n",
    "mby_alt = active_month_data.groupby(['user_id', 'month', 'internal'])\\\n",
    "    .agg({'total_call_duration':'sum'}).groupby(['user_id','internal'])\\\n",
    "    .agg({'total_call_duration':'mean'}).reset_index()\n",
    "\n",
    "mby_alt = mby_alt.query('internal == False | (internal == True & total_call_duration>2000)')\\\n",
    "    .reset_index(drop=True)\n",
    "\n",
    "# присоединим информацию о стоимости\n",
    "mby_alt = mby_alt.merge(new_tariffs, on='user_id')\n",
    "mby_alt = mby_alt.merge(costs_alt, on='tariff_plan')\n",
    "\n",
    "mby_alt['total_paid'] = (\n",
    "    mby_alt[mby['internal']==False]['total_call_duration'] *\n",
    "    mby_alt['non_internal'] +\n",
    "    mby_alt['basic_cost']\n",
    ").fillna((mby_alt[mby_alt['internal']==True]['total_call_duration'] - 2000) *\n",
    "                        mby_alt['internal_over_limit']\n",
    "        )\n",
    "mby_alt.head()"
   ]
  },
  {
   "cell_type": "code",
   "execution_count": 64,
   "metadata": {},
   "outputs": [
    {
     "name": "stdout",
     "output_type": "stream",
     "text": [
      "5 - количество пользователей которым необходимо сменить тариф\n"
     ]
    },
    {
     "data": {
      "text/html": [
       "<div>\n",
       "<style scoped>\n",
       "    .dataframe tbody tr th:only-of-type {\n",
       "        vertical-align: middle;\n",
       "    }\n",
       "\n",
       "    .dataframe tbody tr th {\n",
       "        vertical-align: top;\n",
       "    }\n",
       "\n",
       "    .dataframe thead th {\n",
       "        text-align: right;\n",
       "    }\n",
       "</style>\n",
       "<table border=\"1\" class=\"dataframe\">\n",
       "  <thead>\n",
       "    <tr style=\"text-align: right;\">\n",
       "      <th></th>\n",
       "      <th>index</th>\n",
       "      <th>user_id</th>\n",
       "      <th>tariff_plan</th>\n",
       "      <th>total_paid</th>\n",
       "      <th>prop_A</th>\n",
       "      <th>prop_B</th>\n",
       "      <th>prop_C</th>\n",
       "      <th>final_proposal_tariff</th>\n",
       "    </tr>\n",
       "  </thead>\n",
       "  <tbody>\n",
       "    <tr>\n",
       "      <th>0</th>\n",
       "      <td>30</td>\n",
       "      <td>166800</td>\n",
       "      <td>B</td>\n",
       "      <td>4954.362500</td>\n",
       "      <td>7155.900000</td>\n",
       "      <td>0.000000</td>\n",
       "      <td>4772.825</td>\n",
       "      <td>C</td>\n",
       "    </tr>\n",
       "    <tr>\n",
       "      <th>1</th>\n",
       "      <td>67</td>\n",
       "      <td>167185</td>\n",
       "      <td>C</td>\n",
       "      <td>9422.883333</td>\n",
       "      <td>10189.466667</td>\n",
       "      <td>8486.833333</td>\n",
       "      <td>0.000</td>\n",
       "      <td>B</td>\n",
       "    </tr>\n",
       "    <tr>\n",
       "      <th>2</th>\n",
       "      <td>93</td>\n",
       "      <td>167521</td>\n",
       "      <td>B</td>\n",
       "      <td>5331.250000</td>\n",
       "      <td>7430.000000</td>\n",
       "      <td>0.000000</td>\n",
       "      <td>5252.500</td>\n",
       "      <td>C</td>\n",
       "    </tr>\n",
       "    <tr>\n",
       "      <th>3</th>\n",
       "      <td>150</td>\n",
       "      <td>168121</td>\n",
       "      <td>A</td>\n",
       "      <td>9740.000000</td>\n",
       "      <td>0.000000</td>\n",
       "      <td>9500.000000</td>\n",
       "      <td>11500.000</td>\n",
       "      <td>B</td>\n",
       "    </tr>\n",
       "    <tr>\n",
       "      <th>4</th>\n",
       "      <td>166</td>\n",
       "      <td>168295</td>\n",
       "      <td>A</td>\n",
       "      <td>9398.000000</td>\n",
       "      <td>0.000000</td>\n",
       "      <td>9120.000000</td>\n",
       "      <td>10968.000</td>\n",
       "      <td>B</td>\n",
       "    </tr>\n",
       "  </tbody>\n",
       "</table>\n",
       "</div>"
      ],
      "text/plain": [
       "   index  user_id tariff_plan   total_paid        prop_A       prop_B  \\\n",
       "0     30   166800           B  4954.362500   7155.900000     0.000000   \n",
       "1     67   167185           C  9422.883333  10189.466667  8486.833333   \n",
       "2     93   167521           B  5331.250000   7430.000000     0.000000   \n",
       "3    150   168121           A  9740.000000      0.000000  9500.000000   \n",
       "4    166   168295           A  9398.000000      0.000000  9120.000000   \n",
       "\n",
       "      prop_C final_proposal_tariff  \n",
       "0   4772.825                     C  \n",
       "1      0.000                     B  \n",
       "2   5252.500                     C  \n",
       "3  11500.000                     B  \n",
       "4  10968.000                     B  "
      ]
     },
     "execution_count": 64,
     "metadata": {},
     "output_type": "execute_result"
    }
   ],
   "source": [
    "# предлагаем тарифы\n",
    "propose_tariff_alt = check_tariff(mby_alt).reset_index()\n",
    "# оставляем только тех пользователей, кому необходимо сменить тариф, для того чтобы платить меньше\n",
    "propose_tariff_result_alt = propose_tariff_alt.query('tariff_plan != final_proposal_tariff').reset_index()\n",
    "print(f'{len(propose_tariff_result_alt)} - количество пользователей которым необходимо сменить тариф')\n",
    "propose_tariff_result_alt.head()"
   ]
  },
  {
   "cell_type": "code",
   "execution_count": 65,
   "metadata": {},
   "outputs": [
    {
     "data": {
      "text/html": [
       "<div>\n",
       "<style scoped>\n",
       "    .dataframe tbody tr th:only-of-type {\n",
       "        vertical-align: middle;\n",
       "    }\n",
       "\n",
       "    .dataframe tbody tr th {\n",
       "        vertical-align: top;\n",
       "    }\n",
       "\n",
       "    .dataframe thead th {\n",
       "        text-align: right;\n",
       "    }\n",
       "</style>\n",
       "<table border=\"1\" class=\"dataframe\">\n",
       "  <thead>\n",
       "    <tr style=\"text-align: right;\">\n",
       "      <th></th>\n",
       "      <th>user_id</th>\n",
       "      <th>tariff_plan</th>\n",
       "      <th>total_paid</th>\n",
       "      <th>alt_tariff_plan</th>\n",
       "      <th>alt_total_paid</th>\n",
       "    </tr>\n",
       "  </thead>\n",
       "  <tbody>\n",
       "    <tr>\n",
       "      <th>0</th>\n",
       "      <td>166377</td>\n",
       "      <td>B</td>\n",
       "      <td>49306.875</td>\n",
       "      <td>B</td>\n",
       "      <td>54027.5625</td>\n",
       "    </tr>\n",
       "    <tr>\n",
       "      <th>1</th>\n",
       "      <td>166405</td>\n",
       "      <td>B</td>\n",
       "      <td>118175.375</td>\n",
       "      <td>B</td>\n",
       "      <td>129782.9125</td>\n",
       "    </tr>\n",
       "    <tr>\n",
       "      <th>2</th>\n",
       "      <td>166406</td>\n",
       "      <td>B</td>\n",
       "      <td>53777.625</td>\n",
       "      <td>B</td>\n",
       "      <td>58945.3875</td>\n",
       "    </tr>\n",
       "    <tr>\n",
       "      <th>3</th>\n",
       "      <td>166407</td>\n",
       "      <td>A</td>\n",
       "      <td>7637.250</td>\n",
       "      <td>C</td>\n",
       "      <td>4705.4000</td>\n",
       "    </tr>\n",
       "    <tr>\n",
       "      <th>4</th>\n",
       "      <td>166407</td>\n",
       "      <td>A</td>\n",
       "      <td>7637.250</td>\n",
       "      <td>C</td>\n",
       "      <td>1052.5500</td>\n",
       "    </tr>\n",
       "  </tbody>\n",
       "</table>\n",
       "</div>"
      ],
      "text/plain": [
       "   user_id tariff_plan  total_paid alt_tariff_plan  alt_total_paid\n",
       "0   166377           B   49306.875               B      54027.5625\n",
       "1   166405           B  118175.375               B     129782.9125\n",
       "2   166406           B   53777.625               B      58945.3875\n",
       "3   166407           A    7637.250               C       4705.4000\n",
       "4   166407           A    7637.250               C       1052.5500"
      ]
     },
     "execution_count": 65,
     "metadata": {},
     "output_type": "execute_result"
    }
   ],
   "source": [
    "mby_alt = mby_alt.rename(columns={'tariff_plan': 'alt_tariff_plan', 'total_paid':'alt_total_paid'})\n",
    "total_paid_alt_values = mby_alt[['user_id', 'alt_tariff_plan', 'alt_total_paid']]\n",
    "compare_revenue_alt = total_paid_old_values.merge(total_paid_alt_values, on='user_id')\n",
    "compare_revenue_alt.head()"
   ]
  },
  {
   "cell_type": "code",
   "execution_count": 66,
   "metadata": {
    "cell_id": "d2d0d02461f34341b7895badcda631f9",
    "deepnote_cell_type": "code",
    "deepnote_to_be_reexecuted": false,
    "execution_millis": 4,
    "execution_start": 1666120105792,
    "source_hash": "182bf8b7",
    "tags": []
   },
   "outputs": [
    {
     "name": "stdout",
     "output_type": "stream",
     "text": [
      "p-значение:  0.006628476850522077\n",
      "Отвергаем нулевую гипотезу: разница статистически значима\n",
      "Абсолютное среднего чека после смены абонетской платы у тарифа - -7214.49\n",
      "Изменение выручки после смены абонетской платы у тарифа - -1812147.56\n"
     ]
    }
   ],
   "source": [
    "sample_a = compare_revenue_alt['total_paid'] # старые тарифы после изменения платы\n",
    "sample_b = compare_revenue_alt['alt_total_paid'] # новые значения \n",
    "\n",
    "# зададим пороговое значение альфа \n",
    "alpha = 0.05\n",
    "\n",
    "results = st.mannwhitneyu(sample_a, sample_b, alternative='two-sided') # ваш код\n",
    "\n",
    "print('p-значение: ', results.pvalue)\n",
    "\n",
    "if results.pvalue < alpha:\n",
    "    print('Отвергаем нулевую гипотезу: разница статистически значима')\n",
    "else:\n",
    "    print(\n",
    "        'Не получилось отвергнуть нулевую гипотезу, вывод о различии сделать нельзя'\n",
    "    ) \n",
    "\n",
    "# рассчитаем метрики для интепретации результатов  \n",
    "mean_val = round(sample_b.mean()/ (sample_a.mean()) - 1, 3) * 100\n",
    "abs_val = sample_b.mean() - sample_a.mean()\n",
    "val_1 = sample_b.sum() - sample_a.sum()\n",
    "print(f'Абсолютное среднего чека после смены абонетской платы у тарифа - {abs_val:.2f}')\n",
    "print(f'Изменение выручки после смены абонетской платы у тарифа - {val:.2f}')"
   ]
  },
  {
   "cell_type": "code",
   "execution_count": 67,
   "metadata": {},
   "outputs": [
    {
     "name": "stdout",
     "output_type": "stream",
     "text": [
      "Потери в выручке получилось снизить на: 22.37 %\n"
     ]
    }
   ],
   "source": [
    "print(f'Потери в выручке получилось снизить на: {abs(round((val_1/val-1)*100 ,2))} %')"
   ]
  },
  {
   "cell_type": "markdown",
   "metadata": {
    "cell_id": "bdc8a4133b924e1e80cafc7f389a4603",
    "deepnote_cell_type": "markdown",
    "tags": []
   },
   "source": [
    "Таким образом, проверив данную гипотезу, можем сделать вывод о том, что:\n",
    "- Определенно такие действия снизят количество пользователей которым необходима смена тарифа. Однако не исключат полностью, что позволит нам воплотить в жизнь такой перевод и повысить лояльность\n",
    "- Разницу получили статистически значимую, и действительно, наши убытки сократились с 1812148 до 1406825, то есть на 22.37 %\n",
    "\n",
    "<div class=\"alert alert-success\">\n",
    "    \n",
    "**Комментарий ревьюера - 2**\n",
    "\n",
    "**#ок**\n",
    "\n",
    "Да, теперь все четче и понятнее\n",
    "\n",
    "</div>\n",
    "\n",
    "## Общие выводы\n",
    "\n",
    "Так, по результатам проекта было сделано:\n",
    "\n",
    "- Загрузили и изучили данные, а именно:\n",
    "\t- Изменили типы данных в стоблце date_start в сете telecom_clietns\n",
    "\t- убедились в отсутствии пропусков и дубликатов в этой таблице\n",
    "\t- проерили начало и конец периода регистрации для изучения (2019-08-01 и 2019-10-31 соответственно)\n",
    "\t- обнаружили и удалили пропуски в стобце internal в датасете telecom_dataset так они не повлияют на ход исследования. \n",
    "\t- обнаружили пропуски в столбце operator_id и выдвинули предположение о недошедших внешних входящих звонках, таким пропускам мы присвоили значение заглушку «0» для дальнейшего отслеживаниея, потому как удалять такое количество данных (15.2%) нельзя\n",
    "\t- изменили тип данных в столбце date\n",
    "\t- определели период сбора статистики (2019-08-02 и 2019-11-28)\n",
    "\t- провели анализ столбцов calls_count/call_duration/total_call_duration и удалили аномально большие значения потерям 1.59% данных\n",
    "    - проверили и избавились от полных дубликатов в датасете не увидев в них нормальной закономерности потеряв 9% данных\n",
    "\n",
    "\n",
    "В процессе исследовательского анализа данных, выполнили:\n",
    "- Проанализировали общее количество клиентов, их получилось - 307\n",
    "- Посчитали для каждого пользователя количество сделанных звонков и количество потраченных минут в разрезе месяца и за весь изучаемый период;\n",
    "- Проверили наличие \"выбивающихся\" из общего потока пользователей и выдвинем предположение о причине появления таких пользователей:\n",
    "Были обнаружены аномальные значения в столбцах `call_duration`, `total_call_duration`, а именно: в таких столбцах пристуствует большое количество аномалий, если считать их в минутах, полное искажение данных и потеря смысла такого анализа если считать такие столбцы в секундах. В связи с чем, приняли что считать датасет будем в минутах, и оставили рекомендацию передать этот вопрос на рассмотрение в тех. отдел.\n",
    "- Рассчитали общую выручку в разрезе месяца и за весь изучаемый период, так:\n",
    "Выручка за каждый месяц изучаемого периода составила:\t\n",
    "8 - 556343\n",
    "9 - 2860128\n",
    "10 - 5164250\n",
    "11 - 5886853\n",
    "За весь период: 14467490 условных денежных единиц\n",
    "- Рассмотрели параметры выбора активных клиентов, таких оказалось - 179; Параметром выбора определили тех, кто пользовался нашими услугами в последнем месяце (ноябре) изучаемого периода\n",
    "- Провели поиск клиентов с неоптимальными тарифами (тех, кто мог бы платить меньше), таких оказалось - 85. \n",
    "- Изучили возможные потери в выручке при переводе клиентов находящися на неоптимальных тарифах при переводе их на оптимальные\n",
    "Потеря составляет - 1812148 условных денежных единиц\n",
    "- Выдвинули предположение: \"как уменьшить риск падения выручки, если все клиенты перейдут на более выгодные тарифы?\" и оценим возможные сроки возврата на предыдущие значения по выручкам:\n",
    "__Самое главное предложение - работать с данными такого исследования в рамках PR-компании после перевода клиентов, так как это может стать отличным маркетинговым ходом, и если по результату успешной маркетинговой компании в следующем месяце мы получим около 72 новых клиентов то мы нивелируем таким образом убытки уже в следующем месяце.__\n",
    "Также в статистическом исследовании проверили гипотезу о смене абонетской платы на тарифах, и ответили на вопрос, можно ли таким образом минимизировать потери в выручке.\n",
    "\n",
    "- Рассчитали LTV (life time value) каждого пользователя для нашего клиента - а именно, сколько денег принес каждый клиент в разрезе месяца/всего изучаемого периода и определили как распределяются данные покогортно\n",
    "\n",
    "Проверили две статистические гипотезы и получили выводы для бизнеса, а именно:\n",
    "- Проверили гипотезу о том, что средняя выручка клиента изменится после перевода клиентов на оптимальные тарифы и получили результат, в котором подтвердили свои предположения о том что статистикая значимость в различиях все же была обнаружена, выручка будет отличаться при этом в сторону убытков.\n",
    "- Проверили гипотезу о том, что если снизить абонентскую плату у тарифа А на 2010 условных денежных единиц, но при этом поднять плату за исходящие не внешние звонки на 0.05, а у тарифного плана В снизить такую плату на 10 условных денежных единиц и поднять оплату за исходящие не внешние звонки на 0.05, а у С снизить такую абонентскую плату на 10 условных денежных единиц и снизить оплату на 0.05. средняя выручка изменится, то есть получится уменьшить количество убытков при данной кампании. Обнаружили статистическую значимость в различиях и пояснили выбор такого измениния в тарифной сетке."
   ]
  },
  {
   "cell_type": "markdown",
   "metadata": {},
   "source": [
    "<div class=\"alert alert-success\">\n",
    "    \n",
    "**Комментарий ревьюера**\n",
    "\n",
    "**#ок**\n",
    "\n",
    "Выводы вполне соответствуют целям и задачам проекта. Возможно они слегка скорректируются после корректировки проекта  \n",
    "</div>"
   ]
  }
 ],
 "metadata": {
  "ExecuteTimeLog": [
   {
    "duration": 1291,
    "start_time": "2022-10-19T06:15:45.049Z"
   },
   {
    "duration": 402,
    "start_time": "2022-10-19T06:15:46.342Z"
   },
   {
    "duration": 5,
    "start_time": "2022-10-19T06:15:46.746Z"
   },
   {
    "duration": 11,
    "start_time": "2022-10-19T06:15:46.752Z"
   },
   {
    "duration": 35,
    "start_time": "2022-10-19T06:15:46.765Z"
   },
   {
    "duration": 34,
    "start_time": "2022-10-19T06:15:46.802Z"
   },
   {
    "duration": 20,
    "start_time": "2022-10-19T06:15:46.838Z"
   },
   {
    "duration": 17,
    "start_time": "2022-10-19T06:15:46.860Z"
   },
   {
    "duration": 42,
    "start_time": "2022-10-19T06:15:46.879Z"
   },
   {
    "duration": 12,
    "start_time": "2022-10-19T06:15:46.923Z"
   },
   {
    "duration": 4,
    "start_time": "2022-10-19T06:15:46.936Z"
   },
   {
    "duration": 163,
    "start_time": "2022-10-19T06:15:46.942Z"
   },
   {
    "duration": 174,
    "start_time": "2022-10-19T06:15:47.107Z"
   },
   {
    "duration": 174,
    "start_time": "2022-10-19T06:15:47.285Z"
   },
   {
    "duration": 11,
    "start_time": "2022-10-19T06:15:47.461Z"
   },
   {
    "duration": 68,
    "start_time": "2022-10-19T06:15:47.474Z"
   },
   {
    "duration": 43,
    "start_time": "2022-10-19T06:15:47.543Z"
   },
   {
    "duration": 3,
    "start_time": "2022-10-19T06:15:47.587Z"
   },
   {
    "duration": 46,
    "start_time": "2022-10-19T06:15:47.591Z"
   },
   {
    "duration": 4,
    "start_time": "2022-10-19T06:15:47.639Z"
   },
   {
    "duration": 40,
    "start_time": "2022-10-19T06:15:47.645Z"
   },
   {
    "duration": 48,
    "start_time": "2022-10-19T06:15:47.686Z"
   },
   {
    "duration": 3,
    "start_time": "2022-10-19T06:15:47.736Z"
   },
   {
    "duration": 48,
    "start_time": "2022-10-19T06:15:47.741Z"
   },
   {
    "duration": 8,
    "start_time": "2022-10-19T06:15:47.791Z"
   },
   {
    "duration": 64,
    "start_time": "2022-10-19T06:15:47.800Z"
   },
   {
    "duration": 5,
    "start_time": "2022-10-19T06:15:47.865Z"
   },
   {
    "duration": 16,
    "start_time": "2022-10-19T06:15:47.872Z"
   },
   {
    "duration": 15,
    "start_time": "2022-10-19T06:15:47.890Z"
   },
   {
    "duration": 16,
    "start_time": "2022-10-19T06:15:47.907Z"
   },
   {
    "duration": 11,
    "start_time": "2022-10-19T06:15:47.925Z"
   },
   {
    "duration": 12,
    "start_time": "2022-10-19T06:15:47.937Z"
   },
   {
    "duration": 16,
    "start_time": "2022-10-19T06:15:47.950Z"
   },
   {
    "duration": 25,
    "start_time": "2022-10-19T06:15:47.967Z"
   },
   {
    "duration": 43,
    "start_time": "2022-10-19T06:15:47.994Z"
   },
   {
    "duration": 6,
    "start_time": "2022-10-19T06:15:48.039Z"
   },
   {
    "duration": 20,
    "start_time": "2022-10-19T06:15:48.047Z"
   },
   {
    "duration": 27,
    "start_time": "2022-10-19T06:15:48.068Z"
   },
   {
    "duration": 45,
    "start_time": "2022-10-19T06:15:48.096Z"
   },
   {
    "duration": 5,
    "start_time": "2022-10-19T06:15:48.143Z"
   },
   {
    "duration": 330,
    "start_time": "2022-10-19T06:15:48.152Z"
   },
   {
    "duration": 8,
    "start_time": "2022-10-19T06:15:48.484Z"
   },
   {
    "duration": 45,
    "start_time": "2022-10-19T06:15:48.494Z"
   },
   {
    "duration": 13,
    "start_time": "2022-10-19T06:15:48.541Z"
   },
   {
    "duration": 11,
    "start_time": "2022-10-19T06:15:48.555Z"
   },
   {
    "duration": 11,
    "start_time": "2022-10-19T06:15:48.568Z"
   },
   {
    "duration": 14,
    "start_time": "2022-10-19T06:15:48.581Z"
   },
   {
    "duration": 40,
    "start_time": "2022-10-19T06:15:48.596Z"
   },
   {
    "duration": 10,
    "start_time": "2022-10-19T06:15:48.638Z"
   },
   {
    "duration": 15,
    "start_time": "2022-10-19T06:15:48.649Z"
   },
   {
    "duration": 120,
    "start_time": "2022-10-19T06:15:48.666Z"
   },
   {
    "duration": 0,
    "start_time": "2022-10-19T06:15:48.788Z"
   },
   {
    "duration": 9,
    "start_time": "2022-10-19T06:16:30.838Z"
   },
   {
    "duration": 5,
    "start_time": "2022-10-19T06:16:40.831Z"
   },
   {
    "duration": 5,
    "start_time": "2022-10-19T06:16:51.494Z"
   },
   {
    "duration": 105,
    "start_time": "2022-10-19T06:24:23.338Z"
   },
   {
    "duration": 1465,
    "start_time": "2022-10-19T08:19:19.541Z"
   },
   {
    "duration": 424,
    "start_time": "2022-10-19T08:19:21.008Z"
   },
   {
    "duration": 6,
    "start_time": "2022-10-19T08:19:21.434Z"
   },
   {
    "duration": 23,
    "start_time": "2022-10-19T08:19:21.442Z"
   },
   {
    "duration": 47,
    "start_time": "2022-10-19T08:19:21.468Z"
   },
   {
    "duration": 24,
    "start_time": "2022-10-19T08:19:21.517Z"
   },
   {
    "duration": 32,
    "start_time": "2022-10-19T08:19:21.543Z"
   },
   {
    "duration": 22,
    "start_time": "2022-10-19T08:19:21.597Z"
   },
   {
    "duration": 19,
    "start_time": "2022-10-19T08:19:21.621Z"
   },
   {
    "duration": 18,
    "start_time": "2022-10-19T08:19:21.642Z"
   },
   {
    "duration": 34,
    "start_time": "2022-10-19T08:19:21.662Z"
   },
   {
    "duration": 185,
    "start_time": "2022-10-19T08:19:21.698Z"
   },
   {
    "duration": 182,
    "start_time": "2022-10-19T08:19:21.885Z"
   },
   {
    "duration": 183,
    "start_time": "2022-10-19T08:19:22.072Z"
   },
   {
    "duration": 13,
    "start_time": "2022-10-19T08:19:22.257Z"
   },
   {
    "duration": 34,
    "start_time": "2022-10-19T08:19:22.272Z"
   },
   {
    "duration": 50,
    "start_time": "2022-10-19T08:19:22.308Z"
   },
   {
    "duration": 3,
    "start_time": "2022-10-19T08:19:22.361Z"
   },
   {
    "duration": 61,
    "start_time": "2022-10-19T08:19:22.366Z"
   },
   {
    "duration": 7,
    "start_time": "2022-10-19T08:19:22.429Z"
   },
   {
    "duration": 75,
    "start_time": "2022-10-19T08:19:22.438Z"
   },
   {
    "duration": 40,
    "start_time": "2022-10-19T08:19:22.516Z"
   },
   {
    "duration": 4,
    "start_time": "2022-10-19T08:19:22.557Z"
   },
   {
    "duration": 45,
    "start_time": "2022-10-19T08:19:22.564Z"
   },
   {
    "duration": 6,
    "start_time": "2022-10-19T08:19:22.612Z"
   },
   {
    "duration": 42,
    "start_time": "2022-10-19T08:19:22.619Z"
   },
   {
    "duration": 7,
    "start_time": "2022-10-19T08:19:22.663Z"
   },
   {
    "duration": 39,
    "start_time": "2022-10-19T08:19:22.672Z"
   },
   {
    "duration": 23,
    "start_time": "2022-10-19T08:19:22.713Z"
   },
   {
    "duration": 12,
    "start_time": "2022-10-19T08:19:22.737Z"
   },
   {
    "duration": 20,
    "start_time": "2022-10-19T08:19:22.751Z"
   },
   {
    "duration": 33,
    "start_time": "2022-10-19T08:19:22.773Z"
   },
   {
    "duration": 16,
    "start_time": "2022-10-19T08:19:22.808Z"
   },
   {
    "duration": 28,
    "start_time": "2022-10-19T08:19:22.826Z"
   },
   {
    "duration": 58,
    "start_time": "2022-10-19T08:19:22.856Z"
   },
   {
    "duration": 6,
    "start_time": "2022-10-19T08:19:22.917Z"
   },
   {
    "duration": 21,
    "start_time": "2022-10-19T08:19:22.924Z"
   },
   {
    "duration": 67,
    "start_time": "2022-10-19T08:19:22.947Z"
   },
   {
    "duration": 28,
    "start_time": "2022-10-19T08:19:23.016Z"
   },
   {
    "duration": 6,
    "start_time": "2022-10-19T08:19:23.046Z"
   },
   {
    "duration": 665,
    "start_time": "2022-10-19T08:19:23.056Z"
   },
   {
    "duration": 10,
    "start_time": "2022-10-19T08:19:23.723Z"
   },
   {
    "duration": 90,
    "start_time": "2022-10-19T08:19:23.735Z"
   },
   {
    "duration": 71,
    "start_time": "2022-10-19T08:19:23.827Z"
   },
   {
    "duration": 8,
    "start_time": "2022-10-19T08:19:23.899Z"
   },
   {
    "duration": 11,
    "start_time": "2022-10-19T08:19:23.909Z"
   },
   {
    "duration": 15,
    "start_time": "2022-10-19T08:19:23.921Z"
   },
   {
    "duration": 75,
    "start_time": "2022-10-19T08:19:23.938Z"
   },
   {
    "duration": 10,
    "start_time": "2022-10-19T08:19:24.015Z"
   },
   {
    "duration": 72,
    "start_time": "2022-10-19T08:19:24.027Z"
   },
   {
    "duration": 214,
    "start_time": "2022-10-19T08:19:24.101Z"
   },
   {
    "duration": 0,
    "start_time": "2022-10-19T08:19:24.316Z"
   },
   {
    "duration": 0,
    "start_time": "2022-10-19T08:19:24.318Z"
   },
   {
    "duration": 0,
    "start_time": "2022-10-19T08:19:24.319Z"
   },
   {
    "duration": 0,
    "start_time": "2022-10-19T08:19:24.320Z"
   },
   {
    "duration": 0,
    "start_time": "2022-10-19T08:19:24.321Z"
   },
   {
    "duration": 0,
    "start_time": "2022-10-19T08:19:24.322Z"
   },
   {
    "duration": 265,
    "start_time": "2022-10-19T08:19:46.379Z"
   },
   {
    "duration": 157,
    "start_time": "2022-10-19T08:19:50.547Z"
   },
   {
    "duration": 185,
    "start_time": "2022-10-19T08:19:54.709Z"
   },
   {
    "duration": 163,
    "start_time": "2022-10-19T08:19:57.457Z"
   },
   {
    "duration": 243,
    "start_time": "2022-10-19T08:19:59.984Z"
   },
   {
    "duration": 213,
    "start_time": "2022-10-19T08:20:04.442Z"
   },
   {
    "duration": 162,
    "start_time": "2022-10-19T08:20:16.157Z"
   },
   {
    "duration": 43,
    "start_time": "2022-10-19T19:05:20.441Z"
   },
   {
    "duration": 1330,
    "start_time": "2022-10-19T19:05:27.673Z"
   },
   {
    "duration": 441,
    "start_time": "2022-10-19T19:05:29.005Z"
   },
   {
    "duration": 6,
    "start_time": "2022-10-19T19:05:29.449Z"
   },
   {
    "duration": 14,
    "start_time": "2022-10-19T19:05:29.457Z"
   },
   {
    "duration": 33,
    "start_time": "2022-10-19T19:05:29.472Z"
   },
   {
    "duration": 21,
    "start_time": "2022-10-19T19:05:29.507Z"
   },
   {
    "duration": 20,
    "start_time": "2022-10-19T19:05:29.530Z"
   },
   {
    "duration": 17,
    "start_time": "2022-10-19T19:05:29.551Z"
   },
   {
    "duration": 41,
    "start_time": "2022-10-19T19:05:29.569Z"
   },
   {
    "duration": 12,
    "start_time": "2022-10-19T19:05:29.612Z"
   },
   {
    "duration": 5,
    "start_time": "2022-10-19T19:05:29.625Z"
   },
   {
    "duration": 177,
    "start_time": "2022-10-19T19:05:29.631Z"
   },
   {
    "duration": 484,
    "start_time": "2022-10-19T19:05:29.810Z"
   },
   {
    "duration": 0,
    "start_time": "2022-10-19T19:05:30.296Z"
   },
   {
    "duration": 0,
    "start_time": "2022-10-19T19:05:30.297Z"
   },
   {
    "duration": 0,
    "start_time": "2022-10-19T19:05:30.298Z"
   },
   {
    "duration": 0,
    "start_time": "2022-10-19T19:05:30.306Z"
   },
   {
    "duration": 0,
    "start_time": "2022-10-19T19:05:30.306Z"
   },
   {
    "duration": 0,
    "start_time": "2022-10-19T19:05:30.311Z"
   },
   {
    "duration": 0,
    "start_time": "2022-10-19T19:05:30.312Z"
   },
   {
    "duration": 0,
    "start_time": "2022-10-19T19:05:30.313Z"
   },
   {
    "duration": 0,
    "start_time": "2022-10-19T19:05:30.316Z"
   },
   {
    "duration": 0,
    "start_time": "2022-10-19T19:05:30.317Z"
   },
   {
    "duration": 0,
    "start_time": "2022-10-19T19:05:30.318Z"
   },
   {
    "duration": 0,
    "start_time": "2022-10-19T19:05:30.320Z"
   },
   {
    "duration": 0,
    "start_time": "2022-10-19T19:05:30.321Z"
   },
   {
    "duration": 0,
    "start_time": "2022-10-19T19:05:30.322Z"
   },
   {
    "duration": 0,
    "start_time": "2022-10-19T19:05:30.323Z"
   },
   {
    "duration": 0,
    "start_time": "2022-10-19T19:05:30.324Z"
   },
   {
    "duration": 0,
    "start_time": "2022-10-19T19:05:30.325Z"
   },
   {
    "duration": 0,
    "start_time": "2022-10-19T19:05:30.326Z"
   },
   {
    "duration": 0,
    "start_time": "2022-10-19T19:05:30.327Z"
   },
   {
    "duration": 0,
    "start_time": "2022-10-19T19:05:30.328Z"
   },
   {
    "duration": 0,
    "start_time": "2022-10-19T19:05:30.329Z"
   },
   {
    "duration": 0,
    "start_time": "2022-10-19T19:05:30.330Z"
   },
   {
    "duration": 0,
    "start_time": "2022-10-19T19:05:30.331Z"
   },
   {
    "duration": 0,
    "start_time": "2022-10-19T19:05:30.332Z"
   },
   {
    "duration": 0,
    "start_time": "2022-10-19T19:05:30.333Z"
   },
   {
    "duration": 0,
    "start_time": "2022-10-19T19:05:30.334Z"
   },
   {
    "duration": 0,
    "start_time": "2022-10-19T19:05:30.335Z"
   },
   {
    "duration": 0,
    "start_time": "2022-10-19T19:05:30.336Z"
   },
   {
    "duration": 0,
    "start_time": "2022-10-19T19:05:30.337Z"
   },
   {
    "duration": 0,
    "start_time": "2022-10-19T19:05:30.338Z"
   },
   {
    "duration": 0,
    "start_time": "2022-10-19T19:05:30.339Z"
   },
   {
    "duration": 0,
    "start_time": "2022-10-19T19:05:30.340Z"
   },
   {
    "duration": 0,
    "start_time": "2022-10-19T19:05:30.341Z"
   },
   {
    "duration": 0,
    "start_time": "2022-10-19T19:05:30.342Z"
   },
   {
    "duration": 0,
    "start_time": "2022-10-19T19:05:30.343Z"
   },
   {
    "duration": 0,
    "start_time": "2022-10-19T19:05:30.344Z"
   },
   {
    "duration": 0,
    "start_time": "2022-10-19T19:05:30.345Z"
   },
   {
    "duration": 0,
    "start_time": "2022-10-19T19:05:30.346Z"
   },
   {
    "duration": 0,
    "start_time": "2022-10-19T19:05:30.406Z"
   },
   {
    "duration": 0,
    "start_time": "2022-10-19T19:05:30.407Z"
   },
   {
    "duration": 0,
    "start_time": "2022-10-19T19:05:30.408Z"
   },
   {
    "duration": 0,
    "start_time": "2022-10-19T19:05:30.409Z"
   },
   {
    "duration": 0,
    "start_time": "2022-10-19T19:05:30.410Z"
   },
   {
    "duration": 0,
    "start_time": "2022-10-19T19:05:30.411Z"
   },
   {
    "duration": 153,
    "start_time": "2022-10-19T19:06:04.122Z"
   },
   {
    "duration": 6364,
    "start_time": "2022-10-19T19:06:08.520Z"
   },
   {
    "duration": 161,
    "start_time": "2022-10-19T19:06:38.975Z"
   },
   {
    "duration": 154,
    "start_time": "2022-10-19T19:06:42.085Z"
   },
   {
    "duration": 153,
    "start_time": "2022-10-19T19:06:46.238Z"
   },
   {
    "duration": 2983,
    "start_time": "2022-10-19T19:06:49.908Z"
   },
   {
    "duration": 718,
    "start_time": "2022-10-19T19:07:15.347Z"
   },
   {
    "duration": 902,
    "start_time": "2022-10-19T19:07:37.648Z"
   },
   {
    "duration": 164,
    "start_time": "2022-10-19T19:07:46.384Z"
   },
   {
    "duration": 211,
    "start_time": "2022-10-19T19:08:14.922Z"
   },
   {
    "duration": 213,
    "start_time": "2022-10-19T19:08:19.861Z"
   },
   {
    "duration": 131,
    "start_time": "2022-10-19T19:10:22.978Z"
   },
   {
    "duration": 766,
    "start_time": "2022-10-19T19:11:07.729Z"
   },
   {
    "duration": 5863,
    "start_time": "2022-10-19T19:11:12.190Z"
   },
   {
    "duration": 85079,
    "start_time": "2022-10-19T19:11:20.273Z"
   },
   {
    "duration": 229,
    "start_time": "2022-10-19T19:13:05.521Z"
   },
   {
    "duration": 244,
    "start_time": "2022-10-19T19:13:24.232Z"
   },
   {
    "duration": 274,
    "start_time": "2022-10-19T19:13:37.833Z"
   },
   {
    "duration": 233,
    "start_time": "2022-10-19T19:13:43.649Z"
   },
   {
    "duration": 15630,
    "start_time": "2022-10-19T19:13:54.325Z"
   },
   {
    "duration": 205,
    "start_time": "2022-10-19T19:14:29.623Z"
   },
   {
    "duration": 166,
    "start_time": "2022-10-19T19:14:38.531Z"
   },
   {
    "duration": 221,
    "start_time": "2022-10-19T19:14:44.522Z"
   },
   {
    "duration": 223,
    "start_time": "2022-10-19T19:15:15.040Z"
   },
   {
    "duration": 226,
    "start_time": "2022-10-19T19:15:21.418Z"
   },
   {
    "duration": 222,
    "start_time": "2022-10-19T19:15:58.909Z"
   },
   {
    "duration": 209,
    "start_time": "2022-10-19T19:16:08.528Z"
   },
   {
    "duration": 203,
    "start_time": "2022-10-19T19:16:13.640Z"
   },
   {
    "duration": 264,
    "start_time": "2022-10-19T19:17:35.384Z"
   },
   {
    "duration": 279,
    "start_time": "2022-10-19T19:17:41.286Z"
   },
   {
    "duration": 266,
    "start_time": "2022-10-19T19:17:48.310Z"
   },
   {
    "duration": 239,
    "start_time": "2022-10-19T19:17:54.018Z"
   },
   {
    "duration": 255,
    "start_time": "2022-10-19T19:18:06.925Z"
   },
   {
    "duration": 1090,
    "start_time": "2022-10-19T19:18:22.944Z"
   },
   {
    "duration": 125,
    "start_time": "2022-10-19T19:18:24.035Z"
   },
   {
    "duration": 5,
    "start_time": "2022-10-19T19:18:24.161Z"
   },
   {
    "duration": 12,
    "start_time": "2022-10-19T19:18:24.168Z"
   },
   {
    "duration": 39,
    "start_time": "2022-10-19T19:18:24.181Z"
   },
   {
    "duration": 17,
    "start_time": "2022-10-19T19:18:24.221Z"
   },
   {
    "duration": 23,
    "start_time": "2022-10-19T19:18:24.240Z"
   },
   {
    "duration": 21,
    "start_time": "2022-10-19T19:18:24.264Z"
   },
   {
    "duration": 14,
    "start_time": "2022-10-19T19:18:24.304Z"
   },
   {
    "duration": 11,
    "start_time": "2022-10-19T19:18:24.320Z"
   },
   {
    "duration": 4,
    "start_time": "2022-10-19T19:18:24.332Z"
   },
   {
    "duration": 263,
    "start_time": "2022-10-19T19:18:24.337Z"
   },
   {
    "duration": 253,
    "start_time": "2022-10-19T19:18:24.601Z"
   },
   {
    "duration": 238,
    "start_time": "2022-10-19T19:18:24.855Z"
   },
   {
    "duration": 17,
    "start_time": "2022-10-19T19:18:25.094Z"
   },
   {
    "duration": 18,
    "start_time": "2022-10-19T19:18:25.112Z"
   },
   {
    "duration": 41,
    "start_time": "2022-10-19T19:18:25.132Z"
   },
   {
    "duration": 3,
    "start_time": "2022-10-19T19:18:25.175Z"
   },
   {
    "duration": 57,
    "start_time": "2022-10-19T19:18:25.179Z"
   },
   {
    "duration": 4,
    "start_time": "2022-10-19T19:18:25.238Z"
   },
   {
    "duration": 64,
    "start_time": "2022-10-19T19:18:25.243Z"
   },
   {
    "duration": 30,
    "start_time": "2022-10-19T19:18:25.309Z"
   },
   {
    "duration": 4,
    "start_time": "2022-10-19T19:18:25.340Z"
   },
   {
    "duration": 19,
    "start_time": "2022-10-19T19:18:25.345Z"
   },
   {
    "duration": 5,
    "start_time": "2022-10-19T19:18:25.366Z"
   },
   {
    "duration": 52,
    "start_time": "2022-10-19T19:18:25.372Z"
   },
   {
    "duration": 6,
    "start_time": "2022-10-19T19:18:25.425Z"
   },
   {
    "duration": 13,
    "start_time": "2022-10-19T19:18:25.434Z"
   },
   {
    "duration": 18,
    "start_time": "2022-10-19T19:18:25.448Z"
   },
   {
    "duration": 9,
    "start_time": "2022-10-19T19:18:25.468Z"
   },
   {
    "duration": 37,
    "start_time": "2022-10-19T19:18:25.479Z"
   },
   {
    "duration": 10,
    "start_time": "2022-10-19T19:18:25.517Z"
   },
   {
    "duration": 17,
    "start_time": "2022-10-19T19:18:25.528Z"
   },
   {
    "duration": 25,
    "start_time": "2022-10-19T19:18:25.547Z"
   },
   {
    "duration": 50,
    "start_time": "2022-10-19T19:18:25.574Z"
   },
   {
    "duration": 4,
    "start_time": "2022-10-19T19:18:25.625Z"
   },
   {
    "duration": 19,
    "start_time": "2022-10-19T19:18:25.630Z"
   },
   {
    "duration": 23,
    "start_time": "2022-10-19T19:18:25.651Z"
   },
   {
    "duration": 47,
    "start_time": "2022-10-19T19:18:25.676Z"
   },
   {
    "duration": 6,
    "start_time": "2022-10-19T19:18:25.725Z"
   },
   {
    "duration": 309,
    "start_time": "2022-10-19T19:18:25.732Z"
   },
   {
    "duration": 8,
    "start_time": "2022-10-19T19:18:26.042Z"
   },
   {
    "duration": 29,
    "start_time": "2022-10-19T19:18:26.051Z"
   },
   {
    "duration": 28,
    "start_time": "2022-10-19T19:18:26.082Z"
   },
   {
    "duration": 5,
    "start_time": "2022-10-19T19:18:26.112Z"
   },
   {
    "duration": 12,
    "start_time": "2022-10-19T19:18:26.118Z"
   },
   {
    "duration": 17,
    "start_time": "2022-10-19T19:18:26.131Z"
   },
   {
    "duration": 20,
    "start_time": "2022-10-19T19:18:26.149Z"
   },
   {
    "duration": 37,
    "start_time": "2022-10-19T19:18:26.171Z"
   },
   {
    "duration": 17,
    "start_time": "2022-10-19T19:18:26.209Z"
   },
   {
    "duration": 123,
    "start_time": "2022-10-19T19:18:26.228Z"
   },
   {
    "duration": 0,
    "start_time": "2022-10-19T19:18:26.352Z"
   },
   {
    "duration": 0,
    "start_time": "2022-10-19T19:18:26.354Z"
   },
   {
    "duration": 0,
    "start_time": "2022-10-19T19:18:26.355Z"
   },
   {
    "duration": 0,
    "start_time": "2022-10-19T19:18:26.356Z"
   },
   {
    "duration": 0,
    "start_time": "2022-10-19T19:18:26.356Z"
   },
   {
    "duration": 0,
    "start_time": "2022-10-19T19:18:26.357Z"
   },
   {
    "duration": 9,
    "start_time": "2022-10-19T19:22:05.660Z"
   },
   {
    "duration": 23,
    "start_time": "2022-10-19T19:22:09.331Z"
   },
   {
    "duration": 13,
    "start_time": "2022-10-19T19:22:11.166Z"
   },
   {
    "duration": 19,
    "start_time": "2022-10-19T19:22:23.034Z"
   },
   {
    "duration": 13,
    "start_time": "2022-10-19T19:22:36.273Z"
   },
   {
    "duration": 12,
    "start_time": "2022-10-19T19:22:40.092Z"
   },
   {
    "duration": 17,
    "start_time": "2022-10-19T19:22:56.513Z"
   },
   {
    "duration": 13,
    "start_time": "2022-10-19T19:23:06.616Z"
   },
   {
    "duration": 142,
    "start_time": "2022-10-19T19:23:22.245Z"
   },
   {
    "duration": 120,
    "start_time": "2022-10-19T19:23:33.241Z"
   },
   {
    "duration": 198,
    "start_time": "2022-10-19T19:23:54.551Z"
   },
   {
    "duration": 13,
    "start_time": "2022-10-19T19:24:40.819Z"
   },
   {
    "duration": 17,
    "start_time": "2022-10-19T19:24:46.503Z"
   },
   {
    "duration": 13,
    "start_time": "2022-10-19T19:25:02.248Z"
   },
   {
    "duration": 23,
    "start_time": "2022-10-19T19:25:51.647Z"
   },
   {
    "duration": 12,
    "start_time": "2022-10-19T19:25:56.902Z"
   },
   {
    "duration": 16,
    "start_time": "2022-10-19T19:26:02.066Z"
   },
   {
    "duration": 108,
    "start_time": "2022-10-19T19:26:37.865Z"
   },
   {
    "duration": 23,
    "start_time": "2022-10-19T19:26:46.321Z"
   },
   {
    "duration": 121,
    "start_time": "2022-10-19T19:26:56.434Z"
   },
   {
    "duration": 129,
    "start_time": "2022-10-19T19:27:06.640Z"
   },
   {
    "duration": 120,
    "start_time": "2022-10-19T19:28:12.414Z"
   },
   {
    "duration": 147,
    "start_time": "2022-10-19T19:28:36.208Z"
   },
   {
    "duration": 138,
    "start_time": "2022-10-19T19:28:58.711Z"
   },
   {
    "duration": 139,
    "start_time": "2022-10-19T19:29:39.613Z"
   },
   {
    "duration": 220,
    "start_time": "2022-10-19T19:29:47.330Z"
   },
   {
    "duration": 145,
    "start_time": "2022-10-19T19:30:18.300Z"
   },
   {
    "duration": 32,
    "start_time": "2022-10-19T19:31:59.209Z"
   },
   {
    "duration": 166,
    "start_time": "2022-10-19T19:32:01.106Z"
   },
   {
    "duration": 504,
    "start_time": "2022-10-19T19:32:55.953Z"
   },
   {
    "duration": 450,
    "start_time": "2022-10-19T19:33:02.994Z"
   },
   {
    "duration": 479,
    "start_time": "2022-10-19T19:33:12.929Z"
   },
   {
    "duration": 372,
    "start_time": "2022-10-19T19:33:17.663Z"
   },
   {
    "duration": 443,
    "start_time": "2022-10-19T19:33:21.923Z"
   },
   {
    "duration": 321,
    "start_time": "2022-10-19T19:33:48.858Z"
   },
   {
    "duration": 343,
    "start_time": "2022-10-19T19:34:46.109Z"
   },
   {
    "duration": 329,
    "start_time": "2022-10-19T19:34:55.380Z"
   },
   {
    "duration": 320,
    "start_time": "2022-10-19T19:35:06.363Z"
   },
   {
    "duration": 357,
    "start_time": "2022-10-19T19:35:26.043Z"
   },
   {
    "duration": 458,
    "start_time": "2022-10-19T19:35:47.976Z"
   },
   {
    "duration": 112,
    "start_time": "2022-10-19T19:42:05.090Z"
   },
   {
    "duration": 108,
    "start_time": "2022-10-19T19:42:11.946Z"
   },
   {
    "duration": 111,
    "start_time": "2022-10-19T19:42:36.800Z"
   },
   {
    "duration": 135,
    "start_time": "2022-10-19T19:43:01.896Z"
   },
   {
    "duration": 145,
    "start_time": "2022-10-19T19:43:38.171Z"
   },
   {
    "duration": 126,
    "start_time": "2022-10-19T19:43:48.075Z"
   },
   {
    "duration": 105,
    "start_time": "2022-10-19T19:45:04.715Z"
   },
   {
    "duration": 110,
    "start_time": "2022-10-19T19:45:15.697Z"
   },
   {
    "duration": 108,
    "start_time": "2022-10-19T19:45:24.767Z"
   },
   {
    "duration": 105,
    "start_time": "2022-10-19T19:45:28.810Z"
   },
   {
    "duration": 125,
    "start_time": "2022-10-19T19:46:55.951Z"
   },
   {
    "duration": 126,
    "start_time": "2022-10-19T19:47:45.716Z"
   },
   {
    "duration": 115,
    "start_time": "2022-10-19T19:47:49.495Z"
   },
   {
    "duration": 137,
    "start_time": "2022-10-19T19:48:31.848Z"
   },
   {
    "duration": 123,
    "start_time": "2022-10-19T19:48:50.864Z"
   },
   {
    "duration": 148,
    "start_time": "2022-10-19T19:48:58.040Z"
   },
   {
    "duration": 242,
    "start_time": "2022-10-19T19:49:00.147Z"
   },
   {
    "duration": 123,
    "start_time": "2022-10-19T19:49:25.975Z"
   },
   {
    "duration": 128,
    "start_time": "2022-10-19T19:49:28.253Z"
   },
   {
    "duration": 135,
    "start_time": "2022-10-19T19:50:04.728Z"
   },
   {
    "duration": 125,
    "start_time": "2022-10-19T19:50:10.287Z"
   },
   {
    "duration": 158,
    "start_time": "2022-10-19T19:50:50.298Z"
   },
   {
    "duration": 173,
    "start_time": "2022-10-19T19:50:56.279Z"
   },
   {
    "duration": 207,
    "start_time": "2022-10-19T19:51:20.907Z"
   },
   {
    "duration": 172,
    "start_time": "2022-10-19T19:51:23.936Z"
   },
   {
    "duration": 180,
    "start_time": "2022-10-19T19:51:32.528Z"
   },
   {
    "duration": 164,
    "start_time": "2022-10-19T19:51:45.399Z"
   },
   {
    "duration": 145,
    "start_time": "2022-10-19T19:51:52.460Z"
   },
   {
    "duration": 112,
    "start_time": "2022-10-19T19:52:31.440Z"
   },
   {
    "duration": 124,
    "start_time": "2022-10-19T19:52:44.317Z"
   },
   {
    "duration": 198,
    "start_time": "2022-10-19T19:52:49.207Z"
   },
   {
    "duration": 128,
    "start_time": "2022-10-19T19:53:00.619Z"
   },
   {
    "duration": 121,
    "start_time": "2022-10-19T19:53:04.875Z"
   },
   {
    "duration": 274,
    "start_time": "2022-10-19T19:53:07.691Z"
   },
   {
    "duration": 128,
    "start_time": "2022-10-19T19:53:12.260Z"
   },
   {
    "duration": 134,
    "start_time": "2022-10-19T19:53:15.007Z"
   },
   {
    "duration": 105,
    "start_time": "2022-10-19T19:53:23.655Z"
   },
   {
    "duration": 104,
    "start_time": "2022-10-19T19:53:50.255Z"
   },
   {
    "duration": 118,
    "start_time": "2022-10-19T19:53:53.971Z"
   },
   {
    "duration": 110,
    "start_time": "2022-10-19T19:53:58.988Z"
   },
   {
    "duration": 124,
    "start_time": "2022-10-19T19:54:01.817Z"
   },
   {
    "duration": 143,
    "start_time": "2022-10-19T19:54:09.856Z"
   },
   {
    "duration": 137,
    "start_time": "2022-10-19T19:54:13.207Z"
   },
   {
    "duration": 127,
    "start_time": "2022-10-19T19:54:22.230Z"
   },
   {
    "duration": 128,
    "start_time": "2022-10-19T19:54:36.284Z"
   },
   {
    "duration": 68,
    "start_time": "2022-10-19T19:55:20.078Z"
   },
   {
    "duration": 116,
    "start_time": "2022-10-19T19:55:25.119Z"
   },
   {
    "duration": 78,
    "start_time": "2022-10-19T19:55:33.704Z"
   },
   {
    "duration": 120,
    "start_time": "2022-10-19T19:55:36.951Z"
   },
   {
    "duration": 129,
    "start_time": "2022-10-19T19:55:45.309Z"
   },
   {
    "duration": 130,
    "start_time": "2022-10-19T19:55:49.261Z"
   },
   {
    "duration": 120,
    "start_time": "2022-10-19T19:56:01.605Z"
   },
   {
    "duration": 126,
    "start_time": "2022-10-19T19:56:04.287Z"
   },
   {
    "duration": 240,
    "start_time": "2022-10-19T19:56:11.726Z"
   },
   {
    "duration": 136,
    "start_time": "2022-10-19T19:56:29.949Z"
   },
   {
    "duration": 199,
    "start_time": "2022-10-19T19:56:37.982Z"
   },
   {
    "duration": 120,
    "start_time": "2022-10-19T19:56:48.462Z"
   },
   {
    "duration": 119,
    "start_time": "2022-10-19T19:56:53.086Z"
   },
   {
    "duration": 191,
    "start_time": "2022-10-19T19:57:58.618Z"
   },
   {
    "duration": 156,
    "start_time": "2022-10-19T19:58:35.292Z"
   },
   {
    "duration": 172,
    "start_time": "2022-10-19T19:58:40.272Z"
   },
   {
    "duration": 11,
    "start_time": "2022-10-19T19:59:02.780Z"
   },
   {
    "duration": 153,
    "start_time": "2022-10-19T19:59:18.914Z"
   },
   {
    "duration": 150,
    "start_time": "2022-10-19T19:59:40.981Z"
   },
   {
    "duration": 188,
    "start_time": "2022-10-19T19:59:47.300Z"
   },
   {
    "duration": 155,
    "start_time": "2022-10-19T20:00:05.498Z"
   },
   {
    "duration": 94,
    "start_time": "2022-10-19T20:00:18.613Z"
   },
   {
    "duration": 159,
    "start_time": "2022-10-19T20:00:25.198Z"
   },
   {
    "duration": 218,
    "start_time": "2022-10-19T20:00:29.110Z"
   },
   {
    "duration": 97,
    "start_time": "2022-10-19T20:00:40.350Z"
   },
   {
    "duration": 265,
    "start_time": "2022-10-19T20:02:13.164Z"
   },
   {
    "duration": 270,
    "start_time": "2022-10-19T20:02:21.678Z"
   },
   {
    "duration": 164,
    "start_time": "2022-10-19T20:03:29.553Z"
   },
   {
    "duration": 188,
    "start_time": "2022-10-19T20:03:31.640Z"
   },
   {
    "duration": 245,
    "start_time": "2022-10-19T20:03:33.219Z"
   },
   {
    "duration": 1485,
    "start_time": "2022-10-19T20:03:42.050Z"
   },
   {
    "duration": 163,
    "start_time": "2022-10-19T20:04:35.134Z"
   },
   {
    "duration": 170,
    "start_time": "2022-10-19T20:05:04.405Z"
   },
   {
    "duration": 158,
    "start_time": "2022-10-19T20:05:27.067Z"
   },
   {
    "duration": 154,
    "start_time": "2022-10-19T20:05:31.667Z"
   },
   {
    "duration": 14,
    "start_time": "2022-10-19T20:05:46.206Z"
   },
   {
    "duration": 149,
    "start_time": "2022-10-19T20:05:55.226Z"
   },
   {
    "duration": 166,
    "start_time": "2022-10-19T20:06:11.929Z"
   },
   {
    "duration": 114,
    "start_time": "2022-10-19T20:07:35.196Z"
   },
   {
    "duration": 114,
    "start_time": "2022-10-19T20:07:55.792Z"
   },
   {
    "duration": 94,
    "start_time": "2022-10-19T20:10:16.550Z"
   },
   {
    "duration": 106,
    "start_time": "2022-10-19T20:10:26.290Z"
   },
   {
    "duration": 114,
    "start_time": "2022-10-19T20:11:35.699Z"
   },
   {
    "duration": 14,
    "start_time": "2022-10-19T20:11:39.224Z"
   },
   {
    "duration": 14,
    "start_time": "2022-10-19T20:11:52.132Z"
   },
   {
    "duration": 14,
    "start_time": "2022-10-19T20:11:55.939Z"
   },
   {
    "duration": 17,
    "start_time": "2022-10-19T20:12:11.537Z"
   },
   {
    "duration": 108,
    "start_time": "2022-10-19T20:12:34.121Z"
   },
   {
    "duration": 108,
    "start_time": "2022-10-19T20:12:42.402Z"
   },
   {
    "duration": 111,
    "start_time": "2022-10-19T20:12:45.358Z"
   },
   {
    "duration": 122,
    "start_time": "2022-10-19T20:12:47.641Z"
   },
   {
    "duration": 108,
    "start_time": "2022-10-19T20:12:51.206Z"
   },
   {
    "duration": 112,
    "start_time": "2022-10-19T20:13:12.800Z"
   },
   {
    "duration": 239,
    "start_time": "2022-10-19T20:13:15.554Z"
   },
   {
    "duration": 112,
    "start_time": "2022-10-19T20:13:19.340Z"
   },
   {
    "duration": 117,
    "start_time": "2022-10-19T20:13:21.892Z"
   },
   {
    "duration": 15,
    "start_time": "2022-10-19T20:13:50.459Z"
   },
   {
    "duration": 3,
    "start_time": "2022-10-19T20:14:03.394Z"
   },
   {
    "duration": 100,
    "start_time": "2022-10-19T20:14:09.999Z"
   },
   {
    "duration": 91,
    "start_time": "2022-10-19T20:14:19.780Z"
   },
   {
    "duration": 170,
    "start_time": "2022-10-19T20:15:24.874Z"
   },
   {
    "duration": 155,
    "start_time": "2022-10-19T20:15:28.878Z"
   },
   {
    "duration": 165,
    "start_time": "2022-10-19T20:15:39.972Z"
   },
   {
    "duration": 169,
    "start_time": "2022-10-19T20:15:53.066Z"
   },
   {
    "duration": 152,
    "start_time": "2022-10-19T20:16:04.979Z"
   },
   {
    "duration": 174,
    "start_time": "2022-10-19T20:16:09.568Z"
   },
   {
    "duration": 156,
    "start_time": "2022-10-19T20:16:24.714Z"
   },
   {
    "duration": 155,
    "start_time": "2022-10-19T20:16:32.298Z"
   },
   {
    "duration": 182,
    "start_time": "2022-10-19T20:17:11.571Z"
   },
   {
    "duration": 161,
    "start_time": "2022-10-19T20:17:14.824Z"
   },
   {
    "duration": 178,
    "start_time": "2022-10-19T20:18:04.312Z"
   },
   {
    "duration": 337,
    "start_time": "2022-10-19T20:18:11.332Z"
   },
   {
    "duration": 173,
    "start_time": "2022-10-19T20:18:23.389Z"
   },
   {
    "duration": 190,
    "start_time": "2022-10-19T20:18:28.010Z"
   },
   {
    "duration": 152,
    "start_time": "2022-10-19T20:18:31.579Z"
   },
   {
    "duration": 12,
    "start_time": "2022-10-19T20:21:20.883Z"
   },
   {
    "duration": 20,
    "start_time": "2022-10-19T20:24:28.605Z"
   },
   {
    "duration": 23,
    "start_time": "2022-10-19T20:25:40.224Z"
   },
   {
    "duration": 1110,
    "start_time": "2022-10-19T20:26:52.608Z"
   },
   {
    "duration": 1126,
    "start_time": "2022-10-19T20:27:01.413Z"
   },
   {
    "duration": 21,
    "start_time": "2022-10-19T20:27:24.645Z"
   },
   {
    "duration": 1090,
    "start_time": "2022-10-19T20:27:28.298Z"
   },
   {
    "duration": 16,
    "start_time": "2022-10-19T20:28:04.858Z"
   },
   {
    "duration": 9,
    "start_time": "2022-10-19T20:28:06.980Z"
   },
   {
    "duration": 8,
    "start_time": "2022-10-19T20:28:14.108Z"
   },
   {
    "duration": 1068,
    "start_time": "2022-10-19T20:31:10.096Z"
   },
   {
    "duration": 8,
    "start_time": "2022-10-19T20:31:15.178Z"
   },
   {
    "duration": 229,
    "start_time": "2022-10-19T20:34:27.518Z"
   },
   {
    "duration": 188,
    "start_time": "2022-10-19T20:35:17.057Z"
   },
   {
    "duration": 256,
    "start_time": "2022-10-19T20:35:37.196Z"
   },
   {
    "duration": 201,
    "start_time": "2022-10-19T20:36:28.042Z"
   },
   {
    "duration": 213,
    "start_time": "2022-10-19T20:37:07.939Z"
   },
   {
    "duration": 248,
    "start_time": "2022-10-19T20:40:48.072Z"
   },
   {
    "duration": 245,
    "start_time": "2022-10-19T20:41:05.983Z"
   },
   {
    "duration": 9,
    "start_time": "2022-10-19T20:44:14.047Z"
   },
   {
    "duration": 21,
    "start_time": "2022-10-19T20:44:17.276Z"
   },
   {
    "duration": 11,
    "start_time": "2022-10-19T20:44:17.979Z"
   },
   {
    "duration": 164,
    "start_time": "2022-10-19T21:16:25.919Z"
   },
   {
    "duration": 154,
    "start_time": "2022-10-19T21:16:33.024Z"
   },
   {
    "duration": 152,
    "start_time": "2022-10-19T21:16:41.073Z"
   },
   {
    "duration": 160,
    "start_time": "2022-10-19T21:16:52.470Z"
   },
   {
    "duration": 172,
    "start_time": "2022-10-19T21:16:58.901Z"
   },
   {
    "duration": 176,
    "start_time": "2022-10-19T21:17:06.465Z"
   },
   {
    "duration": 339,
    "start_time": "2022-10-19T21:17:10.226Z"
   },
   {
    "duration": 205,
    "start_time": "2022-10-19T21:17:54.479Z"
   },
   {
    "duration": 211,
    "start_time": "2022-10-19T21:18:15.636Z"
   },
   {
    "duration": 215,
    "start_time": "2022-10-19T21:18:24.892Z"
   },
   {
    "duration": 204,
    "start_time": "2022-10-19T21:18:29.618Z"
   },
   {
    "duration": 218,
    "start_time": "2022-10-19T21:18:37.746Z"
   },
   {
    "duration": 184,
    "start_time": "2022-10-19T21:18:44.388Z"
   },
   {
    "duration": 15,
    "start_time": "2022-10-19T21:20:32.619Z"
   },
   {
    "duration": 12,
    "start_time": "2022-10-19T21:20:45.167Z"
   },
   {
    "duration": 20,
    "start_time": "2022-10-19T21:21:19.631Z"
   },
   {
    "duration": 19,
    "start_time": "2022-10-19T21:21:28.529Z"
   },
   {
    "duration": 696,
    "start_time": "2022-10-19T21:22:00.524Z"
   },
   {
    "duration": 721,
    "start_time": "2022-10-19T21:22:09.558Z"
   },
   {
    "duration": 3246,
    "start_time": "2022-10-19T21:35:34.974Z"
   },
   {
    "duration": 26,
    "start_time": "2022-10-19T21:35:48.291Z"
   },
   {
    "duration": 1127,
    "start_time": "2022-10-19T21:35:57.771Z"
   },
   {
    "duration": 131,
    "start_time": "2022-10-19T21:35:58.900Z"
   },
   {
    "duration": 8,
    "start_time": "2022-10-19T21:35:59.032Z"
   },
   {
    "duration": 11,
    "start_time": "2022-10-19T21:35:59.041Z"
   },
   {
    "duration": 25,
    "start_time": "2022-10-19T21:35:59.054Z"
   },
   {
    "duration": 37,
    "start_time": "2022-10-19T21:35:59.081Z"
   },
   {
    "duration": 20,
    "start_time": "2022-10-19T21:35:59.120Z"
   },
   {
    "duration": 16,
    "start_time": "2022-10-19T21:35:59.142Z"
   },
   {
    "duration": 46,
    "start_time": "2022-10-19T21:35:59.160Z"
   },
   {
    "duration": 11,
    "start_time": "2022-10-19T21:35:59.208Z"
   },
   {
    "duration": 3,
    "start_time": "2022-10-19T21:35:59.221Z"
   },
   {
    "duration": 255,
    "start_time": "2022-10-19T21:35:59.225Z"
   },
   {
    "duration": 259,
    "start_time": "2022-10-19T21:35:59.481Z"
   },
   {
    "duration": 243,
    "start_time": "2022-10-19T21:35:59.742Z"
   },
   {
    "duration": 18,
    "start_time": "2022-10-19T21:35:59.987Z"
   },
   {
    "duration": 17,
    "start_time": "2022-10-19T21:36:00.007Z"
   },
   {
    "duration": 41,
    "start_time": "2022-10-19T21:36:00.026Z"
   },
   {
    "duration": 3,
    "start_time": "2022-10-19T21:36:00.069Z"
   },
   {
    "duration": 57,
    "start_time": "2022-10-19T21:36:00.073Z"
   },
   {
    "duration": 4,
    "start_time": "2022-10-19T21:36:00.132Z"
   },
   {
    "duration": 50,
    "start_time": "2022-10-19T21:36:00.138Z"
   },
   {
    "duration": 35,
    "start_time": "2022-10-19T21:36:00.205Z"
   },
   {
    "duration": 3,
    "start_time": "2022-10-19T21:36:00.242Z"
   },
   {
    "duration": 22,
    "start_time": "2022-10-19T21:36:00.247Z"
   },
   {
    "duration": 5,
    "start_time": "2022-10-19T21:36:00.271Z"
   },
   {
    "duration": 48,
    "start_time": "2022-10-19T21:36:00.278Z"
   },
   {
    "duration": 5,
    "start_time": "2022-10-19T21:36:00.328Z"
   },
   {
    "duration": 14,
    "start_time": "2022-10-19T21:36:00.336Z"
   },
   {
    "duration": 15,
    "start_time": "2022-10-19T21:36:00.351Z"
   },
   {
    "duration": 38,
    "start_time": "2022-10-19T21:36:00.367Z"
   },
   {
    "duration": 12,
    "start_time": "2022-10-19T21:36:00.407Z"
   },
   {
    "duration": 14,
    "start_time": "2022-10-19T21:36:00.420Z"
   },
   {
    "duration": 15,
    "start_time": "2022-10-19T21:36:00.435Z"
   },
   {
    "duration": 34,
    "start_time": "2022-10-19T21:36:00.452Z"
   },
   {
    "duration": 358,
    "start_time": "2022-10-19T21:36:00.487Z"
   },
   {
    "duration": 5,
    "start_time": "2022-10-19T21:36:00.846Z"
   },
   {
    "duration": 22,
    "start_time": "2022-10-19T21:36:00.852Z"
   },
   {
    "duration": 55,
    "start_time": "2022-10-19T21:36:00.875Z"
   },
   {
    "duration": 30,
    "start_time": "2022-10-19T21:36:00.932Z"
   },
   {
    "duration": 5,
    "start_time": "2022-10-19T21:36:00.964Z"
   },
   {
    "duration": 323,
    "start_time": "2022-10-19T21:36:00.971Z"
   },
   {
    "duration": 88,
    "start_time": "2022-10-19T21:36:01.305Z"
   },
   {
    "duration": 0,
    "start_time": "2022-10-19T21:36:01.395Z"
   },
   {
    "duration": 0,
    "start_time": "2022-10-19T21:36:01.396Z"
   },
   {
    "duration": 0,
    "start_time": "2022-10-19T21:36:01.397Z"
   },
   {
    "duration": 0,
    "start_time": "2022-10-19T21:36:01.404Z"
   },
   {
    "duration": 0,
    "start_time": "2022-10-19T21:36:01.405Z"
   },
   {
    "duration": 0,
    "start_time": "2022-10-19T21:36:01.406Z"
   },
   {
    "duration": 0,
    "start_time": "2022-10-19T21:36:01.407Z"
   },
   {
    "duration": 0,
    "start_time": "2022-10-19T21:36:01.408Z"
   },
   {
    "duration": 0,
    "start_time": "2022-10-19T21:36:01.409Z"
   },
   {
    "duration": 0,
    "start_time": "2022-10-19T21:36:01.410Z"
   },
   {
    "duration": 0,
    "start_time": "2022-10-19T21:36:01.411Z"
   },
   {
    "duration": 0,
    "start_time": "2022-10-19T21:36:01.412Z"
   },
   {
    "duration": 0,
    "start_time": "2022-10-19T21:36:01.413Z"
   },
   {
    "duration": 0,
    "start_time": "2022-10-19T21:36:01.414Z"
   },
   {
    "duration": 0,
    "start_time": "2022-10-19T21:36:01.415Z"
   },
   {
    "duration": 0,
    "start_time": "2022-10-19T21:36:01.416Z"
   },
   {
    "duration": 0,
    "start_time": "2022-10-19T21:36:01.417Z"
   },
   {
    "duration": 0,
    "start_time": "2022-10-19T21:36:01.418Z"
   },
   {
    "duration": 0,
    "start_time": "2022-10-19T21:36:01.419Z"
   },
   {
    "duration": 318,
    "start_time": "2022-10-19T21:36:47.399Z"
   },
   {
    "duration": 1078,
    "start_time": "2022-10-19T21:36:53.305Z"
   },
   {
    "duration": 122,
    "start_time": "2022-10-19T21:36:54.385Z"
   },
   {
    "duration": 4,
    "start_time": "2022-10-19T21:36:54.509Z"
   },
   {
    "duration": 10,
    "start_time": "2022-10-19T21:36:54.515Z"
   },
   {
    "duration": 27,
    "start_time": "2022-10-19T21:36:54.527Z"
   },
   {
    "duration": 18,
    "start_time": "2022-10-19T21:36:54.556Z"
   },
   {
    "duration": 44,
    "start_time": "2022-10-19T21:36:54.575Z"
   },
   {
    "duration": 16,
    "start_time": "2022-10-19T21:36:54.620Z"
   },
   {
    "duration": 14,
    "start_time": "2022-10-19T21:36:54.638Z"
   },
   {
    "duration": 11,
    "start_time": "2022-10-19T21:36:54.655Z"
   },
   {
    "duration": 5,
    "start_time": "2022-10-19T21:36:54.667Z"
   },
   {
    "duration": 297,
    "start_time": "2022-10-19T21:36:54.673Z"
   },
   {
    "duration": 260,
    "start_time": "2022-10-19T21:36:54.972Z"
   },
   {
    "duration": 242,
    "start_time": "2022-10-19T21:36:55.234Z"
   },
   {
    "duration": 10,
    "start_time": "2022-10-19T21:36:55.478Z"
   },
   {
    "duration": 24,
    "start_time": "2022-10-19T21:36:55.489Z"
   },
   {
    "duration": 39,
    "start_time": "2022-10-19T21:36:55.514Z"
   },
   {
    "duration": 3,
    "start_time": "2022-10-19T21:36:55.554Z"
   },
   {
    "duration": 59,
    "start_time": "2022-10-19T21:36:55.558Z"
   },
   {
    "duration": 4,
    "start_time": "2022-10-19T21:36:55.618Z"
   },
   {
    "duration": 38,
    "start_time": "2022-10-19T21:36:55.623Z"
   },
   {
    "duration": 51,
    "start_time": "2022-10-19T21:36:55.662Z"
   },
   {
    "duration": 4,
    "start_time": "2022-10-19T21:36:55.714Z"
   },
   {
    "duration": 19,
    "start_time": "2022-10-19T21:36:55.719Z"
   },
   {
    "duration": 5,
    "start_time": "2022-10-19T21:36:55.739Z"
   },
   {
    "duration": 31,
    "start_time": "2022-10-19T21:36:55.746Z"
   },
   {
    "duration": 7,
    "start_time": "2022-10-19T21:36:55.804Z"
   },
   {
    "duration": 10,
    "start_time": "2022-10-19T21:36:55.814Z"
   },
   {
    "duration": 15,
    "start_time": "2022-10-19T21:36:55.826Z"
   },
   {
    "duration": 9,
    "start_time": "2022-10-19T21:36:55.843Z"
   },
   {
    "duration": 11,
    "start_time": "2022-10-19T21:36:55.854Z"
   },
   {
    "duration": 44,
    "start_time": "2022-10-19T21:36:55.866Z"
   },
   {
    "duration": 16,
    "start_time": "2022-10-19T21:36:55.911Z"
   },
   {
    "duration": 23,
    "start_time": "2022-10-19T21:36:55.928Z"
   },
   {
    "duration": 354,
    "start_time": "2022-10-19T21:36:55.953Z"
   },
   {
    "duration": 4,
    "start_time": "2022-10-19T21:36:56.309Z"
   },
   {
    "duration": 19,
    "start_time": "2022-10-19T21:36:56.314Z"
   },
   {
    "duration": 27,
    "start_time": "2022-10-19T21:36:56.334Z"
   },
   {
    "duration": 22,
    "start_time": "2022-10-19T21:36:56.362Z"
   },
   {
    "duration": 20,
    "start_time": "2022-10-19T21:36:56.385Z"
   },
   {
    "duration": 313,
    "start_time": "2022-10-19T21:36:56.407Z"
   },
   {
    "duration": 96,
    "start_time": "2022-10-19T21:36:56.721Z"
   },
   {
    "duration": 0,
    "start_time": "2022-10-19T21:36:56.818Z"
   },
   {
    "duration": 0,
    "start_time": "2022-10-19T21:36:56.820Z"
   },
   {
    "duration": 0,
    "start_time": "2022-10-19T21:36:56.820Z"
   },
   {
    "duration": 0,
    "start_time": "2022-10-19T21:36:56.821Z"
   },
   {
    "duration": 0,
    "start_time": "2022-10-19T21:36:56.822Z"
   },
   {
    "duration": 0,
    "start_time": "2022-10-19T21:36:56.823Z"
   },
   {
    "duration": 0,
    "start_time": "2022-10-19T21:36:56.824Z"
   },
   {
    "duration": 0,
    "start_time": "2022-10-19T21:36:56.825Z"
   },
   {
    "duration": 0,
    "start_time": "2022-10-19T21:36:56.826Z"
   },
   {
    "duration": 0,
    "start_time": "2022-10-19T21:36:56.827Z"
   },
   {
    "duration": 0,
    "start_time": "2022-10-19T21:36:56.828Z"
   },
   {
    "duration": 0,
    "start_time": "2022-10-19T21:36:56.829Z"
   },
   {
    "duration": 0,
    "start_time": "2022-10-19T21:36:56.830Z"
   },
   {
    "duration": 0,
    "start_time": "2022-10-19T21:36:56.830Z"
   },
   {
    "duration": 0,
    "start_time": "2022-10-19T21:36:56.831Z"
   },
   {
    "duration": 0,
    "start_time": "2022-10-19T21:36:56.832Z"
   },
   {
    "duration": 0,
    "start_time": "2022-10-19T21:36:56.833Z"
   },
   {
    "duration": 0,
    "start_time": "2022-10-19T21:36:56.834Z"
   },
   {
    "duration": 0,
    "start_time": "2022-10-19T21:36:56.835Z"
   },
   {
    "duration": 14,
    "start_time": "2022-10-19T21:37:43.581Z"
   },
   {
    "duration": 270,
    "start_time": "2022-10-19T21:37:58.228Z"
   },
   {
    "duration": 14,
    "start_time": "2022-10-19T21:38:00.550Z"
   },
   {
    "duration": 1083,
    "start_time": "2022-10-19T21:38:11.604Z"
   },
   {
    "duration": 125,
    "start_time": "2022-10-19T21:38:12.689Z"
   },
   {
    "duration": 4,
    "start_time": "2022-10-19T21:38:12.815Z"
   },
   {
    "duration": 12,
    "start_time": "2022-10-19T21:38:12.821Z"
   },
   {
    "duration": 25,
    "start_time": "2022-10-19T21:38:12.834Z"
   },
   {
    "duration": 17,
    "start_time": "2022-10-19T21:38:12.861Z"
   },
   {
    "duration": 44,
    "start_time": "2022-10-19T21:38:12.880Z"
   },
   {
    "duration": 17,
    "start_time": "2022-10-19T21:38:12.925Z"
   },
   {
    "duration": 14,
    "start_time": "2022-10-19T21:38:12.944Z"
   },
   {
    "duration": 11,
    "start_time": "2022-10-19T21:38:12.961Z"
   },
   {
    "duration": 33,
    "start_time": "2022-10-19T21:38:12.974Z"
   },
   {
    "duration": 248,
    "start_time": "2022-10-19T21:38:13.009Z"
   },
   {
    "duration": 263,
    "start_time": "2022-10-19T21:38:13.259Z"
   },
   {
    "duration": 241,
    "start_time": "2022-10-19T21:38:13.523Z"
   },
   {
    "duration": 10,
    "start_time": "2022-10-19T21:38:13.766Z"
   },
   {
    "duration": 28,
    "start_time": "2022-10-19T21:38:13.778Z"
   },
   {
    "duration": 40,
    "start_time": "2022-10-19T21:38:13.807Z"
   },
   {
    "duration": 2,
    "start_time": "2022-10-19T21:38:13.849Z"
   },
   {
    "duration": 32,
    "start_time": "2022-10-19T21:38:13.853Z"
   },
   {
    "duration": 4,
    "start_time": "2022-10-19T21:38:13.904Z"
   },
   {
    "duration": 37,
    "start_time": "2022-10-19T21:38:13.910Z"
   },
   {
    "duration": 27,
    "start_time": "2022-10-19T21:38:13.949Z"
   },
   {
    "duration": 3,
    "start_time": "2022-10-19T21:38:13.977Z"
   },
   {
    "duration": 16,
    "start_time": "2022-10-19T21:38:14.005Z"
   },
   {
    "duration": 6,
    "start_time": "2022-10-19T21:38:14.022Z"
   },
   {
    "duration": 32,
    "start_time": "2022-10-19T21:38:14.029Z"
   },
   {
    "duration": 5,
    "start_time": "2022-10-19T21:38:14.062Z"
   },
   {
    "duration": 40,
    "start_time": "2022-10-19T21:38:14.071Z"
   },
   {
    "duration": 14,
    "start_time": "2022-10-19T21:38:14.112Z"
   },
   {
    "duration": 10,
    "start_time": "2022-10-19T21:38:14.127Z"
   },
   {
    "duration": 11,
    "start_time": "2022-10-19T21:38:14.138Z"
   },
   {
    "duration": 9,
    "start_time": "2022-10-19T21:38:14.150Z"
   },
   {
    "duration": 16,
    "start_time": "2022-10-19T21:38:14.160Z"
   },
   {
    "duration": 47,
    "start_time": "2022-10-19T21:38:14.178Z"
   },
   {
    "duration": 348,
    "start_time": "2022-10-19T21:38:14.226Z"
   },
   {
    "duration": 5,
    "start_time": "2022-10-19T21:38:14.575Z"
   },
   {
    "duration": 30,
    "start_time": "2022-10-19T21:38:14.581Z"
   },
   {
    "duration": 25,
    "start_time": "2022-10-19T21:38:14.613Z"
   },
   {
    "duration": 22,
    "start_time": "2022-10-19T21:38:14.640Z"
   },
   {
    "duration": 7,
    "start_time": "2022-10-19T21:38:14.663Z"
   },
   {
    "duration": 345,
    "start_time": "2022-10-19T21:38:14.672Z"
   },
   {
    "duration": 15,
    "start_time": "2022-10-19T21:38:15.019Z"
   },
   {
    "duration": 92,
    "start_time": "2022-10-19T21:38:15.035Z"
   },
   {
    "duration": 0,
    "start_time": "2022-10-19T21:38:15.129Z"
   },
   {
    "duration": 0,
    "start_time": "2022-10-19T21:38:15.130Z"
   },
   {
    "duration": 0,
    "start_time": "2022-10-19T21:38:15.130Z"
   },
   {
    "duration": 0,
    "start_time": "2022-10-19T21:38:15.131Z"
   },
   {
    "duration": 0,
    "start_time": "2022-10-19T21:38:15.133Z"
   },
   {
    "duration": 0,
    "start_time": "2022-10-19T21:38:15.133Z"
   },
   {
    "duration": 0,
    "start_time": "2022-10-19T21:38:15.134Z"
   },
   {
    "duration": 0,
    "start_time": "2022-10-19T21:38:15.135Z"
   },
   {
    "duration": 0,
    "start_time": "2022-10-19T21:38:15.136Z"
   },
   {
    "duration": 0,
    "start_time": "2022-10-19T21:38:15.137Z"
   },
   {
    "duration": 0,
    "start_time": "2022-10-19T21:38:15.138Z"
   },
   {
    "duration": 0,
    "start_time": "2022-10-19T21:38:15.139Z"
   },
   {
    "duration": 0,
    "start_time": "2022-10-19T21:38:15.140Z"
   },
   {
    "duration": 0,
    "start_time": "2022-10-19T21:38:15.141Z"
   },
   {
    "duration": 0,
    "start_time": "2022-10-19T21:38:15.142Z"
   },
   {
    "duration": 0,
    "start_time": "2022-10-19T21:38:15.143Z"
   },
   {
    "duration": 0,
    "start_time": "2022-10-19T21:38:15.144Z"
   },
   {
    "duration": 0,
    "start_time": "2022-10-19T21:38:15.144Z"
   },
   {
    "duration": 10,
    "start_time": "2022-10-19T21:38:44.485Z"
   },
   {
    "duration": 204,
    "start_time": "2022-10-19T21:38:45.737Z"
   },
   {
    "duration": 257,
    "start_time": "2022-10-19T21:38:46.799Z"
   },
   {
    "duration": 9,
    "start_time": "2022-10-19T21:38:47.827Z"
   },
   {
    "duration": 36,
    "start_time": "2022-10-19T21:38:48.313Z"
   },
   {
    "duration": 14,
    "start_time": "2022-10-19T21:38:48.517Z"
   },
   {
    "duration": 6,
    "start_time": "2022-10-19T21:38:49.025Z"
   },
   {
    "duration": 12,
    "start_time": "2022-10-19T21:38:49.460Z"
   },
   {
    "duration": 19,
    "start_time": "2022-10-19T21:38:51.101Z"
   },
   {
    "duration": 26,
    "start_time": "2022-10-19T21:38:52.411Z"
   },
   {
    "duration": 1145,
    "start_time": "2022-10-19T21:39:02.369Z"
   },
   {
    "duration": 1113,
    "start_time": "2022-10-19T21:39:09.775Z"
   },
   {
    "duration": 122,
    "start_time": "2022-10-19T21:39:10.889Z"
   },
   {
    "duration": 4,
    "start_time": "2022-10-19T21:39:11.013Z"
   },
   {
    "duration": 11,
    "start_time": "2022-10-19T21:39:11.019Z"
   },
   {
    "duration": 24,
    "start_time": "2022-10-19T21:39:11.031Z"
   },
   {
    "duration": 17,
    "start_time": "2022-10-19T21:39:11.057Z"
   },
   {
    "duration": 43,
    "start_time": "2022-10-19T21:39:11.076Z"
   },
   {
    "duration": 16,
    "start_time": "2022-10-19T21:39:11.120Z"
   },
   {
    "duration": 13,
    "start_time": "2022-10-19T21:39:11.138Z"
   },
   {
    "duration": 11,
    "start_time": "2022-10-19T21:39:11.153Z"
   },
   {
    "duration": 3,
    "start_time": "2022-10-19T21:39:11.165Z"
   },
   {
    "duration": 269,
    "start_time": "2022-10-19T21:39:11.170Z"
   },
   {
    "duration": 268,
    "start_time": "2022-10-19T21:39:11.440Z"
   },
   {
    "duration": 243,
    "start_time": "2022-10-19T21:39:11.709Z"
   },
   {
    "duration": 10,
    "start_time": "2022-10-19T21:39:11.954Z"
   },
   {
    "duration": 16,
    "start_time": "2022-10-19T21:39:11.966Z"
   },
   {
    "duration": 57,
    "start_time": "2022-10-19T21:39:11.984Z"
   },
   {
    "duration": 3,
    "start_time": "2022-10-19T21:39:12.042Z"
   },
   {
    "duration": 31,
    "start_time": "2022-10-19T21:39:12.046Z"
   },
   {
    "duration": 4,
    "start_time": "2022-10-19T21:39:12.079Z"
   },
   {
    "duration": 37,
    "start_time": "2022-10-19T21:39:12.105Z"
   },
   {
    "duration": 30,
    "start_time": "2022-10-19T21:39:12.143Z"
   },
   {
    "duration": 3,
    "start_time": "2022-10-19T21:39:12.175Z"
   },
   {
    "duration": 15,
    "start_time": "2022-10-19T21:39:12.205Z"
   },
   {
    "duration": 6,
    "start_time": "2022-10-19T21:39:12.221Z"
   },
   {
    "duration": 36,
    "start_time": "2022-10-19T21:39:12.229Z"
   },
   {
    "duration": 6,
    "start_time": "2022-10-19T21:39:12.267Z"
   },
   {
    "duration": 33,
    "start_time": "2022-10-19T21:39:12.276Z"
   },
   {
    "duration": 16,
    "start_time": "2022-10-19T21:39:12.310Z"
   },
   {
    "duration": 9,
    "start_time": "2022-10-19T21:39:12.328Z"
   },
   {
    "duration": 14,
    "start_time": "2022-10-19T21:39:12.338Z"
   },
   {
    "duration": 10,
    "start_time": "2022-10-19T21:39:12.354Z"
   },
   {
    "duration": 41,
    "start_time": "2022-10-19T21:39:12.365Z"
   },
   {
    "duration": 24,
    "start_time": "2022-10-19T21:39:12.407Z"
   },
   {
    "duration": 358,
    "start_time": "2022-10-19T21:39:12.432Z"
   },
   {
    "duration": 4,
    "start_time": "2022-10-19T21:39:12.792Z"
   },
   {
    "duration": 15,
    "start_time": "2022-10-19T21:39:12.805Z"
   },
   {
    "duration": 24,
    "start_time": "2022-10-19T21:39:12.822Z"
   },
   {
    "duration": 22,
    "start_time": "2022-10-19T21:39:12.848Z"
   },
   {
    "duration": 6,
    "start_time": "2022-10-19T21:39:12.872Z"
   },
   {
    "duration": 334,
    "start_time": "2022-10-19T21:39:12.879Z"
   },
   {
    "duration": 15,
    "start_time": "2022-10-19T21:39:13.216Z"
   },
   {
    "duration": 10,
    "start_time": "2022-10-19T21:39:13.233Z"
   },
   {
    "duration": 205,
    "start_time": "2022-10-19T21:39:13.245Z"
   },
   {
    "duration": 271,
    "start_time": "2022-10-19T21:39:13.452Z"
   },
   {
    "duration": 9,
    "start_time": "2022-10-19T21:39:13.724Z"
   },
   {
    "duration": 30,
    "start_time": "2022-10-19T21:39:13.734Z"
   },
   {
    "duration": 12,
    "start_time": "2022-10-19T21:39:13.765Z"
   },
   {
    "duration": 26,
    "start_time": "2022-10-19T21:39:13.779Z"
   },
   {
    "duration": 10,
    "start_time": "2022-10-19T21:39:13.807Z"
   },
   {
    "duration": 17,
    "start_time": "2022-10-19T21:39:13.818Z"
   },
   {
    "duration": 21,
    "start_time": "2022-10-19T21:39:13.837Z"
   },
   {
    "duration": 9,
    "start_time": "2022-10-19T21:39:13.859Z"
   },
   {
    "duration": 46,
    "start_time": "2022-10-19T21:39:13.869Z"
   },
   {
    "duration": 691,
    "start_time": "2022-10-19T21:39:13.916Z"
   },
   {
    "duration": 720,
    "start_time": "2022-10-19T21:39:14.608Z"
   },
   {
    "duration": 8,
    "start_time": "2022-10-19T21:39:15.329Z"
   },
   {
    "duration": 12,
    "start_time": "2022-10-19T21:39:15.338Z"
   },
   {
    "duration": 28,
    "start_time": "2022-10-19T21:39:15.351Z"
   },
   {
    "duration": 37,
    "start_time": "2022-10-19T21:39:15.380Z"
   },
   {
    "duration": 10,
    "start_time": "2022-10-19T21:39:15.418Z"
   },
   {
    "duration": 1183,
    "start_time": "2022-10-19T21:40:37.987Z"
   },
   {
    "duration": 4,
    "start_time": "2022-10-19T21:40:58.944Z"
   },
   {
    "duration": 83,
    "start_time": "2022-10-19T21:42:37.364Z"
   },
   {
    "duration": 10,
    "start_time": "2022-10-19T21:42:43.372Z"
   },
   {
    "duration": 8,
    "start_time": "2022-10-19T21:43:00.601Z"
   },
   {
    "duration": 20,
    "start_time": "2022-10-19T21:43:16.124Z"
   },
   {
    "duration": 15,
    "start_time": "2022-10-19T21:43:53.132Z"
   },
   {
    "duration": 11,
    "start_time": "2022-10-19T21:45:10.300Z"
   },
   {
    "duration": 17,
    "start_time": "2022-10-19T21:45:18.318Z"
   },
   {
    "duration": 13,
    "start_time": "2022-10-19T21:45:23.844Z"
   },
   {
    "duration": 15,
    "start_time": "2022-10-19T21:45:36.378Z"
   },
   {
    "duration": 15,
    "start_time": "2022-10-19T21:45:43.126Z"
   },
   {
    "duration": 20,
    "start_time": "2022-10-19T21:46:16.702Z"
   },
   {
    "duration": 14,
    "start_time": "2022-10-19T21:46:45.131Z"
   },
   {
    "duration": 24,
    "start_time": "2022-10-19T21:47:11.795Z"
   },
   {
    "duration": 111,
    "start_time": "2022-10-19T21:47:30.636Z"
   },
   {
    "duration": 109,
    "start_time": "2022-10-19T21:47:34.850Z"
   },
   {
    "duration": 120,
    "start_time": "2022-10-19T21:47:43.382Z"
   },
   {
    "duration": 10,
    "start_time": "2022-10-19T22:02:56.729Z"
   },
   {
    "duration": 7,
    "start_time": "2022-10-19T22:03:01.549Z"
   },
   {
    "duration": 9,
    "start_time": "2022-10-19T22:03:32.259Z"
   },
   {
    "duration": 11,
    "start_time": "2022-10-19T22:03:57.343Z"
   },
   {
    "duration": 9,
    "start_time": "2022-10-19T22:04:46.246Z"
   },
   {
    "duration": 10,
    "start_time": "2022-10-19T22:04:49.277Z"
   },
   {
    "duration": 1383,
    "start_time": "2022-10-21T19:04:54.543Z"
   },
   {
    "duration": 193,
    "start_time": "2022-10-21T19:04:55.928Z"
   },
   {
    "duration": 6,
    "start_time": "2022-10-21T19:04:56.122Z"
   },
   {
    "duration": 15,
    "start_time": "2022-10-21T19:04:56.130Z"
   },
   {
    "duration": 42,
    "start_time": "2022-10-21T19:04:56.146Z"
   },
   {
    "duration": 19,
    "start_time": "2022-10-21T19:04:56.190Z"
   },
   {
    "duration": 24,
    "start_time": "2022-10-21T19:04:56.210Z"
   },
   {
    "duration": 22,
    "start_time": "2022-10-21T19:04:56.254Z"
   },
   {
    "duration": 18,
    "start_time": "2022-10-21T19:04:56.277Z"
   },
   {
    "duration": 13,
    "start_time": "2022-10-21T19:04:56.298Z"
   },
   {
    "duration": 4,
    "start_time": "2022-10-21T19:04:56.313Z"
   },
   {
    "duration": 317,
    "start_time": "2022-10-21T19:04:56.354Z"
   },
   {
    "duration": 310,
    "start_time": "2022-10-21T19:04:56.673Z"
   },
   {
    "duration": 293,
    "start_time": "2022-10-21T19:04:56.985Z"
   },
   {
    "duration": 13,
    "start_time": "2022-10-21T19:04:57.280Z"
   },
   {
    "duration": 32,
    "start_time": "2022-10-21T19:04:57.295Z"
   },
   {
    "duration": 63,
    "start_time": "2022-10-21T19:04:57.329Z"
   },
   {
    "duration": 3,
    "start_time": "2022-10-21T19:04:57.394Z"
   },
   {
    "duration": 60,
    "start_time": "2022-10-21T19:04:57.399Z"
   },
   {
    "duration": 5,
    "start_time": "2022-10-21T19:04:57.461Z"
   },
   {
    "duration": 51,
    "start_time": "2022-10-21T19:04:57.468Z"
   },
   {
    "duration": 57,
    "start_time": "2022-10-21T19:04:57.521Z"
   },
   {
    "duration": 4,
    "start_time": "2022-10-21T19:04:57.580Z"
   },
   {
    "duration": 29,
    "start_time": "2022-10-21T19:04:57.585Z"
   },
   {
    "duration": 6,
    "start_time": "2022-10-21T19:04:57.616Z"
   },
   {
    "duration": 56,
    "start_time": "2022-10-21T19:04:57.623Z"
   },
   {
    "duration": 7,
    "start_time": "2022-10-21T19:04:57.681Z"
   },
   {
    "duration": 17,
    "start_time": "2022-10-21T19:04:57.692Z"
   },
   {
    "duration": 18,
    "start_time": "2022-10-21T19:04:57.710Z"
   },
   {
    "duration": 25,
    "start_time": "2022-10-21T19:04:57.730Z"
   },
   {
    "duration": 15,
    "start_time": "2022-10-21T19:04:57.757Z"
   },
   {
    "duration": 17,
    "start_time": "2022-10-21T19:04:57.773Z"
   },
   {
    "duration": 36,
    "start_time": "2022-10-21T19:04:57.792Z"
   },
   {
    "duration": 28,
    "start_time": "2022-10-21T19:04:57.830Z"
   },
   {
    "duration": 432,
    "start_time": "2022-10-21T19:04:57.859Z"
   },
   {
    "duration": 5,
    "start_time": "2022-10-21T19:04:58.293Z"
   },
   {
    "duration": 32,
    "start_time": "2022-10-21T19:04:58.300Z"
   },
   {
    "duration": 38,
    "start_time": "2022-10-21T19:04:58.333Z"
   },
   {
    "duration": 27,
    "start_time": "2022-10-21T19:04:58.373Z"
   },
   {
    "duration": 7,
    "start_time": "2022-10-21T19:04:58.402Z"
   },
   {
    "duration": 369,
    "start_time": "2022-10-21T19:04:58.411Z"
   },
   {
    "duration": 18,
    "start_time": "2022-10-21T19:04:58.782Z"
   },
   {
    "duration": 12,
    "start_time": "2022-10-21T19:04:58.802Z"
   },
   {
    "duration": 319,
    "start_time": "2022-10-21T19:04:58.816Z"
   },
   {
    "duration": 357,
    "start_time": "2022-10-21T19:04:59.137Z"
   },
   {
    "duration": 11,
    "start_time": "2022-10-21T19:04:59.497Z"
   },
   {
    "duration": 54,
    "start_time": "2022-10-21T19:04:59.510Z"
   },
   {
    "duration": 15,
    "start_time": "2022-10-21T19:04:59.566Z"
   },
   {
    "duration": 12,
    "start_time": "2022-10-21T19:04:59.583Z"
   },
   {
    "duration": 13,
    "start_time": "2022-10-21T19:04:59.597Z"
   },
   {
    "duration": 17,
    "start_time": "2022-10-21T19:04:59.611Z"
   },
   {
    "duration": 32,
    "start_time": "2022-10-21T19:04:59.630Z"
   },
   {
    "duration": 27,
    "start_time": "2022-10-21T19:04:59.664Z"
   },
   {
    "duration": 15,
    "start_time": "2022-10-21T19:04:59.693Z"
   },
   {
    "duration": 52,
    "start_time": "2022-10-21T19:04:59.709Z"
   },
   {
    "duration": 292,
    "start_time": "2022-10-21T19:04:59.763Z"
   },
   {
    "duration": 317,
    "start_time": "2022-10-21T19:05:00.057Z"
   },
   {
    "duration": 10,
    "start_time": "2022-10-21T19:05:00.376Z"
   },
   {
    "duration": 69,
    "start_time": "2022-10-21T19:05:00.387Z"
   },
   {
    "duration": 35,
    "start_time": "2022-10-21T19:05:00.457Z"
   },
   {
    "duration": 70,
    "start_time": "2022-10-21T19:05:00.494Z"
   },
   {
    "duration": 20,
    "start_time": "2022-10-21T19:05:00.565Z"
   },
   {
    "duration": 5,
    "start_time": "2022-10-21T19:08:12.305Z"
   },
   {
    "duration": 7,
    "start_time": "2022-10-21T19:08:22.543Z"
   },
   {
    "duration": 5,
    "start_time": "2022-10-21T19:08:38.006Z"
   },
   {
    "duration": 6,
    "start_time": "2022-10-21T19:08:41.427Z"
   },
   {
    "duration": 6,
    "start_time": "2022-10-21T19:08:44.767Z"
   },
   {
    "duration": 6,
    "start_time": "2022-10-21T19:08:48.957Z"
   },
   {
    "duration": 145,
    "start_time": "2022-10-21T19:19:57.070Z"
   },
   {
    "duration": 161,
    "start_time": "2022-10-21T19:20:04.041Z"
   },
   {
    "duration": 133,
    "start_time": "2022-10-21T19:20:28.283Z"
   },
   {
    "duration": 157,
    "start_time": "2022-10-21T19:20:31.191Z"
   },
   {
    "duration": 18,
    "start_time": "2022-10-21T19:21:25.716Z"
   },
   {
    "duration": 10,
    "start_time": "2022-10-21T19:21:33.713Z"
   },
   {
    "duration": 12,
    "start_time": "2022-10-21T19:22:23.065Z"
   },
   {
    "duration": 11,
    "start_time": "2022-10-21T19:23:26.770Z"
   },
   {
    "duration": 147,
    "start_time": "2022-10-21T19:30:04.836Z"
   },
   {
    "duration": 178,
    "start_time": "2022-10-21T19:30:11.506Z"
   },
   {
    "duration": 133,
    "start_time": "2022-10-21T19:30:23.046Z"
   },
   {
    "duration": 134,
    "start_time": "2022-10-21T19:30:50.905Z"
   },
   {
    "duration": 237,
    "start_time": "2022-10-21T19:30:58.900Z"
   },
   {
    "duration": 45,
    "start_time": "2022-10-21T19:32:50.334Z"
   },
   {
    "duration": 4,
    "start_time": "2022-10-21T19:32:53.195Z"
   },
   {
    "duration": 26,
    "start_time": "2022-10-21T19:33:34.739Z"
   },
   {
    "duration": 43,
    "start_time": "2022-10-21T19:33:40.596Z"
   },
   {
    "duration": 23,
    "start_time": "2022-10-21T19:33:46.295Z"
   },
   {
    "duration": 37,
    "start_time": "2022-10-21T19:33:49.516Z"
   },
   {
    "duration": 27,
    "start_time": "2022-10-21T19:34:11.839Z"
   },
   {
    "duration": 5,
    "start_time": "2022-10-21T19:34:40.542Z"
   },
   {
    "duration": 853,
    "start_time": "2022-10-21T19:37:22.322Z"
   },
   {
    "duration": 8,
    "start_time": "2022-10-21T19:37:31.791Z"
   },
   {
    "duration": 9,
    "start_time": "2022-10-21T19:40:35.194Z"
   },
   {
    "duration": 4,
    "start_time": "2022-10-21T19:41:29.868Z"
   },
   {
    "duration": 12,
    "start_time": "2022-10-21T19:41:35.394Z"
   },
   {
    "duration": 6,
    "start_time": "2022-10-21T19:41:53.783Z"
   },
   {
    "duration": 7,
    "start_time": "2022-10-21T19:41:58.460Z"
   },
   {
    "duration": 15,
    "start_time": "2022-10-21T19:42:11.643Z"
   },
   {
    "duration": 13,
    "start_time": "2022-10-21T19:42:37.255Z"
   },
   {
    "duration": 13,
    "start_time": "2022-10-21T19:43:35.619Z"
   },
   {
    "duration": 16,
    "start_time": "2022-10-21T19:44:46.231Z"
   },
   {
    "duration": 128,
    "start_time": "2022-10-21T19:45:06.154Z"
   },
   {
    "duration": 13,
    "start_time": "2022-10-21T19:45:32.368Z"
   },
   {
    "duration": 15,
    "start_time": "2022-10-21T19:45:42.076Z"
   },
   {
    "duration": 755,
    "start_time": "2022-10-21T19:45:44.106Z"
   },
   {
    "duration": 140,
    "start_time": "2022-10-21T19:45:55.951Z"
   },
   {
    "duration": 4,
    "start_time": "2022-10-21T19:46:53.705Z"
   },
   {
    "duration": 5,
    "start_time": "2022-10-21T19:47:35.768Z"
   },
   {
    "duration": 1250,
    "start_time": "2022-10-21T19:48:12.334Z"
   },
   {
    "duration": 131,
    "start_time": "2022-10-21T19:48:13.586Z"
   },
   {
    "duration": 6,
    "start_time": "2022-10-21T19:48:13.718Z"
   },
   {
    "duration": 34,
    "start_time": "2022-10-21T19:48:13.727Z"
   },
   {
    "duration": 34,
    "start_time": "2022-10-21T19:48:13.763Z"
   },
   {
    "duration": 22,
    "start_time": "2022-10-21T19:48:13.799Z"
   },
   {
    "duration": 54,
    "start_time": "2022-10-21T19:48:13.822Z"
   },
   {
    "duration": 29,
    "start_time": "2022-10-21T19:48:13.878Z"
   },
   {
    "duration": 46,
    "start_time": "2022-10-21T19:48:13.909Z"
   },
   {
    "duration": 16,
    "start_time": "2022-10-21T19:48:13.959Z"
   },
   {
    "duration": 4,
    "start_time": "2022-10-21T19:48:13.977Z"
   },
   {
    "duration": 370,
    "start_time": "2022-10-21T19:48:13.983Z"
   },
   {
    "duration": 330,
    "start_time": "2022-10-21T19:48:14.356Z"
   },
   {
    "duration": 300,
    "start_time": "2022-10-21T19:48:14.688Z"
   },
   {
    "duration": 14,
    "start_time": "2022-10-21T19:48:14.990Z"
   },
   {
    "duration": 55,
    "start_time": "2022-10-21T19:48:15.006Z"
   },
   {
    "duration": 59,
    "start_time": "2022-10-21T19:48:15.063Z"
   },
   {
    "duration": 4,
    "start_time": "2022-10-21T19:48:15.124Z"
   },
   {
    "duration": 58,
    "start_time": "2022-10-21T19:48:15.130Z"
   },
   {
    "duration": 7,
    "start_time": "2022-10-21T19:48:15.191Z"
   },
   {
    "duration": 74,
    "start_time": "2022-10-21T19:48:15.200Z"
   },
   {
    "duration": 38,
    "start_time": "2022-10-21T19:48:15.276Z"
   },
   {
    "duration": 4,
    "start_time": "2022-10-21T19:48:15.316Z"
   },
   {
    "duration": 48,
    "start_time": "2022-10-21T19:48:15.322Z"
   },
   {
    "duration": 9,
    "start_time": "2022-10-21T19:48:15.372Z"
   },
   {
    "duration": 59,
    "start_time": "2022-10-21T19:48:15.383Z"
   },
   {
    "duration": 15,
    "start_time": "2022-10-21T19:48:15.444Z"
   },
   {
    "duration": 18,
    "start_time": "2022-10-21T19:48:15.464Z"
   },
   {
    "duration": 20,
    "start_time": "2022-10-21T19:48:15.484Z"
   },
   {
    "duration": 35,
    "start_time": "2022-10-21T19:48:15.509Z"
   },
   {
    "duration": 36,
    "start_time": "2022-10-21T19:48:15.546Z"
   },
   {
    "duration": 12,
    "start_time": "2022-10-21T19:48:15.584Z"
   },
   {
    "duration": 24,
    "start_time": "2022-10-21T19:48:15.598Z"
   },
   {
    "duration": 47,
    "start_time": "2022-10-21T19:48:15.624Z"
   },
   {
    "duration": 452,
    "start_time": "2022-10-21T19:48:15.673Z"
   },
   {
    "duration": 5,
    "start_time": "2022-10-21T19:48:16.127Z"
   },
   {
    "duration": 38,
    "start_time": "2022-10-21T19:48:16.134Z"
   },
   {
    "duration": 41,
    "start_time": "2022-10-21T19:48:16.175Z"
   },
   {
    "duration": 51,
    "start_time": "2022-10-21T19:48:16.219Z"
   },
   {
    "duration": 8,
    "start_time": "2022-10-21T19:48:16.273Z"
   },
   {
    "duration": 393,
    "start_time": "2022-10-21T19:48:16.283Z"
   },
   {
    "duration": 20,
    "start_time": "2022-10-21T19:48:16.677Z"
   },
   {
    "duration": 33,
    "start_time": "2022-10-21T19:48:16.699Z"
   },
   {
    "duration": 262,
    "start_time": "2022-10-21T19:48:16.734Z"
   },
   {
    "duration": 381,
    "start_time": "2022-10-21T19:48:16.998Z"
   },
   {
    "duration": 12,
    "start_time": "2022-10-21T19:48:17.382Z"
   },
   {
    "duration": 47,
    "start_time": "2022-10-21T19:48:17.396Z"
   },
   {
    "duration": 24,
    "start_time": "2022-10-21T19:48:17.456Z"
   },
   {
    "duration": 7,
    "start_time": "2022-10-21T19:48:17.482Z"
   },
   {
    "duration": 19,
    "start_time": "2022-10-21T19:48:17.491Z"
   },
   {
    "duration": 53,
    "start_time": "2022-10-21T19:48:17.512Z"
   },
   {
    "duration": 6,
    "start_time": "2022-10-21T19:48:17.568Z"
   },
   {
    "duration": 23,
    "start_time": "2022-10-21T19:48:17.576Z"
   },
   {
    "duration": 789,
    "start_time": "2022-10-21T19:48:17.602Z"
   },
   {
    "duration": 0,
    "start_time": "2022-10-21T19:48:18.393Z"
   },
   {
    "duration": 0,
    "start_time": "2022-10-21T19:48:18.394Z"
   },
   {
    "duration": 0,
    "start_time": "2022-10-21T19:48:18.396Z"
   },
   {
    "duration": 0,
    "start_time": "2022-10-21T19:48:18.397Z"
   },
   {
    "duration": 0,
    "start_time": "2022-10-21T19:48:18.399Z"
   },
   {
    "duration": 0,
    "start_time": "2022-10-21T19:48:18.400Z"
   },
   {
    "duration": 0,
    "start_time": "2022-10-21T19:48:18.401Z"
   },
   {
    "duration": 0,
    "start_time": "2022-10-21T19:48:18.403Z"
   },
   {
    "duration": 0,
    "start_time": "2022-10-21T19:48:18.404Z"
   },
   {
    "duration": 0,
    "start_time": "2022-10-21T19:48:18.405Z"
   },
   {
    "duration": 1311,
    "start_time": "2022-10-21T19:49:09.437Z"
   },
   {
    "duration": 998,
    "start_time": "2022-10-21T19:49:24.514Z"
   },
   {
    "duration": 15,
    "start_time": "2022-10-21T19:49:37.751Z"
   },
   {
    "duration": 1144,
    "start_time": "2022-10-21T19:49:45.210Z"
   },
   {
    "duration": 120,
    "start_time": "2022-10-21T19:49:46.358Z"
   },
   {
    "duration": 5,
    "start_time": "2022-10-21T19:49:46.479Z"
   },
   {
    "duration": 12,
    "start_time": "2022-10-21T19:49:46.486Z"
   },
   {
    "duration": 66,
    "start_time": "2022-10-21T19:49:46.500Z"
   },
   {
    "duration": 20,
    "start_time": "2022-10-21T19:49:46.568Z"
   },
   {
    "duration": 23,
    "start_time": "2022-10-21T19:49:46.590Z"
   },
   {
    "duration": 49,
    "start_time": "2022-10-21T19:49:46.614Z"
   },
   {
    "duration": 18,
    "start_time": "2022-10-21T19:49:46.665Z"
   },
   {
    "duration": 13,
    "start_time": "2022-10-21T19:49:46.686Z"
   },
   {
    "duration": 5,
    "start_time": "2022-10-21T19:49:46.701Z"
   },
   {
    "duration": 332,
    "start_time": "2022-10-21T19:49:46.708Z"
   },
   {
    "duration": 322,
    "start_time": "2022-10-21T19:49:47.042Z"
   },
   {
    "duration": 364,
    "start_time": "2022-10-21T19:49:47.366Z"
   },
   {
    "duration": 29,
    "start_time": "2022-10-21T19:49:47.733Z"
   },
   {
    "duration": 25,
    "start_time": "2022-10-21T19:49:47.765Z"
   },
   {
    "duration": 83,
    "start_time": "2022-10-21T19:49:47.792Z"
   },
   {
    "duration": 4,
    "start_time": "2022-10-21T19:49:47.877Z"
   },
   {
    "duration": 41,
    "start_time": "2022-10-21T19:49:47.883Z"
   },
   {
    "duration": 5,
    "start_time": "2022-10-21T19:49:47.926Z"
   },
   {
    "duration": 45,
    "start_time": "2022-10-21T19:49:47.954Z"
   },
   {
    "duration": 31,
    "start_time": "2022-10-21T19:49:48.001Z"
   },
   {
    "duration": 23,
    "start_time": "2022-10-21T19:49:48.034Z"
   },
   {
    "duration": 86,
    "start_time": "2022-10-21T19:49:48.059Z"
   },
   {
    "duration": 31,
    "start_time": "2022-10-21T19:49:48.146Z"
   },
   {
    "duration": 63,
    "start_time": "2022-10-21T19:49:48.179Z"
   },
   {
    "duration": 7,
    "start_time": "2022-10-21T19:49:48.244Z"
   },
   {
    "duration": 39,
    "start_time": "2022-10-21T19:49:48.256Z"
   },
   {
    "duration": 27,
    "start_time": "2022-10-21T19:49:48.297Z"
   },
   {
    "duration": 26,
    "start_time": "2022-10-21T19:49:48.325Z"
   },
   {
    "duration": 36,
    "start_time": "2022-10-21T19:49:48.353Z"
   },
   {
    "duration": 13,
    "start_time": "2022-10-21T19:49:48.392Z"
   },
   {
    "duration": 37,
    "start_time": "2022-10-21T19:49:48.407Z"
   },
   {
    "duration": 44,
    "start_time": "2022-10-21T19:49:48.447Z"
   },
   {
    "duration": 392,
    "start_time": "2022-10-21T19:49:48.493Z"
   },
   {
    "duration": 5,
    "start_time": "2022-10-21T19:49:48.887Z"
   },
   {
    "duration": 33,
    "start_time": "2022-10-21T19:49:48.894Z"
   },
   {
    "duration": 35,
    "start_time": "2022-10-21T19:49:48.929Z"
   },
   {
    "duration": 26,
    "start_time": "2022-10-21T19:49:48.966Z"
   },
   {
    "duration": 7,
    "start_time": "2022-10-21T19:49:48.994Z"
   },
   {
    "duration": 389,
    "start_time": "2022-10-21T19:49:49.003Z"
   },
   {
    "duration": 18,
    "start_time": "2022-10-21T19:49:49.394Z"
   },
   {
    "duration": 12,
    "start_time": "2022-10-21T19:49:49.414Z"
   },
   {
    "duration": 284,
    "start_time": "2022-10-21T19:49:49.427Z"
   },
   {
    "duration": 332,
    "start_time": "2022-10-21T19:49:49.713Z"
   },
   {
    "duration": 11,
    "start_time": "2022-10-21T19:49:50.053Z"
   },
   {
    "duration": 39,
    "start_time": "2022-10-21T19:49:50.066Z"
   },
   {
    "duration": 15,
    "start_time": "2022-10-21T19:49:50.107Z"
   },
   {
    "duration": 31,
    "start_time": "2022-10-21T19:49:50.124Z"
   },
   {
    "duration": 39,
    "start_time": "2022-10-21T19:49:50.157Z"
   },
   {
    "duration": 19,
    "start_time": "2022-10-21T19:49:50.198Z"
   },
   {
    "duration": 16,
    "start_time": "2022-10-21T19:49:50.218Z"
   },
   {
    "duration": 18,
    "start_time": "2022-10-21T19:49:50.236Z"
   },
   {
    "duration": 27,
    "start_time": "2022-10-21T19:49:50.255Z"
   },
   {
    "duration": 21,
    "start_time": "2022-10-21T19:49:50.283Z"
   },
   {
    "duration": 14,
    "start_time": "2022-10-21T19:49:50.306Z"
   },
   {
    "duration": 130,
    "start_time": "2022-10-21T19:49:50.321Z"
   },
   {
    "duration": 16,
    "start_time": "2022-10-21T19:49:50.452Z"
   },
   {
    "duration": 157,
    "start_time": "2022-10-21T19:49:50.470Z"
   },
   {
    "duration": 24,
    "start_time": "2022-10-21T19:49:50.630Z"
   },
   {
    "duration": 21,
    "start_time": "2022-10-21T19:49:50.657Z"
   },
   {
    "duration": 45,
    "start_time": "2022-10-21T19:49:50.680Z"
   },
   {
    "duration": 29,
    "start_time": "2022-10-21T19:49:50.727Z"
   },
   {
    "duration": 13,
    "start_time": "2022-10-21T19:49:50.757Z"
   },
   {
    "duration": 5,
    "start_time": "2022-10-21T19:50:16.931Z"
   },
   {
    "duration": 16,
    "start_time": "2022-10-21T19:51:20.177Z"
   },
   {
    "duration": 13,
    "start_time": "2022-10-21T19:51:22.315Z"
   },
   {
    "duration": 14,
    "start_time": "2022-10-21T19:51:23.123Z"
   },
   {
    "duration": 130,
    "start_time": "2022-10-21T19:51:23.736Z"
   },
   {
    "duration": 15,
    "start_time": "2022-10-21T19:51:25.741Z"
   },
   {
    "duration": 123,
    "start_time": "2022-10-21T19:51:26.298Z"
   },
   {
    "duration": 144,
    "start_time": "2022-10-21T19:51:32.748Z"
   },
   {
    "duration": 1238,
    "start_time": "2022-10-21T19:53:42.658Z"
   },
   {
    "duration": 115,
    "start_time": "2022-10-21T19:53:43.898Z"
   },
   {
    "duration": 6,
    "start_time": "2022-10-21T19:53:44.014Z"
   },
   {
    "duration": 18,
    "start_time": "2022-10-21T19:53:44.022Z"
   },
   {
    "duration": 40,
    "start_time": "2022-10-21T19:53:44.041Z"
   },
   {
    "duration": 27,
    "start_time": "2022-10-21T19:53:44.083Z"
   },
   {
    "duration": 61,
    "start_time": "2022-10-21T19:53:44.112Z"
   },
   {
    "duration": 20,
    "start_time": "2022-10-21T19:53:44.175Z"
   },
   {
    "duration": 17,
    "start_time": "2022-10-21T19:53:44.196Z"
   },
   {
    "duration": 40,
    "start_time": "2022-10-21T19:53:44.216Z"
   },
   {
    "duration": 4,
    "start_time": "2022-10-21T19:53:44.258Z"
   },
   {
    "duration": 309,
    "start_time": "2022-10-21T19:53:44.264Z"
   },
   {
    "duration": 309,
    "start_time": "2022-10-21T19:53:44.575Z"
   },
   {
    "duration": 297,
    "start_time": "2022-10-21T19:53:44.886Z"
   },
   {
    "duration": 12,
    "start_time": "2022-10-21T19:53:45.185Z"
   },
   {
    "duration": 42,
    "start_time": "2022-10-21T19:53:45.200Z"
   },
   {
    "duration": 55,
    "start_time": "2022-10-21T19:53:45.244Z"
   },
   {
    "duration": 4,
    "start_time": "2022-10-21T19:53:45.301Z"
   },
   {
    "duration": 63,
    "start_time": "2022-10-21T19:53:45.307Z"
   },
   {
    "duration": 5,
    "start_time": "2022-10-21T19:53:45.372Z"
   },
   {
    "duration": 62,
    "start_time": "2022-10-21T19:53:45.380Z"
   },
   {
    "duration": 41,
    "start_time": "2022-10-21T19:53:45.445Z"
   },
   {
    "duration": 4,
    "start_time": "2022-10-21T19:53:45.488Z"
   },
   {
    "duration": 42,
    "start_time": "2022-10-21T19:53:45.494Z"
   },
   {
    "duration": 23,
    "start_time": "2022-10-21T19:53:45.538Z"
   },
   {
    "duration": 68,
    "start_time": "2022-10-21T19:53:45.563Z"
   },
   {
    "duration": 8,
    "start_time": "2022-10-21T19:53:45.634Z"
   },
   {
    "duration": 34,
    "start_time": "2022-10-21T19:53:45.653Z"
   },
   {
    "duration": 31,
    "start_time": "2022-10-21T19:53:45.689Z"
   },
   {
    "duration": 15,
    "start_time": "2022-10-21T19:53:45.722Z"
   },
   {
    "duration": 20,
    "start_time": "2022-10-21T19:53:45.739Z"
   },
   {
    "duration": 14,
    "start_time": "2022-10-21T19:53:45.761Z"
   },
   {
    "duration": 38,
    "start_time": "2022-10-21T19:53:45.777Z"
   },
   {
    "duration": 44,
    "start_time": "2022-10-21T19:53:45.817Z"
   },
   {
    "duration": 427,
    "start_time": "2022-10-21T19:53:45.863Z"
   },
   {
    "duration": 6,
    "start_time": "2022-10-21T19:53:46.292Z"
   },
   {
    "duration": 27,
    "start_time": "2022-10-21T19:53:46.300Z"
   },
   {
    "duration": 56,
    "start_time": "2022-10-21T19:53:46.329Z"
   },
   {
    "duration": 34,
    "start_time": "2022-10-21T19:53:46.387Z"
   },
   {
    "duration": 31,
    "start_time": "2022-10-21T19:53:46.423Z"
   },
   {
    "duration": 403,
    "start_time": "2022-10-21T19:53:46.457Z"
   },
   {
    "duration": 23,
    "start_time": "2022-10-21T19:53:46.863Z"
   },
   {
    "duration": 18,
    "start_time": "2022-10-21T19:53:46.889Z"
   },
   {
    "duration": 309,
    "start_time": "2022-10-21T19:53:46.909Z"
   },
   {
    "duration": 358,
    "start_time": "2022-10-21T19:53:47.220Z"
   },
   {
    "duration": 13,
    "start_time": "2022-10-21T19:53:47.580Z"
   },
   {
    "duration": 37,
    "start_time": "2022-10-21T19:53:47.595Z"
   },
   {
    "duration": 42,
    "start_time": "2022-10-21T19:53:47.634Z"
   },
   {
    "duration": 19,
    "start_time": "2022-10-21T19:53:47.678Z"
   },
   {
    "duration": 22,
    "start_time": "2022-10-21T19:53:47.700Z"
   },
   {
    "duration": 33,
    "start_time": "2022-10-21T19:53:47.724Z"
   },
   {
    "duration": 8,
    "start_time": "2022-10-21T19:53:47.759Z"
   },
   {
    "duration": 18,
    "start_time": "2022-10-21T19:53:47.769Z"
   },
   {
    "duration": 21,
    "start_time": "2022-10-21T19:53:47.789Z"
   },
   {
    "duration": 21,
    "start_time": "2022-10-21T19:53:47.812Z"
   },
   {
    "duration": 26,
    "start_time": "2022-10-21T19:53:47.835Z"
   },
   {
    "duration": 161,
    "start_time": "2022-10-21T19:53:47.864Z"
   },
   {
    "duration": 14,
    "start_time": "2022-10-21T19:53:48.028Z"
   },
   {
    "duration": 176,
    "start_time": "2022-10-21T19:53:48.054Z"
   },
   {
    "duration": 24,
    "start_time": "2022-10-21T19:53:48.232Z"
   },
   {
    "duration": 13,
    "start_time": "2022-10-21T19:53:48.258Z"
   },
   {
    "duration": 36,
    "start_time": "2022-10-21T19:53:48.273Z"
   },
   {
    "duration": 46,
    "start_time": "2022-10-21T19:53:48.310Z"
   },
   {
    "duration": 15,
    "start_time": "2022-10-21T19:53:48.358Z"
   },
   {
    "duration": 11,
    "start_time": "2022-10-21T19:54:42.880Z"
   },
   {
    "duration": 12,
    "start_time": "2022-10-21T20:02:21.504Z"
   },
   {
    "duration": 119,
    "start_time": "2022-10-21T20:18:01.698Z"
   },
   {
    "duration": 13,
    "start_time": "2022-10-21T20:18:07.334Z"
   },
   {
    "duration": 38,
    "start_time": "2022-10-21T20:18:09.571Z"
   },
   {
    "duration": 19,
    "start_time": "2022-10-21T20:18:12.200Z"
   },
   {
    "duration": 10,
    "start_time": "2022-10-21T20:18:14.322Z"
   },
   {
    "duration": 10,
    "start_time": "2022-10-21T20:19:39.685Z"
   },
   {
    "duration": 10,
    "start_time": "2022-10-21T20:20:23.733Z"
   },
   {
    "duration": 10,
    "start_time": "2022-10-21T20:21:12.784Z"
   },
   {
    "duration": 9,
    "start_time": "2022-10-21T20:21:39.805Z"
   },
   {
    "duration": 644,
    "start_time": "2022-10-21T20:27:04.425Z"
   },
   {
    "duration": 693,
    "start_time": "2022-10-21T20:27:13.813Z"
   },
   {
    "duration": 35,
    "start_time": "2022-10-21T20:27:35.455Z"
   },
   {
    "duration": 651,
    "start_time": "2022-10-21T20:27:36.713Z"
   },
   {
    "duration": 34,
    "start_time": "2022-10-21T20:27:51.234Z"
   },
   {
    "duration": 394,
    "start_time": "2022-10-21T20:27:52.091Z"
   },
   {
    "duration": 313,
    "start_time": "2022-10-21T20:27:59.227Z"
   },
   {
    "duration": 5,
    "start_time": "2022-10-21T20:29:23.059Z"
   },
   {
    "duration": 20,
    "start_time": "2022-10-21T20:29:24.325Z"
   },
   {
    "duration": 10,
    "start_time": "2022-10-21T20:29:31.967Z"
   },
   {
    "duration": 9,
    "start_time": "2022-10-21T20:30:03.163Z"
   },
   {
    "duration": 10,
    "start_time": "2022-10-21T20:30:25.175Z"
   },
   {
    "duration": 11,
    "start_time": "2022-10-21T20:32:02.662Z"
   },
   {
    "duration": 12,
    "start_time": "2022-10-21T20:35:29.823Z"
   },
   {
    "duration": 4,
    "start_time": "2022-10-21T20:35:34.504Z"
   },
   {
    "duration": 9,
    "start_time": "2022-10-21T20:36:06.166Z"
   },
   {
    "duration": 12,
    "start_time": "2022-10-21T20:36:11.571Z"
   },
   {
    "duration": 5,
    "start_time": "2022-10-21T20:36:33.703Z"
   },
   {
    "duration": 9,
    "start_time": "2022-10-21T20:40:03.130Z"
   },
   {
    "duration": 4,
    "start_time": "2022-10-21T20:41:15.844Z"
   },
   {
    "duration": 16,
    "start_time": "2022-10-21T20:41:18.088Z"
   },
   {
    "duration": 6,
    "start_time": "2022-10-21T20:41:40.495Z"
   },
   {
    "duration": 18,
    "start_time": "2022-10-21T20:42:15.653Z"
   },
   {
    "duration": 5,
    "start_time": "2022-10-21T20:42:26.331Z"
   },
   {
    "duration": 78,
    "start_time": "2022-10-21T20:42:30.904Z"
   },
   {
    "duration": 7,
    "start_time": "2022-10-21T20:42:33.276Z"
   },
   {
    "duration": 15,
    "start_time": "2022-10-21T20:44:17.947Z"
   },
   {
    "duration": 11,
    "start_time": "2022-10-21T20:44:27.846Z"
   },
   {
    "duration": 5,
    "start_time": "2022-10-21T20:44:28.938Z"
   },
   {
    "duration": 693,
    "start_time": "2022-10-21T20:49:30.668Z"
   },
   {
    "duration": 6,
    "start_time": "2022-10-21T20:49:47.197Z"
   },
   {
    "duration": 13,
    "start_time": "2022-10-21T20:50:48.277Z"
   },
   {
    "duration": 34,
    "start_time": "2022-10-21T20:50:49.359Z"
   },
   {
    "duration": 361,
    "start_time": "2022-10-21T20:50:50.141Z"
   },
   {
    "duration": 8,
    "start_time": "2022-10-21T20:50:50.742Z"
   },
   {
    "duration": 17,
    "start_time": "2022-10-21T20:50:51.725Z"
   },
   {
    "duration": 14,
    "start_time": "2022-10-21T20:50:52.669Z"
   },
   {
    "duration": 5,
    "start_time": "2022-10-21T20:50:53.633Z"
   },
   {
    "duration": 7,
    "start_time": "2022-10-21T20:50:54.478Z"
   },
   {
    "duration": 13,
    "start_time": "2022-10-21T20:51:41.197Z"
   },
   {
    "duration": 37,
    "start_time": "2022-10-21T20:51:41.269Z"
   },
   {
    "duration": 328,
    "start_time": "2022-10-21T20:51:41.998Z"
   },
   {
    "duration": 6,
    "start_time": "2022-10-21T20:51:42.712Z"
   },
   {
    "duration": 15,
    "start_time": "2022-10-21T20:51:43.545Z"
   },
   {
    "duration": 10,
    "start_time": "2022-10-21T20:51:44.509Z"
   },
   {
    "duration": 6,
    "start_time": "2022-10-21T20:51:45.586Z"
   },
   {
    "duration": 6,
    "start_time": "2022-10-21T20:51:46.225Z"
   },
   {
    "duration": 11,
    "start_time": "2022-10-21T20:52:36.026Z"
   },
   {
    "duration": 9,
    "start_time": "2022-10-21T20:52:38.080Z"
   },
   {
    "duration": 9,
    "start_time": "2022-10-21T20:52:39.134Z"
   },
   {
    "duration": 11,
    "start_time": "2022-10-21T20:53:14.011Z"
   },
   {
    "duration": 34,
    "start_time": "2022-10-21T20:53:16.052Z"
   },
   {
    "duration": 362,
    "start_time": "2022-10-21T20:53:16.829Z"
   },
   {
    "duration": 7,
    "start_time": "2022-10-21T20:53:17.432Z"
   },
   {
    "duration": 15,
    "start_time": "2022-10-21T20:53:18.132Z"
   },
   {
    "duration": 11,
    "start_time": "2022-10-21T20:53:18.603Z"
   },
   {
    "duration": 4,
    "start_time": "2022-10-21T20:53:19.473Z"
   },
   {
    "duration": 7,
    "start_time": "2022-10-21T20:53:20.050Z"
   },
   {
    "duration": 12,
    "start_time": "2022-10-21T20:55:03.763Z"
   },
   {
    "duration": 37,
    "start_time": "2022-10-21T20:55:05.950Z"
   },
   {
    "duration": 365,
    "start_time": "2022-10-21T20:55:06.351Z"
   },
   {
    "duration": 6,
    "start_time": "2022-10-21T20:55:06.863Z"
   },
   {
    "duration": 17,
    "start_time": "2022-10-21T20:55:07.382Z"
   },
   {
    "duration": 10,
    "start_time": "2022-10-21T20:55:07.844Z"
   },
   {
    "duration": 5,
    "start_time": "2022-10-21T20:55:08.341Z"
   },
   {
    "duration": 7,
    "start_time": "2022-10-21T20:55:08.890Z"
   },
   {
    "duration": 9,
    "start_time": "2022-10-21T20:56:48.739Z"
   },
   {
    "duration": 9,
    "start_time": "2022-10-21T20:58:25.213Z"
   },
   {
    "duration": 10,
    "start_time": "2022-10-21T20:58:33.547Z"
   },
   {
    "duration": 9,
    "start_time": "2022-10-21T20:58:48.296Z"
   },
   {
    "duration": 49,
    "start_time": "2022-10-21T20:58:54.053Z"
   },
   {
    "duration": 10,
    "start_time": "2022-10-21T20:58:58.041Z"
   },
   {
    "duration": 5,
    "start_time": "2022-10-21T20:59:08.128Z"
   },
   {
    "duration": 6,
    "start_time": "2022-10-21T20:59:08.661Z"
   },
   {
    "duration": 11,
    "start_time": "2022-10-21T20:59:40.358Z"
   },
   {
    "duration": 38,
    "start_time": "2022-10-21T20:59:40.371Z"
   },
   {
    "duration": 356,
    "start_time": "2022-10-21T20:59:40.474Z"
   },
   {
    "duration": 6,
    "start_time": "2022-10-21T20:59:40.832Z"
   },
   {
    "duration": 16,
    "start_time": "2022-10-21T20:59:41.306Z"
   },
   {
    "duration": 11,
    "start_time": "2022-10-21T20:59:42.057Z"
   },
   {
    "duration": 5,
    "start_time": "2022-10-21T20:59:42.721Z"
   },
   {
    "duration": 7,
    "start_time": "2022-10-21T20:59:43.186Z"
   },
   {
    "duration": 13,
    "start_time": "2022-10-21T21:00:35.513Z"
   },
   {
    "duration": 35,
    "start_time": "2022-10-21T21:00:36.536Z"
   },
   {
    "duration": 338,
    "start_time": "2022-10-21T21:00:37.098Z"
   },
   {
    "duration": 7,
    "start_time": "2022-10-21T21:00:37.513Z"
   },
   {
    "duration": 17,
    "start_time": "2022-10-21T21:00:38.144Z"
   },
   {
    "duration": 11,
    "start_time": "2022-10-21T21:00:38.407Z"
   },
   {
    "duration": 5,
    "start_time": "2022-10-21T21:00:39.193Z"
   },
   {
    "duration": 6,
    "start_time": "2022-10-21T21:00:39.585Z"
   },
   {
    "duration": 14,
    "start_time": "2022-10-21T21:01:11.358Z"
   },
   {
    "duration": 36,
    "start_time": "2022-10-21T21:01:11.888Z"
   },
   {
    "duration": 349,
    "start_time": "2022-10-21T21:01:12.205Z"
   },
   {
    "duration": 9,
    "start_time": "2022-10-21T21:01:12.758Z"
   },
   {
    "duration": 22,
    "start_time": "2022-10-21T21:01:13.142Z"
   },
   {
    "duration": 12,
    "start_time": "2022-10-21T21:01:13.423Z"
   },
   {
    "duration": 5,
    "start_time": "2022-10-21T21:01:13.812Z"
   },
   {
    "duration": 7,
    "start_time": "2022-10-21T21:01:14.210Z"
   },
   {
    "duration": 12,
    "start_time": "2022-10-21T21:01:30.578Z"
   },
   {
    "duration": 36,
    "start_time": "2022-10-21T21:01:31.025Z"
   },
   {
    "duration": 411,
    "start_time": "2022-10-21T21:01:31.354Z"
   },
   {
    "duration": 7,
    "start_time": "2022-10-21T21:01:31.767Z"
   },
   {
    "duration": 16,
    "start_time": "2022-10-21T21:01:32.013Z"
   },
   {
    "duration": 9,
    "start_time": "2022-10-21T21:01:32.175Z"
   },
   {
    "duration": 6,
    "start_time": "2022-10-21T21:01:32.671Z"
   },
   {
    "duration": 7,
    "start_time": "2022-10-21T21:01:32.967Z"
   },
   {
    "duration": 12,
    "start_time": "2022-10-21T21:02:26.433Z"
   },
   {
    "duration": 36,
    "start_time": "2022-10-21T21:02:27.884Z"
   },
   {
    "duration": 350,
    "start_time": "2022-10-21T21:02:28.411Z"
   },
   {
    "duration": 6,
    "start_time": "2022-10-21T21:02:28.763Z"
   },
   {
    "duration": 15,
    "start_time": "2022-10-21T21:02:29.295Z"
   },
   {
    "duration": 10,
    "start_time": "2022-10-21T21:02:29.689Z"
   },
   {
    "duration": 6,
    "start_time": "2022-10-21T21:02:30.095Z"
   },
   {
    "duration": 7,
    "start_time": "2022-10-21T21:02:30.573Z"
   },
   {
    "duration": 9,
    "start_time": "2022-10-21T21:04:05.875Z"
   },
   {
    "duration": 12,
    "start_time": "2022-10-21T21:05:24.409Z"
   },
   {
    "duration": 37,
    "start_time": "2022-10-21T21:05:25.525Z"
   },
   {
    "duration": 397,
    "start_time": "2022-10-21T21:05:26.010Z"
   },
   {
    "duration": 7,
    "start_time": "2022-10-21T21:05:26.504Z"
   },
   {
    "duration": 16,
    "start_time": "2022-10-21T21:05:26.669Z"
   },
   {
    "duration": 11,
    "start_time": "2022-10-21T21:05:27.066Z"
   },
   {
    "duration": 4,
    "start_time": "2022-10-21T21:05:27.555Z"
   },
   {
    "duration": 6,
    "start_time": "2022-10-21T21:05:27.946Z"
   },
   {
    "duration": 12,
    "start_time": "2022-10-21T21:05:38.433Z"
   },
   {
    "duration": 37,
    "start_time": "2022-10-21T21:05:38.896Z"
   },
   {
    "duration": 327,
    "start_time": "2022-10-21T21:05:39.286Z"
   },
   {
    "duration": 8,
    "start_time": "2022-10-21T21:05:39.663Z"
   },
   {
    "duration": 17,
    "start_time": "2022-10-21T21:05:40.392Z"
   },
   {
    "duration": 10,
    "start_time": "2022-10-21T21:05:40.529Z"
   },
   {
    "duration": 5,
    "start_time": "2022-10-21T21:05:41.186Z"
   },
   {
    "duration": 8,
    "start_time": "2022-10-21T21:05:41.740Z"
   },
   {
    "duration": 11,
    "start_time": "2022-10-21T21:06:34.758Z"
   },
   {
    "duration": 13,
    "start_time": "2022-10-21T21:07:49.722Z"
   },
   {
    "duration": 37,
    "start_time": "2022-10-21T21:07:51.017Z"
   },
   {
    "duration": 407,
    "start_time": "2022-10-21T21:07:51.378Z"
   },
   {
    "duration": 7,
    "start_time": "2022-10-21T21:07:51.787Z"
   },
   {
    "duration": 16,
    "start_time": "2022-10-21T21:07:52.258Z"
   },
   {
    "duration": 11,
    "start_time": "2022-10-21T21:07:52.751Z"
   },
   {
    "duration": 4,
    "start_time": "2022-10-21T21:07:53.309Z"
   },
   {
    "duration": 7,
    "start_time": "2022-10-21T21:07:53.700Z"
   },
   {
    "duration": 12,
    "start_time": "2022-10-21T21:09:09.395Z"
   },
   {
    "duration": 11,
    "start_time": "2022-10-21T21:09:16.146Z"
   },
   {
    "duration": 12,
    "start_time": "2022-10-21T21:09:24.934Z"
   },
   {
    "duration": 37,
    "start_time": "2022-10-21T21:09:27.025Z"
   },
   {
    "duration": 369,
    "start_time": "2022-10-21T21:09:27.489Z"
   },
   {
    "duration": 7,
    "start_time": "2022-10-21T21:09:27.963Z"
   },
   {
    "duration": 16,
    "start_time": "2022-10-21T21:09:28.545Z"
   },
   {
    "duration": 11,
    "start_time": "2022-10-21T21:09:29.123Z"
   },
   {
    "duration": 6,
    "start_time": "2022-10-21T21:09:29.601Z"
   },
   {
    "duration": 6,
    "start_time": "2022-10-21T21:09:30.170Z"
   },
   {
    "duration": 14,
    "start_time": "2022-10-21T21:09:57.434Z"
   },
   {
    "duration": 34,
    "start_time": "2022-10-21T21:10:00.350Z"
   },
   {
    "duration": 364,
    "start_time": "2022-10-21T21:10:00.747Z"
   },
   {
    "duration": 7,
    "start_time": "2022-10-21T21:10:01.235Z"
   },
   {
    "duration": 19,
    "start_time": "2022-10-21T21:10:01.627Z"
   },
   {
    "duration": 11,
    "start_time": "2022-10-21T21:10:01.943Z"
   },
   {
    "duration": 5,
    "start_time": "2022-10-21T21:10:02.773Z"
   },
   {
    "duration": 17,
    "start_time": "2022-10-21T21:10:18.513Z"
   },
   {
    "duration": 40,
    "start_time": "2022-10-21T21:10:21.676Z"
   },
   {
    "duration": 405,
    "start_time": "2022-10-21T21:10:22.208Z"
   },
   {
    "duration": 6,
    "start_time": "2022-10-21T21:10:22.628Z"
   },
   {
    "duration": 17,
    "start_time": "2022-10-21T21:10:23.360Z"
   },
   {
    "duration": 11,
    "start_time": "2022-10-21T21:10:23.948Z"
   },
   {
    "duration": 5,
    "start_time": "2022-10-21T21:10:37.555Z"
   },
   {
    "duration": 6,
    "start_time": "2022-10-21T21:10:38.082Z"
   },
   {
    "duration": 15,
    "start_time": "2022-10-21T21:11:18.610Z"
   },
   {
    "duration": 34,
    "start_time": "2022-10-21T21:11:19.629Z"
   },
   {
    "duration": 401,
    "start_time": "2022-10-21T21:11:20.070Z"
   },
   {
    "duration": 7,
    "start_time": "2022-10-21T21:11:20.473Z"
   },
   {
    "duration": 15,
    "start_time": "2022-10-21T21:11:20.715Z"
   },
   {
    "duration": 10,
    "start_time": "2022-10-21T21:11:21.138Z"
   },
   {
    "duration": 6,
    "start_time": "2022-10-21T21:11:21.504Z"
   },
   {
    "duration": 7,
    "start_time": "2022-10-21T21:11:21.979Z"
   },
   {
    "duration": 15,
    "start_time": "2022-10-21T21:12:00.216Z"
   },
   {
    "duration": 35,
    "start_time": "2022-10-21T21:12:01.056Z"
   },
   {
    "duration": 425,
    "start_time": "2022-10-21T21:12:01.359Z"
   },
   {
    "duration": 8,
    "start_time": "2022-10-21T21:12:01.785Z"
   },
   {
    "duration": 17,
    "start_time": "2022-10-21T21:12:01.873Z"
   },
   {
    "duration": 10,
    "start_time": "2022-10-21T21:12:02.105Z"
   },
   {
    "duration": 5,
    "start_time": "2022-10-21T21:12:02.418Z"
   },
   {
    "duration": 7,
    "start_time": "2022-10-21T21:12:02.873Z"
   },
   {
    "duration": 52,
    "start_time": "2022-10-21T21:12:25.020Z"
   },
   {
    "duration": 10,
    "start_time": "2022-10-21T21:12:29.478Z"
   },
   {
    "duration": 10,
    "start_time": "2022-10-21T21:12:35.768Z"
   },
   {
    "duration": 9,
    "start_time": "2022-10-21T21:12:43.382Z"
   },
   {
    "duration": 10,
    "start_time": "2022-10-21T21:17:55.901Z"
   },
   {
    "duration": 34,
    "start_time": "2022-10-21T21:17:56.974Z"
   },
   {
    "duration": 315,
    "start_time": "2022-10-21T21:17:57.292Z"
   },
   {
    "duration": 7,
    "start_time": "2022-10-21T21:17:57.684Z"
   },
   {
    "duration": 15,
    "start_time": "2022-10-21T21:17:57.866Z"
   },
   {
    "duration": 11,
    "start_time": "2022-10-21T21:17:58.416Z"
   },
   {
    "duration": 6,
    "start_time": "2022-10-21T21:18:01.086Z"
   },
   {
    "duration": 7,
    "start_time": "2022-10-21T21:18:02.532Z"
   },
   {
    "duration": 11,
    "start_time": "2022-10-21T21:18:22.286Z"
   },
   {
    "duration": 34,
    "start_time": "2022-10-21T21:18:25.133Z"
   },
   {
    "duration": 319,
    "start_time": "2022-10-21T21:18:25.431Z"
   },
   {
    "duration": 8,
    "start_time": "2022-10-21T21:18:25.799Z"
   },
   {
    "duration": 16,
    "start_time": "2022-10-21T21:18:26.155Z"
   },
   {
    "duration": 14,
    "start_time": "2022-10-21T21:18:26.704Z"
   },
   {
    "duration": 11,
    "start_time": "2022-10-21T21:18:36.089Z"
   },
   {
    "duration": 36,
    "start_time": "2022-10-21T21:18:37.341Z"
   },
   {
    "duration": 334,
    "start_time": "2022-10-21T21:18:37.568Z"
   },
   {
    "duration": 6,
    "start_time": "2022-10-21T21:18:37.905Z"
   },
   {
    "duration": 16,
    "start_time": "2022-10-21T21:18:38.187Z"
   },
   {
    "duration": 11,
    "start_time": "2022-10-21T21:18:38.645Z"
   },
   {
    "duration": 12,
    "start_time": "2022-10-21T21:19:00.881Z"
   },
   {
    "duration": 41,
    "start_time": "2022-10-21T21:19:01.670Z"
   },
   {
    "duration": 376,
    "start_time": "2022-10-21T21:19:02.066Z"
   },
   {
    "duration": 8,
    "start_time": "2022-10-21T21:19:02.454Z"
   },
   {
    "duration": 17,
    "start_time": "2022-10-21T21:19:02.814Z"
   },
   {
    "duration": 10,
    "start_time": "2022-10-21T21:19:03.150Z"
   },
   {
    "duration": 5,
    "start_time": "2022-10-21T21:19:03.788Z"
   },
   {
    "duration": 12,
    "start_time": "2022-10-21T21:19:45.431Z"
   },
   {
    "duration": 36,
    "start_time": "2022-10-21T21:19:47.413Z"
   },
   {
    "duration": 294,
    "start_time": "2022-10-21T21:19:47.805Z"
   },
   {
    "duration": 9,
    "start_time": "2022-10-21T21:19:48.205Z"
   },
   {
    "duration": 14,
    "start_time": "2022-10-21T21:19:49.014Z"
   },
   {
    "duration": 11,
    "start_time": "2022-10-21T21:19:49.698Z"
   },
   {
    "duration": 12,
    "start_time": "2022-10-21T21:21:55.320Z"
   },
   {
    "duration": 35,
    "start_time": "2022-10-21T21:21:56.369Z"
   },
   {
    "duration": 326,
    "start_time": "2022-10-21T21:21:56.602Z"
   },
   {
    "duration": 7,
    "start_time": "2022-10-21T21:21:57.073Z"
   },
   {
    "duration": 14,
    "start_time": "2022-10-21T21:21:57.811Z"
   },
   {
    "duration": 10,
    "start_time": "2022-10-21T21:21:58.496Z"
   },
   {
    "duration": 1234,
    "start_time": "2022-10-21T21:22:04.800Z"
   },
   {
    "duration": 116,
    "start_time": "2022-10-21T21:22:06.036Z"
   },
   {
    "duration": 7,
    "start_time": "2022-10-21T21:22:06.154Z"
   },
   {
    "duration": 14,
    "start_time": "2022-10-21T21:22:06.163Z"
   },
   {
    "duration": 31,
    "start_time": "2022-10-21T21:22:06.179Z"
   },
   {
    "duration": 45,
    "start_time": "2022-10-21T21:22:06.212Z"
   },
   {
    "duration": 30,
    "start_time": "2022-10-21T21:22:06.261Z"
   },
   {
    "duration": 21,
    "start_time": "2022-10-21T21:22:06.293Z"
   },
   {
    "duration": 42,
    "start_time": "2022-10-21T21:22:06.316Z"
   },
   {
    "duration": 16,
    "start_time": "2022-10-21T21:22:06.362Z"
   },
   {
    "duration": 5,
    "start_time": "2022-10-21T21:22:06.380Z"
   },
   {
    "duration": 336,
    "start_time": "2022-10-21T21:22:06.387Z"
   },
   {
    "duration": 314,
    "start_time": "2022-10-21T21:22:06.724Z"
   },
   {
    "duration": 294,
    "start_time": "2022-10-21T21:22:07.040Z"
   },
   {
    "duration": 23,
    "start_time": "2022-10-21T21:22:07.336Z"
   },
   {
    "duration": 33,
    "start_time": "2022-10-21T21:22:07.361Z"
   },
   {
    "duration": 59,
    "start_time": "2022-10-21T21:22:07.396Z"
   },
   {
    "duration": 2,
    "start_time": "2022-10-21T21:22:07.457Z"
   },
   {
    "duration": 45,
    "start_time": "2022-10-21T21:22:07.461Z"
   },
   {
    "duration": 6,
    "start_time": "2022-10-21T21:22:07.507Z"
   },
   {
    "duration": 70,
    "start_time": "2022-10-21T21:22:07.514Z"
   },
   {
    "duration": 36,
    "start_time": "2022-10-21T21:22:07.586Z"
   },
   {
    "duration": 4,
    "start_time": "2022-10-21T21:22:07.624Z"
   },
   {
    "duration": 48,
    "start_time": "2022-10-21T21:22:07.629Z"
   },
   {
    "duration": 7,
    "start_time": "2022-10-21T21:22:07.679Z"
   },
   {
    "duration": 44,
    "start_time": "2022-10-21T21:22:07.687Z"
   },
   {
    "duration": 7,
    "start_time": "2022-10-21T21:22:07.733Z"
   },
   {
    "duration": 13,
    "start_time": "2022-10-21T21:22:07.754Z"
   },
   {
    "duration": 24,
    "start_time": "2022-10-21T21:22:07.769Z"
   },
   {
    "duration": 13,
    "start_time": "2022-10-21T21:22:07.795Z"
   },
   {
    "duration": 18,
    "start_time": "2022-10-21T21:22:07.810Z"
   },
   {
    "duration": 34,
    "start_time": "2022-10-21T21:22:07.830Z"
   },
   {
    "duration": 20,
    "start_time": "2022-10-21T21:22:07.866Z"
   },
   {
    "duration": 29,
    "start_time": "2022-10-21T21:22:07.888Z"
   },
   {
    "duration": 426,
    "start_time": "2022-10-21T21:22:07.919Z"
   },
   {
    "duration": 9,
    "start_time": "2022-10-21T21:22:08.347Z"
   },
   {
    "duration": 33,
    "start_time": "2022-10-21T21:22:08.358Z"
   },
   {
    "duration": 33,
    "start_time": "2022-10-21T21:22:08.393Z"
   },
   {
    "duration": 45,
    "start_time": "2022-10-21T21:22:08.427Z"
   },
   {
    "duration": 10,
    "start_time": "2022-10-21T21:22:08.474Z"
   },
   {
    "duration": 394,
    "start_time": "2022-10-21T21:22:08.486Z"
   },
   {
    "duration": 18,
    "start_time": "2022-10-21T21:22:08.882Z"
   },
   {
    "duration": 20,
    "start_time": "2022-10-21T21:22:08.901Z"
   },
   {
    "duration": 270,
    "start_time": "2022-10-21T21:22:08.923Z"
   },
   {
    "duration": 350,
    "start_time": "2022-10-21T21:22:09.195Z"
   },
   {
    "duration": 15,
    "start_time": "2022-10-21T21:22:09.547Z"
   },
   {
    "duration": 40,
    "start_time": "2022-10-21T21:22:09.564Z"
   },
   {
    "duration": 16,
    "start_time": "2022-10-21T21:22:09.606Z"
   },
   {
    "duration": 78,
    "start_time": "2022-10-21T21:22:09.624Z"
   },
   {
    "duration": 22,
    "start_time": "2022-10-21T21:22:09.704Z"
   },
   {
    "duration": 44,
    "start_time": "2022-10-21T21:22:09.728Z"
   },
   {
    "duration": 7,
    "start_time": "2022-10-21T21:22:09.775Z"
   },
   {
    "duration": 17,
    "start_time": "2022-10-21T21:22:09.784Z"
   },
   {
    "duration": 21,
    "start_time": "2022-10-21T21:22:09.804Z"
   },
   {
    "duration": 41,
    "start_time": "2022-10-21T21:22:09.827Z"
   },
   {
    "duration": 20,
    "start_time": "2022-10-21T21:22:09.870Z"
   },
   {
    "duration": 152,
    "start_time": "2022-10-21T21:22:09.893Z"
   },
   {
    "duration": 22,
    "start_time": "2022-10-21T21:22:10.047Z"
   },
   {
    "duration": 167,
    "start_time": "2022-10-21T21:22:10.072Z"
   },
   {
    "duration": 16,
    "start_time": "2022-10-21T21:22:10.241Z"
   },
   {
    "duration": 22,
    "start_time": "2022-10-21T21:22:10.259Z"
   },
   {
    "duration": 24,
    "start_time": "2022-10-21T21:22:10.282Z"
   },
   {
    "duration": 46,
    "start_time": "2022-10-21T21:22:10.308Z"
   },
   {
    "duration": 365,
    "start_time": "2022-10-21T21:22:10.356Z"
   },
   {
    "duration": 8,
    "start_time": "2022-10-21T21:22:10.722Z"
   },
   {
    "duration": 29,
    "start_time": "2022-10-21T21:22:10.732Z"
   },
   {
    "duration": 26,
    "start_time": "2022-10-21T21:22:10.763Z"
   },
   {
    "duration": 8,
    "start_time": "2022-10-21T21:22:10.792Z"
   },
   {
    "duration": 25,
    "start_time": "2022-10-21T21:22:10.802Z"
   },
   {
    "duration": 13,
    "start_time": "2022-10-21T21:24:43.530Z"
   },
   {
    "duration": 35,
    "start_time": "2022-10-21T21:24:45.685Z"
   },
   {
    "duration": 393,
    "start_time": "2022-10-21T21:24:46.248Z"
   },
   {
    "duration": 7,
    "start_time": "2022-10-21T21:24:47.557Z"
   },
   {
    "duration": 15,
    "start_time": "2022-10-21T21:24:48.344Z"
   },
   {
    "duration": 10,
    "start_time": "2022-10-21T21:24:48.892Z"
   },
   {
    "duration": 12,
    "start_time": "2022-10-21T21:25:06.566Z"
   },
   {
    "duration": 37,
    "start_time": "2022-10-21T21:25:07.220Z"
   },
   {
    "duration": 320,
    "start_time": "2022-10-21T21:25:07.508Z"
   },
   {
    "duration": 7,
    "start_time": "2022-10-21T21:25:07.870Z"
   },
   {
    "duration": 14,
    "start_time": "2022-10-21T21:25:08.277Z"
   },
   {
    "duration": 10,
    "start_time": "2022-10-21T21:25:08.692Z"
   },
   {
    "duration": 5,
    "start_time": "2022-10-21T21:25:09.125Z"
   },
   {
    "duration": 7,
    "start_time": "2022-10-21T21:25:09.546Z"
   },
   {
    "duration": 13,
    "start_time": "2022-10-21T21:26:25.213Z"
   },
   {
    "duration": 14,
    "start_time": "2022-10-21T21:26:32.640Z"
   },
   {
    "duration": 35,
    "start_time": "2022-10-21T21:26:36.390Z"
   },
   {
    "duration": 365,
    "start_time": "2022-10-21T21:26:36.840Z"
   },
   {
    "duration": 7,
    "start_time": "2022-10-21T21:26:37.403Z"
   },
   {
    "duration": 15,
    "start_time": "2022-10-21T21:26:38.676Z"
   },
   {
    "duration": 10,
    "start_time": "2022-10-21T21:26:39.232Z"
   },
   {
    "duration": 5,
    "start_time": "2022-10-21T21:26:39.734Z"
   },
   {
    "duration": 14,
    "start_time": "2022-10-21T21:27:06.131Z"
   },
   {
    "duration": 34,
    "start_time": "2022-10-21T21:27:07.035Z"
   },
   {
    "duration": 371,
    "start_time": "2022-10-21T21:27:07.345Z"
   },
   {
    "duration": 8,
    "start_time": "2022-10-21T21:27:07.807Z"
   },
   {
    "duration": 16,
    "start_time": "2022-10-21T21:27:08.359Z"
   },
   {
    "duration": 10,
    "start_time": "2022-10-21T21:27:08.903Z"
   },
   {
    "duration": 14,
    "start_time": "2022-10-21T21:28:30.408Z"
   },
   {
    "duration": 12,
    "start_time": "2022-10-21T21:28:36.480Z"
   },
   {
    "duration": 33,
    "start_time": "2022-10-21T21:28:36.980Z"
   },
   {
    "duration": 361,
    "start_time": "2022-10-21T21:28:37.370Z"
   },
   {
    "duration": 6,
    "start_time": "2022-10-21T21:28:37.733Z"
   },
   {
    "duration": 16,
    "start_time": "2022-10-21T21:28:38.114Z"
   },
   {
    "duration": 13,
    "start_time": "2022-10-21T21:28:38.822Z"
   },
   {
    "duration": 11,
    "start_time": "2022-10-21T21:28:50.580Z"
   },
   {
    "duration": 34,
    "start_time": "2022-10-21T21:28:54.762Z"
   },
   {
    "duration": 348,
    "start_time": "2022-10-21T21:28:54.879Z"
   },
   {
    "duration": 7,
    "start_time": "2022-10-21T21:28:55.229Z"
   },
   {
    "duration": 15,
    "start_time": "2022-10-21T21:28:55.469Z"
   },
   {
    "duration": 10,
    "start_time": "2022-10-21T21:29:14.119Z"
   },
   {
    "duration": 5,
    "start_time": "2022-10-21T21:29:14.380Z"
   },
   {
    "duration": 6,
    "start_time": "2022-10-21T21:29:14.686Z"
   },
   {
    "duration": 11,
    "start_time": "2022-10-21T21:29:37.409Z"
   },
   {
    "duration": 36,
    "start_time": "2022-10-21T21:29:39.570Z"
   },
   {
    "duration": 443,
    "start_time": "2022-10-21T21:29:41.457Z"
   },
   {
    "duration": 6,
    "start_time": "2022-10-21T21:29:41.902Z"
   },
   {
    "duration": 18,
    "start_time": "2022-10-21T21:29:41.910Z"
   },
   {
    "duration": 11,
    "start_time": "2022-10-21T21:29:41.953Z"
   },
   {
    "duration": 4,
    "start_time": "2022-10-21T21:29:54.121Z"
   },
   {
    "duration": 6,
    "start_time": "2022-10-21T21:29:54.534Z"
   },
   {
    "duration": 12,
    "start_time": "2022-10-21T21:30:17.993Z"
   },
   {
    "duration": 13,
    "start_time": "2022-10-21T21:30:26.179Z"
   },
   {
    "duration": 35,
    "start_time": "2022-10-21T21:30:26.741Z"
   },
   {
    "duration": 326,
    "start_time": "2022-10-21T21:30:27.483Z"
   },
   {
    "duration": 6,
    "start_time": "2022-10-21T21:30:27.916Z"
   },
   {
    "duration": 15,
    "start_time": "2022-10-21T21:30:28.498Z"
   },
   {
    "duration": 11,
    "start_time": "2022-10-21T21:30:29.135Z"
   },
   {
    "duration": 5,
    "start_time": "2022-10-21T21:30:33.531Z"
   },
   {
    "duration": 6,
    "start_time": "2022-10-21T21:30:34.012Z"
   },
   {
    "duration": 11,
    "start_time": "2022-10-21T21:30:51.917Z"
   },
   {
    "duration": 34,
    "start_time": "2022-10-21T21:30:53.646Z"
   },
   {
    "duration": 371,
    "start_time": "2022-10-21T21:30:54.321Z"
   },
   {
    "duration": 7,
    "start_time": "2022-10-21T21:30:55.745Z"
   },
   {
    "duration": 17,
    "start_time": "2022-10-21T21:30:58.168Z"
   },
   {
    "duration": 11,
    "start_time": "2022-10-21T21:30:59.227Z"
   },
   {
    "duration": 5,
    "start_time": "2022-10-21T21:31:00.591Z"
   },
   {
    "duration": 16,
    "start_time": "2022-10-21T21:32:01.408Z"
   },
   {
    "duration": 36,
    "start_time": "2022-10-21T21:32:09.050Z"
   },
   {
    "duration": 401,
    "start_time": "2022-10-21T21:32:09.424Z"
   },
   {
    "duration": 6,
    "start_time": "2022-10-21T21:32:09.827Z"
   },
   {
    "duration": 15,
    "start_time": "2022-10-21T21:32:10.068Z"
   },
   {
    "duration": 10,
    "start_time": "2022-10-21T21:32:10.507Z"
   },
   {
    "duration": 5,
    "start_time": "2022-10-21T21:32:10.896Z"
   },
   {
    "duration": 7,
    "start_time": "2022-10-21T21:32:18.236Z"
   },
   {
    "duration": 12,
    "start_time": "2022-10-21T21:32:44.795Z"
   },
   {
    "duration": 10,
    "start_time": "2022-10-21T21:33:02.912Z"
   },
   {
    "duration": 12,
    "start_time": "2022-10-21T21:33:23.201Z"
   },
   {
    "duration": 37,
    "start_time": "2022-10-21T21:33:28.442Z"
   },
   {
    "duration": 323,
    "start_time": "2022-10-21T21:33:28.868Z"
   },
   {
    "duration": 7,
    "start_time": "2022-10-21T21:33:29.317Z"
   },
   {
    "duration": 16,
    "start_time": "2022-10-21T21:33:30.085Z"
   },
   {
    "duration": 14,
    "start_time": "2022-10-21T21:33:30.997Z"
   },
   {
    "duration": 12,
    "start_time": "2022-10-21T21:33:48.371Z"
   },
   {
    "duration": 13,
    "start_time": "2022-10-21T21:34:50.283Z"
   },
   {
    "duration": 109,
    "start_time": "2022-10-21T21:35:04.140Z"
   },
   {
    "duration": 13,
    "start_time": "2022-10-21T21:35:14.184Z"
   },
   {
    "duration": 13,
    "start_time": "2022-10-21T21:35:19.592Z"
   },
   {
    "duration": 18,
    "start_time": "2022-10-21T21:35:30.656Z"
   },
   {
    "duration": 43,
    "start_time": "2022-10-21T21:35:34.563Z"
   },
   {
    "duration": 328,
    "start_time": "2022-10-21T21:35:34.914Z"
   },
   {
    "duration": 7,
    "start_time": "2022-10-21T21:35:35.491Z"
   },
   {
    "duration": 14,
    "start_time": "2022-10-21T21:35:36.016Z"
   },
   {
    "duration": 11,
    "start_time": "2022-10-21T21:35:36.416Z"
   },
   {
    "duration": 5,
    "start_time": "2022-10-21T21:35:36.978Z"
   },
   {
    "duration": 13,
    "start_time": "2022-10-21T21:35:53.259Z"
   },
   {
    "duration": 33,
    "start_time": "2022-10-21T21:35:53.819Z"
   },
   {
    "duration": 357,
    "start_time": "2022-10-21T21:35:54.959Z"
   },
   {
    "duration": 8,
    "start_time": "2022-10-21T21:35:55.522Z"
   },
   {
    "duration": 16,
    "start_time": "2022-10-21T21:35:56.068Z"
   },
   {
    "duration": 10,
    "start_time": "2022-10-21T21:35:56.689Z"
   },
   {
    "duration": 16,
    "start_time": "2022-10-21T21:36:14.524Z"
   },
   {
    "duration": 34,
    "start_time": "2022-10-21T21:36:15.221Z"
   },
   {
    "duration": 383,
    "start_time": "2022-10-21T21:36:15.730Z"
   },
   {
    "duration": 8,
    "start_time": "2022-10-21T21:36:16.217Z"
   },
   {
    "duration": 16,
    "start_time": "2022-10-21T21:36:16.609Z"
   },
   {
    "duration": 10,
    "start_time": "2022-10-21T21:36:17.265Z"
   },
   {
    "duration": 12,
    "start_time": "2022-10-21T21:36:48.067Z"
   },
   {
    "duration": 34,
    "start_time": "2022-10-21T21:36:48.350Z"
   },
   {
    "duration": 300,
    "start_time": "2022-10-21T21:36:48.722Z"
   },
   {
    "duration": 7,
    "start_time": "2022-10-21T21:36:49.023Z"
   },
   {
    "duration": 15,
    "start_time": "2022-10-21T21:36:49.256Z"
   },
   {
    "duration": 9,
    "start_time": "2022-10-21T21:36:49.770Z"
   },
   {
    "duration": 4,
    "start_time": "2022-10-21T21:36:50.164Z"
   },
   {
    "duration": 6,
    "start_time": "2022-10-21T21:36:50.557Z"
   },
   {
    "duration": 12,
    "start_time": "2022-10-21T21:40:18.831Z"
   },
   {
    "duration": 15,
    "start_time": "2022-10-21T21:40:31.529Z"
   },
   {
    "duration": 25,
    "start_time": "2022-10-21T21:40:37.707Z"
   },
   {
    "duration": 36,
    "start_time": "2022-10-21T21:40:38.115Z"
   },
   {
    "duration": 415,
    "start_time": "2022-10-21T21:40:38.754Z"
   },
   {
    "duration": 8,
    "start_time": "2022-10-21T21:40:39.171Z"
   },
   {
    "duration": 16,
    "start_time": "2022-10-21T21:40:39.479Z"
   },
   {
    "duration": 10,
    "start_time": "2022-10-21T21:40:39.988Z"
   },
   {
    "duration": 16,
    "start_time": "2022-10-21T21:41:21.413Z"
   },
   {
    "duration": 14,
    "start_time": "2022-10-21T21:41:47.568Z"
   },
   {
    "duration": 36,
    "start_time": "2022-10-21T21:41:48.181Z"
   },
   {
    "duration": 350,
    "start_time": "2022-10-21T21:41:48.617Z"
   },
   {
    "duration": 6,
    "start_time": "2022-10-21T21:41:49.133Z"
   },
   {
    "duration": 15,
    "start_time": "2022-10-21T21:41:49.840Z"
   },
   {
    "duration": 11,
    "start_time": "2022-10-21T21:41:50.713Z"
   },
   {
    "duration": 12,
    "start_time": "2022-10-21T21:43:23.253Z"
   },
   {
    "duration": 32,
    "start_time": "2022-10-21T21:43:26.929Z"
   },
   {
    "duration": 354,
    "start_time": "2022-10-21T21:43:27.616Z"
   },
   {
    "duration": 6,
    "start_time": "2022-10-21T21:43:27.997Z"
   },
   {
    "duration": 12,
    "start_time": "2022-10-21T21:43:37.012Z"
   },
   {
    "duration": 36,
    "start_time": "2022-10-21T21:43:37.669Z"
   },
   {
    "duration": 305,
    "start_time": "2022-10-21T21:43:38.268Z"
   },
   {
    "duration": 7,
    "start_time": "2022-10-21T21:43:38.915Z"
   },
   {
    "duration": 10,
    "start_time": "2022-10-21T21:43:50.252Z"
   },
   {
    "duration": 10,
    "start_time": "2022-10-21T21:44:07.207Z"
   },
   {
    "duration": 9,
    "start_time": "2022-10-21T21:44:17.950Z"
   },
   {
    "duration": 35,
    "start_time": "2022-10-21T21:44:18.564Z"
   },
   {
    "duration": 328,
    "start_time": "2022-10-21T21:44:22.264Z"
   },
   {
    "duration": 11,
    "start_time": "2022-10-21T21:44:36.570Z"
   },
   {
    "duration": 34,
    "start_time": "2022-10-21T21:44:37.229Z"
   },
   {
    "duration": 367,
    "start_time": "2022-10-21T21:44:37.723Z"
   },
   {
    "duration": 11,
    "start_time": "2022-10-21T21:45:27.770Z"
   },
   {
    "duration": 10,
    "start_time": "2022-10-21T21:45:35.237Z"
   },
   {
    "duration": 11,
    "start_time": "2022-10-21T21:45:43.498Z"
   },
   {
    "duration": 11,
    "start_time": "2022-10-21T21:45:45.810Z"
   },
   {
    "duration": 35,
    "start_time": "2022-10-21T21:45:49.269Z"
   },
   {
    "duration": 330,
    "start_time": "2022-10-21T21:45:49.831Z"
   },
   {
    "duration": 7,
    "start_time": "2022-10-21T21:45:50.184Z"
   },
   {
    "duration": 14,
    "start_time": "2022-10-21T21:45:52.106Z"
   },
   {
    "duration": 11,
    "start_time": "2022-10-21T21:45:52.766Z"
   },
   {
    "duration": 12,
    "start_time": "2022-10-21T21:46:36.071Z"
   },
   {
    "duration": 12,
    "start_time": "2022-10-21T21:46:39.466Z"
   },
   {
    "duration": 48,
    "start_time": "2022-10-21T21:46:43.661Z"
   },
   {
    "duration": 381,
    "start_time": "2022-10-21T21:46:43.996Z"
   },
   {
    "duration": 7,
    "start_time": "2022-10-21T21:46:44.713Z"
   },
   {
    "duration": 16,
    "start_time": "2022-10-21T21:46:46.126Z"
   },
   {
    "duration": 11,
    "start_time": "2022-10-21T21:46:47.874Z"
   },
   {
    "duration": 13,
    "start_time": "2022-10-21T21:47:33.374Z"
   },
   {
    "duration": 34,
    "start_time": "2022-10-21T21:47:36.467Z"
   },
   {
    "duration": 314,
    "start_time": "2022-10-21T21:47:37.022Z"
   },
   {
    "duration": 6,
    "start_time": "2022-10-21T21:47:37.607Z"
   },
   {
    "duration": 15,
    "start_time": "2022-10-21T21:47:38.325Z"
   },
   {
    "duration": 10,
    "start_time": "2022-10-21T21:47:39.130Z"
   },
   {
    "duration": 5,
    "start_time": "2022-10-21T21:47:47.014Z"
   },
   {
    "duration": 7,
    "start_time": "2022-10-21T21:47:47.425Z"
   },
   {
    "duration": 16,
    "start_time": "2022-10-21T21:49:35.520Z"
   },
   {
    "duration": 15,
    "start_time": "2022-10-21T21:49:59.352Z"
   },
   {
    "duration": 35,
    "start_time": "2022-10-21T21:50:00.663Z"
   },
   {
    "duration": 394,
    "start_time": "2022-10-21T21:50:01.145Z"
   },
   {
    "duration": 9,
    "start_time": "2022-10-21T21:50:01.559Z"
   },
   {
    "duration": 17,
    "start_time": "2022-10-21T21:50:02.065Z"
   },
   {
    "duration": 10,
    "start_time": "2022-10-21T21:50:02.571Z"
   },
   {
    "duration": 14,
    "start_time": "2022-10-21T21:51:34.250Z"
   },
   {
    "duration": 34,
    "start_time": "2022-10-21T21:51:35.380Z"
   },
   {
    "duration": 360,
    "start_time": "2022-10-21T21:51:35.822Z"
   },
   {
    "duration": 6,
    "start_time": "2022-10-21T21:51:36.184Z"
   },
   {
    "duration": 15,
    "start_time": "2022-10-21T21:51:36.439Z"
   },
   {
    "duration": 10,
    "start_time": "2022-10-21T21:51:37.301Z"
   },
   {
    "duration": 5,
    "start_time": "2022-10-21T21:51:37.956Z"
   },
   {
    "duration": 8,
    "start_time": "2022-10-21T21:51:41.458Z"
   },
   {
    "duration": 13,
    "start_time": "2022-10-21T21:52:21.302Z"
   },
   {
    "duration": 15,
    "start_time": "2022-10-21T22:06:23.724Z"
   },
   {
    "duration": 18,
    "start_time": "2022-10-21T22:07:14.302Z"
   },
   {
    "duration": 10,
    "start_time": "2022-10-21T22:07:15.548Z"
   },
   {
    "duration": 9,
    "start_time": "2022-10-21T22:09:15.282Z"
   },
   {
    "duration": 1190,
    "start_time": "2022-10-21T22:09:21.196Z"
   },
   {
    "duration": 116,
    "start_time": "2022-10-21T22:09:22.388Z"
   },
   {
    "duration": 6,
    "start_time": "2022-10-21T22:09:22.505Z"
   },
   {
    "duration": 14,
    "start_time": "2022-10-21T22:09:22.513Z"
   },
   {
    "duration": 46,
    "start_time": "2022-10-21T22:09:22.528Z"
   },
   {
    "duration": 19,
    "start_time": "2022-10-21T22:09:22.575Z"
   },
   {
    "duration": 22,
    "start_time": "2022-10-21T22:09:22.595Z"
   },
   {
    "duration": 40,
    "start_time": "2022-10-21T22:09:22.619Z"
   },
   {
    "duration": 17,
    "start_time": "2022-10-21T22:09:22.660Z"
   },
   {
    "duration": 12,
    "start_time": "2022-10-21T22:09:22.679Z"
   },
   {
    "duration": 4,
    "start_time": "2022-10-21T22:09:22.693Z"
   },
   {
    "duration": 327,
    "start_time": "2022-10-21T22:09:22.698Z"
   },
   {
    "duration": 306,
    "start_time": "2022-10-21T22:09:23.026Z"
   },
   {
    "duration": 293,
    "start_time": "2022-10-21T22:09:23.333Z"
   },
   {
    "duration": 12,
    "start_time": "2022-10-21T22:09:23.627Z"
   },
   {
    "duration": 21,
    "start_time": "2022-10-21T22:09:23.654Z"
   },
   {
    "duration": 48,
    "start_time": "2022-10-21T22:09:23.677Z"
   },
   {
    "duration": 3,
    "start_time": "2022-10-21T22:09:23.727Z"
   },
   {
    "duration": 38,
    "start_time": "2022-10-21T22:09:23.754Z"
   },
   {
    "duration": 5,
    "start_time": "2022-10-21T22:09:23.794Z"
   },
   {
    "duration": 67,
    "start_time": "2022-10-21T22:09:23.800Z"
   },
   {
    "duration": 35,
    "start_time": "2022-10-21T22:09:23.868Z"
   },
   {
    "duration": 5,
    "start_time": "2022-10-21T22:09:23.905Z"
   },
   {
    "duration": 49,
    "start_time": "2022-10-21T22:09:23.911Z"
   },
   {
    "duration": 7,
    "start_time": "2022-10-21T22:09:23.961Z"
   },
   {
    "duration": 46,
    "start_time": "2022-10-21T22:09:23.969Z"
   },
   {
    "duration": 6,
    "start_time": "2022-10-21T22:09:24.017Z"
   },
   {
    "duration": 28,
    "start_time": "2022-10-21T22:09:24.027Z"
   },
   {
    "duration": 18,
    "start_time": "2022-10-21T22:09:24.056Z"
   },
   {
    "duration": 11,
    "start_time": "2022-10-21T22:09:24.076Z"
   },
   {
    "duration": 15,
    "start_time": "2022-10-21T22:09:24.089Z"
   },
   {
    "duration": 10,
    "start_time": "2022-10-21T22:09:24.106Z"
   },
   {
    "duration": 46,
    "start_time": "2022-10-21T22:09:24.117Z"
   },
   {
    "duration": 30,
    "start_time": "2022-10-21T22:09:24.164Z"
   },
   {
    "duration": 404,
    "start_time": "2022-10-21T22:09:24.196Z"
   },
   {
    "duration": 6,
    "start_time": "2022-10-21T22:09:24.601Z"
   },
   {
    "duration": 20,
    "start_time": "2022-10-21T22:09:24.608Z"
   },
   {
    "duration": 49,
    "start_time": "2022-10-21T22:09:24.630Z"
   },
   {
    "duration": 28,
    "start_time": "2022-10-21T22:09:24.681Z"
   },
   {
    "duration": 6,
    "start_time": "2022-10-21T22:09:24.711Z"
   },
   {
    "duration": 376,
    "start_time": "2022-10-21T22:09:24.719Z"
   },
   {
    "duration": 22,
    "start_time": "2022-10-21T22:09:25.097Z"
   },
   {
    "duration": 90,
    "start_time": "2022-10-21T22:09:25.121Z"
   },
   {
    "duration": 351,
    "start_time": "2022-10-21T22:09:25.213Z"
   },
   {
    "duration": 372,
    "start_time": "2022-10-21T22:09:25.566Z"
   },
   {
    "duration": 18,
    "start_time": "2022-10-21T22:09:25.941Z"
   },
   {
    "duration": 59,
    "start_time": "2022-10-21T22:09:25.961Z"
   },
   {
    "duration": 18,
    "start_time": "2022-10-21T22:09:26.023Z"
   },
   {
    "duration": 55,
    "start_time": "2022-10-21T22:09:26.043Z"
   },
   {
    "duration": 64,
    "start_time": "2022-10-21T22:09:26.101Z"
   },
   {
    "duration": 52,
    "start_time": "2022-10-21T22:09:26.168Z"
   },
   {
    "duration": 17,
    "start_time": "2022-10-21T22:09:26.222Z"
   },
   {
    "duration": 23,
    "start_time": "2022-10-21T22:09:26.241Z"
   },
   {
    "duration": 32,
    "start_time": "2022-10-21T22:09:26.266Z"
   },
   {
    "duration": 12,
    "start_time": "2022-10-21T22:09:26.300Z"
   },
   {
    "duration": 12,
    "start_time": "2022-10-21T22:09:26.314Z"
   },
   {
    "duration": 154,
    "start_time": "2022-10-21T22:09:26.329Z"
   },
   {
    "duration": 13,
    "start_time": "2022-10-21T22:09:26.485Z"
   },
   {
    "duration": 148,
    "start_time": "2022-10-21T22:09:26.499Z"
   },
   {
    "duration": 12,
    "start_time": "2022-10-21T22:09:26.649Z"
   },
   {
    "duration": 22,
    "start_time": "2022-10-21T22:09:26.663Z"
   },
   {
    "duration": 20,
    "start_time": "2022-10-21T22:09:26.686Z"
   },
   {
    "duration": 47,
    "start_time": "2022-10-21T22:09:26.708Z"
   },
   {
    "duration": 350,
    "start_time": "2022-10-21T22:09:26.756Z"
   },
   {
    "duration": 107,
    "start_time": "2022-10-21T22:09:27.107Z"
   },
   {
    "duration": 0,
    "start_time": "2022-10-21T22:09:27.216Z"
   },
   {
    "duration": 40,
    "start_time": "2022-10-21T22:09:57.223Z"
   },
   {
    "duration": 62,
    "start_time": "2022-10-21T22:10:00.504Z"
   },
   {
    "duration": 9,
    "start_time": "2022-10-21T22:10:10.140Z"
   },
   {
    "duration": 12,
    "start_time": "2022-10-21T22:10:15.948Z"
   },
   {
    "duration": 11,
    "start_time": "2022-10-21T22:12:10.439Z"
   },
   {
    "duration": 18,
    "start_time": "2022-10-21T22:12:39.757Z"
   },
   {
    "duration": 10,
    "start_time": "2022-10-21T22:12:42.507Z"
   },
   {
    "duration": 4,
    "start_time": "2022-10-21T22:12:43.555Z"
   },
   {
    "duration": 1157,
    "start_time": "2022-10-21T22:12:54.082Z"
   },
   {
    "duration": 117,
    "start_time": "2022-10-21T22:12:55.241Z"
   },
   {
    "duration": 5,
    "start_time": "2022-10-21T22:12:55.360Z"
   },
   {
    "duration": 13,
    "start_time": "2022-10-21T22:12:55.367Z"
   },
   {
    "duration": 32,
    "start_time": "2022-10-21T22:12:55.381Z"
   },
   {
    "duration": 42,
    "start_time": "2022-10-21T22:12:55.414Z"
   },
   {
    "duration": 24,
    "start_time": "2022-10-21T22:12:55.458Z"
   },
   {
    "duration": 22,
    "start_time": "2022-10-21T22:12:55.484Z"
   },
   {
    "duration": 47,
    "start_time": "2022-10-21T22:12:55.507Z"
   },
   {
    "duration": 14,
    "start_time": "2022-10-21T22:12:55.557Z"
   },
   {
    "duration": 5,
    "start_time": "2022-10-21T22:12:55.573Z"
   },
   {
    "duration": 317,
    "start_time": "2022-10-21T22:12:55.580Z"
   },
   {
    "duration": 306,
    "start_time": "2022-10-21T22:12:55.899Z"
   },
   {
    "duration": 297,
    "start_time": "2022-10-21T22:12:56.206Z"
   },
   {
    "duration": 12,
    "start_time": "2022-10-21T22:12:56.505Z"
   },
   {
    "duration": 37,
    "start_time": "2022-10-21T22:12:56.519Z"
   },
   {
    "duration": 52,
    "start_time": "2022-10-21T22:12:56.558Z"
   },
   {
    "duration": 3,
    "start_time": "2022-10-21T22:12:56.613Z"
   },
   {
    "duration": 70,
    "start_time": "2022-10-21T22:12:56.618Z"
   },
   {
    "duration": 6,
    "start_time": "2022-10-21T22:12:56.690Z"
   },
   {
    "duration": 66,
    "start_time": "2022-10-21T22:12:56.698Z"
   },
   {
    "duration": 34,
    "start_time": "2022-10-21T22:12:56.766Z"
   },
   {
    "duration": 4,
    "start_time": "2022-10-21T22:12:56.802Z"
   },
   {
    "duration": 28,
    "start_time": "2022-10-21T22:12:56.808Z"
   },
   {
    "duration": 20,
    "start_time": "2022-10-21T22:12:56.838Z"
   },
   {
    "duration": 49,
    "start_time": "2022-10-21T22:12:56.860Z"
   },
   {
    "duration": 6,
    "start_time": "2022-10-21T22:12:56.911Z"
   },
   {
    "duration": 22,
    "start_time": "2022-10-21T22:12:56.921Z"
   },
   {
    "duration": 20,
    "start_time": "2022-10-21T22:12:56.945Z"
   },
   {
    "duration": 12,
    "start_time": "2022-10-21T22:12:56.967Z"
   },
   {
    "duration": 14,
    "start_time": "2022-10-21T22:12:56.981Z"
   },
   {
    "duration": 10,
    "start_time": "2022-10-21T22:12:56.996Z"
   },
   {
    "duration": 47,
    "start_time": "2022-10-21T22:12:57.008Z"
   },
   {
    "duration": 29,
    "start_time": "2022-10-21T22:12:57.057Z"
   },
   {
    "duration": 461,
    "start_time": "2022-10-21T22:12:57.088Z"
   },
   {
    "duration": 5,
    "start_time": "2022-10-21T22:12:57.554Z"
   },
   {
    "duration": 29,
    "start_time": "2022-10-21T22:12:57.560Z"
   },
   {
    "duration": 33,
    "start_time": "2022-10-21T22:12:57.592Z"
   },
   {
    "duration": 45,
    "start_time": "2022-10-21T22:12:57.627Z"
   },
   {
    "duration": 7,
    "start_time": "2022-10-21T22:12:57.674Z"
   },
   {
    "duration": 398,
    "start_time": "2022-10-21T22:12:57.683Z"
   },
   {
    "duration": 19,
    "start_time": "2022-10-21T22:12:58.082Z"
   },
   {
    "duration": 23,
    "start_time": "2022-10-21T22:12:58.102Z"
   },
   {
    "duration": 277,
    "start_time": "2022-10-21T22:12:58.127Z"
   },
   {
    "duration": 341,
    "start_time": "2022-10-21T22:12:58.406Z"
   },
   {
    "duration": 13,
    "start_time": "2022-10-21T22:12:58.749Z"
   },
   {
    "duration": 34,
    "start_time": "2022-10-21T22:12:58.764Z"
   },
   {
    "duration": 16,
    "start_time": "2022-10-21T22:12:58.800Z"
   },
   {
    "duration": 20,
    "start_time": "2022-10-21T22:12:58.818Z"
   },
   {
    "duration": 10,
    "start_time": "2022-10-21T22:12:58.855Z"
   },
   {
    "duration": 16,
    "start_time": "2022-10-21T22:12:58.867Z"
   },
   {
    "duration": 8,
    "start_time": "2022-10-21T22:12:58.884Z"
   },
   {
    "duration": 16,
    "start_time": "2022-10-21T22:12:58.894Z"
   },
   {
    "duration": 42,
    "start_time": "2022-10-21T22:12:58.912Z"
   },
   {
    "duration": 14,
    "start_time": "2022-10-21T22:12:58.956Z"
   },
   {
    "duration": 18,
    "start_time": "2022-10-21T22:12:58.972Z"
   },
   {
    "duration": 165,
    "start_time": "2022-10-21T22:12:58.992Z"
   },
   {
    "duration": 11,
    "start_time": "2022-10-21T22:12:59.159Z"
   },
   {
    "duration": 141,
    "start_time": "2022-10-21T22:12:59.172Z"
   },
   {
    "duration": 9,
    "start_time": "2022-10-21T22:12:59.315Z"
   },
   {
    "duration": 15,
    "start_time": "2022-10-21T22:12:59.326Z"
   },
   {
    "duration": 14,
    "start_time": "2022-10-21T22:12:59.354Z"
   },
   {
    "duration": 38,
    "start_time": "2022-10-21T22:12:59.370Z"
   },
   {
    "duration": 425,
    "start_time": "2022-10-21T22:12:59.410Z"
   },
   {
    "duration": 16,
    "start_time": "2022-10-21T22:12:59.855Z"
   },
   {
    "duration": 12,
    "start_time": "2022-10-21T22:12:59.873Z"
   },
   {
    "duration": 8,
    "start_time": "2022-10-21T22:12:59.887Z"
   },
   {
    "duration": 3,
    "start_time": "2022-10-21T22:14:41.114Z"
   },
   {
    "duration": 3,
    "start_time": "2022-10-21T22:14:49.030Z"
   },
   {
    "duration": 99,
    "start_time": "2022-10-21T22:15:07.198Z"
   },
   {
    "duration": 54,
    "start_time": "2022-10-21T22:15:30.877Z"
   },
   {
    "duration": 4,
    "start_time": "2022-10-21T22:15:44.300Z"
   },
   {
    "duration": 4,
    "start_time": "2022-10-21T22:15:53.339Z"
   },
   {
    "duration": 1228,
    "start_time": "2022-10-22T05:06:55.544Z"
   },
   {
    "duration": 164,
    "start_time": "2022-10-22T05:06:56.774Z"
   },
   {
    "duration": 4,
    "start_time": "2022-10-22T05:06:56.940Z"
   },
   {
    "duration": 9,
    "start_time": "2022-10-22T05:06:56.946Z"
   },
   {
    "duration": 27,
    "start_time": "2022-10-22T05:06:56.956Z"
   },
   {
    "duration": 42,
    "start_time": "2022-10-22T05:07:02.101Z"
   },
   {
    "duration": 13,
    "start_time": "2022-10-22T05:07:08.122Z"
   },
   {
    "duration": 1189,
    "start_time": "2022-10-22T20:54:40.058Z"
   },
   {
    "duration": 615,
    "start_time": "2022-10-22T20:54:41.249Z"
   },
   {
    "duration": 4,
    "start_time": "2022-10-22T20:54:41.865Z"
   },
   {
    "duration": 10,
    "start_time": "2022-10-22T20:54:41.871Z"
   },
   {
    "duration": 25,
    "start_time": "2022-10-22T20:54:41.883Z"
   },
   {
    "duration": 16,
    "start_time": "2022-10-22T20:54:41.910Z"
   },
   {
    "duration": 19,
    "start_time": "2022-10-22T20:54:41.928Z"
   },
   {
    "duration": 16,
    "start_time": "2022-10-22T20:54:41.949Z"
   },
   {
    "duration": 41,
    "start_time": "2022-10-22T20:54:41.967Z"
   },
   {
    "duration": 11,
    "start_time": "2022-10-22T20:54:42.010Z"
   },
   {
    "duration": 4,
    "start_time": "2022-10-22T20:54:42.022Z"
   },
   {
    "duration": 269,
    "start_time": "2022-10-22T20:54:42.027Z"
   },
   {
    "duration": 250,
    "start_time": "2022-10-22T20:54:42.297Z"
   },
   {
    "duration": 272,
    "start_time": "2022-10-22T20:54:42.549Z"
   },
   {
    "duration": 11,
    "start_time": "2022-10-22T20:54:42.822Z"
   },
   {
    "duration": 18,
    "start_time": "2022-10-22T20:54:42.834Z"
   },
   {
    "duration": 62,
    "start_time": "2022-10-22T20:54:42.853Z"
   },
   {
    "duration": 4,
    "start_time": "2022-10-22T20:54:42.916Z"
   },
   {
    "duration": 37,
    "start_time": "2022-10-22T20:54:42.922Z"
   },
   {
    "duration": 4,
    "start_time": "2022-10-22T20:54:42.961Z"
   },
   {
    "duration": 60,
    "start_time": "2022-10-22T20:54:42.967Z"
   },
   {
    "duration": 28,
    "start_time": "2022-10-22T20:54:43.029Z"
   },
   {
    "duration": 3,
    "start_time": "2022-10-22T20:54:43.059Z"
   },
   {
    "duration": 17,
    "start_time": "2022-10-22T20:54:43.064Z"
   },
   {
    "duration": 24,
    "start_time": "2022-10-22T20:54:43.083Z"
   },
   {
    "duration": 33,
    "start_time": "2022-10-22T20:54:43.108Z"
   },
   {
    "duration": 6,
    "start_time": "2022-10-22T20:54:43.143Z"
   },
   {
    "duration": 12,
    "start_time": "2022-10-22T20:54:43.150Z"
   },
   {
    "duration": 16,
    "start_time": "2022-10-22T20:54:43.163Z"
   },
   {
    "duration": 41,
    "start_time": "2022-10-22T20:54:43.180Z"
   },
   {
    "duration": 13,
    "start_time": "2022-10-22T20:54:43.222Z"
   },
   {
    "duration": 8,
    "start_time": "2022-10-22T20:54:43.237Z"
   },
   {
    "duration": 13,
    "start_time": "2022-10-22T20:54:43.247Z"
   },
   {
    "duration": 24,
    "start_time": "2022-10-22T20:54:43.261Z"
   },
   {
    "duration": 327,
    "start_time": "2022-10-22T20:54:43.305Z"
   },
   {
    "duration": 5,
    "start_time": "2022-10-22T20:54:43.633Z"
   },
   {
    "duration": 18,
    "start_time": "2022-10-22T20:54:43.639Z"
   },
   {
    "duration": 24,
    "start_time": "2022-10-22T20:54:43.659Z"
   },
   {
    "duration": 24,
    "start_time": "2022-10-22T20:54:43.704Z"
   },
   {
    "duration": 5,
    "start_time": "2022-10-22T20:54:43.730Z"
   },
   {
    "duration": 313,
    "start_time": "2022-10-22T20:54:43.738Z"
   },
   {
    "duration": 15,
    "start_time": "2022-10-22T20:54:44.052Z"
   },
   {
    "duration": 10,
    "start_time": "2022-10-22T20:54:44.069Z"
   },
   {
    "duration": 296,
    "start_time": "2022-10-22T20:54:44.080Z"
   },
   {
    "duration": 285,
    "start_time": "2022-10-22T20:54:44.378Z"
   },
   {
    "duration": 9,
    "start_time": "2022-10-22T20:54:44.665Z"
   },
   {
    "duration": 40,
    "start_time": "2022-10-22T20:54:44.675Z"
   },
   {
    "duration": 13,
    "start_time": "2022-10-22T20:54:44.716Z"
   },
   {
    "duration": 8,
    "start_time": "2022-10-22T20:54:44.730Z"
   },
   {
    "duration": 10,
    "start_time": "2022-10-22T20:54:44.740Z"
   },
   {
    "duration": 14,
    "start_time": "2022-10-22T20:54:44.751Z"
   },
   {
    "duration": 4,
    "start_time": "2022-10-22T20:54:44.766Z"
   },
   {
    "duration": 40,
    "start_time": "2022-10-22T20:54:44.772Z"
   },
   {
    "duration": 13,
    "start_time": "2022-10-22T20:54:44.813Z"
   },
   {
    "duration": 10,
    "start_time": "2022-10-22T20:54:44.827Z"
   },
   {
    "duration": 10,
    "start_time": "2022-10-22T20:54:44.838Z"
   },
   {
    "duration": 132,
    "start_time": "2022-10-22T20:54:44.849Z"
   },
   {
    "duration": 12,
    "start_time": "2022-10-22T20:54:44.982Z"
   },
   {
    "duration": 113,
    "start_time": "2022-10-22T20:54:45.005Z"
   },
   {
    "duration": 8,
    "start_time": "2022-10-22T20:54:45.120Z"
   },
   {
    "duration": 15,
    "start_time": "2022-10-22T20:54:45.129Z"
   },
   {
    "duration": 12,
    "start_time": "2022-10-22T20:54:45.146Z"
   },
   {
    "duration": 46,
    "start_time": "2022-10-22T20:54:45.159Z"
   },
   {
    "duration": 277,
    "start_time": "2022-10-22T20:54:45.207Z"
   },
   {
    "duration": 21,
    "start_time": "2022-10-22T20:54:45.485Z"
   },
   {
    "duration": 7,
    "start_time": "2022-10-22T20:54:45.507Z"
   },
   {
    "duration": 6,
    "start_time": "2022-10-22T20:54:45.516Z"
   },
   {
    "duration": 141,
    "start_time": "2022-10-22T20:56:13.048Z"
   },
   {
    "duration": 108,
    "start_time": "2022-10-22T21:04:14.159Z"
   },
   {
    "duration": 114,
    "start_time": "2022-10-22T21:05:02.323Z"
   },
   {
    "duration": 239,
    "start_time": "2022-10-22T23:03:31.554Z"
   },
   {
    "duration": 251,
    "start_time": "2022-10-22T23:03:40.227Z"
   }
  ],
  "deepnote": {},
  "deepnote_execution_queue": [],
  "deepnote_notebook_id": "67b996d8083d4bcb829545640f61e21f",
  "kernelspec": {
   "display_name": "Python 3 (ipykernel)",
   "language": "python",
   "name": "python3"
  },
  "language_info": {
   "codemirror_mode": {
    "name": "ipython",
    "version": 3
   },
   "file_extension": ".py",
   "mimetype": "text/x-python",
   "name": "python",
   "nbconvert_exporter": "python",
   "pygments_lexer": "ipython3",
   "version": "3.9.5"
  },
  "toc": {
   "base_numbering": 1,
   "nav_menu": {
    "height": "236.997px",
    "width": "235px"
   },
   "number_sections": true,
   "sideBar": true,
   "skip_h1_title": true,
   "title_cell": "Table of Contents",
   "title_sidebar": "Contents",
   "toc_cell": false,
   "toc_position": {
    "height": "calc(100% - 180px)",
    "left": "10px",
    "top": "150px",
    "width": "184.188px"
   },
   "toc_section_display": true,
   "toc_window_display": true
  }
 },
 "nbformat": 4,
 "nbformat_minor": 1
}
